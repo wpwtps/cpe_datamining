{
  "nbformat": 4,
  "nbformat_minor": 0,
  "metadata": {
    "colab": {
      "name": "6110503461_glass_KNN.ipynb",
      "provenance": [],
      "collapsed_sections": [],
      "toc_visible": true
    },
    "kernelspec": {
      "name": "python3",
      "display_name": "Python 3"
    },
    "language_info": {
      "name": "python"
    }
  },
  "cells": [
    {
      "cell_type": "code",
      "metadata": {
        "id": "jp-8fCxwrX8f"
      },
      "source": [
        "# import library ที่สำคัญ\n",
        "import pandas as pd\n",
        "import numpy as np\n",
        "import matplotlib.pyplot as plt\n",
        "%matplotlib inline\n",
        "import seaborn as sns"
      ],
      "execution_count": 75,
      "outputs": []
    },
    {
      "cell_type": "code",
      "metadata": {
        "colab": {
          "base_uri": "https://localhost:8080/",
          "height": 202
        },
        "id": "EBpXfAJCtZ9O",
        "outputId": "e9ed7e67-e36b-4801-ac05-c7ed28389e97"
      },
      "source": [
        "#load ข้อมูลเข้ามาเก็บใน datafram data\n",
        "df=pd.read_csv('Glass.csv', delimiter=';')\n",
        "df.head()"
      ],
      "execution_count": 76,
      "outputs": [
        {
          "output_type": "execute_result",
          "data": {
            "text/html": [
              "<div>\n",
              "<style scoped>\n",
              "    .dataframe tbody tr th:only-of-type {\n",
              "        vertical-align: middle;\n",
              "    }\n",
              "\n",
              "    .dataframe tbody tr th {\n",
              "        vertical-align: top;\n",
              "    }\n",
              "\n",
              "    .dataframe thead th {\n",
              "        text-align: right;\n",
              "    }\n",
              "</style>\n",
              "<table border=\"1\" class=\"dataframe\">\n",
              "  <thead>\n",
              "    <tr style=\"text-align: right;\">\n",
              "      <th></th>\n",
              "      <th>ID</th>\n",
              "      <th>RI</th>\n",
              "      <th>Na</th>\n",
              "      <th>Mg</th>\n",
              "      <th>Al</th>\n",
              "      <th>Si</th>\n",
              "      <th>K</th>\n",
              "      <th>Ca</th>\n",
              "      <th>Ba</th>\n",
              "      <th>Fe</th>\n",
              "      <th>Type</th>\n",
              "    </tr>\n",
              "  </thead>\n",
              "  <tbody>\n",
              "    <tr>\n",
              "      <th>0</th>\n",
              "      <td>1.0</td>\n",
              "      <td>1.52101</td>\n",
              "      <td>13.64</td>\n",
              "      <td>4.49</td>\n",
              "      <td>1.10</td>\n",
              "      <td>71.78</td>\n",
              "      <td>0.06</td>\n",
              "      <td>8.75</td>\n",
              "      <td>0.0</td>\n",
              "      <td>0.0</td>\n",
              "      <td>1.0</td>\n",
              "    </tr>\n",
              "    <tr>\n",
              "      <th>1</th>\n",
              "      <td>2.0</td>\n",
              "      <td>1.51761</td>\n",
              "      <td>13.89</td>\n",
              "      <td>3.60</td>\n",
              "      <td>1.36</td>\n",
              "      <td>72.73</td>\n",
              "      <td>0.48</td>\n",
              "      <td>7.83</td>\n",
              "      <td>0.0</td>\n",
              "      <td>0.0</td>\n",
              "      <td>1.0</td>\n",
              "    </tr>\n",
              "    <tr>\n",
              "      <th>2</th>\n",
              "      <td>3.0</td>\n",
              "      <td>1.51618</td>\n",
              "      <td>13.53</td>\n",
              "      <td>3.55</td>\n",
              "      <td>1.54</td>\n",
              "      <td>72.99</td>\n",
              "      <td>0.39</td>\n",
              "      <td>7.78</td>\n",
              "      <td>0.0</td>\n",
              "      <td>0.0</td>\n",
              "      <td>1.0</td>\n",
              "    </tr>\n",
              "    <tr>\n",
              "      <th>3</th>\n",
              "      <td>4.0</td>\n",
              "      <td>1.51766</td>\n",
              "      <td>13.21</td>\n",
              "      <td>3.69</td>\n",
              "      <td>1.29</td>\n",
              "      <td>72.61</td>\n",
              "      <td>0.57</td>\n",
              "      <td>8.22</td>\n",
              "      <td>0.0</td>\n",
              "      <td>0.0</td>\n",
              "      <td>1.0</td>\n",
              "    </tr>\n",
              "    <tr>\n",
              "      <th>4</th>\n",
              "      <td>5.0</td>\n",
              "      <td>1.51742</td>\n",
              "      <td>13.27</td>\n",
              "      <td>3.62</td>\n",
              "      <td>1.24</td>\n",
              "      <td>73.08</td>\n",
              "      <td>0.55</td>\n",
              "      <td>8.07</td>\n",
              "      <td>0.0</td>\n",
              "      <td>0.0</td>\n",
              "      <td>1.0</td>\n",
              "    </tr>\n",
              "  </tbody>\n",
              "</table>\n",
              "</div>"
            ],
            "text/plain": [
              "    ID       RI     Na    Mg    Al     Si     K    Ca   Ba   Fe  Type\n",
              "0  1.0  1.52101  13.64  4.49  1.10  71.78  0.06  8.75  0.0  0.0   1.0\n",
              "1  2.0  1.51761  13.89  3.60  1.36  72.73  0.48  7.83  0.0  0.0   1.0\n",
              "2  3.0  1.51618  13.53  3.55  1.54  72.99  0.39  7.78  0.0  0.0   1.0\n",
              "3  4.0  1.51766  13.21  3.69  1.29  72.61  0.57  8.22  0.0  0.0   1.0\n",
              "4  5.0  1.51742  13.27  3.62  1.24  73.08  0.55  8.07  0.0  0.0   1.0"
            ]
          },
          "metadata": {
            "tags": []
          },
          "execution_count": 76
        }
      ]
    },
    {
      "cell_type": "code",
      "metadata": {
        "id": "sW-EPdw21Pca",
        "colab": {
          "base_uri": "https://localhost:8080/"
        },
        "outputId": "7309b310-9d17-4c21-ed56-de924da3cc15"
      },
      "source": [
        "df.columns"
      ],
      "execution_count": 77,
      "outputs": [
        {
          "output_type": "execute_result",
          "data": {
            "text/plain": [
              "Index(['ID', 'RI', 'Na', 'Mg', 'Al', 'Si', 'K', 'Ca', 'Ba', 'Fe', 'Type'], dtype='object')"
            ]
          },
          "metadata": {
            "tags": []
          },
          "execution_count": 77
        }
      ]
    },
    {
      "cell_type": "code",
      "metadata": {
        "colab": {
          "base_uri": "https://localhost:8080/"
        },
        "id": "Z-IMVZ4fT3q8",
        "outputId": "053f6101-3b6e-4b5d-963c-c390fba0a47e"
      },
      "source": [
        "# ดูรูปร่างข้อมูล\n",
        "df.shape"
      ],
      "execution_count": 78,
      "outputs": [
        {
          "output_type": "execute_result",
          "data": {
            "text/plain": [
              "(214, 11)"
            ]
          },
          "metadata": {
            "tags": []
          },
          "execution_count": 78
        }
      ]
    },
    {
      "cell_type": "code",
      "metadata": {
        "colab": {
          "base_uri": "https://localhost:8080/"
        },
        "id": "PWqjVqxRWHPb",
        "outputId": "5fa78f7a-13da-412d-f55b-9d9be8f8b8a3"
      },
      "source": [
        "# ดูว่ามีค่า null หรือไม่ ซึ่งในชุดข้อมูลนี้ไม่มี Outliers\n",
        "df.isnull().sum()"
      ],
      "execution_count": 79,
      "outputs": [
        {
          "output_type": "execute_result",
          "data": {
            "text/plain": [
              "ID      0\n",
              "RI      0\n",
              "Na      0\n",
              "Mg      0\n",
              "Al      0\n",
              "Si      0\n",
              "K       0\n",
              "Ca      0\n",
              "Ba      0\n",
              "Fe      0\n",
              "Type    0\n",
              "dtype: int64"
            ]
          },
          "metadata": {
            "tags": []
          },
          "execution_count": 79
        }
      ]
    },
    {
      "cell_type": "code",
      "metadata": {
        "colab": {
          "base_uri": "https://localhost:8080/",
          "height": 314
        },
        "id": "0u1-wOyqg2sg",
        "outputId": "7cecbed6-d796-4e65-82f9-261a9662966f"
      },
      "source": [
        "# ดูรายละเอียดข้อมูล \n",
        "df.describe()"
      ],
      "execution_count": 80,
      "outputs": [
        {
          "output_type": "execute_result",
          "data": {
            "text/html": [
              "<div>\n",
              "<style scoped>\n",
              "    .dataframe tbody tr th:only-of-type {\n",
              "        vertical-align: middle;\n",
              "    }\n",
              "\n",
              "    .dataframe tbody tr th {\n",
              "        vertical-align: top;\n",
              "    }\n",
              "\n",
              "    .dataframe thead th {\n",
              "        text-align: right;\n",
              "    }\n",
              "</style>\n",
              "<table border=\"1\" class=\"dataframe\">\n",
              "  <thead>\n",
              "    <tr style=\"text-align: right;\">\n",
              "      <th></th>\n",
              "      <th>ID</th>\n",
              "      <th>RI</th>\n",
              "      <th>Na</th>\n",
              "      <th>Mg</th>\n",
              "      <th>Al</th>\n",
              "      <th>Si</th>\n",
              "      <th>K</th>\n",
              "      <th>Ca</th>\n",
              "      <th>Ba</th>\n",
              "      <th>Fe</th>\n",
              "      <th>Type</th>\n",
              "    </tr>\n",
              "  </thead>\n",
              "  <tbody>\n",
              "    <tr>\n",
              "      <th>count</th>\n",
              "      <td>214.000000</td>\n",
              "      <td>214.000000</td>\n",
              "      <td>214.000000</td>\n",
              "      <td>214.000000</td>\n",
              "      <td>214.000000</td>\n",
              "      <td>214.000000</td>\n",
              "      <td>214.000000</td>\n",
              "      <td>214.000000</td>\n",
              "      <td>214.000000</td>\n",
              "      <td>214.000000</td>\n",
              "      <td>214.000000</td>\n",
              "    </tr>\n",
              "    <tr>\n",
              "      <th>mean</th>\n",
              "      <td>107.500000</td>\n",
              "      <td>1.518365</td>\n",
              "      <td>13.407850</td>\n",
              "      <td>2.684533</td>\n",
              "      <td>1.444907</td>\n",
              "      <td>72.650935</td>\n",
              "      <td>0.497056</td>\n",
              "      <td>8.956963</td>\n",
              "      <td>0.175047</td>\n",
              "      <td>0.057009</td>\n",
              "      <td>2.780374</td>\n",
              "    </tr>\n",
              "    <tr>\n",
              "      <th>std</th>\n",
              "      <td>61.920648</td>\n",
              "      <td>0.003037</td>\n",
              "      <td>0.816604</td>\n",
              "      <td>1.442408</td>\n",
              "      <td>0.499270</td>\n",
              "      <td>0.774546</td>\n",
              "      <td>0.652192</td>\n",
              "      <td>1.423153</td>\n",
              "      <td>0.497219</td>\n",
              "      <td>0.097439</td>\n",
              "      <td>2.103739</td>\n",
              "    </tr>\n",
              "    <tr>\n",
              "      <th>min</th>\n",
              "      <td>1.000000</td>\n",
              "      <td>1.511150</td>\n",
              "      <td>10.730000</td>\n",
              "      <td>0.000000</td>\n",
              "      <td>0.290000</td>\n",
              "      <td>69.810000</td>\n",
              "      <td>0.000000</td>\n",
              "      <td>5.430000</td>\n",
              "      <td>0.000000</td>\n",
              "      <td>0.000000</td>\n",
              "      <td>1.000000</td>\n",
              "    </tr>\n",
              "    <tr>\n",
              "      <th>25%</th>\n",
              "      <td>54.250000</td>\n",
              "      <td>1.516523</td>\n",
              "      <td>12.907500</td>\n",
              "      <td>2.115000</td>\n",
              "      <td>1.190000</td>\n",
              "      <td>72.280000</td>\n",
              "      <td>0.122500</td>\n",
              "      <td>8.240000</td>\n",
              "      <td>0.000000</td>\n",
              "      <td>0.000000</td>\n",
              "      <td>1.000000</td>\n",
              "    </tr>\n",
              "    <tr>\n",
              "      <th>50%</th>\n",
              "      <td>107.500000</td>\n",
              "      <td>1.517680</td>\n",
              "      <td>13.300000</td>\n",
              "      <td>3.480000</td>\n",
              "      <td>1.360000</td>\n",
              "      <td>72.790000</td>\n",
              "      <td>0.555000</td>\n",
              "      <td>8.600000</td>\n",
              "      <td>0.000000</td>\n",
              "      <td>0.000000</td>\n",
              "      <td>2.000000</td>\n",
              "    </tr>\n",
              "    <tr>\n",
              "      <th>75%</th>\n",
              "      <td>160.750000</td>\n",
              "      <td>1.519157</td>\n",
              "      <td>13.825000</td>\n",
              "      <td>3.600000</td>\n",
              "      <td>1.630000</td>\n",
              "      <td>73.087500</td>\n",
              "      <td>0.610000</td>\n",
              "      <td>9.172500</td>\n",
              "      <td>0.000000</td>\n",
              "      <td>0.100000</td>\n",
              "      <td>3.000000</td>\n",
              "    </tr>\n",
              "    <tr>\n",
              "      <th>max</th>\n",
              "      <td>214.000000</td>\n",
              "      <td>1.533930</td>\n",
              "      <td>17.380000</td>\n",
              "      <td>4.490000</td>\n",
              "      <td>3.500000</td>\n",
              "      <td>75.410000</td>\n",
              "      <td>6.210000</td>\n",
              "      <td>16.190000</td>\n",
              "      <td>3.150000</td>\n",
              "      <td>0.510000</td>\n",
              "      <td>7.000000</td>\n",
              "    </tr>\n",
              "  </tbody>\n",
              "</table>\n",
              "</div>"
            ],
            "text/plain": [
              "               ID          RI          Na  ...          Ba          Fe        Type\n",
              "count  214.000000  214.000000  214.000000  ...  214.000000  214.000000  214.000000\n",
              "mean   107.500000    1.518365   13.407850  ...    0.175047    0.057009    2.780374\n",
              "std     61.920648    0.003037    0.816604  ...    0.497219    0.097439    2.103739\n",
              "min      1.000000    1.511150   10.730000  ...    0.000000    0.000000    1.000000\n",
              "25%     54.250000    1.516523   12.907500  ...    0.000000    0.000000    1.000000\n",
              "50%    107.500000    1.517680   13.300000  ...    0.000000    0.000000    2.000000\n",
              "75%    160.750000    1.519157   13.825000  ...    0.000000    0.100000    3.000000\n",
              "max    214.000000    1.533930   17.380000  ...    3.150000    0.510000    7.000000\n",
              "\n",
              "[8 rows x 11 columns]"
            ]
          },
          "metadata": {
            "tags": []
          },
          "execution_count": 80
        }
      ]
    },
    {
      "cell_type": "code",
      "metadata": {
        "id": "cAK-IdLAlBYg"
      },
      "source": [
        "bp_df = df[['RI', 'Na', 'Mg', 'Al', 'Si', 'K', 'Ca', 'Ba', 'Fe']]"
      ],
      "execution_count": 81,
      "outputs": []
    },
    {
      "cell_type": "code",
      "metadata": {
        "colab": {
          "base_uri": "https://localhost:8080/",
          "height": 414
        },
        "id": "3S4vCw8h69hI",
        "outputId": "20ca5695-da70-4442-9611-5ccd5effc1c8"
      },
      "source": [
        "# เปลี่ยน type ของ ID กับ Type เป็น int กับ cat\n",
        "df['ID'] = df['ID'].astype(int)\n",
        "df['Type'] = df['Type'].astype('category')\n",
        "df"
      ],
      "execution_count": 82,
      "outputs": [
        {
          "output_type": "execute_result",
          "data": {
            "text/html": [
              "<div>\n",
              "<style scoped>\n",
              "    .dataframe tbody tr th:only-of-type {\n",
              "        vertical-align: middle;\n",
              "    }\n",
              "\n",
              "    .dataframe tbody tr th {\n",
              "        vertical-align: top;\n",
              "    }\n",
              "\n",
              "    .dataframe thead th {\n",
              "        text-align: right;\n",
              "    }\n",
              "</style>\n",
              "<table border=\"1\" class=\"dataframe\">\n",
              "  <thead>\n",
              "    <tr style=\"text-align: right;\">\n",
              "      <th></th>\n",
              "      <th>ID</th>\n",
              "      <th>RI</th>\n",
              "      <th>Na</th>\n",
              "      <th>Mg</th>\n",
              "      <th>Al</th>\n",
              "      <th>Si</th>\n",
              "      <th>K</th>\n",
              "      <th>Ca</th>\n",
              "      <th>Ba</th>\n",
              "      <th>Fe</th>\n",
              "      <th>Type</th>\n",
              "    </tr>\n",
              "  </thead>\n",
              "  <tbody>\n",
              "    <tr>\n",
              "      <th>0</th>\n",
              "      <td>1</td>\n",
              "      <td>1.52101</td>\n",
              "      <td>13.64</td>\n",
              "      <td>4.49</td>\n",
              "      <td>1.10</td>\n",
              "      <td>71.78</td>\n",
              "      <td>0.06</td>\n",
              "      <td>8.75</td>\n",
              "      <td>0.00</td>\n",
              "      <td>0.0</td>\n",
              "      <td>1.0</td>\n",
              "    </tr>\n",
              "    <tr>\n",
              "      <th>1</th>\n",
              "      <td>2</td>\n",
              "      <td>1.51761</td>\n",
              "      <td>13.89</td>\n",
              "      <td>3.60</td>\n",
              "      <td>1.36</td>\n",
              "      <td>72.73</td>\n",
              "      <td>0.48</td>\n",
              "      <td>7.83</td>\n",
              "      <td>0.00</td>\n",
              "      <td>0.0</td>\n",
              "      <td>1.0</td>\n",
              "    </tr>\n",
              "    <tr>\n",
              "      <th>2</th>\n",
              "      <td>3</td>\n",
              "      <td>1.51618</td>\n",
              "      <td>13.53</td>\n",
              "      <td>3.55</td>\n",
              "      <td>1.54</td>\n",
              "      <td>72.99</td>\n",
              "      <td>0.39</td>\n",
              "      <td>7.78</td>\n",
              "      <td>0.00</td>\n",
              "      <td>0.0</td>\n",
              "      <td>1.0</td>\n",
              "    </tr>\n",
              "    <tr>\n",
              "      <th>3</th>\n",
              "      <td>4</td>\n",
              "      <td>1.51766</td>\n",
              "      <td>13.21</td>\n",
              "      <td>3.69</td>\n",
              "      <td>1.29</td>\n",
              "      <td>72.61</td>\n",
              "      <td>0.57</td>\n",
              "      <td>8.22</td>\n",
              "      <td>0.00</td>\n",
              "      <td>0.0</td>\n",
              "      <td>1.0</td>\n",
              "    </tr>\n",
              "    <tr>\n",
              "      <th>4</th>\n",
              "      <td>5</td>\n",
              "      <td>1.51742</td>\n",
              "      <td>13.27</td>\n",
              "      <td>3.62</td>\n",
              "      <td>1.24</td>\n",
              "      <td>73.08</td>\n",
              "      <td>0.55</td>\n",
              "      <td>8.07</td>\n",
              "      <td>0.00</td>\n",
              "      <td>0.0</td>\n",
              "      <td>1.0</td>\n",
              "    </tr>\n",
              "    <tr>\n",
              "      <th>...</th>\n",
              "      <td>...</td>\n",
              "      <td>...</td>\n",
              "      <td>...</td>\n",
              "      <td>...</td>\n",
              "      <td>...</td>\n",
              "      <td>...</td>\n",
              "      <td>...</td>\n",
              "      <td>...</td>\n",
              "      <td>...</td>\n",
              "      <td>...</td>\n",
              "      <td>...</td>\n",
              "    </tr>\n",
              "    <tr>\n",
              "      <th>209</th>\n",
              "      <td>210</td>\n",
              "      <td>1.51623</td>\n",
              "      <td>14.14</td>\n",
              "      <td>0.00</td>\n",
              "      <td>2.88</td>\n",
              "      <td>72.61</td>\n",
              "      <td>0.08</td>\n",
              "      <td>9.18</td>\n",
              "      <td>1.06</td>\n",
              "      <td>0.0</td>\n",
              "      <td>7.0</td>\n",
              "    </tr>\n",
              "    <tr>\n",
              "      <th>210</th>\n",
              "      <td>211</td>\n",
              "      <td>1.51685</td>\n",
              "      <td>14.92</td>\n",
              "      <td>0.00</td>\n",
              "      <td>1.99</td>\n",
              "      <td>73.06</td>\n",
              "      <td>0.00</td>\n",
              "      <td>8.40</td>\n",
              "      <td>1.59</td>\n",
              "      <td>0.0</td>\n",
              "      <td>7.0</td>\n",
              "    </tr>\n",
              "    <tr>\n",
              "      <th>211</th>\n",
              "      <td>212</td>\n",
              "      <td>1.52065</td>\n",
              "      <td>14.36</td>\n",
              "      <td>0.00</td>\n",
              "      <td>2.02</td>\n",
              "      <td>73.42</td>\n",
              "      <td>0.00</td>\n",
              "      <td>8.44</td>\n",
              "      <td>1.64</td>\n",
              "      <td>0.0</td>\n",
              "      <td>7.0</td>\n",
              "    </tr>\n",
              "    <tr>\n",
              "      <th>212</th>\n",
              "      <td>213</td>\n",
              "      <td>1.51651</td>\n",
              "      <td>14.38</td>\n",
              "      <td>0.00</td>\n",
              "      <td>1.94</td>\n",
              "      <td>73.61</td>\n",
              "      <td>0.00</td>\n",
              "      <td>8.48</td>\n",
              "      <td>1.57</td>\n",
              "      <td>0.0</td>\n",
              "      <td>7.0</td>\n",
              "    </tr>\n",
              "    <tr>\n",
              "      <th>213</th>\n",
              "      <td>214</td>\n",
              "      <td>1.51711</td>\n",
              "      <td>14.23</td>\n",
              "      <td>0.00</td>\n",
              "      <td>2.08</td>\n",
              "      <td>73.36</td>\n",
              "      <td>0.00</td>\n",
              "      <td>8.62</td>\n",
              "      <td>1.67</td>\n",
              "      <td>0.0</td>\n",
              "      <td>7.0</td>\n",
              "    </tr>\n",
              "  </tbody>\n",
              "</table>\n",
              "<p>214 rows × 11 columns</p>\n",
              "</div>"
            ],
            "text/plain": [
              "      ID       RI     Na    Mg    Al     Si     K    Ca    Ba   Fe Type\n",
              "0      1  1.52101  13.64  4.49  1.10  71.78  0.06  8.75  0.00  0.0  1.0\n",
              "1      2  1.51761  13.89  3.60  1.36  72.73  0.48  7.83  0.00  0.0  1.0\n",
              "2      3  1.51618  13.53  3.55  1.54  72.99  0.39  7.78  0.00  0.0  1.0\n",
              "3      4  1.51766  13.21  3.69  1.29  72.61  0.57  8.22  0.00  0.0  1.0\n",
              "4      5  1.51742  13.27  3.62  1.24  73.08  0.55  8.07  0.00  0.0  1.0\n",
              "..   ...      ...    ...   ...   ...    ...   ...   ...   ...  ...  ...\n",
              "209  210  1.51623  14.14  0.00  2.88  72.61  0.08  9.18  1.06  0.0  7.0\n",
              "210  211  1.51685  14.92  0.00  1.99  73.06  0.00  8.40  1.59  0.0  7.0\n",
              "211  212  1.52065  14.36  0.00  2.02  73.42  0.00  8.44  1.64  0.0  7.0\n",
              "212  213  1.51651  14.38  0.00  1.94  73.61  0.00  8.48  1.57  0.0  7.0\n",
              "213  214  1.51711  14.23  0.00  2.08  73.36  0.00  8.62  1.67  0.0  7.0\n",
              "\n",
              "[214 rows x 11 columns]"
            ]
          },
          "metadata": {
            "tags": []
          },
          "execution_count": 82
        }
      ]
    },
    {
      "cell_type": "markdown",
      "metadata": {
        "id": "4b2MYoCl13Y7"
      },
      "source": [
        "# Outliers"
      ]
    },
    {
      "cell_type": "code",
      "metadata": {
        "colab": {
          "base_uri": "https://localhost:8080/",
          "height": 282
        },
        "id": "iRxW-u6jhePg",
        "outputId": "7d5072ea-9bc5-4c48-aa81-6854ab9fd6eb"
      },
      "source": [
        "# ดู Boxplot ของข้อมูล จะเห้นได้ว่ามี outliers อยู่\n",
        "boxplot = bp_df.boxplot(grid=False, rot=45, fontsize=15)"
      ],
      "execution_count": 83,
      "outputs": [
        {
          "output_type": "display_data",
          "data": {
            "image/png": "[encoded data removed]",
            "text/plain": [
              "<Figure size 432x288 with 1 Axes>"
            ]
          },
          "metadata": {
            "tags": [],
            "needs_background": "light"
          }
        }
      ]
    },
    {
      "cell_type": "code",
      "metadata": {
        "colab": {
          "base_uri": "https://localhost:8080/",
          "height": 296
        },
        "id": "o8Vb8ViUk5jK",
        "outputId": "93f86104-5a09-41b4-ebb7-48cc3173f20c"
      },
      "source": [
        "# ดูแยกแต่ละปัจจัย\n",
        "# ดู Boxplot ของ RI\n",
        "sns.boxplot(x='RI', data=bp_df)"
      ],
      "execution_count": 84,
      "outputs": [
        {
          "output_type": "execute_result",
          "data": {
            "text/plain": [
              "<matplotlib.axes._subplots.AxesSubplot at 0x7fb2f0296050>"
            ]
          },
          "metadata": {
            "tags": []
          },
          "execution_count": 84
        },
        {
          "output_type": "display_data",
          "data": {
            "image/png": "[encoded data removed]",
            "text/plain": [
              "<Figure size 432x288 with 1 Axes>"
            ]
          },
          "metadata": {
            "tags": [],
            "needs_background": "light"
          }
        }
      ]
    },
    {
      "cell_type": "code",
      "metadata": {
        "colab": {
          "base_uri": "https://localhost:8080/",
          "height": 296
        },
        "id": "cqnHHbAJlbg-",
        "outputId": "c11fc520-7a2c-44d9-ef26-4af35f072f74"
      },
      "source": [
        "# ดูแยกแต่ละปัจจัย\n",
        "# ดู Boxplot ของ Na\n",
        "sns.boxplot(x='Na', data=bp_df)"
      ],
      "execution_count": 85,
      "outputs": [
        {
          "output_type": "execute_result",
          "data": {
            "text/plain": [
              "<matplotlib.axes._subplots.AxesSubplot at 0x7fb2f0207c50>"
            ]
          },
          "metadata": {
            "tags": []
          },
          "execution_count": 85
        },
        {
          "output_type": "display_data",
          "data": {
            "image/png": "[encoded data removed]",
            "text/plain": [
              "<Figure size 432x288 with 1 Axes>"
            ]
          },
          "metadata": {
            "tags": [],
            "needs_background": "light"
          }
        }
      ]
    },
    {
      "cell_type": "code",
      "metadata": {
        "colab": {
          "base_uri": "https://localhost:8080/",
          "height": 296
        },
        "id": "yLK2Z-aBlbQx",
        "outputId": "2a1ef07d-1223-4fec-a750-a12ef28a3a1e"
      },
      "source": [
        "# ดูแยกแต่ละปัจจัย\n",
        "# ดู Boxplot ของ Mg\n",
        "sns.boxplot(x='Mg', data=bp_df)"
      ],
      "execution_count": 86,
      "outputs": [
        {
          "output_type": "execute_result",
          "data": {
            "text/plain": [
              "<matplotlib.axes._subplots.AxesSubplot at 0x7fb2f023b1d0>"
            ]
          },
          "metadata": {
            "tags": []
          },
          "execution_count": 86
        },
        {
          "output_type": "display_data",
          "data": {
            "image/png": "[encoded data removed]",
            "text/plain": [
              "<Figure size 432x288 with 1 Axes>"
            ]
          },
          "metadata": {
            "tags": [],
            "needs_background": "light"
          }
        }
      ]
    },
    {
      "cell_type": "code",
      "metadata": {
        "colab": {
          "base_uri": "https://localhost:8080/",
          "height": 296
        },
        "id": "N6pN5PWelbIS",
        "outputId": "cfa4f6c6-905c-4d31-81bc-8d9ca0de7499"
      },
      "source": [
        "# ดูแยกแต่ละปัจจัย\n",
        "# ดู Boxplot ของ Al\n",
        "sns.boxplot(x='Al', data=bp_df)"
      ],
      "execution_count": 87,
      "outputs": [
        {
          "output_type": "execute_result",
          "data": {
            "text/plain": [
              "<matplotlib.axes._subplots.AxesSubplot at 0x7fb2f015f850>"
            ]
          },
          "metadata": {
            "tags": []
          },
          "execution_count": 87
        },
        {
          "output_type": "display_data",
          "data": {
            "image/png": "[encoded data removed]",
            "text/plain": [
              "<Figure size 432x288 with 1 Axes>"
            ]
          },
          "metadata": {
            "tags": [],
            "needs_background": "light"
          }
        }
      ]
    },
    {
      "cell_type": "code",
      "metadata": {
        "colab": {
          "base_uri": "https://localhost:8080/",
          "height": 296
        },
        "id": "HQeTxIfSlbAr",
        "outputId": "d31f3431-22a0-47d3-a9fd-59184af8fc43"
      },
      "source": [
        "# ดูแยกแต่ละปัจจัย\n",
        "# ดู Boxplot ของ Si\n",
        "sns.boxplot(x='Si', data=bp_df)"
      ],
      "execution_count": 88,
      "outputs": [
        {
          "output_type": "execute_result",
          "data": {
            "text/plain": [
              "<matplotlib.axes._subplots.AxesSubplot at 0x7fb2f00cc310>"
            ]
          },
          "metadata": {
            "tags": []
          },
          "execution_count": 88
        },
        {
          "output_type": "display_data",
          "data": {
            "image/png": "[encoded data removed]",
            "text/plain": [
              "<Figure size 432x288 with 1 Axes>"
            ]
          },
          "metadata": {
            "tags": [],
            "needs_background": "light"
          }
        }
      ]
    },
    {
      "cell_type": "code",
      "metadata": {
        "colab": {
          "base_uri": "https://localhost:8080/",
          "height": 296
        },
        "id": "8M11Hub7la3r",
        "outputId": "d8fe5e46-5ad9-4b38-9ea4-dfd39319c161"
      },
      "source": [
        "# ดูแยกแต่ละปัจจัย\n",
        "# ดู Boxplot ของ K\n",
        "sns.boxplot(x='K', data=bp_df)"
      ],
      "execution_count": 89,
      "outputs": [
        {
          "output_type": "execute_result",
          "data": {
            "text/plain": [
              "<matplotlib.axes._subplots.AxesSubplot at 0x7fb2f00acd10>"
            ]
          },
          "metadata": {
            "tags": []
          },
          "execution_count": 89
        },
        {
          "output_type": "display_data",
          "data": {
            "image/png": "[encoded data removed]",
            "text/plain": [
              "<Figure size 432x288 with 1 Axes>"
            ]
          },
          "metadata": {
            "tags": [],
            "needs_background": "light"
          }
        }
      ]
    },
    {
      "cell_type": "code",
      "metadata": {
        "colab": {
          "base_uri": "https://localhost:8080/",
          "height": 296
        },
        "id": "-JUgL4mPlatS",
        "outputId": "7afccb2e-0bf5-403f-ca49-80f2bf4df2b1"
      },
      "source": [
        "# ดูแยกแต่ละปัจจัย\n",
        "# ดู Boxplot ของ Ca\n",
        "sns.boxplot(x='Ca', data=bp_df)"
      ],
      "execution_count": 90,
      "outputs": [
        {
          "output_type": "execute_result",
          "data": {
            "text/plain": [
              "<matplotlib.axes._subplots.AxesSubplot at 0x7fb2f01cad90>"
            ]
          },
          "metadata": {
            "tags": []
          },
          "execution_count": 90
        },
        {
          "output_type": "display_data",
          "data": {
            "image/png": "[encoded data removed]",
            "text/plain": [
              "<Figure size 432x288 with 1 Axes>"
            ]
          },
          "metadata": {
            "tags": [],
            "needs_background": "light"
          }
        }
      ]
    },
    {
      "cell_type": "code",
      "metadata": {
        "colab": {
          "base_uri": "https://localhost:8080/",
          "height": 296
        },
        "id": "zOhfpuWvl5aJ",
        "outputId": "3cdc4a9e-46f2-44d4-facf-c26b8384c685"
      },
      "source": [
        "# ดูแยกแต่ละปัจจัย\n",
        "# ดู Boxplot ของ Ba\n",
        "sns.boxplot(x='Ba', data=bp_df)"
      ],
      "execution_count": 91,
      "outputs": [
        {
          "output_type": "execute_result",
          "data": {
            "text/plain": [
              "<matplotlib.axes._subplots.AxesSubplot at 0x7fb2f06ece10>"
            ]
          },
          "metadata": {
            "tags": []
          },
          "execution_count": 91
        },
        {
          "output_type": "display_data",
          "data": {
            "image/png": "[encoded data removed]",
            "text/plain": [
              "<Figure size 432x288 with 1 Axes>"
            ]
          },
          "metadata": {
            "tags": [],
            "needs_background": "light"
          }
        }
      ]
    },
    {
      "cell_type": "code",
      "metadata": {
        "colab": {
          "base_uri": "https://localhost:8080/",
          "height": 296
        },
        "id": "9gnF2RPrl5TC",
        "outputId": "5c22b996-a5e4-4076-d13f-577b6b0db064"
      },
      "source": [
        "# ดูแยกแต่ละปัจจัย\n",
        "# ดู Boxplot ของ Fe\n",
        "sns.boxplot(x='Fe', data=bp_df)"
      ],
      "execution_count": 92,
      "outputs": [
        {
          "output_type": "execute_result",
          "data": {
            "text/plain": [
              "<matplotlib.axes._subplots.AxesSubplot at 0x7fb2fb10c790>"
            ]
          },
          "metadata": {
            "tags": []
          },
          "execution_count": 92
        },
        {
          "output_type": "display_data",
          "data": {
            "image/png": "[encoded data removed]",
            "text/plain": [
              "<Figure size 432x288 with 1 Axes>"
            ]
          },
          "metadata": {
            "tags": [],
            "needs_background": "light"
          }
        }
      ]
    },
    {
      "cell_type": "code",
      "metadata": {
        "colab": {
          "base_uri": "https://localhost:8080/"
        },
        "id": "NKQwSwbyiwSC",
        "outputId": "6b80fc79-5af6-42a8-f635-9e0ca70fefec"
      },
      "source": [
        "# จะทำการตัด Outliers ด้วยวิธีแบบ IQR\n",
        "# IQR \n",
        "df2 = df\n",
        "q1 = df2.quantile(0.25) # เลือกค่าที่เป็นจุดของ Q1\n",
        "q3 = df2.quantile(0.75) # เลือกค่าที่เป็นจุดของ Q3\n",
        "iqr = q3 - q1\n",
        "iqr"
      ],
      "execution_count": 93,
      "outputs": [
        {
          "output_type": "execute_result",
          "data": {
            "text/plain": [
              "ID    106.500000\n",
              "RI      0.002635\n",
              "Na      0.917500\n",
              "Mg      1.485000\n",
              "Al      0.440000\n",
              "Si      0.807500\n",
              "K       0.487500\n",
              "Ca      0.932500\n",
              "Ba      0.000000\n",
              "Fe      0.100000\n",
              "dtype: float64"
            ]
          },
          "metadata": {
            "tags": []
          },
          "execution_count": 93
        }
      ]
    },
    {
      "cell_type": "code",
      "metadata": {
        "id": "MXg2VKJrj9N5"
      },
      "source": [
        "# คำนวณหาค่า lower outliers และ upper outliers\n",
        "low_outlier = q1-1.5*iqr\n",
        "upp_outlier = q3+1.5*iqr"
      ],
      "execution_count": 94,
      "outputs": []
    },
    {
      "cell_type": "code",
      "metadata": {
        "colab": {
          "base_uri": "https://localhost:8080/"
        },
        "id": "fvKojwrokAEc",
        "outputId": "ba876990-07bc-4340-ad0d-57eb4b5801c9"
      },
      "source": [
        "# แสดงค่า lower outliers\n",
        "low_outlier"
      ],
      "execution_count": 95,
      "outputs": [
        {
          "output_type": "execute_result",
          "data": {
            "text/plain": [
              "ID   -105.50000\n",
              "RI      1.51257\n",
              "Na     11.53125\n",
              "Mg     -0.11250\n",
              "Al      0.53000\n",
              "Si     71.06875\n",
              "K      -0.60875\n",
              "Ca      6.84125\n",
              "Ba      0.00000\n",
              "Fe     -0.15000\n",
              "dtype: float64"
            ]
          },
          "metadata": {
            "tags": []
          },
          "execution_count": 95
        }
      ]
    },
    {
      "cell_type": "code",
      "metadata": {
        "colab": {
          "base_uri": "https://localhost:8080/"
        },
        "id": "wOy9RtRYkB55",
        "outputId": "6805ea70-7069-4cb6-84e8-bcd98324d728"
      },
      "source": [
        "# แสดงค่า upper outliers\n",
        "upp_outlier"
      ],
      "execution_count": 96,
      "outputs": [
        {
          "output_type": "execute_result",
          "data": {
            "text/plain": [
              "ID    320.50000\n",
              "RI      1.52311\n",
              "Na     15.20125\n",
              "Mg      5.82750\n",
              "Al      2.29000\n",
              "Si     74.29875\n",
              "K       1.34125\n",
              "Ca     10.57125\n",
              "Ba      0.00000\n",
              "Fe      0.25000\n",
              "dtype: float64"
            ]
          },
          "metadata": {
            "tags": []
          },
          "execution_count": 96
        }
      ]
    },
    {
      "cell_type": "code",
      "metadata": {
        "id": "uTiEEo4Cw3uQ"
      },
      "source": [
        "# สร้างคำสั่งสำหรับการกรองข้อมูลให้เหลือเฉพาะตัวที่ไม่เกินขอบเขต Outlier ของ\n",
        "# ให้ df เป็นชุดข้อมูลที่ต้องการจะ clean outlier \n",
        "# df_col เป็น list col ที่ต้องการตัด outlier ออก\n",
        "def outlier_b(df,df_col):\n",
        "   for col in df_col:\n",
        "     df = df.loc[(df[col]>=low_outlier[col])&(df[col]<=upp_outlier[col])]\n",
        "   return df"
      ],
      "execution_count": 97,
      "outputs": []
    },
    {
      "cell_type": "code",
      "metadata": {
        "colab": {
          "base_uri": "https://localhost:8080/"
        },
        "id": "gF8MqJEu3yGt",
        "outputId": "f509f90d-1a7a-4190-a576-b42bfd321ec5"
      },
      "source": [
        "list_col = bp_df.columns\n",
        "list_col"
      ],
      "execution_count": 98,
      "outputs": [
        {
          "output_type": "execute_result",
          "data": {
            "text/plain": [
              "Index(['RI', 'Na', 'Mg', 'Al', 'Si', 'K', 'Ca', 'Ba', 'Fe'], dtype='object')"
            ]
          },
          "metadata": {
            "tags": []
          },
          "execution_count": 98
        }
      ]
    },
    {
      "cell_type": "code",
      "metadata": {
        "colab": {
          "base_uri": "https://localhost:8080/",
          "height": 414
        },
        "id": "en1ign9rkEdr",
        "outputId": "97bfc6d9-b4c9-4aae-de29-4bcaaf23724a"
      },
      "source": [
        "# เอาฟังก์ชั่นที่กรองข้อมูลมาใช้ \n",
        "clean_data = outlier_b(df2,list_col) #กรองข้อมูลที่ไม่เกิน outlier ใน df2\n",
        "clean_data # ได้เป็นขนาด 136*11 หายไป 78 ข้อมูล"
      ],
      "execution_count": 99,
      "outputs": [
        {
          "output_type": "execute_result",
          "data": {
            "text/html": [
              "<div>\n",
              "<style scoped>\n",
              "    .dataframe tbody tr th:only-of-type {\n",
              "        vertical-align: middle;\n",
              "    }\n",
              "\n",
              "    .dataframe tbody tr th {\n",
              "        vertical-align: top;\n",
              "    }\n",
              "\n",
              "    .dataframe thead th {\n",
              "        text-align: right;\n",
              "    }\n",
              "</style>\n",
              "<table border=\"1\" class=\"dataframe\">\n",
              "  <thead>\n",
              "    <tr style=\"text-align: right;\">\n",
              "      <th></th>\n",
              "      <th>ID</th>\n",
              "      <th>RI</th>\n",
              "      <th>Na</th>\n",
              "      <th>Mg</th>\n",
              "      <th>Al</th>\n",
              "      <th>Si</th>\n",
              "      <th>K</th>\n",
              "      <th>Ca</th>\n",
              "      <th>Ba</th>\n",
              "      <th>Fe</th>\n",
              "      <th>Type</th>\n",
              "    </tr>\n",
              "  </thead>\n",
              "  <tbody>\n",
              "    <tr>\n",
              "      <th>0</th>\n",
              "      <td>1</td>\n",
              "      <td>1.52101</td>\n",
              "      <td>13.64</td>\n",
              "      <td>4.49</td>\n",
              "      <td>1.10</td>\n",
              "      <td>71.78</td>\n",
              "      <td>0.06</td>\n",
              "      <td>8.75</td>\n",
              "      <td>0.0</td>\n",
              "      <td>0.0</td>\n",
              "      <td>1.0</td>\n",
              "    </tr>\n",
              "    <tr>\n",
              "      <th>1</th>\n",
              "      <td>2</td>\n",
              "      <td>1.51761</td>\n",
              "      <td>13.89</td>\n",
              "      <td>3.60</td>\n",
              "      <td>1.36</td>\n",
              "      <td>72.73</td>\n",
              "      <td>0.48</td>\n",
              "      <td>7.83</td>\n",
              "      <td>0.0</td>\n",
              "      <td>0.0</td>\n",
              "      <td>1.0</td>\n",
              "    </tr>\n",
              "    <tr>\n",
              "      <th>2</th>\n",
              "      <td>3</td>\n",
              "      <td>1.51618</td>\n",
              "      <td>13.53</td>\n",
              "      <td>3.55</td>\n",
              "      <td>1.54</td>\n",
              "      <td>72.99</td>\n",
              "      <td>0.39</td>\n",
              "      <td>7.78</td>\n",
              "      <td>0.0</td>\n",
              "      <td>0.0</td>\n",
              "      <td>1.0</td>\n",
              "    </tr>\n",
              "    <tr>\n",
              "      <th>3</th>\n",
              "      <td>4</td>\n",
              "      <td>1.51766</td>\n",
              "      <td>13.21</td>\n",
              "      <td>3.69</td>\n",
              "      <td>1.29</td>\n",
              "      <td>72.61</td>\n",
              "      <td>0.57</td>\n",
              "      <td>8.22</td>\n",
              "      <td>0.0</td>\n",
              "      <td>0.0</td>\n",
              "      <td>1.0</td>\n",
              "    </tr>\n",
              "    <tr>\n",
              "      <th>4</th>\n",
              "      <td>5</td>\n",
              "      <td>1.51742</td>\n",
              "      <td>13.27</td>\n",
              "      <td>3.62</td>\n",
              "      <td>1.24</td>\n",
              "      <td>73.08</td>\n",
              "      <td>0.55</td>\n",
              "      <td>8.07</td>\n",
              "      <td>0.0</td>\n",
              "      <td>0.0</td>\n",
              "      <td>1.0</td>\n",
              "    </tr>\n",
              "    <tr>\n",
              "      <th>...</th>\n",
              "      <td>...</td>\n",
              "      <td>...</td>\n",
              "      <td>...</td>\n",
              "      <td>...</td>\n",
              "      <td>...</td>\n",
              "      <td>...</td>\n",
              "      <td>...</td>\n",
              "      <td>...</td>\n",
              "      <td>...</td>\n",
              "      <td>...</td>\n",
              "      <td>...</td>\n",
              "    </tr>\n",
              "    <tr>\n",
              "      <th>176</th>\n",
              "      <td>177</td>\n",
              "      <td>1.51905</td>\n",
              "      <td>14.00</td>\n",
              "      <td>2.39</td>\n",
              "      <td>1.56</td>\n",
              "      <td>72.37</td>\n",
              "      <td>0.00</td>\n",
              "      <td>9.57</td>\n",
              "      <td>0.0</td>\n",
              "      <td>0.0</td>\n",
              "      <td>6.0</td>\n",
              "    </tr>\n",
              "    <tr>\n",
              "      <th>177</th>\n",
              "      <td>178</td>\n",
              "      <td>1.51937</td>\n",
              "      <td>13.79</td>\n",
              "      <td>2.41</td>\n",
              "      <td>1.19</td>\n",
              "      <td>72.76</td>\n",
              "      <td>0.00</td>\n",
              "      <td>9.77</td>\n",
              "      <td>0.0</td>\n",
              "      <td>0.0</td>\n",
              "      <td>6.0</td>\n",
              "    </tr>\n",
              "    <tr>\n",
              "      <th>178</th>\n",
              "      <td>179</td>\n",
              "      <td>1.51829</td>\n",
              "      <td>14.46</td>\n",
              "      <td>2.24</td>\n",
              "      <td>1.62</td>\n",
              "      <td>72.38</td>\n",
              "      <td>0.00</td>\n",
              "      <td>9.26</td>\n",
              "      <td>0.0</td>\n",
              "      <td>0.0</td>\n",
              "      <td>6.0</td>\n",
              "    </tr>\n",
              "    <tr>\n",
              "      <th>179</th>\n",
              "      <td>180</td>\n",
              "      <td>1.51852</td>\n",
              "      <td>14.09</td>\n",
              "      <td>2.19</td>\n",
              "      <td>1.66</td>\n",
              "      <td>72.67</td>\n",
              "      <td>0.00</td>\n",
              "      <td>9.32</td>\n",
              "      <td>0.0</td>\n",
              "      <td>0.0</td>\n",
              "      <td>6.0</td>\n",
              "    </tr>\n",
              "    <tr>\n",
              "      <th>181</th>\n",
              "      <td>182</td>\n",
              "      <td>1.51888</td>\n",
              "      <td>14.99</td>\n",
              "      <td>0.78</td>\n",
              "      <td>1.74</td>\n",
              "      <td>72.50</td>\n",
              "      <td>0.00</td>\n",
              "      <td>9.95</td>\n",
              "      <td>0.0</td>\n",
              "      <td>0.0</td>\n",
              "      <td>6.0</td>\n",
              "    </tr>\n",
              "  </tbody>\n",
              "</table>\n",
              "<p>136 rows × 11 columns</p>\n",
              "</div>"
            ],
            "text/plain": [
              "      ID       RI     Na    Mg    Al     Si     K    Ca   Ba   Fe Type\n",
              "0      1  1.52101  13.64  4.49  1.10  71.78  0.06  8.75  0.0  0.0  1.0\n",
              "1      2  1.51761  13.89  3.60  1.36  72.73  0.48  7.83  0.0  0.0  1.0\n",
              "2      3  1.51618  13.53  3.55  1.54  72.99  0.39  7.78  0.0  0.0  1.0\n",
              "3      4  1.51766  13.21  3.69  1.29  72.61  0.57  8.22  0.0  0.0  1.0\n",
              "4      5  1.51742  13.27  3.62  1.24  73.08  0.55  8.07  0.0  0.0  1.0\n",
              "..   ...      ...    ...   ...   ...    ...   ...   ...  ...  ...  ...\n",
              "176  177  1.51905  14.00  2.39  1.56  72.37  0.00  9.57  0.0  0.0  6.0\n",
              "177  178  1.51937  13.79  2.41  1.19  72.76  0.00  9.77  0.0  0.0  6.0\n",
              "178  179  1.51829  14.46  2.24  1.62  72.38  0.00  9.26  0.0  0.0  6.0\n",
              "179  180  1.51852  14.09  2.19  1.66  72.67  0.00  9.32  0.0  0.0  6.0\n",
              "181  182  1.51888  14.99  0.78  1.74  72.50  0.00  9.95  0.0  0.0  6.0\n",
              "\n",
              "[136 rows x 11 columns]"
            ]
          },
          "metadata": {
            "tags": []
          },
          "execution_count": 99
        }
      ]
    },
    {
      "cell_type": "code",
      "metadata": {
        "colab": {
          "base_uri": "https://localhost:8080/"
        },
        "id": "Sfyz8KIT1dPc",
        "outputId": "f1445e25-998d-4339-9f23-99b6dbd11e0a"
      },
      "source": [
        "# ตรวจสอบ type อีกที\n",
        "clean_data.dtypes"
      ],
      "execution_count": 100,
      "outputs": [
        {
          "output_type": "execute_result",
          "data": {
            "text/plain": [
              "ID         int64\n",
              "RI       float64\n",
              "Na       float64\n",
              "Mg       float64\n",
              "Al       float64\n",
              "Si       float64\n",
              "K        float64\n",
              "Ca       float64\n",
              "Ba       float64\n",
              "Fe       float64\n",
              "Type    category\n",
              "dtype: object"
            ]
          },
          "metadata": {
            "tags": []
          },
          "execution_count": 100
        }
      ]
    },
    {
      "cell_type": "code",
      "metadata": {
        "id": "WHcaizM45jnw"
      },
      "source": [
        "split_data = clean_data"
      ],
      "execution_count": 101,
      "outputs": []
    },
    {
      "cell_type": "markdown",
      "metadata": {
        "id": "Nom3vdWr83yd"
      },
      "source": [
        "# Split data & Normalization"
      ]
    },
    {
      "cell_type": "code",
      "metadata": {
        "id": "nbB7w5Ok85xL"
      },
      "source": [
        "# ทำการแบ่งข้อมูลก่อนเป็นชุด test(30%) train(70%) \n",
        "from sklearn.model_selection  import train_test_split\n",
        "X = split_data.drop(['ID','Type'], axis='columns')\n",
        "y = split_data.Type\n",
        "X_train, X_test, y_train, y_test = train_test_split(X, y, test_size = 0.3, random_state = 0)"
      ],
      "execution_count": 102,
      "outputs": []
    },
    {
      "cell_type": "code",
      "metadata": {
        "id": "65_jijIy9VYL"
      },
      "source": [
        "# ทำการ scaling ด้วยวิธี standardization ที่ Input แต่ Output ไม่ต้องทำ\n",
        "from sklearn.preprocessing import StandardScaler\n",
        "sc = StandardScaler()\n",
        "X_train = sc.fit_transform(X_train)\n",
        "X_test = sc.transform(X_test)"
      ],
      "execution_count": 103,
      "outputs": []
    },
    {
      "cell_type": "code",
      "metadata": {
        "colab": {
          "base_uri": "https://localhost:8080/"
        },
        "id": "k6MN13KP9c5E",
        "outputId": "b001ab8f-7fe1-4369-fb70-914f482e2d46"
      },
      "source": [
        "X_train"
      ],
      "execution_count": 104,
      "outputs": [
        {
          "output_type": "execute_result",
          "data": {
            "text/plain": [
              "array([[-1.03630219e-01, -1.19333316e+00,  3.63840541e-01,\n",
              "        -1.15561245e-01,  1.18775395e+00,  3.89488802e-01,\n",
              "        -1.87492413e-01,  0.00000000e+00, -5.93761980e-01],\n",
              "       [ 8.44883316e-02,  5.26979179e-01, -7.17712848e-02,\n",
              "         1.00324826e+00, -1.62378986e+00,  3.43808016e-01,\n",
              "         2.83638266e-01,  0.00000000e+00,  6.20751161e-01],\n",
              "       [-9.75816227e-01,  3.72344362e-01,  3.98729360e-03,\n",
              "        -4.30226420e-01, -6.18210802e-02,  4.35169587e-01,\n",
              "        -4.61052162e-01,  0.00000000e+00, -5.93761980e-01],\n",
              "       [-1.05562410e+00, -4.00829723e-01,  3.07021607e-01,\n",
              "         6.88583090e-01,  8.12881438e-01,  1.02901980e+00,\n",
              "        -1.09935824e+00,  0.00000000e+00, -5.93761980e-01],\n",
              "       [-1.18103646e+00,  3.15577107e+00,  5.15357698e-01,\n",
              "         1.38783903e+00, -1.76957362e+00, -1.52910418e+00,\n",
              "        -1.92003749e+00,  0.00000000e+00,  1.02558888e+00],\n",
              "       [ 1.60815858e-02, -1.05802769e+00,  5.15357698e-01,\n",
              "        -6.40003203e-01,  8.12881438e-01,  5.26531158e-01,\n",
              "         1.16462864e-01,  0.00000000e+00, -5.93761980e-01],\n",
              "       [-1.08982747e+00, -4.00829723e-01,  3.44900897e-01,\n",
              "         5.83694698e-01,  8.33707688e-01,  8.91977440e-01,\n",
              "        -1.00817166e+00,  0.00000000e+00, -5.93761980e-01],\n",
              "       [ 2.51862837e+00, -3.35720326e-02,  7.04754144e-01,\n",
              "        -1.93362670e+00, -1.51965861e+00, -1.66614654e+00,\n",
              "         2.12256769e+00,  0.00000000e+00, -5.93761980e-01],\n",
              "       [-6.10980250e-01, -8.45404822e-01,  2.31263029e-01,\n",
              "         6.88583090e-01,  1.33353770e+00,  7.54935084e-01,\n",
              "        -1.09935824e+00,  0.00000000e+00, -5.93761980e-01],\n",
              "       [-1.07272578e+00, -2.65524258e-01,  3.63840541e-01,\n",
              "         6.18657496e-01,  7.92055187e-01,  8.00615870e-01,\n",
              "        -1.20574259e+00,  0.00000000e+00, -5.93761980e-01],\n",
              "       [-8.65285328e-02, -3.35720326e-02,  5.53236987e-01,\n",
              "        -1.85486840e-01, -2.28431084e-01,  3.43808016e-01,\n",
              "        -6.13029800e-01,  0.00000000e+00, -5.93761980e-01],\n",
              "       [ 1.69996764e-01,  1.98380193e-01,  8.56271301e-01,\n",
              "        -3.25338029e-01,  1.25615174e-01,  1.15404089e-01,\n",
              "        -7.65007438e-01,  0.00000000e+00, -5.93761980e-01],\n",
              "       [-2.17641462e-01, -1.98583660e+00, -2.80107376e-01,\n",
              "        -6.40003203e-01,  1.72923646e+00,  5.72211943e-01,\n",
              "         4.20418141e-01,  0.00000000e+00,  2.64493973e+00],\n",
              "       [-1.43534154e-01, -1.49548145e-01,  4.01719830e-01,\n",
              "        -1.02459397e+00,  1.08362269e+00,  3.43808016e-01,\n",
              "        -5.82634272e-01,  0.00000000e+00, -5.93761980e-01],\n",
              "       [-5.25471818e-01, -1.07735705e+00, -9.80874226e-01,\n",
              "         1.28295064e+00,  1.02114394e+00,  1.07470058e+00,\n",
              "        -1.26701357e-01,  0.00000000e+00, -5.93761980e-01],\n",
              "       [-9.58714541e-01,  1.33881197e+00,  2.31263029e-01,\n",
              "        -3.25338029e-01,  3.33877678e-01, -5.69807691e-01,\n",
              "        -1.03856719e+00,  0.00000000e+00,  1.29548068e+00],\n",
              "       [-6.10980250e-01, -6.90770005e-01,  3.07021607e-01,\n",
              "         1.03821106e+00,  8.75360189e-01,  7.09254299e-01,\n",
              "        -9.62578368e-01,  0.00000000e+00, -5.93761980e-01],\n",
              "       [ 6.31742297e-01,  4.49661770e-01,  8.18392012e-01,\n",
              "        -2.90375231e-01, -3.53388586e-01,  3.43808016e-01,\n",
              "        -6.28227564e-01,  0.00000000e+00,  1.29548068e+00],\n",
              "       [-1.07842635e+00, -7.10099357e-01,  2.31263029e-01,\n",
              "         2.71642533e+00, -1.24299832e-01,  8.91977440e-01,\n",
              "        -9.92973896e-01,  0.00000000e+00, -5.93761980e-01],\n",
              "       [-7.19290931e-01,  3.53015010e-01, -1.49523510e-02,\n",
              "        -2.20449637e-01, -1.65952332e-01,  1.15404089e-01,\n",
              "         4.04740447e-02,  0.00000000e+00, -5.93761980e-01],\n",
              "       [ 1.41493953e-01, -4.39488427e-01,  7.61573078e-01,\n",
              "        -9.19705581e-01,  7.29576436e-01,  2.98127231e-01,\n",
              "        -3.69865579e-01,  0.00000000e+00,  1.02558888e+00],\n",
              "       [ 2.72606882e-01,  2.38259698e+00, -2.19301148e+00,\n",
              "         9.68285468e-01, -7.07434844e-01, -2.25999675e+00,\n",
              "         9.67537638e-01,  0.00000000e+00, -5.93761980e-01],\n",
              "       [-5.36872942e-01,  5.08667161e-03,  2.69142318e-01,\n",
              "         4.78806307e-01,  2.50572676e-01,  2.98127231e-01,\n",
              "        -7.95402966e-01,  0.00000000e+00, -5.93761980e-01],\n",
              "       [-6.33782499e-01,  2.44160237e-02,  3.25961252e-01,\n",
              "         1.29178335e-01, -4.09948298e-02,  2.98127231e-01,\n",
              "        -2.78678996e-01,  0.00000000e+00,  7.55697066e-01],\n",
              "       [-6.62285309e-01, -1.68877497e-01,  9.86855167e-02,\n",
              "         1.45776463e+00, -4.99172339e-01,  4.80850372e-01,\n",
              "        -3.69865579e-01,  0.00000000e+00,  1.70031840e+00],\n",
              "       [-1.09552803e+00, -6.71440653e-01,  6.08062274e-02,\n",
              "         1.99103929e-01,  1.16692770e+00,  8.91977440e-01,\n",
              "        -8.71391785e-01,  0.00000000e+00,  2.64493973e+00],\n",
              "       [ 1.97137440e+00,  2.11198605e+00,  9.50969524e-01,\n",
              "        -1.79377551e+00, -2.54014488e+00, -2.25999675e+00,\n",
              "         1.31708621e+00,  0.00000000e+00, -5.93761980e-01],\n",
              "       [ 2.72606882e-01,  2.44160237e-02,  9.50969524e-01,\n",
              "         2.34066727e-01, -8.11566096e-01,  2.52446445e-01,\n",
              "        -4.76249926e-01,  0.00000000e+00,  7.55697066e-01],\n",
              "       [ 6.65945670e-01,  6.81613996e-01, -9.07109294e-02,\n",
              "        -3.95263623e-01, -1.33222236e+00,  4.35169587e-01,\n",
              "         4.35615904e-01,  0.00000000e+00, -5.93761980e-01],\n",
              "       [-7.36392617e-01,  6.42955292e-01,  3.25961252e-01,\n",
              "         4.43843510e-01, -5.61651091e-01,  6.63573514e-01,\n",
              "        -1.00817166e+00,  0.00000000e+00, -5.93761980e-01],\n",
              "       [-1.15031343e-01,  1.28082391e+00,  3.82780186e-01,\n",
              "         5.92527405e-02,  2.14839215e-02, -6.73190521e-02,\n",
              "        -1.20574259e+00,  0.00000000e+00, -5.93761980e-01],\n",
              "       [ 3.75217001e-01, -2.46194906e-01,  1.08354704e+00,\n",
              "        -5.35114812e-01, -5.82477341e-01,  4.80850372e-01,\n",
              "        -2.93876760e-01,  0.00000000e+00, -5.93761980e-01],\n",
              "       [-7.70595990e-01, -3.62171019e-01,  3.98729360e-03,\n",
              "        -2.90375231e-01,  6.04618934e-01,  1.15404089e-01,\n",
              "        -6.59103021e-02,  0.00000000e+00, -5.93761980e-01],\n",
              "       [ 8.25561410e-01, -5.29013847e-02, -1.28590219e-01,\n",
              "        -2.20449637e-01, -7.49087344e-01,  4.80850372e-01,\n",
              "         7.85164472e-01,  0.00000000e+00,  8.90642971e-01],\n",
              "       [-2.23342024e-01,  8.24040801e-02,  4.20659475e-01,\n",
              "        -3.60300826e-01,  7.50402687e-01,  2.52446445e-01,\n",
              "        -8.40996258e-01,  0.00000000e+00, -5.93761980e-01],\n",
              "       [ 7.40052978e-01,  1.30015326e+00,  6.28995566e-01,\n",
              "        -5.70077609e-01, -1.24891735e+00, -1.98591204e+00,\n",
              "         4.05220377e-01,  0.00000000e+00, -5.93761980e-01],\n",
              "       [ 6.77346795e-01,  5.07649827e-01,  1.55504450e-01,\n",
              "         2.42899433e-02, -1.60296361e+00,  2.52446445e-01,\n",
              "         5.72395779e-01,  0.00000000e+00, -5.93761980e-01],\n",
              "       [-2.17641462e-01,  1.40392136e-01,  3.82780186e-01,\n",
              "        -7.09928798e-01,  7.71228937e-01,  3.89488802e-01,\n",
              "        -6.89018619e-01,  0.00000000e+00, -5.93761980e-01],\n",
              "       [ 2.22789970e+00,  4.88320475e-01,  6.47935210e-01,\n",
              "        -1.54903593e+00, -1.47800611e+00, -1.43774261e+00,\n",
              "         1.49945937e+00,  0.00000000e+00,  3.50859352e-01],\n",
              "       [ 7.62855227e-01, -9.61380934e-01, -2.93165762e+00,\n",
              "         1.80739260e+00, -6.18210802e-02,  4.80850372e-01,\n",
              "         2.22895204e+00,  0.00000000e+00, -5.93761980e-01],\n",
              "       [ 1.81397888e-01,  3.91673714e-01,  1.10248668e+00,\n",
              "        -5.70077609e-01, -4.78346089e-01,  3.89488802e-01,\n",
              "        -7.19414147e-01,  0.00000000e+00, -5.93761980e-01],\n",
              "       [ 1.82315979e+00,  7.97590108e-01,  2.06840856e+00,\n",
              "        -8.49779987e-01, -1.95700987e+00, -1.98591204e+00,\n",
              "         1.92451683e-01,  0.00000000e+00, -5.93761980e-01],\n",
              "       [ 6.73866451e-02, -8.45404822e-01,  1.93383740e-01,\n",
              "        -7.79854392e-01,  6.46271434e-01,  6.63573514e-01,\n",
              "         2.22847211e-01,  0.00000000e+00, -5.93761980e-01],\n",
              "       [-7.51274085e-02, -1.11601575e+00,  3.07021607e-01,\n",
              "        -1.50524043e-01,  7.50402687e-01,  5.26531158e-01,\n",
              "         1.01265100e-01,  0.00000000e+00,  1.29548068e+00],\n",
              "       [ 2.11388845e+00, -3.42841667e-01,  4.77478409e-01,\n",
              "        -1.65392432e+00, -1.04065485e+00, -1.39206183e+00,\n",
              "         1.86420570e+00,  0.00000000e+00,  1.70031840e+00],\n",
              "       [-7.76296552e-01,  3.33685658e-01,  1.74444095e-01,\n",
              "         6.18657496e-01, -1.45126082e-01,  8.00615870e-01,\n",
              "        -8.25798494e-01,  0.00000000e+00,  7.55697066e-01],\n",
              "       [-1.49234716e-01, -1.00003964e+00,  4.18665828e-02,\n",
              "        -5.00152015e-01,  1.00031769e+00,  4.35169587e-01,\n",
              "         2.52762809e-02,  0.00000000e+00, -5.93761980e-01],\n",
              "       [-9.79296570e-02, -4.78147131e-01,  2.69142318e-01,\n",
              "        -4.65189217e-01,  5.83792683e-01,  7.09254299e-01,\n",
              "        -1.41899121e-01,  0.00000000e+00, -5.93761980e-01],\n",
              "       [-1.20953928e+00,  2.44160237e-02,  1.74444095e-01,\n",
              "         4.43843510e-01,  1.10444894e+00, -5.24126906e-01,\n",
              "        -9.01787313e-01,  0.00000000e+00, -5.93761980e-01],\n",
              "       [ 1.03810237e-02, -1.03869834e+00,  2.69142318e-01,\n",
              "        -1.06728539e-02,  4.79661431e-01,  3.43808016e-01,\n",
              "         1.92451683e-01,  0.00000000e+00, -5.93761980e-01],\n",
              "       [ 3.58115314e-01,  4.37453758e-02,  6.85814500e-01,\n",
              "        -8.05984483e-02, -6.65782343e-01,  3.89488802e-01,\n",
              "        -3.09074523e-01,  0.00000000e+00, -5.93761980e-01],\n",
              "       [ 2.11388845e+00, -2.07536202e-01,  3.44900897e-01,\n",
              "        -1.54903593e+00, -1.08230735e+00, -1.20933869e+00,\n",
              "         1.81861241e+00,  0.00000000e+00,  1.56537249e+00],\n",
              "       [-5.19771256e-01,  1.98380193e-01,  2.69142318e-01,\n",
              "         9.33322670e-01, -3.74214837e-01,  8.46296655e-01,\n",
              "        -7.80205202e-01,  0.00000000e+00, -5.93761980e-01],\n",
              "       [-4.96969007e-01, -7.10099357e-01,  3.44900897e-01,\n",
              "        -1.15561245e-01, -2.28431084e-01,  5.26531158e-01,\n",
              "         2.53242738e-01,  0.00000000e+00, -5.93761980e-01],\n",
              "       [-1.22094040e+00,  1.21062784e-01,  9.86855167e-02,\n",
              "        -4.65189217e-01,  4.23101719e-02,  2.98127231e-01,\n",
              "        -8.11080659e-02,  0.00000000e+00, -5.93761980e-01],\n",
              "       [-1.24212249e-02,  7.97590108e-01,  4.77478409e-01,\n",
              "        -2.42310586e+00,  5.83792683e-01, -1.98591204e+00,\n",
              "         4.66011432e-01,  0.00000000e+00, -5.93761980e-01],\n",
              "       [-1.15031343e-01, -8.06746117e-01,  2.69142318e-01,\n",
              "        -3.95263623e-01,  1.08362269e+00,  3.89488802e-01,\n",
              "        -3.54667815e-01,  0.00000000e+00, -5.93761980e-01],\n",
              "       [ 8.88267594e-01,  1.08753039e+00, -1.87103752e+00,\n",
              "        -5.35114812e-01,  8.39626728e-02, -2.25999675e+00,\n",
              "         1.74262359e+00,  0.00000000e+00, -5.93761980e-01],\n",
              "       [-1.77737527e-01, -7.87416765e-01,  2.88081963e-01,\n",
              "         5.13769104e-01,  6.31364224e-02,  2.06765660e-01,\n",
              "        -1.57096885e-01,  0.00000000e+00,  1.97021021e+00],\n",
              "       [-1.94839213e-01, -7.48758061e-01,  1.93383740e-01,\n",
              "        -7.09928798e-01,  1.14610144e+00,  2.98127231e-01,\n",
              "        -1.11503594e-01,  0.00000000e+00, -5.93761980e-01],\n",
              "       [-1.54935278e-01,  3.14356305e-01,  4.96418053e-01,\n",
              "        -5.35114812e-01,  1.46441424e-01,  3.43808016e-01,\n",
              "        -5.37040981e-01,  0.00000000e+00,  8.90642971e-01],\n",
              "       [ 4.03719812e-01,  1.66741095e+00, -2.28770970e+00,\n",
              "         1.10813666e+00, -1.03473581e-01, -2.25999675e+00,\n",
              "         1.05872422e+00,  0.00000000e+00, -5.93761980e-01],\n",
              "       [ 2.25640251e+00, -5.29013847e-02,  5.34297343e-01,\n",
              "        -6.74966001e-01,  6.31364224e-02,  2.06765660e-01,\n",
              "        -1.57096885e-01,  0.00000000e+00, -5.93761980e-01],\n",
              "       [-8.67505547e-01, -1.00003964e+00, -1.28590219e-01,\n",
              "         5.13769104e-01,  1.16692770e+00,  8.00615870e-01,\n",
              "        -5.82634272e-01,  0.00000000e+00, -5.93761980e-01],\n",
              "       [-7.76296552e-01,  4.11003066e-01,  4.01719830e-01,\n",
              "         6.88583090e-01, -6.86608593e-01,  7.54935084e-01,\n",
              "        -9.01787313e-01,  0.00000000e+00, -5.93761980e-01],\n",
              "       [ 6.08940049e-01,  3.40705264e+00, -4.95819959e+00,\n",
              "         1.38783903e+00, -4.57519838e-01, -2.25999675e+00,\n",
              "         2.01618334e+00,  0.00000000e+00, -5.93761980e-01],\n",
              "       [-1.00431904e+00, -6.32781948e-01,  7.97458720e-02,\n",
              "         3.73917915e-01,  7.08750186e-01, -2.50042194e-01,\n",
              "        -5.37040981e-01,  0.00000000e+00, -5.93761980e-01],\n",
              "       [-1.07272578e+00,  4.37453758e-02,  9.86855167e-02,\n",
              "         3.03992321e-01,  9.37838940e-01,  5.26531158e-01,\n",
              "        -1.16014930e+00,  0.00000000e+00, -5.93761980e-01],\n",
              "       [-1.10122859e+00, -2.07536202e-01,  2.29269382e-02,\n",
              "         8.28434279e-01,  1.12527519e+00, -1.94023125e+00,\n",
              "        -3.54667815e-01,  0.00000000e+00,  1.97021021e+00],\n",
              "       [-2.57545397e-01, -8.64734174e-01,  4.20659475e-01,\n",
              "        -1.85486840e-01,  1.46441424e-01,  4.35169587e-01,\n",
              "         1.16462864e-01,  0.00000000e+00, -5.93761980e-01],\n",
              "       [ 7.05849605e-01,  1.49344678e+00, -1.90891681e+00,\n",
              "         7.58508684e-01, -7.28261094e-01, -2.25999675e+00,\n",
              "         1.43866832e+00,  0.00000000e+00, -5.93761980e-01],\n",
              "       [-2.12162922e+00,  1.97668059e+00, -5.83141689e-01,\n",
              "         2.57657414e+00, -9.15697348e-01,  2.76488964e+00,\n",
              "        -2.34557488e+00,  0.00000000e+00, -5.93761980e-01],\n",
              "       [-8.04799363e-01, -1.30930927e+00,  1.55504450e-01,\n",
              "         1.84235540e+00,  1.06279644e+00,  6.17892728e-01,\n",
              "        -8.25798494e-01,  0.00000000e+00,  6.20751161e-01],\n",
              "       [-3.43053829e-01, -6.90770005e-01,  1.55504450e-01,\n",
              "        -4.56356511e-02,  6.67097685e-01,  2.98127231e-01,\n",
              "        -2.93876760e-01,  0.00000000e+00, -5.93761980e-01],\n",
              "       [ 2.44452106e+00,  9.71554278e-01,  8.37331656e-01,\n",
              "        -2.17836628e+00, -1.99866237e+00, -1.48342340e+00,\n",
              "         1.69703030e+00,  0.00000000e+00, -5.93761980e-01],\n",
              "       [-1.08982747e+00,  2.44160237e-02, -1.09650574e-01,\n",
              "         4.43843510e-01,  7.92055187e-01, -4.78446120e-01,\n",
              "        -6.13029800e-01,  0.00000000e+00, -5.93761980e-01],\n",
              "       [ 1.93717103e+00,  1.55143484e+00,  6.85814500e-01,\n",
              "        -2.66784544e+00, -1.93618362e+00, -1.75750811e+00,\n",
              "         1.56025043e+00,  0.00000000e+00, -5.93761980e-01],\n",
              "       [-6.94268463e-02, -1.50260279e+00, -1.30284818e+00,\n",
              "        -1.85486840e-01,  2.04163021e+00,  2.98127231e-01,\n",
              "         6.63582362e-01,  0.00000000e+00,  2.64493973e+00],\n",
              "       [ 2.89708569e-01,  1.98380193e-01, -1.09650574e-01,\n",
              "         6.88583090e-01, -1.20726485e+00,  2.98127231e-01,\n",
              "         5.57198015e-01,  0.00000000e+00, -5.93761980e-01],\n",
              "       [ 5.00629368e-01, -7.22307369e-02, -5.28316402e-02,\n",
              "        -5.70077609e-01,  6.57671066e-04,  3.43808016e-01,\n",
              "         3.14033794e-01,  0.00000000e+00,  1.56537249e+00],\n",
              "       [ 1.70914854e+00,  1.06820104e+00, -2.11725290e+00,\n",
              "         3.03992321e-01, -1.51965861e+00, -2.16382668e-02,\n",
              "         1.86420570e+00,  0.00000000e+00,  1.70031840e+00],\n",
              "       [-8.78906671e-01, -4.39488427e-01,  3.44900897e-01,\n",
              "         6.88583090e-01,  2.29746426e-01,  5.26531158e-01,\n",
              "        -8.86589549e-01,  0.00000000e+00, -5.93761980e-01],\n",
              "       [ 2.95757165e+00,  1.59721489e-01,  3.44900897e-01,\n",
              "        -1.82873831e+00, -1.51965861e+00, -1.71182733e+00,\n",
              "         2.35053415e+00,  0.00000000e+00, -1.88924266e-01],\n",
              "       [-1.89138651e-01, -7.10099357e-01,  3.07021607e-01,\n",
              "        -2.55412434e-01,  1.02114394e+00,  2.06765660e-01,\n",
              "        -3.69865579e-01,  0.00000000e+00,  1.70031840e+00],\n",
              "       [-2.95229113e-02,  5.84967235e-01,  2.29269382e-02,\n",
              "         6.18657496e-01, -1.41552736e+00,  3.89488802e-01,\n",
              "         2.53242738e-01,  0.00000000e+00, -5.93761980e-01],\n",
              "       [ 2.21301823e-01, -1.17400381e+00, -1.20814996e+00,\n",
              "        -1.79377551e+00,  2.27071897e+00, -6.61169262e-01,\n",
              "         1.21070186e+00,  0.00000000e+00,  2.10515611e+00],\n",
              "       [-7.70595990e-01,  3.53015010e-01,  2.88081963e-01,\n",
              "        -3.25338029e-01,  1.88093925e-01,  8.46296655e-01,\n",
              "        -7.95402966e-01,  0.00000000e+00, -5.93761980e-01],\n",
              "       [-2.91748770e-01, -1.69589631e+00, -1.28390854e+00,\n",
              "         1.00324826e+00,  3.13051428e-01,  9.37658226e-01,\n",
              "         9.21944347e-01,  0.00000000e+00, -5.93761980e-01],\n",
              "       [-1.24212249e-02, -3.35720326e-02, -1.49523510e-02,\n",
              "        -4.56356511e-02,  8.39626728e-02,  4.35169587e-01,\n",
              "        -5.07125383e-02,  0.00000000e+00, -5.93761980e-01],\n",
              "       [-1.72036965e-01, -8.06746117e-01,  3.25961252e-01,\n",
              "         2.42899433e-02,  6.25445184e-01,  5.72211943e-01,\n",
              "        -5.07125383e-02,  0.00000000e+00, -5.93761980e-01],\n",
              "       [-1.19813815e+00, -9.80710286e-01,  1.17625161e-01,\n",
              "         7.58508684e-01,  1.00031769e+00,  8.00615870e-01,\n",
              "        -8.10600730e-01,  0.00000000e+00,  2.64493973e+00],\n",
              "       [ 1.36141425e+00,  1.45478808e+00, -3.87863985e+00,\n",
              "         1.00324826e+00, -1.99866237e+00, -4.78446120e-01,\n",
              "         2.94324694e+00,  0.00000000e+00,  1.83526430e+00],\n",
              "       [-1.08982747e+00, -7.87416765e-01,  2.31263029e-01,\n",
              "         1.94724379e+00,  2.92225177e-01,  8.91977440e-01,\n",
              "        -9.92973896e-01,  0.00000000e+00, -5.93761980e-01],\n",
              "       [-7.87697676e-01, -2.06315401e+00,  2.31263029e-01,\n",
              "         2.42899433e-02,  3.54703928e-01,  3.43808016e-01,\n",
              "        -1.41899121e-01,  0.00000000e+00, -5.93761980e-01],\n",
              "       [ 2.44104072e-01, -6.90770005e-01,  1.55504450e-01,\n",
              "        -1.85486840e-01,  4.79661431e-01,  4.80850372e-01,\n",
              "        -2.93876760e-01,  0.00000000e+00, -5.93761980e-01]])"
            ]
          },
          "metadata": {
            "tags": []
          },
          "execution_count": 104
        }
      ]
    },
    {
      "cell_type": "code",
      "metadata": {
        "colab": {
          "base_uri": "https://localhost:8080/"
        },
        "id": "uB9OR8a99dbC",
        "outputId": "2bdef3ed-6802-45bf-8e14-ae848c9e80d6"
      },
      "source": [
        "X_test"
      ],
      "execution_count": 105,
      "outputs": [
        {
          "output_type": "execute_result",
          "data": {
            "text/plain": [
              "array([[-7.51274085e-02, -1.28997992e+00,  2.31263029e-01,\n",
              "         3.03992321e-01,  8.96186440e-01,  3.43808016e-01,\n",
              "        -1.26701357e-01,  0.00000000e+00, -5.93761980e-01],\n",
              "       [-1.49234716e-01, -4.39488427e-01,  3.82780186e-01,\n",
              "         5.92527405e-02,  5.62966433e-01,  3.43808016e-01,\n",
              "        -3.39470051e-01,  0.00000000e+00,  8.90642971e-01],\n",
              "       [ 1.81175866e+00,  8.94236869e-01,  3.63840541e-01,\n",
              "        -7.79854392e-01, -1.58213736e+00, -1.84886968e+00,\n",
              "         1.18030633e+00,  0.00000000e+00, -5.93761980e-01],\n",
              "       [-6.90788120e-01, -4.58817779e-01, -4.12684888e-01,\n",
              "        -3.95263623e-01,  5.21313932e-01,  3.89488802e-01,\n",
              "         2.83638266e-01,  0.00000000e+00,  2.64493973e+00],\n",
              "       [ 1.52895077e-01,  3.91673714e-01, -9.99813871e-01,\n",
              "        -5.35114812e-01,  2.50572676e-01,  2.52446445e-01,\n",
              "         6.17989070e-01,  0.00000000e+00, -5.93761980e-01],\n",
              "       [ 3.41013628e-01, -4.00829723e-01,  4.20659475e-01,\n",
              "        -9.89631175e-01, -7.90739845e-01,  6.63573514e-01,\n",
              "         7.69966709e-01,  0.00000000e+00,  1.43042659e+00],\n",
              "       [-3.48754391e-01,  2.95026953e-01,  1.93383740e-01,\n",
              "        -6.74966001e-01,  2.71398927e-01,  2.40425186e-02,\n",
              "        -2.93876760e-01,  0.00000000e+00, -5.93761980e-01],\n",
              "       [ 7.05849605e-01,  7.20272700e-01,  4.20659475e-01,\n",
              "        -8.14817189e-01, -1.65952332e-01, -1.62046575e+00,\n",
              "         2.07649447e-01,  0.00000000e+00, -5.93761980e-01],\n",
              "       [-1.81217870e-02, -3.35720326e-02, -1.11345174e+00,\n",
              "        -1.85486840e-01,  5.42140182e-01,  6.97233040e-02,\n",
              "         6.02791307e-01,  0.00000000e+00,  6.20751161e-01],\n",
              "       [ 6.73866451e-02, -3.35720326e-02,  1.55504450e-01,\n",
              "         2.34066727e-01, -1.65952332e-01,  4.35169587e-01,\n",
              "        -2.93876760e-01,  0.00000000e+00, -5.93761980e-01],\n",
              "       [-8.90307795e-01,  2.56368249e-01,  3.44900897e-01,\n",
              "         5.13769104e-01,  6.57671066e-04, -2.04361408e-01,\n",
              "        -6.28227564e-01,  0.00000000e+00, -5.93761980e-01],\n",
              "       [-1.06702522e+00, -2.65524258e-01,  2.31263029e-01,\n",
              "         7.23545887e-01,  3.13051428e-01,  8.46296655e-01,\n",
              "        -8.71391785e-01,  0.00000000e+00,  6.20751161e-01],\n",
              "       [-8.56104422e-01,  2.17709545e-01,  3.25961252e-01,\n",
              "         7.93471482e-01,  3.13051428e-01,  5.26531158e-01,\n",
              "        -1.11455601e+00,  0.00000000e+00, -5.93761980e-01],\n",
              "       [ 1.60815858e-02, -2.84853610e-01,  1.74444095e-01,\n",
              "        -2.20449637e-01,  2.92225177e-01,  4.80850372e-01,\n",
              "        -2.02690177e-01,  0.00000000e+00, -5.93761980e-01],\n",
              "       [ 2.54143062e+00,  1.82204577e+00,  7.80512723e-01,\n",
              "        -1.96858950e+00, -2.85253864e+00, -2.25999675e+00,\n",
              "         1.62104148e+00,  0.00000000e+00, -5.93761980e-01],\n",
              "       [-6.94268463e-02,  8.16919461e-01,  4.96418053e-01,\n",
              "        -8.14817189e-01,  1.04788923e-01, -1.75750811e+00,\n",
              "        -3.55147744e-02,  0.00000000e+00, -5.93761980e-01],\n",
              "       [-9.30211730e-01, -4.20159075e-01,  1.93383740e-01,\n",
              "         4.78806307e-01,  3.54703928e-01,  4.80850372e-01,\n",
              "        -7.65007438e-01,  0.00000000e+00, -5.93761980e-01],\n",
              "       [-6.50884185e-01, -5.55464540e-01,  4.01719830e-01,\n",
              "        -2.90375231e-01,  6.31364224e-02,  2.98127231e-01,\n",
              "        -3.55147744e-02,  0.00000000e+00, -5.93761980e-01],\n",
              "       [-4.22861699e-01,  4.88320475e-01,  1.55504450e-01,\n",
              "         1.28295064e+00, -4.15867338e-01,  5.72211943e-01,\n",
              "        -9.62578368e-01,  0.00000000e+00, -5.93761980e-01],\n",
              "       [ 4.49324309e-01,  2.56368249e-01,  6.08062274e-02,\n",
              "         3.03992321e-01, -9.57349849e-01,  6.97233040e-02,\n",
              "        -3.55147744e-02,  0.00000000e+00, -5.93761980e-01],\n",
              "       [ 2.11388845e+00, -3.42841667e-01,  4.77478409e-01,\n",
              "        -1.65392432e+00, -8.32392346e-01, -1.39206183e+00,\n",
              "         1.86420570e+00,  0.00000000e+00,  1.70031840e+00],\n",
              "       [-2.63245959e-01, -4.00829723e-01,  2.69142318e-01,\n",
              "         1.21302505e+00,  2.14839215e-02,  2.06765660e-01,\n",
              "        -2.78678996e-01,  0.00000000e+00,  3.50859352e-01],\n",
              "       [ 3.69516439e-01,  3.53015010e-01,  9.32029880e-01,\n",
              "        -4.56356511e-02, -7.07434844e-01,  6.97233040e-02,\n",
              "        -5.21843217e-01,  0.00000000e+00, -5.93761980e-01],\n",
              "       [ 9.01888937e-02, -9.42051582e-01,  1.55504450e-01,\n",
              "         2.42899433e-02,  5.00487681e-01,  6.63573514e-01,\n",
              "         8.60673362e-02,  0.00000000e+00, -5.93761980e-01],\n",
              "       [-4.17161137e-01,  9.52224925e-01,  5.34297343e-01,\n",
              "         1.63257861e+00, -1.37387486e+00,  6.63573514e-01,\n",
              "        -1.12975377e+00,  0.00000000e+00, -5.93761980e-01],\n",
              "       [-1.54935278e-01,  4.88320475e-01,  6.47935210e-01,\n",
              "        -6.05040406e-01,  5.62966433e-01,  4.35169587e-01,\n",
              "        -9.01787313e-01,  0.00000000e+00, -5.93761980e-01],\n",
              "       [ 7.79956913e-01,  1.57076419e+00,  3.44900897e-01,\n",
              "         9.42155377e-02, -1.33222236e+00,  2.98127231e-01,\n",
              "        -4.91447689e-01,  0.00000000e+00, -5.93761980e-01],\n",
              "       [ 2.36471319e+00,  2.18930346e+00,  8.56271301e-01,\n",
              "        -1.58399873e+00, -2.83171239e+00, -1.57478497e+00,\n",
              "         8.00362236e-01,  0.00000000e+00, -5.93761980e-01],\n",
              "       [-4.00059451e-01, -6.52111300e-01,  4.20659475e-01,\n",
              "         7.93471482e-01,  5.00487681e-01,  5.26531158e-01,\n",
              "        -7.80205202e-01,  0.00000000e+00, -5.93761980e-01],\n",
              "       [-1.03630219e-01, -8.26075469e-01,  4.96418053e-01,\n",
              "        -2.55412434e-01,  6.04618934e-01,  4.80850372e-01,\n",
              "        -9.63058298e-02,  0.00000000e+00, -5.93761980e-01],\n",
              "       [-9.30211730e-01,  5.84967235e-01,  2.88081963e-01,\n",
              "         6.88583090e-01,  5.62966433e-01, -4.78446120e-01,\n",
              "        -1.28173141e+00,  0.00000000e+00, -5.93761980e-01],\n",
              "       [ 2.22789970e+00,  5.46308531e-01,  8.75210946e-01,\n",
              "        -1.61896153e+00, -1.93618362e+00, -1.20933869e+00,\n",
              "         1.39307503e+00,  0.00000000e+00,  8.90642971e-01],\n",
              "       [ 5.17731055e-01, -5.74793892e-01,  4.96418053e-01,\n",
              "         7.58508684e-01, -4.36693588e-01,  3.89488802e-01,\n",
              "        -1.11503594e-01,  0.00000000e+00,  1.02558888e+00],\n",
              "       [-9.75816227e-01,  1.98380193e-01,  2.50202674e-01,\n",
              "        -1.06728539e-02, -1.03473581e-01,  2.98127231e-01,\n",
              "        -4.45854398e-01,  0.00000000e+00, -5.93761980e-01],\n",
              "       [-1.60635841e-01, -1.27065057e+00,  1.36564806e-01,\n",
              "         1.29178335e-01,  1.39601645e+00,  4.80850372e-01,\n",
              "        -1.11503594e-01,  0.00000000e+00,  2.15913447e-01],\n",
              "       [-6.73686434e-01, -5.74793892e-01,  2.69142318e-01,\n",
              "         9.68285468e-01,  5.00487681e-01,  6.63573514e-01,\n",
              "        -9.01787313e-01,  0.00000000e+00,  2.24010202e+00],\n",
              "       [-4.11460575e-01, -4.39488427e-01,  1.36564806e-01,\n",
              "         1.56265302e+00,  6.57671066e-04,  7.54935084e-01,\n",
              "        -6.73820855e-01,  0.00000000e+00, -5.93761980e-01],\n",
              "       [ 1.07290580e-01,  9.32895573e-01,  1.00778846e+00,\n",
              "         6.88583090e-01, -1.89453112e+00,  2.06765660e-01,\n",
              "        -6.28227564e-01,  0.00000000e+00,  1.43042659e+00],\n",
              "       [ 3.18211379e-01, -1.68877497e-01, -1.05663280e+00,\n",
              "        -2.20449637e-01,  2.71398927e-01,  2.52446445e-01,\n",
              "         6.78780126e-01,  0.00000000e+00, -5.93761980e-01],\n",
              "       [ 3.41013628e-01, -5.74793892e-01,  6.47935210e-01,\n",
              "        -8.14817189e-01, -9.15697348e-01,  6.63573514e-01,\n",
              "         5.11604724e-01,  0.00000000e+00,  2.37504792e+00],\n",
              "       [-6.56584747e-01, -7.10099357e-01, -6.43549187e+00,\n",
              "         1.70250421e+00,  2.41650272e+00,  2.17103943e+00,\n",
              "         2.35053415e+00,  0.00000000e+00, -5.93761980e-01]])"
            ]
          },
          "metadata": {
            "tags": []
          },
          "execution_count": 105
        }
      ]
    },
    {
      "cell_type": "code",
      "metadata": {
        "id": "LX91auZd9jMi"
      },
      "source": [
        ""
      ],
      "execution_count": 105,
      "outputs": []
    },
    {
      "cell_type": "markdown",
      "metadata": {
        "id": "ePdTGnjdKhrY"
      },
      "source": [
        "# Weight by Gini"
      ]
    },
    {
      "cell_type": "code",
      "metadata": {
        "id": "LxpIndRuKk4g"
      },
      "source": [
        "# Gini function อ้างอิงจาก https://github.com/oliviaguest/gini/blob/master/gini.py\n",
        "def gini(array):\n",
        "    \"\"\"Calculate the Gini coefficient of a numpy array.\"\"\"\n",
        "    # based on bottom eq:\n",
        "    # http://www.statsdirect.com/help/generatedimages/equations/equation154.svg\n",
        "    # from:\n",
        "    # http://www.statsdirect.com/help/default.htm#nonparametric_methods/gini.htm\n",
        "    # All values are treated equally, arrays must be 1d:\n",
        "    array = array.flatten()\n",
        "    if np.amin(array) < 0:\n",
        "        # Values cannot be negative:\n",
        "        array -= np.amin(array)\n",
        "    # Values cannot be 0:\n",
        "    array += 0.0000001\n",
        "    # Values must be sorted:\n",
        "    array = np.sort(array)\n",
        "    # Index per array element:\n",
        "    index = np.arange(1,array.shape[0]+1)\n",
        "    # Number of array elements:\n",
        "    n = array.shape[0]\n",
        "    # Gini coefficient:\n",
        "    return ((np.sum((2 * index - n  - 1) * array)) / (n * np.sum(array)))"
      ],
      "execution_count": 106,
      "outputs": []
    },
    {
      "cell_type": "code",
      "metadata": {
        "colab": {
          "base_uri": "https://localhost:8080/"
        },
        "id": "tl-UeiQ_OTP1",
        "outputId": "d217edaf-3b5c-478e-9ea7-141e5fe7f4cf"
      },
      "source": [
        "# หาค่า Gini ของ RI\n",
        "RI_arr = clean_data['RI']\n",
        "RI_arr = RI_arr.to_numpy()\n",
        "RI_arr\n",
        "gini(RI_arr)"
      ],
      "execution_count": 107,
      "outputs": [
        {
          "output_type": "execute_result",
          "data": {
            "text/plain": [
              "0.0006028958128986079"
            ]
          },
          "metadata": {
            "tags": []
          },
          "execution_count": 107
        }
      ]
    },
    {
      "cell_type": "code",
      "metadata": {
        "colab": {
          "base_uri": "https://localhost:8080/"
        },
        "id": "FsE0wEVuQUPn",
        "outputId": "d11a538a-3607-4eba-f2df-9b394d4ec2b2"
      },
      "source": [
        "# หาค่า Gini ของ Na\n",
        "Na_arr = clean_data['Na']\n",
        "Na_arr = Na_arr.to_numpy()\n",
        "Na_arr\n",
        "gini(Na_arr)"
      ],
      "execution_count": 108,
      "outputs": [
        {
          "output_type": "execute_result",
          "data": {
            "text/plain": [
              "0.019947281141655566"
            ]
          },
          "metadata": {
            "tags": []
          },
          "execution_count": 108
        }
      ]
    },
    {
      "cell_type": "code",
      "metadata": {
        "colab": {
          "base_uri": "https://localhost:8080/"
        },
        "id": "m3K1RJIaQiIv",
        "outputId": "b3bde2d1-5ec9-456a-b656-bdeba298b7b1"
      },
      "source": [
        "# หาค่า Gini ของ Mg\n",
        "Mg_arr = clean_data['Mg']\n",
        "Mg_arr = Mg_arr.to_numpy()\n",
        "Mg_arr\n",
        "gini(Mg_arr)"
      ],
      "execution_count": 109,
      "outputs": [
        {
          "output_type": "execute_result",
          "data": {
            "text/plain": [
              "0.06467460212530983"
            ]
          },
          "metadata": {
            "tags": []
          },
          "execution_count": 109
        }
      ]
    },
    {
      "cell_type": "code",
      "metadata": {
        "colab": {
          "base_uri": "https://localhost:8080/"
        },
        "id": "jgoYzR_IQiB1",
        "outputId": "6402b060-c0c8-4a52-a4fe-53076bba8295"
      },
      "source": [
        "# หาค่า Gini ของ Al\n",
        "Al_arr = clean_data['Al']\n",
        "Al_arr = Al_arr.to_numpy()\n",
        "Al_arr\n",
        "gini(Al_arr)"
      ],
      "execution_count": 110,
      "outputs": [
        {
          "output_type": "execute_result",
          "data": {
            "text/plain": [
              "0.11447360794408942"
            ]
          },
          "metadata": {
            "tags": []
          },
          "execution_count": 110
        }
      ]
    },
    {
      "cell_type": "code",
      "metadata": {
        "colab": {
          "base_uri": "https://localhost:8080/"
        },
        "id": "9hvgppjyQh7v",
        "outputId": "ec01fae7-2c05-42b5-dc66-1ea15e824c4b"
      },
      "source": [
        "# หาค่า Gini ของ Si\n",
        "Si_arr = clean_data['Si']\n",
        "Si_arr = Si_arr.to_numpy()\n",
        "Si_arr\n",
        "gini(Si_arr)"
      ],
      "execution_count": 111,
      "outputs": [
        {
          "output_type": "execute_result",
          "data": {
            "text/plain": [
              "0.0037314226489249497"
            ]
          },
          "metadata": {
            "tags": []
          },
          "execution_count": 111
        }
      ]
    },
    {
      "cell_type": "code",
      "metadata": {
        "colab": {
          "base_uri": "https://localhost:8080/"
        },
        "id": "ipBGMu1lQh1P",
        "outputId": "09ac87c1-0edf-49b9-c4af-d8fe5084ff84"
      },
      "source": [
        "# หาค่า Gini ของ K\n",
        "K_arr = clean_data['K']\n",
        "K_arr = K_arr.to_numpy()\n",
        "K_arr\n",
        "gini(K_arr)"
      ],
      "execution_count": 112,
      "outputs": [
        {
          "output_type": "execute_result",
          "data": {
            "text/plain": [
              "0.21187668554425876"
            ]
          },
          "metadata": {
            "tags": []
          },
          "execution_count": 112
        }
      ]
    },
    {
      "cell_type": "code",
      "metadata": {
        "colab": {
          "base_uri": "https://localhost:8080/"
        },
        "id": "JydPE15xQhut",
        "outputId": "e6968599-4b9c-4c80-ba79-e2327f8af2d0"
      },
      "source": [
        "# หาค่า Gini ของ Ca\n",
        "Ca_arr = clean_data['Ca']\n",
        "Ca_arr = Ca_arr.to_numpy()\n",
        "Ca_arr\n",
        "gini(Ca_arr)"
      ],
      "execution_count": 113,
      "outputs": [
        {
          "output_type": "execute_result",
          "data": {
            "text/plain": [
              "0.03976658446545931"
            ]
          },
          "metadata": {
            "tags": []
          },
          "execution_count": 113
        }
      ]
    },
    {
      "cell_type": "code",
      "metadata": {
        "colab": {
          "base_uri": "https://localhost:8080/"
        },
        "id": "EXnKJhgXQhnW",
        "outputId": "180ee7ad-825b-40ad-a753-2c33598d662e"
      },
      "source": [
        "# หาค่า Gini ของ Ba\n",
        "# Ba ดูไม่ได้เพราะเหมือนว่าข้อมูลจะมีขนาดเล็กมากๆๆ เลยถูกมองว่าเป็น Nan\n",
        "Ba_arr = clean_data['Ba']\n",
        "Ba_arr = Ba_arr.to_numpy()\n",
        "Ba_arr\n",
        "gini(Ba_arr)"
      ],
      "execution_count": 114,
      "outputs": [
        {
          "output_type": "execute_result",
          "data": {
            "text/plain": [
              "0.0"
            ]
          },
          "metadata": {
            "tags": []
          },
          "execution_count": 114
        }
      ]
    },
    {
      "cell_type": "code",
      "metadata": {
        "colab": {
          "base_uri": "https://localhost:8080/"
        },
        "id": "i52deOl4RMIu",
        "outputId": "e029610f-fe2a-45f0-81ab-70c29f1a94f8"
      },
      "source": [
        "# ลองดูค่าของ Ba ที่ทำให้มีปัญหา\n",
        "Ba_arr = clean_data['Ba']\n",
        "Ba_arr = Ba_arr.to_numpy()\n",
        "Ba_arr"
      ],
      "execution_count": 115,
      "outputs": [
        {
          "output_type": "execute_result",
          "data": {
            "text/plain": [
              "array([0., 0., 0., 0., 0., 0., 0., 0., 0., 0., 0., 0., 0., 0., 0., 0., 0.,\n",
              "       0., 0., 0., 0., 0., 0., 0., 0., 0., 0., 0., 0., 0., 0., 0., 0., 0.,\n",
              "       0., 0., 0., 0., 0., 0., 0., 0., 0., 0., 0., 0., 0., 0., 0., 0., 0.,\n",
              "       0., 0., 0., 0., 0., 0., 0., 0., 0., 0., 0., 0., 0., 0., 0., 0., 0.,\n",
              "       0., 0., 0., 0., 0., 0., 0., 0., 0., 0., 0., 0., 0., 0., 0., 0., 0.,\n",
              "       0., 0., 0., 0., 0., 0., 0., 0., 0., 0., 0., 0., 0., 0., 0., 0., 0.,\n",
              "       0., 0., 0., 0., 0., 0., 0., 0., 0., 0., 0., 0., 0., 0., 0., 0., 0.,\n",
              "       0., 0., 0., 0., 0., 0., 0., 0., 0., 0., 0., 0., 0., 0., 0., 0., 0.])"
            ]
          },
          "metadata": {
            "tags": []
          },
          "execution_count": 115
        }
      ]
    },
    {
      "cell_type": "code",
      "metadata": {
        "colab": {
          "base_uri": "https://localhost:8080/"
        },
        "id": "TtpHkFa_L7Nt",
        "outputId": "d565d4aa-bbe9-48f9-8978-85293546cc0d"
      },
      "source": [
        "# หาค่า Gini ของ Fe\n",
        "Fe_arr = clean_data['Fe']\n",
        "Fe_arr = Fe_arr.to_numpy()\n",
        "Fe_arr\n",
        "gini(Fe_arr)"
      ],
      "execution_count": 116,
      "outputs": [
        {
          "output_type": "execute_result",
          "data": {
            "text/plain": [
              "0.7632138490980203"
            ]
          },
          "metadata": {
            "tags": []
          },
          "execution_count": 116
        }
      ]
    },
    {
      "cell_type": "code",
      "metadata": {
        "id": "yvFv-EbyRQ2p"
      },
      "source": [
        "#จะเห็นได้ว่าโดยรวมแล้วค่าของ Fe คือตัวที่มีค่าสูงที่สุด หรือก็คือตัวที่เราควรตัดออกเพราะมันมีความเหลือมล้ำของข้อมูล"
      ],
      "execution_count": 117,
      "outputs": []
    },
    {
      "cell_type": "code",
      "metadata": {
        "colab": {
          "base_uri": "https://localhost:8080/"
        },
        "id": "0MqKrPCUTxHf",
        "outputId": "6a7c3ce2-7cbb-4189-82d4-4adc718512fe"
      },
      "source": [
        "clean_data.columns"
      ],
      "execution_count": 118,
      "outputs": [
        {
          "output_type": "execute_result",
          "data": {
            "text/plain": [
              "Index(['ID', 'RI', 'Na', 'Mg', 'Al', 'Si', 'K', 'Ca', 'Ba', 'Fe', 'Type'], dtype='object')"
            ]
          },
          "metadata": {
            "tags": []
          },
          "execution_count": 118
        }
      ]
    },
    {
      "cell_type": "code",
      "metadata": {
        "colab": {
          "base_uri": "https://localhost:8080/",
          "height": 414
        },
        "id": "czbs8ObuSwwZ",
        "outputId": "c19d89be-45c4-4b8a-d189-d7df8fa19141"
      },
      "source": [
        "# เก็บข้อมูลที่ตัด Fe ทิ้งแล้วไว้ที่ gini_df\n",
        "gini_df = clean_data[['ID', 'RI', 'Na', 'Mg', 'Al', 'Si', 'K', 'Ca', 'Ba', 'Type']]\n",
        "gini_df"
      ],
      "execution_count": 119,
      "outputs": [
        {
          "output_type": "execute_result",
          "data": {
            "text/html": [
              "<div>\n",
              "<style scoped>\n",
              "    .dataframe tbody tr th:only-of-type {\n",
              "        vertical-align: middle;\n",
              "    }\n",
              "\n",
              "    .dataframe tbody tr th {\n",
              "        vertical-align: top;\n",
              "    }\n",
              "\n",
              "    .dataframe thead th {\n",
              "        text-align: right;\n",
              "    }\n",
              "</style>\n",
              "<table border=\"1\" class=\"dataframe\">\n",
              "  <thead>\n",
              "    <tr style=\"text-align: right;\">\n",
              "      <th></th>\n",
              "      <th>ID</th>\n",
              "      <th>RI</th>\n",
              "      <th>Na</th>\n",
              "      <th>Mg</th>\n",
              "      <th>Al</th>\n",
              "      <th>Si</th>\n",
              "      <th>K</th>\n",
              "      <th>Ca</th>\n",
              "      <th>Ba</th>\n",
              "      <th>Type</th>\n",
              "    </tr>\n",
              "  </thead>\n",
              "  <tbody>\n",
              "    <tr>\n",
              "      <th>0</th>\n",
              "      <td>1</td>\n",
              "      <td>1.52101</td>\n",
              "      <td>13.64</td>\n",
              "      <td>4.49</td>\n",
              "      <td>1.10</td>\n",
              "      <td>71.78</td>\n",
              "      <td>0.06</td>\n",
              "      <td>8.75</td>\n",
              "      <td>0.0</td>\n",
              "      <td>1.0</td>\n",
              "    </tr>\n",
              "    <tr>\n",
              "      <th>1</th>\n",
              "      <td>2</td>\n",
              "      <td>1.51761</td>\n",
              "      <td>13.89</td>\n",
              "      <td>3.60</td>\n",
              "      <td>1.36</td>\n",
              "      <td>72.73</td>\n",
              "      <td>0.48</td>\n",
              "      <td>7.83</td>\n",
              "      <td>0.0</td>\n",
              "      <td>1.0</td>\n",
              "    </tr>\n",
              "    <tr>\n",
              "      <th>2</th>\n",
              "      <td>3</td>\n",
              "      <td>1.51618</td>\n",
              "      <td>13.53</td>\n",
              "      <td>3.55</td>\n",
              "      <td>1.54</td>\n",
              "      <td>72.99</td>\n",
              "      <td>0.39</td>\n",
              "      <td>7.78</td>\n",
              "      <td>0.0</td>\n",
              "      <td>1.0</td>\n",
              "    </tr>\n",
              "    <tr>\n",
              "      <th>3</th>\n",
              "      <td>4</td>\n",
              "      <td>1.51766</td>\n",
              "      <td>13.21</td>\n",
              "      <td>3.69</td>\n",
              "      <td>1.29</td>\n",
              "      <td>72.61</td>\n",
              "      <td>0.57</td>\n",
              "      <td>8.22</td>\n",
              "      <td>0.0</td>\n",
              "      <td>1.0</td>\n",
              "    </tr>\n",
              "    <tr>\n",
              "      <th>4</th>\n",
              "      <td>5</td>\n",
              "      <td>1.51742</td>\n",
              "      <td>13.27</td>\n",
              "      <td>3.62</td>\n",
              "      <td>1.24</td>\n",
              "      <td>73.08</td>\n",
              "      <td>0.55</td>\n",
              "      <td>8.07</td>\n",
              "      <td>0.0</td>\n",
              "      <td>1.0</td>\n",
              "    </tr>\n",
              "    <tr>\n",
              "      <th>...</th>\n",
              "      <td>...</td>\n",
              "      <td>...</td>\n",
              "      <td>...</td>\n",
              "      <td>...</td>\n",
              "      <td>...</td>\n",
              "      <td>...</td>\n",
              "      <td>...</td>\n",
              "      <td>...</td>\n",
              "      <td>...</td>\n",
              "      <td>...</td>\n",
              "    </tr>\n",
              "    <tr>\n",
              "      <th>176</th>\n",
              "      <td>177</td>\n",
              "      <td>1.51905</td>\n",
              "      <td>14.00</td>\n",
              "      <td>2.39</td>\n",
              "      <td>1.56</td>\n",
              "      <td>72.37</td>\n",
              "      <td>0.00</td>\n",
              "      <td>9.57</td>\n",
              "      <td>0.0</td>\n",
              "      <td>6.0</td>\n",
              "    </tr>\n",
              "    <tr>\n",
              "      <th>177</th>\n",
              "      <td>178</td>\n",
              "      <td>1.51937</td>\n",
              "      <td>13.79</td>\n",
              "      <td>2.41</td>\n",
              "      <td>1.19</td>\n",
              "      <td>72.76</td>\n",
              "      <td>0.00</td>\n",
              "      <td>9.77</td>\n",
              "      <td>0.0</td>\n",
              "      <td>6.0</td>\n",
              "    </tr>\n",
              "    <tr>\n",
              "      <th>178</th>\n",
              "      <td>179</td>\n",
              "      <td>1.51829</td>\n",
              "      <td>14.46</td>\n",
              "      <td>2.24</td>\n",
              "      <td>1.62</td>\n",
              "      <td>72.38</td>\n",
              "      <td>0.00</td>\n",
              "      <td>9.26</td>\n",
              "      <td>0.0</td>\n",
              "      <td>6.0</td>\n",
              "    </tr>\n",
              "    <tr>\n",
              "      <th>179</th>\n",
              "      <td>180</td>\n",
              "      <td>1.51852</td>\n",
              "      <td>14.09</td>\n",
              "      <td>2.19</td>\n",
              "      <td>1.66</td>\n",
              "      <td>72.67</td>\n",
              "      <td>0.00</td>\n",
              "      <td>9.32</td>\n",
              "      <td>0.0</td>\n",
              "      <td>6.0</td>\n",
              "    </tr>\n",
              "    <tr>\n",
              "      <th>181</th>\n",
              "      <td>182</td>\n",
              "      <td>1.51888</td>\n",
              "      <td>14.99</td>\n",
              "      <td>0.78</td>\n",
              "      <td>1.74</td>\n",
              "      <td>72.50</td>\n",
              "      <td>0.00</td>\n",
              "      <td>9.95</td>\n",
              "      <td>0.0</td>\n",
              "      <td>6.0</td>\n",
              "    </tr>\n",
              "  </tbody>\n",
              "</table>\n",
              "<p>136 rows × 10 columns</p>\n",
              "</div>"
            ],
            "text/plain": [
              "      ID       RI     Na    Mg    Al     Si     K    Ca   Ba Type\n",
              "0      1  1.52101  13.64  4.49  1.10  71.78  0.06  8.75  0.0  1.0\n",
              "1      2  1.51761  13.89  3.60  1.36  72.73  0.48  7.83  0.0  1.0\n",
              "2      3  1.51618  13.53  3.55  1.54  72.99  0.39  7.78  0.0  1.0\n",
              "3      4  1.51766  13.21  3.69  1.29  72.61  0.57  8.22  0.0  1.0\n",
              "4      5  1.51742  13.27  3.62  1.24  73.08  0.55  8.07  0.0  1.0\n",
              "..   ...      ...    ...   ...   ...    ...   ...   ...  ...  ...\n",
              "176  177  1.51905  14.00  2.39  1.56  72.37  0.00  9.57  0.0  6.0\n",
              "177  178  1.51937  13.79  2.41  1.19  72.76  0.00  9.77  0.0  6.0\n",
              "178  179  1.51829  14.46  2.24  1.62  72.38  0.00  9.26  0.0  6.0\n",
              "179  180  1.51852  14.09  2.19  1.66  72.67  0.00  9.32  0.0  6.0\n",
              "181  182  1.51888  14.99  0.78  1.74  72.50  0.00  9.95  0.0  6.0\n",
              "\n",
              "[136 rows x 10 columns]"
            ]
          },
          "metadata": {
            "tags": []
          },
          "execution_count": 119
        }
      ]
    },
    {
      "cell_type": "code",
      "metadata": {
        "id": "9RJJ1AcPUEWJ",
        "colab": {
          "base_uri": "https://localhost:8080/",
          "height": 294
        },
        "outputId": "9e2ad374-b6bf-4d72-8f2a-d37eec09f6ac"
      },
      "source": [
        "# other way to find the best feature for comparation\n",
        "# Random Forest\n",
        "input_vars = ['RI', 'Na', 'Mg', 'Al', 'Si', 'K', 'Ca', 'Ba', 'Fe']\n",
        "from sklearn.ensemble import RandomForestRegressor\n",
        "model = RandomForestRegressor(max_depth=10,n_estimators=100)\n",
        "model.fit(clean_data[input_vars],clean_data.Type)\n",
        "\n",
        "# ต้องการให้เหลือ 3 ปัจจัย\n",
        "n_features = 7\n",
        "\n",
        "# Plot feature importance\n",
        "features = clean_data[input_vars].columns\n",
        "importances = model.feature_importances_\n",
        "indices = np.argsort(importances)[-n_features:]  # sort top n features\n",
        "plt.title('Feature Importances')\n",
        "plt.barh(range(len(indices)), importances[indices], color='b', align='center')\n",
        "plt.yticks(range(len(indices)), [features[i] for i in indices])\n",
        "plt.xlabel('Relative Importance')\n",
        "plt.show()"
      ],
      "execution_count": 120,
      "outputs": [
        {
          "output_type": "display_data",
          "data": {
            "image/png": "[encoded data removed]",
            "text/plain": [
              "<Figure size 432x288 with 1 Axes>"
            ]
          },
          "metadata": {
            "tags": [],
            "needs_background": "light"
          }
        }
      ]
    },
    {
      "cell_type": "code",
      "metadata": {
        "id": "VL0ahlpnLeuC"
      },
      "source": [
        "# โอเค จะเห็นได้ว่า Fe เป็นตัวที่ตำที่สุดอยู่ดี "
      ],
      "execution_count": 121,
      "outputs": []
    },
    {
      "cell_type": "code",
      "metadata": {
        "colab": {
          "base_uri": "https://localhost:8080/"
        },
        "id": "AnZHy4OdP1IF",
        "outputId": "c788c0b5-d964-4118-a25c-a684b859e5d2"
      },
      "source": [
        "X_train.shape"
      ],
      "execution_count": 122,
      "outputs": [
        {
          "output_type": "execute_result",
          "data": {
            "text/plain": [
              "(95, 9)"
            ]
          },
          "metadata": {
            "tags": []
          },
          "execution_count": 122
        }
      ]
    },
    {
      "cell_type": "code",
      "metadata": {
        "colab": {
          "base_uri": "https://localhost:8080/"
        },
        "id": "JALtZnOZQtO5",
        "outputId": "12daaa19-2023-486b-8a8a-7957c187bbe4"
      },
      "source": [
        "X_train"
      ],
      "execution_count": 123,
      "outputs": [
        {
          "output_type": "execute_result",
          "data": {
            "text/plain": [
              "array([[-1.03630219e-01, -1.19333316e+00,  3.63840541e-01,\n",
              "        -1.15561245e-01,  1.18775395e+00,  3.89488802e-01,\n",
              "        -1.87492413e-01,  0.00000000e+00, -5.93761980e-01],\n",
              "       [ 8.44883316e-02,  5.26979179e-01, -7.17712848e-02,\n",
              "         1.00324826e+00, -1.62378986e+00,  3.43808016e-01,\n",
              "         2.83638266e-01,  0.00000000e+00,  6.20751161e-01],\n",
              "       [-9.75816227e-01,  3.72344362e-01,  3.98729360e-03,\n",
              "        -4.30226420e-01, -6.18210802e-02,  4.35169587e-01,\n",
              "        -4.61052162e-01,  0.00000000e+00, -5.93761980e-01],\n",
              "       [-1.05562410e+00, -4.00829723e-01,  3.07021607e-01,\n",
              "         6.88583090e-01,  8.12881438e-01,  1.02901980e+00,\n",
              "        -1.09935824e+00,  0.00000000e+00, -5.93761980e-01],\n",
              "       [-1.18103646e+00,  3.15577107e+00,  5.15357698e-01,\n",
              "         1.38783903e+00, -1.76957362e+00, -1.52910418e+00,\n",
              "        -1.92003749e+00,  0.00000000e+00,  1.02558888e+00],\n",
              "       [ 1.60815858e-02, -1.05802769e+00,  5.15357698e-01,\n",
              "        -6.40003203e-01,  8.12881438e-01,  5.26531158e-01,\n",
              "         1.16462864e-01,  0.00000000e+00, -5.93761980e-01],\n",
              "       [-1.08982747e+00, -4.00829723e-01,  3.44900897e-01,\n",
              "         5.83694698e-01,  8.33707688e-01,  8.91977440e-01,\n",
              "        -1.00817166e+00,  0.00000000e+00, -5.93761980e-01],\n",
              "       [ 2.51862837e+00, -3.35720326e-02,  7.04754144e-01,\n",
              "        -1.93362670e+00, -1.51965861e+00, -1.66614654e+00,\n",
              "         2.12256769e+00,  0.00000000e+00, -5.93761980e-01],\n",
              "       [-6.10980250e-01, -8.45404822e-01,  2.31263029e-01,\n",
              "         6.88583090e-01,  1.33353770e+00,  7.54935084e-01,\n",
              "        -1.09935824e+00,  0.00000000e+00, -5.93761980e-01],\n",
              "       [-1.07272578e+00, -2.65524258e-01,  3.63840541e-01,\n",
              "         6.18657496e-01,  7.92055187e-01,  8.00615870e-01,\n",
              "        -1.20574259e+00,  0.00000000e+00, -5.93761980e-01],\n",
              "       [-8.65285328e-02, -3.35720326e-02,  5.53236987e-01,\n",
              "        -1.85486840e-01, -2.28431084e-01,  3.43808016e-01,\n",
              "        -6.13029800e-01,  0.00000000e+00, -5.93761980e-01],\n",
              "       [ 1.69996764e-01,  1.98380193e-01,  8.56271301e-01,\n",
              "        -3.25338029e-01,  1.25615174e-01,  1.15404089e-01,\n",
              "        -7.65007438e-01,  0.00000000e+00, -5.93761980e-01],\n",
              "       [-2.17641462e-01, -1.98583660e+00, -2.80107376e-01,\n",
              "        -6.40003203e-01,  1.72923646e+00,  5.72211943e-01,\n",
              "         4.20418141e-01,  0.00000000e+00,  2.64493973e+00],\n",
              "       [-1.43534154e-01, -1.49548145e-01,  4.01719830e-01,\n",
              "        -1.02459397e+00,  1.08362269e+00,  3.43808016e-01,\n",
              "        -5.82634272e-01,  0.00000000e+00, -5.93761980e-01],\n",
              "       [-5.25471818e-01, -1.07735705e+00, -9.80874226e-01,\n",
              "         1.28295064e+00,  1.02114394e+00,  1.07470058e+00,\n",
              "        -1.26701357e-01,  0.00000000e+00, -5.93761980e-01],\n",
              "       [-9.58714541e-01,  1.33881197e+00,  2.31263029e-01,\n",
              "        -3.25338029e-01,  3.33877678e-01, -5.69807691e-01,\n",
              "        -1.03856719e+00,  0.00000000e+00,  1.29548068e+00],\n",
              "       [-6.10980250e-01, -6.90770005e-01,  3.07021607e-01,\n",
              "         1.03821106e+00,  8.75360189e-01,  7.09254299e-01,\n",
              "        -9.62578368e-01,  0.00000000e+00, -5.93761980e-01],\n",
              "       [ 6.31742297e-01,  4.49661770e-01,  8.18392012e-01,\n",
              "        -2.90375231e-01, -3.53388586e-01,  3.43808016e-01,\n",
              "        -6.28227564e-01,  0.00000000e+00,  1.29548068e+00],\n",
              "       [-1.07842635e+00, -7.10099357e-01,  2.31263029e-01,\n",
              "         2.71642533e+00, -1.24299832e-01,  8.91977440e-01,\n",
              "        -9.92973896e-01,  0.00000000e+00, -5.93761980e-01],\n",
              "       [-7.19290931e-01,  3.53015010e-01, -1.49523510e-02,\n",
              "        -2.20449637e-01, -1.65952332e-01,  1.15404089e-01,\n",
              "         4.04740447e-02,  0.00000000e+00, -5.93761980e-01],\n",
              "       [ 1.41493953e-01, -4.39488427e-01,  7.61573078e-01,\n",
              "        -9.19705581e-01,  7.29576436e-01,  2.98127231e-01,\n",
              "        -3.69865579e-01,  0.00000000e+00,  1.02558888e+00],\n",
              "       [ 2.72606882e-01,  2.38259698e+00, -2.19301148e+00,\n",
              "         9.68285468e-01, -7.07434844e-01, -2.25999675e+00,\n",
              "         9.67537638e-01,  0.00000000e+00, -5.93761980e-01],\n",
              "       [-5.36872942e-01,  5.08667161e-03,  2.69142318e-01,\n",
              "         4.78806307e-01,  2.50572676e-01,  2.98127231e-01,\n",
              "        -7.95402966e-01,  0.00000000e+00, -5.93761980e-01],\n",
              "       [-6.33782499e-01,  2.44160237e-02,  3.25961252e-01,\n",
              "         1.29178335e-01, -4.09948298e-02,  2.98127231e-01,\n",
              "        -2.78678996e-01,  0.00000000e+00,  7.55697066e-01],\n",
              "       [-6.62285309e-01, -1.68877497e-01,  9.86855167e-02,\n",
              "         1.45776463e+00, -4.99172339e-01,  4.80850372e-01,\n",
              "        -3.69865579e-01,  0.00000000e+00,  1.70031840e+00],\n",
              "       [-1.09552803e+00, -6.71440653e-01,  6.08062274e-02,\n",
              "         1.99103929e-01,  1.16692770e+00,  8.91977440e-01,\n",
              "        -8.71391785e-01,  0.00000000e+00,  2.64493973e+00],\n",
              "       [ 1.97137440e+00,  2.11198605e+00,  9.50969524e-01,\n",
              "        -1.79377551e+00, -2.54014488e+00, -2.25999675e+00,\n",
              "         1.31708621e+00,  0.00000000e+00, -5.93761980e-01],\n",
              "       [ 2.72606882e-01,  2.44160237e-02,  9.50969524e-01,\n",
              "         2.34066727e-01, -8.11566096e-01,  2.52446445e-01,\n",
              "        -4.76249926e-01,  0.00000000e+00,  7.55697066e-01],\n",
              "       [ 6.65945670e-01,  6.81613996e-01, -9.07109294e-02,\n",
              "        -3.95263623e-01, -1.33222236e+00,  4.35169587e-01,\n",
              "         4.35615904e-01,  0.00000000e+00, -5.93761980e-01],\n",
              "       [-7.36392617e-01,  6.42955292e-01,  3.25961252e-01,\n",
              "         4.43843510e-01, -5.61651091e-01,  6.63573514e-01,\n",
              "        -1.00817166e+00,  0.00000000e+00, -5.93761980e-01],\n",
              "       [-1.15031343e-01,  1.28082391e+00,  3.82780186e-01,\n",
              "         5.92527405e-02,  2.14839215e-02, -6.73190521e-02,\n",
              "        -1.20574259e+00,  0.00000000e+00, -5.93761980e-01],\n",
              "       [ 3.75217001e-01, -2.46194906e-01,  1.08354704e+00,\n",
              "        -5.35114812e-01, -5.82477341e-01,  4.80850372e-01,\n",
              "        -2.93876760e-01,  0.00000000e+00, -5.93761980e-01],\n",
              "       [-7.70595990e-01, -3.62171019e-01,  3.98729360e-03,\n",
              "        -2.90375231e-01,  6.04618934e-01,  1.15404089e-01,\n",
              "        -6.59103021e-02,  0.00000000e+00, -5.93761980e-01],\n",
              "       [ 8.25561410e-01, -5.29013847e-02, -1.28590219e-01,\n",
              "        -2.20449637e-01, -7.49087344e-01,  4.80850372e-01,\n",
              "         7.85164472e-01,  0.00000000e+00,  8.90642971e-01],\n",
              "       [-2.23342024e-01,  8.24040801e-02,  4.20659475e-01,\n",
              "        -3.60300826e-01,  7.50402687e-01,  2.52446445e-01,\n",
              "        -8.40996258e-01,  0.00000000e+00, -5.93761980e-01],\n",
              "       [ 7.40052978e-01,  1.30015326e+00,  6.28995566e-01,\n",
              "        -5.70077609e-01, -1.24891735e+00, -1.98591204e+00,\n",
              "         4.05220377e-01,  0.00000000e+00, -5.93761980e-01],\n",
              "       [ 6.77346795e-01,  5.07649827e-01,  1.55504450e-01,\n",
              "         2.42899433e-02, -1.60296361e+00,  2.52446445e-01,\n",
              "         5.72395779e-01,  0.00000000e+00, -5.93761980e-01],\n",
              "       [-2.17641462e-01,  1.40392136e-01,  3.82780186e-01,\n",
              "        -7.09928798e-01,  7.71228937e-01,  3.89488802e-01,\n",
              "        -6.89018619e-01,  0.00000000e+00, -5.93761980e-01],\n",
              "       [ 2.22789970e+00,  4.88320475e-01,  6.47935210e-01,\n",
              "        -1.54903593e+00, -1.47800611e+00, -1.43774261e+00,\n",
              "         1.49945937e+00,  0.00000000e+00,  3.50859352e-01],\n",
              "       [ 7.62855227e-01, -9.61380934e-01, -2.93165762e+00,\n",
              "         1.80739260e+00, -6.18210802e-02,  4.80850372e-01,\n",
              "         2.22895204e+00,  0.00000000e+00, -5.93761980e-01],\n",
              "       [ 1.81397888e-01,  3.91673714e-01,  1.10248668e+00,\n",
              "        -5.70077609e-01, -4.78346089e-01,  3.89488802e-01,\n",
              "        -7.19414147e-01,  0.00000000e+00, -5.93761980e-01],\n",
              "       [ 1.82315979e+00,  7.97590108e-01,  2.06840856e+00,\n",
              "        -8.49779987e-01, -1.95700987e+00, -1.98591204e+00,\n",
              "         1.92451683e-01,  0.00000000e+00, -5.93761980e-01],\n",
              "       [ 6.73866451e-02, -8.45404822e-01,  1.93383740e-01,\n",
              "        -7.79854392e-01,  6.46271434e-01,  6.63573514e-01,\n",
              "         2.22847211e-01,  0.00000000e+00, -5.93761980e-01],\n",
              "       [-7.51274085e-02, -1.11601575e+00,  3.07021607e-01,\n",
              "        -1.50524043e-01,  7.50402687e-01,  5.26531158e-01,\n",
              "         1.01265100e-01,  0.00000000e+00,  1.29548068e+00],\n",
              "       [ 2.11388845e+00, -3.42841667e-01,  4.77478409e-01,\n",
              "        -1.65392432e+00, -1.04065485e+00, -1.39206183e+00,\n",
              "         1.86420570e+00,  0.00000000e+00,  1.70031840e+00],\n",
              "       [-7.76296552e-01,  3.33685658e-01,  1.74444095e-01,\n",
              "         6.18657496e-01, -1.45126082e-01,  8.00615870e-01,\n",
              "        -8.25798494e-01,  0.00000000e+00,  7.55697066e-01],\n",
              "       [-1.49234716e-01, -1.00003964e+00,  4.18665828e-02,\n",
              "        -5.00152015e-01,  1.00031769e+00,  4.35169587e-01,\n",
              "         2.52762809e-02,  0.00000000e+00, -5.93761980e-01],\n",
              "       [-9.79296570e-02, -4.78147131e-01,  2.69142318e-01,\n",
              "        -4.65189217e-01,  5.83792683e-01,  7.09254299e-01,\n",
              "        -1.41899121e-01,  0.00000000e+00, -5.93761980e-01],\n",
              "       [-1.20953928e+00,  2.44160237e-02,  1.74444095e-01,\n",
              "         4.43843510e-01,  1.10444894e+00, -5.24126906e-01,\n",
              "        -9.01787313e-01,  0.00000000e+00, -5.93761980e-01],\n",
              "       [ 1.03810237e-02, -1.03869834e+00,  2.69142318e-01,\n",
              "        -1.06728539e-02,  4.79661431e-01,  3.43808016e-01,\n",
              "         1.92451683e-01,  0.00000000e+00, -5.93761980e-01],\n",
              "       [ 3.58115314e-01,  4.37453758e-02,  6.85814500e-01,\n",
              "        -8.05984483e-02, -6.65782343e-01,  3.89488802e-01,\n",
              "        -3.09074523e-01,  0.00000000e+00, -5.93761980e-01],\n",
              "       [ 2.11388845e+00, -2.07536202e-01,  3.44900897e-01,\n",
              "        -1.54903593e+00, -1.08230735e+00, -1.20933869e+00,\n",
              "         1.81861241e+00,  0.00000000e+00,  1.56537249e+00],\n",
              "       [-5.19771256e-01,  1.98380193e-01,  2.69142318e-01,\n",
              "         9.33322670e-01, -3.74214837e-01,  8.46296655e-01,\n",
              "        -7.80205202e-01,  0.00000000e+00, -5.93761980e-01],\n",
              "       [-4.96969007e-01, -7.10099357e-01,  3.44900897e-01,\n",
              "        -1.15561245e-01, -2.28431084e-01,  5.26531158e-01,\n",
              "         2.53242738e-01,  0.00000000e+00, -5.93761980e-01],\n",
              "       [-1.22094040e+00,  1.21062784e-01,  9.86855167e-02,\n",
              "        -4.65189217e-01,  4.23101719e-02,  2.98127231e-01,\n",
              "        -8.11080659e-02,  0.00000000e+00, -5.93761980e-01],\n",
              "       [-1.24212249e-02,  7.97590108e-01,  4.77478409e-01,\n",
              "        -2.42310586e+00,  5.83792683e-01, -1.98591204e+00,\n",
              "         4.66011432e-01,  0.00000000e+00, -5.93761980e-01],\n",
              "       [-1.15031343e-01, -8.06746117e-01,  2.69142318e-01,\n",
              "        -3.95263623e-01,  1.08362269e+00,  3.89488802e-01,\n",
              "        -3.54667815e-01,  0.00000000e+00, -5.93761980e-01],\n",
              "       [ 8.88267594e-01,  1.08753039e+00, -1.87103752e+00,\n",
              "        -5.35114812e-01,  8.39626728e-02, -2.25999675e+00,\n",
              "         1.74262359e+00,  0.00000000e+00, -5.93761980e-01],\n",
              "       [-1.77737527e-01, -7.87416765e-01,  2.88081963e-01,\n",
              "         5.13769104e-01,  6.31364224e-02,  2.06765660e-01,\n",
              "        -1.57096885e-01,  0.00000000e+00,  1.97021021e+00],\n",
              "       [-1.94839213e-01, -7.48758061e-01,  1.93383740e-01,\n",
              "        -7.09928798e-01,  1.14610144e+00,  2.98127231e-01,\n",
              "        -1.11503594e-01,  0.00000000e+00, -5.93761980e-01],\n",
              "       [-1.54935278e-01,  3.14356305e-01,  4.96418053e-01,\n",
              "        -5.35114812e-01,  1.46441424e-01,  3.43808016e-01,\n",
              "        -5.37040981e-01,  0.00000000e+00,  8.90642971e-01],\n",
              "       [ 4.03719812e-01,  1.66741095e+00, -2.28770970e+00,\n",
              "         1.10813666e+00, -1.03473581e-01, -2.25999675e+00,\n",
              "         1.05872422e+00,  0.00000000e+00, -5.93761980e-01],\n",
              "       [ 2.25640251e+00, -5.29013847e-02,  5.34297343e-01,\n",
              "        -6.74966001e-01,  6.31364224e-02,  2.06765660e-01,\n",
              "        -1.57096885e-01,  0.00000000e+00, -5.93761980e-01],\n",
              "       [-8.67505547e-01, -1.00003964e+00, -1.28590219e-01,\n",
              "         5.13769104e-01,  1.16692770e+00,  8.00615870e-01,\n",
              "        -5.82634272e-01,  0.00000000e+00, -5.93761980e-01],\n",
              "       [-7.76296552e-01,  4.11003066e-01,  4.01719830e-01,\n",
              "         6.88583090e-01, -6.86608593e-01,  7.54935084e-01,\n",
              "        -9.01787313e-01,  0.00000000e+00, -5.93761980e-01],\n",
              "       [ 6.08940049e-01,  3.40705264e+00, -4.95819959e+00,\n",
              "         1.38783903e+00, -4.57519838e-01, -2.25999675e+00,\n",
              "         2.01618334e+00,  0.00000000e+00, -5.93761980e-01],\n",
              "       [-1.00431904e+00, -6.32781948e-01,  7.97458720e-02,\n",
              "         3.73917915e-01,  7.08750186e-01, -2.50042194e-01,\n",
              "        -5.37040981e-01,  0.00000000e+00, -5.93761980e-01],\n",
              "       [-1.07272578e+00,  4.37453758e-02,  9.86855167e-02,\n",
              "         3.03992321e-01,  9.37838940e-01,  5.26531158e-01,\n",
              "        -1.16014930e+00,  0.00000000e+00, -5.93761980e-01],\n",
              "       [-1.10122859e+00, -2.07536202e-01,  2.29269382e-02,\n",
              "         8.28434279e-01,  1.12527519e+00, -1.94023125e+00,\n",
              "        -3.54667815e-01,  0.00000000e+00,  1.97021021e+00],\n",
              "       [-2.57545397e-01, -8.64734174e-01,  4.20659475e-01,\n",
              "        -1.85486840e-01,  1.46441424e-01,  4.35169587e-01,\n",
              "         1.16462864e-01,  0.00000000e+00, -5.93761980e-01],\n",
              "       [ 7.05849605e-01,  1.49344678e+00, -1.90891681e+00,\n",
              "         7.58508684e-01, -7.28261094e-01, -2.25999675e+00,\n",
              "         1.43866832e+00,  0.00000000e+00, -5.93761980e-01],\n",
              "       [-2.12162922e+00,  1.97668059e+00, -5.83141689e-01,\n",
              "         2.57657414e+00, -9.15697348e-01,  2.76488964e+00,\n",
              "        -2.34557488e+00,  0.00000000e+00, -5.93761980e-01],\n",
              "       [-8.04799363e-01, -1.30930927e+00,  1.55504450e-01,\n",
              "         1.84235540e+00,  1.06279644e+00,  6.17892728e-01,\n",
              "        -8.25798494e-01,  0.00000000e+00,  6.20751161e-01],\n",
              "       [-3.43053829e-01, -6.90770005e-01,  1.55504450e-01,\n",
              "        -4.56356511e-02,  6.67097685e-01,  2.98127231e-01,\n",
              "        -2.93876760e-01,  0.00000000e+00, -5.93761980e-01],\n",
              "       [ 2.44452106e+00,  9.71554278e-01,  8.37331656e-01,\n",
              "        -2.17836628e+00, -1.99866237e+00, -1.48342340e+00,\n",
              "         1.69703030e+00,  0.00000000e+00, -5.93761980e-01],\n",
              "       [-1.08982747e+00,  2.44160237e-02, -1.09650574e-01,\n",
              "         4.43843510e-01,  7.92055187e-01, -4.78446120e-01,\n",
              "        -6.13029800e-01,  0.00000000e+00, -5.93761980e-01],\n",
              "       [ 1.93717103e+00,  1.55143484e+00,  6.85814500e-01,\n",
              "        -2.66784544e+00, -1.93618362e+00, -1.75750811e+00,\n",
              "         1.56025043e+00,  0.00000000e+00, -5.93761980e-01],\n",
              "       [-6.94268463e-02, -1.50260279e+00, -1.30284818e+00,\n",
              "        -1.85486840e-01,  2.04163021e+00,  2.98127231e-01,\n",
              "         6.63582362e-01,  0.00000000e+00,  2.64493973e+00],\n",
              "       [ 2.89708569e-01,  1.98380193e-01, -1.09650574e-01,\n",
              "         6.88583090e-01, -1.20726485e+00,  2.98127231e-01,\n",
              "         5.57198015e-01,  0.00000000e+00, -5.93761980e-01],\n",
              "       [ 5.00629368e-01, -7.22307369e-02, -5.28316402e-02,\n",
              "        -5.70077609e-01,  6.57671066e-04,  3.43808016e-01,\n",
              "         3.14033794e-01,  0.00000000e+00,  1.56537249e+00],\n",
              "       [ 1.70914854e+00,  1.06820104e+00, -2.11725290e+00,\n",
              "         3.03992321e-01, -1.51965861e+00, -2.16382668e-02,\n",
              "         1.86420570e+00,  0.00000000e+00,  1.70031840e+00],\n",
              "       [-8.78906671e-01, -4.39488427e-01,  3.44900897e-01,\n",
              "         6.88583090e-01,  2.29746426e-01,  5.26531158e-01,\n",
              "        -8.86589549e-01,  0.00000000e+00, -5.93761980e-01],\n",
              "       [ 2.95757165e+00,  1.59721489e-01,  3.44900897e-01,\n",
              "        -1.82873831e+00, -1.51965861e+00, -1.71182733e+00,\n",
              "         2.35053415e+00,  0.00000000e+00, -1.88924266e-01],\n",
              "       [-1.89138651e-01, -7.10099357e-01,  3.07021607e-01,\n",
              "        -2.55412434e-01,  1.02114394e+00,  2.06765660e-01,\n",
              "        -3.69865579e-01,  0.00000000e+00,  1.70031840e+00],\n",
              "       [-2.95229113e-02,  5.84967235e-01,  2.29269382e-02,\n",
              "         6.18657496e-01, -1.41552736e+00,  3.89488802e-01,\n",
              "         2.53242738e-01,  0.00000000e+00, -5.93761980e-01],\n",
              "       [ 2.21301823e-01, -1.17400381e+00, -1.20814996e+00,\n",
              "        -1.79377551e+00,  2.27071897e+00, -6.61169262e-01,\n",
              "         1.21070186e+00,  0.00000000e+00,  2.10515611e+00],\n",
              "       [-7.70595990e-01,  3.53015010e-01,  2.88081963e-01,\n",
              "        -3.25338029e-01,  1.88093925e-01,  8.46296655e-01,\n",
              "        -7.95402966e-01,  0.00000000e+00, -5.93761980e-01],\n",
              "       [-2.91748770e-01, -1.69589631e+00, -1.28390854e+00,\n",
              "         1.00324826e+00,  3.13051428e-01,  9.37658226e-01,\n",
              "         9.21944347e-01,  0.00000000e+00, -5.93761980e-01],\n",
              "       [-1.24212249e-02, -3.35720326e-02, -1.49523510e-02,\n",
              "        -4.56356511e-02,  8.39626728e-02,  4.35169587e-01,\n",
              "        -5.07125383e-02,  0.00000000e+00, -5.93761980e-01],\n",
              "       [-1.72036965e-01, -8.06746117e-01,  3.25961252e-01,\n",
              "         2.42899433e-02,  6.25445184e-01,  5.72211943e-01,\n",
              "        -5.07125383e-02,  0.00000000e+00, -5.93761980e-01],\n",
              "       [-1.19813815e+00, -9.80710286e-01,  1.17625161e-01,\n",
              "         7.58508684e-01,  1.00031769e+00,  8.00615870e-01,\n",
              "        -8.10600730e-01,  0.00000000e+00,  2.64493973e+00],\n",
              "       [ 1.36141425e+00,  1.45478808e+00, -3.87863985e+00,\n",
              "         1.00324826e+00, -1.99866237e+00, -4.78446120e-01,\n",
              "         2.94324694e+00,  0.00000000e+00,  1.83526430e+00],\n",
              "       [-1.08982747e+00, -7.87416765e-01,  2.31263029e-01,\n",
              "         1.94724379e+00,  2.92225177e-01,  8.91977440e-01,\n",
              "        -9.92973896e-01,  0.00000000e+00, -5.93761980e-01],\n",
              "       [-7.87697676e-01, -2.06315401e+00,  2.31263029e-01,\n",
              "         2.42899433e-02,  3.54703928e-01,  3.43808016e-01,\n",
              "        -1.41899121e-01,  0.00000000e+00, -5.93761980e-01],\n",
              "       [ 2.44104072e-01, -6.90770005e-01,  1.55504450e-01,\n",
              "        -1.85486840e-01,  4.79661431e-01,  4.80850372e-01,\n",
              "        -2.93876760e-01,  0.00000000e+00, -5.93761980e-01]])"
            ]
          },
          "metadata": {
            "tags": []
          },
          "execution_count": 123
        }
      ]
    },
    {
      "cell_type": "code",
      "metadata": {
        "colab": {
          "base_uri": "https://localhost:8080/"
        },
        "id": "vPixV9_hOBa1",
        "outputId": "ec5a056c-924d-4da0-d689-bdf94bf4e0af"
      },
      "source": [
        "# select Attribute เอา Fe ออก\n",
        "X_train = X_train[:, 0:8]\n",
        "X_train.shape"
      ],
      "execution_count": 124,
      "outputs": [
        {
          "output_type": "execute_result",
          "data": {
            "text/plain": [
              "(95, 8)"
            ]
          },
          "metadata": {
            "tags": []
          },
          "execution_count": 124
        }
      ]
    },
    {
      "cell_type": "code",
      "metadata": {
        "colab": {
          "base_uri": "https://localhost:8080/"
        },
        "id": "P0TNEFAzSzXM",
        "outputId": "a5e79792-9e09-4487-a6a4-a724d60eaa65"
      },
      "source": [
        "# select Attribute เอา Fe ออก\n",
        "X_test = X_test[:, 0:8]\n",
        "X_test.shape"
      ],
      "execution_count": 127,
      "outputs": [
        {
          "output_type": "execute_result",
          "data": {
            "text/plain": [
              "(41, 8)"
            ]
          },
          "metadata": {
            "tags": []
          },
          "execution_count": 127
        }
      ]
    },
    {
      "cell_type": "markdown",
      "metadata": {
        "id": "5V0sEvkBVhYw"
      },
      "source": [
        "# Knn"
      ]
    },
    {
      "cell_type": "code",
      "metadata": {
        "colab": {
          "base_uri": "https://localhost:8080/"
        },
        "id": "2IwcVKWTUEIk",
        "outputId": "3119a580-751b-463e-b9cb-7527015ccec3"
      },
      "source": [
        "# K = 5\n",
        "from sklearn.neighbors import KNeighborsClassifier\n",
        "# Create KNN classifier\n",
        "knn = KNeighborsClassifier(n_neighbors = 5)\n",
        "# Fit the classifier to the data\n",
        "knn.fit(X_train,y_train)"
      ],
      "execution_count": 128,
      "outputs": [
        {
          "output_type": "execute_result",
          "data": {
            "text/plain": [
              "KNeighborsClassifier(algorithm='auto', leaf_size=30, metric='minkowski',\n",
              "                     metric_params=None, n_jobs=None, n_neighbors=5, p=2,\n",
              "                     weights='uniform')"
            ]
          },
          "metadata": {
            "tags": []
          },
          "execution_count": 128
        }
      ]
    },
    {
      "cell_type": "code",
      "metadata": {
        "colab": {
          "base_uri": "https://localhost:8080/"
        },
        "id": "S5WpmjfSVotj",
        "outputId": "10c003c4-9cc5-4c3d-fb24-8346ae374221"
      },
      "source": [
        "#check accuracy of our model on the test data\n",
        "knn.score(X_test, y_test)"
      ],
      "execution_count": 129,
      "outputs": [
        {
          "output_type": "execute_result",
          "data": {
            "text/plain": [
              "0.7804878048780488"
            ]
          },
          "metadata": {
            "tags": []
          },
          "execution_count": 129
        }
      ]
    },
    {
      "cell_type": "code",
      "metadata": {
        "id": "JNk_KSP1Wymo",
        "colab": {
          "base_uri": "https://localhost:8080/"
        },
        "outputId": "1783eacc-0bfa-40ee-967b-2693c0cb9ef3"
      },
      "source": [
        "# K = 7 \n",
        "from sklearn.neighbors import KNeighborsClassifier\n",
        "# Create KNN classifier\n",
        "knn = KNeighborsClassifier(n_neighbors = 7)\n",
        "# Fit the classifier to the data\n",
        "knn.fit(X_train,y_train)"
      ],
      "execution_count": 132,
      "outputs": [
        {
          "output_type": "execute_result",
          "data": {
            "text/plain": [
              "KNeighborsClassifier(algorithm='auto', leaf_size=30, metric='minkowski',\n",
              "                     metric_params=None, n_jobs=None, n_neighbors=7, p=2,\n",
              "                     weights='uniform')"
            ]
          },
          "metadata": {
            "tags": []
          },
          "execution_count": 132
        }
      ]
    },
    {
      "cell_type": "code",
      "metadata": {
        "colab": {
          "base_uri": "https://localhost:8080/"
        },
        "id": "SYVNT18XS904",
        "outputId": "d488f338-d41f-4157-df41-6f2385c49b6f"
      },
      "source": [
        "#check accuracy of our model on the test data\n",
        "knn.score(X_test, y_test)"
      ],
      "execution_count": 133,
      "outputs": [
        {
          "output_type": "execute_result",
          "data": {
            "text/plain": [
              "0.7073170731707317"
            ]
          },
          "metadata": {
            "tags": []
          },
          "execution_count": 133
        }
      ]
    },
    {
      "cell_type": "code",
      "metadata": {
        "colab": {
          "base_uri": "https://localhost:8080/"
        },
        "id": "NW36hkh0S_fK",
        "outputId": "f74cfe3e-de32-45f6-e210-62118618bdf5"
      },
      "source": [
        "# K = 9\n",
        "from sklearn.neighbors import KNeighborsClassifier\n",
        "# Create KNN classifier\n",
        "knn = KNeighborsClassifier(n_neighbors = 9)\n",
        "# Fit the classifier to the data\n",
        "knn.fit(X_train,y_train)"
      ],
      "execution_count": 134,
      "outputs": [
        {
          "output_type": "execute_result",
          "data": {
            "text/plain": [
              "KNeighborsClassifier(algorithm='auto', leaf_size=30, metric='minkowski',\n",
              "                     metric_params=None, n_jobs=None, n_neighbors=9, p=2,\n",
              "                     weights='uniform')"
            ]
          },
          "metadata": {
            "tags": []
          },
          "execution_count": 134
        }
      ]
    },
    {
      "cell_type": "code",
      "metadata": {
        "colab": {
          "base_uri": "https://localhost:8080/"
        },
        "id": "lv4MClHmTjwS",
        "outputId": "5642696d-47db-4ba5-c55d-71676e87a22b"
      },
      "source": [
        "#check accuracy of our model on the test data\n",
        "knn.score(X_test, y_test)"
      ],
      "execution_count": 135,
      "outputs": [
        {
          "output_type": "execute_result",
          "data": {
            "text/plain": [
              "0.6829268292682927"
            ]
          },
          "metadata": {
            "tags": []
          },
          "execution_count": 135
        }
      ]
    },
    {
      "cell_type": "code",
      "metadata": {
        "colab": {
          "base_uri": "https://localhost:8080/"
        },
        "id": "oJYPmKCCTmWF",
        "outputId": "06e042c1-56bc-456c-e2a5-b20bad5c6a99"
      },
      "source": [
        "# K = 11\n",
        "from sklearn.neighbors import KNeighborsClassifier\n",
        "# Create KNN classifier\n",
        "knn = KNeighborsClassifier(n_neighbors = 11)\n",
        "# Fit the classifier to the data\n",
        "knn.fit(X_train,y_train)"
      ],
      "execution_count": 136,
      "outputs": [
        {
          "output_type": "execute_result",
          "data": {
            "text/plain": [
              "KNeighborsClassifier(algorithm='auto', leaf_size=30, metric='minkowski',\n",
              "                     metric_params=None, n_jobs=None, n_neighbors=11, p=2,\n",
              "                     weights='uniform')"
            ]
          },
          "metadata": {
            "tags": []
          },
          "execution_count": 136
        }
      ]
    },
    {
      "cell_type": "code",
      "metadata": {
        "colab": {
          "base_uri": "https://localhost:8080/"
        },
        "id": "x7FTyRvnTolP",
        "outputId": "82af4838-6735-4d37-cea7-9326096926b1"
      },
      "source": [
        "#check accuracy of our model on the test data\n",
        "knn.score(X_test, y_test)"
      ],
      "execution_count": 137,
      "outputs": [
        {
          "output_type": "execute_result",
          "data": {
            "text/plain": [
              "0.7073170731707317"
            ]
          },
          "metadata": {
            "tags": []
          },
          "execution_count": 137
        }
      ]
    },
    {
      "cell_type": "code",
      "metadata": {
        "id": "htQqNdKATrVI"
      },
      "source": [
        ""
      ],
      "execution_count": null,
      "outputs": []
    }
  ]
}