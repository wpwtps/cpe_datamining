{
  "nbformat": 4,
  "nbformat_minor": 0,
  "metadata": {
    "colab": {
      "name": "6110503461_Mydata_PCA.ipynb",
      "provenance": [],
      "collapsed_sections": [],
      "toc_visible": true
    },
    "kernelspec": {
      "name": "python3",
      "display_name": "Python 3"
    },
    "language_info": {
      "name": "python"
    }
  },
  "cells": [
    {
      "cell_type": "code",
      "metadata": {
        "id": "hLslQy7DV7wV"
      },
      "source": [
        "# import library ที่สำคัญ\n",
        "import pandas as pd\n",
        "import numpy as np\n",
        "import matplotlib.pyplot as plt\n",
        "%matplotlib inline\n",
        "import seaborn as sns"
      ],
      "execution_count": null,
      "outputs": []
    },
    {
      "cell_type": "markdown",
      "metadata": {
        "id": "Ih4D-dTNmEI1"
      },
      "source": [
        "# Data pre processing"
      ]
    },
    {
      "cell_type": "code",
      "metadata": {
        "colab": {
          "base_uri": "https://localhost:8080/",
          "height": 202
        },
        "id": "SbAMWKy0Zuf6",
        "outputId": "09362b57-a815-47bc-ba05-c0099fead48c"
      },
      "source": [
        "#load ข้อมูลเข้ามาเก็บใน datafram data\n",
        "df=pd.read_csv('heart_failure.csv')\n",
        "df.head()"
      ],
      "execution_count": null,
      "outputs": [
        {
          "output_type": "execute_result",
          "data": {
            "text/html": [
              "<div>\n",
              "<style scoped>\n",
              "    .dataframe tbody tr th:only-of-type {\n",
              "        vertical-align: middle;\n",
              "    }\n",
              "\n",
              "    .dataframe tbody tr th {\n",
              "        vertical-align: top;\n",
              "    }\n",
              "\n",
              "    .dataframe thead th {\n",
              "        text-align: right;\n",
              "    }\n",
              "</style>\n",
              "<table border=\"1\" class=\"dataframe\">\n",
              "  <thead>\n",
              "    <tr style=\"text-align: right;\">\n",
              "      <th></th>\n",
              "      <th>age</th>\n",
              "      <th>anaemia</th>\n",
              "      <th>creatinine_phosphokinase</th>\n",
              "      <th>diabetes</th>\n",
              "      <th>ejection_fraction</th>\n",
              "      <th>high_blood_pressure</th>\n",
              "      <th>platelets</th>\n",
              "      <th>serum_creatinine</th>\n",
              "      <th>serum_sodium</th>\n",
              "      <th>sex</th>\n",
              "      <th>smoking</th>\n",
              "      <th>time</th>\n",
              "      <th>DEATH_EVENT</th>\n",
              "    </tr>\n",
              "  </thead>\n",
              "  <tbody>\n",
              "    <tr>\n",
              "      <th>0</th>\n",
              "      <td>75.0</td>\n",
              "      <td>0</td>\n",
              "      <td>582</td>\n",
              "      <td>0</td>\n",
              "      <td>20</td>\n",
              "      <td>1</td>\n",
              "      <td>265000.00</td>\n",
              "      <td>1.9</td>\n",
              "      <td>130</td>\n",
              "      <td>1</td>\n",
              "      <td>0</td>\n",
              "      <td>4</td>\n",
              "      <td>1</td>\n",
              "    </tr>\n",
              "    <tr>\n",
              "      <th>1</th>\n",
              "      <td>55.0</td>\n",
              "      <td>0</td>\n",
              "      <td>7861</td>\n",
              "      <td>0</td>\n",
              "      <td>38</td>\n",
              "      <td>0</td>\n",
              "      <td>263358.03</td>\n",
              "      <td>1.1</td>\n",
              "      <td>136</td>\n",
              "      <td>1</td>\n",
              "      <td>0</td>\n",
              "      <td>6</td>\n",
              "      <td>1</td>\n",
              "    </tr>\n",
              "    <tr>\n",
              "      <th>2</th>\n",
              "      <td>65.0</td>\n",
              "      <td>0</td>\n",
              "      <td>146</td>\n",
              "      <td>0</td>\n",
              "      <td>20</td>\n",
              "      <td>0</td>\n",
              "      <td>162000.00</td>\n",
              "      <td>1.3</td>\n",
              "      <td>129</td>\n",
              "      <td>1</td>\n",
              "      <td>1</td>\n",
              "      <td>7</td>\n",
              "      <td>1</td>\n",
              "    </tr>\n",
              "    <tr>\n",
              "      <th>3</th>\n",
              "      <td>50.0</td>\n",
              "      <td>1</td>\n",
              "      <td>111</td>\n",
              "      <td>0</td>\n",
              "      <td>20</td>\n",
              "      <td>0</td>\n",
              "      <td>210000.00</td>\n",
              "      <td>1.9</td>\n",
              "      <td>137</td>\n",
              "      <td>1</td>\n",
              "      <td>0</td>\n",
              "      <td>7</td>\n",
              "      <td>1</td>\n",
              "    </tr>\n",
              "    <tr>\n",
              "      <th>4</th>\n",
              "      <td>65.0</td>\n",
              "      <td>1</td>\n",
              "      <td>160</td>\n",
              "      <td>1</td>\n",
              "      <td>20</td>\n",
              "      <td>0</td>\n",
              "      <td>327000.00</td>\n",
              "      <td>2.7</td>\n",
              "      <td>116</td>\n",
              "      <td>0</td>\n",
              "      <td>0</td>\n",
              "      <td>8</td>\n",
              "      <td>1</td>\n",
              "    </tr>\n",
              "  </tbody>\n",
              "</table>\n",
              "</div>"
            ],
            "text/plain": [
              "    age  anaemia  creatinine_phosphokinase  ...  smoking  time  DEATH_EVENT\n",
              "0  75.0        0                       582  ...        0     4            1\n",
              "1  55.0        0                      7861  ...        0     6            1\n",
              "2  65.0        0                       146  ...        1     7            1\n",
              "3  50.0        1                       111  ...        0     7            1\n",
              "4  65.0        1                       160  ...        0     8            1\n",
              "\n",
              "[5 rows x 13 columns]"
            ]
          },
          "metadata": {
            "tags": []
          },
          "execution_count": 3
        }
      ]
    },
    {
      "cell_type": "code",
      "metadata": {
        "colab": {
          "base_uri": "https://localhost:8080/"
        },
        "id": "PiOnKu4eZ94p",
        "outputId": "eaa14994-1188-41f2-e302-8f3c9cdfbc4a"
      },
      "source": [
        "# ดูรูปร่างข้อมูล\n",
        "df.shape"
      ],
      "execution_count": null,
      "outputs": [
        {
          "output_type": "execute_result",
          "data": {
            "text/plain": [
              "(299, 13)"
            ]
          },
          "metadata": {
            "tags": []
          },
          "execution_count": 4
        }
      ]
    },
    {
      "cell_type": "code",
      "metadata": {
        "colab": {
          "base_uri": "https://localhost:8080/"
        },
        "id": "xpf9-8LYaDFP",
        "outputId": "eb75e1c3-6825-4e51-ae4b-0c9b3cad13f4"
      },
      "source": [
        "# ดูว่ามีค่า null หรือไม่ ซึ่งในชุดข้อมูลนี้ไม่มี Outliers\n",
        "df.isnull().sum()"
      ],
      "execution_count": null,
      "outputs": [
        {
          "output_type": "execute_result",
          "data": {
            "text/plain": [
              "age                         0\n",
              "anaemia                     0\n",
              "creatinine_phosphokinase    0\n",
              "diabetes                    0\n",
              "ejection_fraction           0\n",
              "high_blood_pressure         0\n",
              "platelets                   0\n",
              "serum_creatinine            0\n",
              "serum_sodium                0\n",
              "sex                         0\n",
              "smoking                     0\n",
              "time                        0\n",
              "DEATH_EVENT                 0\n",
              "dtype: int64"
            ]
          },
          "metadata": {
            "tags": []
          },
          "execution_count": 5
        }
      ]
    },
    {
      "cell_type": "code",
      "metadata": {
        "colab": {
          "base_uri": "https://localhost:8080/",
          "height": 294
        },
        "id": "Hcea2edSaFUq",
        "outputId": "2ed7710c-7943-4e00-c041-12092b66dc56"
      },
      "source": [
        "# ดูรายละเอียดข้อมูล \n",
        "df.describe()"
      ],
      "execution_count": null,
      "outputs": [
        {
          "output_type": "execute_result",
          "data": {
            "text/html": [
              "<div>\n",
              "<style scoped>\n",
              "    .dataframe tbody tr th:only-of-type {\n",
              "        vertical-align: middle;\n",
              "    }\n",
              "\n",
              "    .dataframe tbody tr th {\n",
              "        vertical-align: top;\n",
              "    }\n",
              "\n",
              "    .dataframe thead th {\n",
              "        text-align: right;\n",
              "    }\n",
              "</style>\n",
              "<table border=\"1\" class=\"dataframe\">\n",
              "  <thead>\n",
              "    <tr style=\"text-align: right;\">\n",
              "      <th></th>\n",
              "      <th>age</th>\n",
              "      <th>anaemia</th>\n",
              "      <th>creatinine_phosphokinase</th>\n",
              "      <th>diabetes</th>\n",
              "      <th>ejection_fraction</th>\n",
              "      <th>high_blood_pressure</th>\n",
              "      <th>platelets</th>\n",
              "      <th>serum_creatinine</th>\n",
              "      <th>serum_sodium</th>\n",
              "      <th>sex</th>\n",
              "      <th>smoking</th>\n",
              "      <th>time</th>\n",
              "      <th>DEATH_EVENT</th>\n",
              "    </tr>\n",
              "  </thead>\n",
              "  <tbody>\n",
              "    <tr>\n",
              "      <th>count</th>\n",
              "      <td>299.000000</td>\n",
              "      <td>299.000000</td>\n",
              "      <td>299.000000</td>\n",
              "      <td>299.000000</td>\n",
              "      <td>299.000000</td>\n",
              "      <td>299.000000</td>\n",
              "      <td>299.000000</td>\n",
              "      <td>299.00000</td>\n",
              "      <td>299.000000</td>\n",
              "      <td>299.000000</td>\n",
              "      <td>299.00000</td>\n",
              "      <td>299.000000</td>\n",
              "      <td>299.00000</td>\n",
              "    </tr>\n",
              "    <tr>\n",
              "      <th>mean</th>\n",
              "      <td>60.833893</td>\n",
              "      <td>0.431438</td>\n",
              "      <td>581.839465</td>\n",
              "      <td>0.418060</td>\n",
              "      <td>38.083612</td>\n",
              "      <td>0.351171</td>\n",
              "      <td>263358.029264</td>\n",
              "      <td>1.39388</td>\n",
              "      <td>136.625418</td>\n",
              "      <td>0.648829</td>\n",
              "      <td>0.32107</td>\n",
              "      <td>130.260870</td>\n",
              "      <td>0.32107</td>\n",
              "    </tr>\n",
              "    <tr>\n",
              "      <th>std</th>\n",
              "      <td>11.894809</td>\n",
              "      <td>0.496107</td>\n",
              "      <td>970.287881</td>\n",
              "      <td>0.494067</td>\n",
              "      <td>11.834841</td>\n",
              "      <td>0.478136</td>\n",
              "      <td>97804.236869</td>\n",
              "      <td>1.03451</td>\n",
              "      <td>4.412477</td>\n",
              "      <td>0.478136</td>\n",
              "      <td>0.46767</td>\n",
              "      <td>77.614208</td>\n",
              "      <td>0.46767</td>\n",
              "    </tr>\n",
              "    <tr>\n",
              "      <th>min</th>\n",
              "      <td>40.000000</td>\n",
              "      <td>0.000000</td>\n",
              "      <td>23.000000</td>\n",
              "      <td>0.000000</td>\n",
              "      <td>14.000000</td>\n",
              "      <td>0.000000</td>\n",
              "      <td>25100.000000</td>\n",
              "      <td>0.50000</td>\n",
              "      <td>113.000000</td>\n",
              "      <td>0.000000</td>\n",
              "      <td>0.00000</td>\n",
              "      <td>4.000000</td>\n",
              "      <td>0.00000</td>\n",
              "    </tr>\n",
              "    <tr>\n",
              "      <th>25%</th>\n",
              "      <td>51.000000</td>\n",
              "      <td>0.000000</td>\n",
              "      <td>116.500000</td>\n",
              "      <td>0.000000</td>\n",
              "      <td>30.000000</td>\n",
              "      <td>0.000000</td>\n",
              "      <td>212500.000000</td>\n",
              "      <td>0.90000</td>\n",
              "      <td>134.000000</td>\n",
              "      <td>0.000000</td>\n",
              "      <td>0.00000</td>\n",
              "      <td>73.000000</td>\n",
              "      <td>0.00000</td>\n",
              "    </tr>\n",
              "    <tr>\n",
              "      <th>50%</th>\n",
              "      <td>60.000000</td>\n",
              "      <td>0.000000</td>\n",
              "      <td>250.000000</td>\n",
              "      <td>0.000000</td>\n",
              "      <td>38.000000</td>\n",
              "      <td>0.000000</td>\n",
              "      <td>262000.000000</td>\n",
              "      <td>1.10000</td>\n",
              "      <td>137.000000</td>\n",
              "      <td>1.000000</td>\n",
              "      <td>0.00000</td>\n",
              "      <td>115.000000</td>\n",
              "      <td>0.00000</td>\n",
              "    </tr>\n",
              "    <tr>\n",
              "      <th>75%</th>\n",
              "      <td>70.000000</td>\n",
              "      <td>1.000000</td>\n",
              "      <td>582.000000</td>\n",
              "      <td>1.000000</td>\n",
              "      <td>45.000000</td>\n",
              "      <td>1.000000</td>\n",
              "      <td>303500.000000</td>\n",
              "      <td>1.40000</td>\n",
              "      <td>140.000000</td>\n",
              "      <td>1.000000</td>\n",
              "      <td>1.00000</td>\n",
              "      <td>203.000000</td>\n",
              "      <td>1.00000</td>\n",
              "    </tr>\n",
              "    <tr>\n",
              "      <th>max</th>\n",
              "      <td>95.000000</td>\n",
              "      <td>1.000000</td>\n",
              "      <td>7861.000000</td>\n",
              "      <td>1.000000</td>\n",
              "      <td>80.000000</td>\n",
              "      <td>1.000000</td>\n",
              "      <td>850000.000000</td>\n",
              "      <td>9.40000</td>\n",
              "      <td>148.000000</td>\n",
              "      <td>1.000000</td>\n",
              "      <td>1.00000</td>\n",
              "      <td>285.000000</td>\n",
              "      <td>1.00000</td>\n",
              "    </tr>\n",
              "  </tbody>\n",
              "</table>\n",
              "</div>"
            ],
            "text/plain": [
              "              age     anaemia  ...        time  DEATH_EVENT\n",
              "count  299.000000  299.000000  ...  299.000000    299.00000\n",
              "mean    60.833893    0.431438  ...  130.260870      0.32107\n",
              "std     11.894809    0.496107  ...   77.614208      0.46767\n",
              "min     40.000000    0.000000  ...    4.000000      0.00000\n",
              "25%     51.000000    0.000000  ...   73.000000      0.00000\n",
              "50%     60.000000    0.000000  ...  115.000000      0.00000\n",
              "75%     70.000000    1.000000  ...  203.000000      1.00000\n",
              "max     95.000000    1.000000  ...  285.000000      1.00000\n",
              "\n",
              "[8 rows x 13 columns]"
            ]
          },
          "metadata": {
            "tags": []
          },
          "execution_count": 6
        }
      ]
    },
    {
      "cell_type": "code",
      "metadata": {
        "id": "yq13wM1zl2VI"
      },
      "source": [
        ""
      ],
      "execution_count": null,
      "outputs": []
    },
    {
      "cell_type": "markdown",
      "metadata": {
        "id": "8GeB8uHBmJGc"
      },
      "source": [
        "# Outliers"
      ]
    },
    {
      "cell_type": "code",
      "metadata": {
        "colab": {
          "base_uri": "https://localhost:8080/",
          "height": 405
        },
        "id": "035CdN-CmKaB",
        "outputId": "586ba001-15c8-4c7e-9465-8b4034ffba81"
      },
      "source": [
        "# ดู Boxplot ของข้อมูล จะเห้นได้ว่ามี outliers อยู่\n",
        "boxplot = df.boxplot(grid=False, rot=45, fontsize=15)"
      ],
      "execution_count": null,
      "outputs": [
        {
          "output_type": "display_data",
          "data": {
            "image/png": "[encoded data removed]",
            "text/plain": [
              "<Figure size 432x288 with 1 Axes>"
            ]
          },
          "metadata": {
            "tags": [],
            "needs_background": "light"
          }
        }
      ]
    },
    {
      "cell_type": "code",
      "metadata": {
        "colab": {
          "base_uri": "https://localhost:8080/"
        },
        "id": "kpsYzoyV0YVX",
        "outputId": "cb580888-c84c-426d-ca52-386d07f543df"
      },
      "source": [
        "df.columns"
      ],
      "execution_count": 9,
      "outputs": [
        {
          "output_type": "execute_result",
          "data": {
            "text/plain": [
              "Index(['age', 'anaemia', 'creatinine_phosphokinase', 'diabetes',\n",
              "       'ejection_fraction', 'high_blood_pressure', 'platelets',\n",
              "       'serum_creatinine', 'serum_sodium', 'sex', 'smoking', 'time',\n",
              "       'DEATH_EVENT'],\n",
              "      dtype='object')"
            ]
          },
          "metadata": {
            "tags": []
          },
          "execution_count": 9
        }
      ]
    },
    {
      "cell_type": "code",
      "metadata": {
        "id": "k1jcrKqi0et5"
      },
      "source": [
        "bp_df = df"
      ],
      "execution_count": 10,
      "outputs": []
    },
    {
      "cell_type": "code",
      "metadata": {
        "id": "kuOGb2PBmK2n",
        "colab": {
          "base_uri": "https://localhost:8080/",
          "height": 296
        },
        "outputId": "a20bd863-23ab-41df-be10-70761726c80c"
      },
      "source": [
        "# ดูแยกแต่ละปัจจัย\n",
        "# ดู Boxplot ของ platelets\n",
        "sns.boxplot(x='platelets', data=bp_df)"
      ],
      "execution_count": 12,
      "outputs": [
        {
          "output_type": "execute_result",
          "data": {
            "text/plain": [
              "<matplotlib.axes._subplots.AxesSubplot at 0x7feefe1b8310>"
            ]
          },
          "metadata": {
            "tags": []
          },
          "execution_count": 12
        },
        {
          "output_type": "display_data",
          "data": {
            "image/png": "[encoded data removed]",
            "text/plain": [
              "<Figure size 432x288 with 1 Axes>"
            ]
          },
          "metadata": {
            "tags": [],
            "needs_background": "light"
          }
        }
      ]
    },
    {
      "cell_type": "code",
      "metadata": {
        "colab": {
          "base_uri": "https://localhost:8080/"
        },
        "id": "YT2tQqY40hWY",
        "outputId": "14a3f04d-d04f-4b37-f0e4-7088e9639bcf"
      },
      "source": [
        "# จะทำการตัด Outliers ด้วยวิธีแบบ IQR\n",
        "# IQR \n",
        "df2 = df\n",
        "q1 = df2.quantile(0.25) # เลือกค่าที่เป็นจุดของ Q1\n",
        "q3 = df2.quantile(0.75) # เลือกค่าที่เป็นจุดของ Q3\n",
        "iqr = q3 - q1\n",
        "iqr"
      ],
      "execution_count": 13,
      "outputs": [
        {
          "output_type": "execute_result",
          "data": {
            "text/plain": [
              "age                            19.0\n",
              "anaemia                         1.0\n",
              "creatinine_phosphokinase      465.5\n",
              "diabetes                        1.0\n",
              "ejection_fraction              15.0\n",
              "high_blood_pressure             1.0\n",
              "platelets                   91000.0\n",
              "serum_creatinine                0.5\n",
              "serum_sodium                    6.0\n",
              "sex                             1.0\n",
              "smoking                         1.0\n",
              "time                          130.0\n",
              "DEATH_EVENT                     1.0\n",
              "dtype: float64"
            ]
          },
          "metadata": {
            "tags": []
          },
          "execution_count": 13
        }
      ]
    },
    {
      "cell_type": "code",
      "metadata": {
        "id": "U5wj02oT02vm"
      },
      "source": [
        "# คำนวณหาค่า lower outliers และ upper outliers\n",
        "low_outlier = q1-1.5*iqr\n",
        "upp_outlier = q3+1.5*iqr"
      ],
      "execution_count": 14,
      "outputs": []
    },
    {
      "cell_type": "code",
      "metadata": {
        "colab": {
          "base_uri": "https://localhost:8080/"
        },
        "id": "5ayncoET05jH",
        "outputId": "d59fddbd-c036-41c9-d6e6-7bacfce46e22"
      },
      "source": [
        "# แสดงค่า lower outliers\n",
        "low_outlier"
      ],
      "execution_count": 15,
      "outputs": [
        {
          "output_type": "execute_result",
          "data": {
            "text/plain": [
              "age                            22.50\n",
              "anaemia                        -1.50\n",
              "creatinine_phosphokinase     -581.75\n",
              "diabetes                       -1.50\n",
              "ejection_fraction               7.50\n",
              "high_blood_pressure            -1.50\n",
              "platelets                   76000.00\n",
              "serum_creatinine                0.15\n",
              "serum_sodium                  125.00\n",
              "sex                            -1.50\n",
              "smoking                        -1.50\n",
              "time                         -122.00\n",
              "DEATH_EVENT                    -1.50\n",
              "dtype: float64"
            ]
          },
          "metadata": {
            "tags": []
          },
          "execution_count": 15
        }
      ]
    },
    {
      "cell_type": "code",
      "metadata": {
        "colab": {
          "base_uri": "https://localhost:8080/"
        },
        "id": "GxLvbREF07g4",
        "outputId": "6a509c2e-6728-421f-90f6-8fb8c7df8e77"
      },
      "source": [
        "# แสดงค่า upper outliers\n",
        "upp_outlier"
      ],
      "execution_count": 16,
      "outputs": [
        {
          "output_type": "execute_result",
          "data": {
            "text/plain": [
              "age                             98.50\n",
              "anaemia                          2.50\n",
              "creatinine_phosphokinase      1280.25\n",
              "diabetes                         2.50\n",
              "ejection_fraction               67.50\n",
              "high_blood_pressure              2.50\n",
              "platelets                   440000.00\n",
              "serum_creatinine                 2.15\n",
              "serum_sodium                   149.00\n",
              "sex                              2.50\n",
              "smoking                          2.50\n",
              "time                           398.00\n",
              "DEATH_EVENT                      2.50\n",
              "dtype: float64"
            ]
          },
          "metadata": {
            "tags": []
          },
          "execution_count": 16
        }
      ]
    },
    {
      "cell_type": "code",
      "metadata": {
        "id": "6OPsrJQy08uN"
      },
      "source": [
        "# สร้างคำสั่งสำหรับการกรองข้อมูลให้เหลือเฉพาะตัวที่ไม่เกินขอบเขต Outlier ของ\n",
        "# ให้ df เป็นชุดข้อมูลที่ต้องการจะ clean outlier \n",
        "# df_col เป็น list col ที่ต้องการตัด outlier ออก\n",
        "def outlier_b(df,df_col):\n",
        "   for col in df_col:\n",
        "     df = df.loc[(df[col]>=low_outlier[col])&(df[col]<=upp_outlier[col])]\n",
        "   return df"
      ],
      "execution_count": 17,
      "outputs": []
    },
    {
      "cell_type": "code",
      "metadata": {
        "colab": {
          "base_uri": "https://localhost:8080/"
        },
        "id": "k918Dj9L1L_O",
        "outputId": "153bd7b3-56a1-4ff7-ab5b-2023ceb07c34"
      },
      "source": [
        "list_col = ['age', 'anaemia', 'creatinine_phosphokinase', 'diabetes',\n",
        "       'ejection_fraction', 'high_blood_pressure', 'platelets',\n",
        "       'serum_creatinine', 'serum_sodium', 'sex', 'smoking', 'time']\n",
        "list_col"
      ],
      "execution_count": 19,
      "outputs": [
        {
          "output_type": "execute_result",
          "data": {
            "text/plain": [
              "['age',\n",
              " 'anaemia',\n",
              " 'creatinine_phosphokinase',\n",
              " 'diabetes',\n",
              " 'ejection_fraction',\n",
              " 'high_blood_pressure',\n",
              " 'platelets',\n",
              " 'serum_creatinine',\n",
              " 'serum_sodium',\n",
              " 'sex',\n",
              " 'smoking',\n",
              " 'time']"
            ]
          },
          "metadata": {
            "tags": []
          },
          "execution_count": 19
        }
      ]
    },
    {
      "cell_type": "code",
      "metadata": {
        "colab": {
          "base_uri": "https://localhost:8080/",
          "height": 414
        },
        "id": "DmvQ8qVX1Zts",
        "outputId": "999e02d5-5336-40a1-b7f4-b4002e9949ed"
      },
      "source": [
        "# เอาฟังก์ชั่นที่กรองข้อมูลมาใช้ \n",
        "clean_data = outlier_b(df2,list_col) #กรองข้อมูลที่ไม่เกิน outlier ใน df2\n",
        "clean_data # ได้เป็นขนาด 224*13 หายไป 75 ตัว"
      ],
      "execution_count": 20,
      "outputs": [
        {
          "output_type": "execute_result",
          "data": {
            "text/html": [
              "<div>\n",
              "<style scoped>\n",
              "    .dataframe tbody tr th:only-of-type {\n",
              "        vertical-align: middle;\n",
              "    }\n",
              "\n",
              "    .dataframe tbody tr th {\n",
              "        vertical-align: top;\n",
              "    }\n",
              "\n",
              "    .dataframe thead th {\n",
              "        text-align: right;\n",
              "    }\n",
              "</style>\n",
              "<table border=\"1\" class=\"dataframe\">\n",
              "  <thead>\n",
              "    <tr style=\"text-align: right;\">\n",
              "      <th></th>\n",
              "      <th>age</th>\n",
              "      <th>anaemia</th>\n",
              "      <th>creatinine_phosphokinase</th>\n",
              "      <th>diabetes</th>\n",
              "      <th>ejection_fraction</th>\n",
              "      <th>high_blood_pressure</th>\n",
              "      <th>platelets</th>\n",
              "      <th>serum_creatinine</th>\n",
              "      <th>serum_sodium</th>\n",
              "      <th>sex</th>\n",
              "      <th>smoking</th>\n",
              "      <th>time</th>\n",
              "      <th>DEATH_EVENT</th>\n",
              "    </tr>\n",
              "  </thead>\n",
              "  <tbody>\n",
              "    <tr>\n",
              "      <th>0</th>\n",
              "      <td>75.0</td>\n",
              "      <td>0</td>\n",
              "      <td>582</td>\n",
              "      <td>0</td>\n",
              "      <td>20</td>\n",
              "      <td>1</td>\n",
              "      <td>265000.0</td>\n",
              "      <td>1.9</td>\n",
              "      <td>130</td>\n",
              "      <td>1</td>\n",
              "      <td>0</td>\n",
              "      <td>4</td>\n",
              "      <td>1</td>\n",
              "    </tr>\n",
              "    <tr>\n",
              "      <th>2</th>\n",
              "      <td>65.0</td>\n",
              "      <td>0</td>\n",
              "      <td>146</td>\n",
              "      <td>0</td>\n",
              "      <td>20</td>\n",
              "      <td>0</td>\n",
              "      <td>162000.0</td>\n",
              "      <td>1.3</td>\n",
              "      <td>129</td>\n",
              "      <td>1</td>\n",
              "      <td>1</td>\n",
              "      <td>7</td>\n",
              "      <td>1</td>\n",
              "    </tr>\n",
              "    <tr>\n",
              "      <th>3</th>\n",
              "      <td>50.0</td>\n",
              "      <td>1</td>\n",
              "      <td>111</td>\n",
              "      <td>0</td>\n",
              "      <td>20</td>\n",
              "      <td>0</td>\n",
              "      <td>210000.0</td>\n",
              "      <td>1.9</td>\n",
              "      <td>137</td>\n",
              "      <td>1</td>\n",
              "      <td>0</td>\n",
              "      <td>7</td>\n",
              "      <td>1</td>\n",
              "    </tr>\n",
              "    <tr>\n",
              "      <th>5</th>\n",
              "      <td>90.0</td>\n",
              "      <td>1</td>\n",
              "      <td>47</td>\n",
              "      <td>0</td>\n",
              "      <td>40</td>\n",
              "      <td>1</td>\n",
              "      <td>204000.0</td>\n",
              "      <td>2.1</td>\n",
              "      <td>132</td>\n",
              "      <td>1</td>\n",
              "      <td>1</td>\n",
              "      <td>8</td>\n",
              "      <td>1</td>\n",
              "    </tr>\n",
              "    <tr>\n",
              "      <th>6</th>\n",
              "      <td>75.0</td>\n",
              "      <td>1</td>\n",
              "      <td>246</td>\n",
              "      <td>0</td>\n",
              "      <td>15</td>\n",
              "      <td>0</td>\n",
              "      <td>127000.0</td>\n",
              "      <td>1.2</td>\n",
              "      <td>137</td>\n",
              "      <td>1</td>\n",
              "      <td>0</td>\n",
              "      <td>10</td>\n",
              "      <td>1</td>\n",
              "    </tr>\n",
              "    <tr>\n",
              "      <th>...</th>\n",
              "      <td>...</td>\n",
              "      <td>...</td>\n",
              "      <td>...</td>\n",
              "      <td>...</td>\n",
              "      <td>...</td>\n",
              "      <td>...</td>\n",
              "      <td>...</td>\n",
              "      <td>...</td>\n",
              "      <td>...</td>\n",
              "      <td>...</td>\n",
              "      <td>...</td>\n",
              "      <td>...</td>\n",
              "      <td>...</td>\n",
              "    </tr>\n",
              "    <tr>\n",
              "      <th>291</th>\n",
              "      <td>60.0</td>\n",
              "      <td>0</td>\n",
              "      <td>320</td>\n",
              "      <td>0</td>\n",
              "      <td>35</td>\n",
              "      <td>0</td>\n",
              "      <td>133000.0</td>\n",
              "      <td>1.4</td>\n",
              "      <td>139</td>\n",
              "      <td>1</td>\n",
              "      <td>0</td>\n",
              "      <td>258</td>\n",
              "      <td>0</td>\n",
              "    </tr>\n",
              "    <tr>\n",
              "      <th>292</th>\n",
              "      <td>52.0</td>\n",
              "      <td>0</td>\n",
              "      <td>190</td>\n",
              "      <td>1</td>\n",
              "      <td>38</td>\n",
              "      <td>0</td>\n",
              "      <td>382000.0</td>\n",
              "      <td>1.0</td>\n",
              "      <td>140</td>\n",
              "      <td>1</td>\n",
              "      <td>1</td>\n",
              "      <td>258</td>\n",
              "      <td>0</td>\n",
              "    </tr>\n",
              "    <tr>\n",
              "      <th>293</th>\n",
              "      <td>63.0</td>\n",
              "      <td>1</td>\n",
              "      <td>103</td>\n",
              "      <td>1</td>\n",
              "      <td>35</td>\n",
              "      <td>0</td>\n",
              "      <td>179000.0</td>\n",
              "      <td>0.9</td>\n",
              "      <td>136</td>\n",
              "      <td>1</td>\n",
              "      <td>1</td>\n",
              "      <td>270</td>\n",
              "      <td>0</td>\n",
              "    </tr>\n",
              "    <tr>\n",
              "      <th>294</th>\n",
              "      <td>62.0</td>\n",
              "      <td>0</td>\n",
              "      <td>61</td>\n",
              "      <td>1</td>\n",
              "      <td>38</td>\n",
              "      <td>1</td>\n",
              "      <td>155000.0</td>\n",
              "      <td>1.1</td>\n",
              "      <td>143</td>\n",
              "      <td>1</td>\n",
              "      <td>1</td>\n",
              "      <td>270</td>\n",
              "      <td>0</td>\n",
              "    </tr>\n",
              "    <tr>\n",
              "      <th>298</th>\n",
              "      <td>50.0</td>\n",
              "      <td>0</td>\n",
              "      <td>196</td>\n",
              "      <td>0</td>\n",
              "      <td>45</td>\n",
              "      <td>0</td>\n",
              "      <td>395000.0</td>\n",
              "      <td>1.6</td>\n",
              "      <td>136</td>\n",
              "      <td>1</td>\n",
              "      <td>1</td>\n",
              "      <td>285</td>\n",
              "      <td>0</td>\n",
              "    </tr>\n",
              "  </tbody>\n",
              "</table>\n",
              "<p>224 rows × 13 columns</p>\n",
              "</div>"
            ],
            "text/plain": [
              "      age  anaemia  creatinine_phosphokinase  ...  smoking  time  DEATH_EVENT\n",
              "0    75.0        0                       582  ...        0     4            1\n",
              "2    65.0        0                       146  ...        1     7            1\n",
              "3    50.0        1                       111  ...        0     7            1\n",
              "5    90.0        1                        47  ...        1     8            1\n",
              "6    75.0        1                       246  ...        0    10            1\n",
              "..    ...      ...                       ...  ...      ...   ...          ...\n",
              "291  60.0        0                       320  ...        0   258            0\n",
              "292  52.0        0                       190  ...        1   258            0\n",
              "293  63.0        1                       103  ...        1   270            0\n",
              "294  62.0        0                        61  ...        1   270            0\n",
              "298  50.0        0                       196  ...        1   285            0\n",
              "\n",
              "[224 rows x 13 columns]"
            ]
          },
          "metadata": {
            "tags": []
          },
          "execution_count": 20
        }
      ]
    },
    {
      "cell_type": "code",
      "metadata": {
        "colab": {
          "base_uri": "https://localhost:8080/"
        },
        "id": "GL8UEqN_1ukL",
        "outputId": "7943335f-e4dc-49c5-a254-6769a69a3ac0"
      },
      "source": [
        "# ดูข้อมูลของข้อมูล\n",
        "clean_data.info()"
      ],
      "execution_count": 24,
      "outputs": [
        {
          "output_type": "stream",
          "text": [
            "<class 'pandas.core.frame.DataFrame'>\n",
            "Int64Index: 224 entries, 0 to 298\n",
            "Data columns (total 13 columns):\n",
            " #   Column                    Non-Null Count  Dtype  \n",
            "---  ------                    --------------  -----  \n",
            " 0   age                       224 non-null    float64\n",
            " 1   anaemia                   224 non-null    int64  \n",
            " 2   creatinine_phosphokinase  224 non-null    int64  \n",
            " 3   diabetes                  224 non-null    int64  \n",
            " 4   ejection_fraction         224 non-null    int64  \n",
            " 5   high_blood_pressure       224 non-null    int64  \n",
            " 6   platelets                 224 non-null    float64\n",
            " 7   serum_creatinine          224 non-null    float64\n",
            " 8   serum_sodium              224 non-null    int64  \n",
            " 9   sex                       224 non-null    int64  \n",
            " 10  smoking                   224 non-null    int64  \n",
            " 11  time                      224 non-null    int64  \n",
            " 12  DEATH_EVENT               224 non-null    int64  \n",
            "dtypes: float64(3), int64(10)\n",
            "memory usage: 24.5 KB\n"
          ],
          "name": "stdout"
        }
      ]
    },
    {
      "cell_type": "code",
      "metadata": {
        "id": "Yx2m96ar18no"
      },
      "source": [
        ""
      ],
      "execution_count": null,
      "outputs": []
    },
    {
      "cell_type": "markdown",
      "metadata": {
        "id": "m9k0KGsW2MvV"
      },
      "source": [
        "# Split & Normalization data"
      ]
    },
    {
      "cell_type": "code",
      "metadata": {
        "id": "AeFnNzGj2TDG"
      },
      "source": [
        "split_data = clean_data"
      ],
      "execution_count": 25,
      "outputs": []
    },
    {
      "cell_type": "code",
      "metadata": {
        "id": "cDOkdLtN2Ww6"
      },
      "source": [
        "# ทำการแบ่งข้อมูลก่อนเป็นชุด test(30%) train(70%) \n",
        "from sklearn.model_selection  import train_test_split\n",
        "X = split_data.drop(['DEATH_EVENT'], axis='columns')\n",
        "y = split_data.DEATH_EVENT # ให้ DEATH_EVENT เป็น target \n",
        "X_train, X_test, y_train, y_test = train_test_split(X, y, test_size = 0.3, random_state = 0)"
      ],
      "execution_count": 30,
      "outputs": []
    },
    {
      "cell_type": "code",
      "metadata": {
        "id": "IRhibP1d3oBM"
      },
      "source": [
        "# ทำการ scaling ด้วยวิธี standardization ที่ Input แต่ Output ไม่ต้องทำ\n",
        "from sklearn.preprocessing import StandardScaler\n",
        "sc = StandardScaler()\n",
        "X_train_norm = sc.fit_transform(X_train) # ทำที่ส่วน Train ก่อนแล้วค่อยประยุกต์ไปใส่ที่ test เพราะเราจะไม่เห็นข้อมูลที่ test ในโลกความเป็นจริง\n",
        "X_test_norm = sc.transform(X_test) "
      ],
      "execution_count": 35,
      "outputs": []
    },
    {
      "cell_type": "code",
      "metadata": {
        "colab": {
          "base_uri": "https://localhost:8080/"
        },
        "id": "oejeli6M4oRB",
        "outputId": "d40d7b3f-74b7-4f68-813f-0bc0c852cacf"
      },
      "source": [
        "X_train_norm"
      ],
      "execution_count": 33,
      "outputs": [
        {
          "output_type": "execute_result",
          "data": {
            "text/plain": [
              "array([[-1.22384001, -0.98726063,  0.89479957, ...,  0.73793933,\n",
              "        -0.70710678,  0.90010235],\n",
              "       [ 0.9539434 , -0.98726063,  0.10797749, ...,  0.73793933,\n",
              "         1.41421356, -0.95383231],\n",
              "       [ 0.34416405,  1.01290376, -1.01811649, ..., -1.35512495,\n",
              "        -0.70710678, -1.51523505],\n",
              "       ...,\n",
              "       [ 0.43127538,  1.01290376, -0.94593097, ...,  0.73793933,\n",
              "        -0.70710678, -0.14436788],\n",
              "       [-0.26561531, -0.98726063,  0.89479957, ...,  0.73793933,\n",
              "         1.41421356, -0.79716177],\n",
              "       [-0.70117199,  1.01290376,  1.34595902, ...,  0.73793933,\n",
              "         1.41421356,  1.00454937]])"
            ]
          },
          "metadata": {
            "tags": []
          },
          "execution_count": 33
        }
      ]
    },
    {
      "cell_type": "code",
      "metadata": {
        "colab": {
          "base_uri": "https://localhost:8080/"
        },
        "id": "gb8HGKD44qDA",
        "outputId": "1cd52dea-356d-4ac1-e51c-29d07161371e"
      },
      "source": [
        "X_test_norm"
      ],
      "execution_count": 36,
      "outputs": [
        {
          "output_type": "execute_result",
          "data": {
            "text/plain": [
              "array([[ 1.69941374e-01, -9.87260626e-01, -5.09208629e-01,\n",
              "        -8.79049073e-01,  1.95356071e+00,  1.26491106e+00,\n",
              "         5.78686521e-01,  5.47966695e-01,  2.19171065e+00,\n",
              "         7.37939330e-01,  1.41421356e+00, -3.27150169e-01],\n",
              "       [-1.39806268e+00, -9.87260626e-01,  8.94799570e-01,\n",
              "         1.13759292e+00,  3.46653590e-02, -7.90569415e-01,\n",
              "         6.80406255e-01, -7.26469450e-01,  8.66490255e-01,\n",
              "        -1.35512495e+00, -7.07106781e-01,  1.46150509e+00],\n",
              "       [ 9.53943403e-01, -9.87260626e-01, -4.44241669e-01,\n",
              "        -8.79049073e-01, -1.09922735e+00, -7.90569415e-01,\n",
              "         2.73527318e-01,  2.29357659e-01, -7.23774213e-01,\n",
              "        -1.35512495e+00, -7.07106781e-01,  9.78437614e-01],\n",
              "       [-9.62506001e-01, -9.87260626e-01,  8.94799570e-01,\n",
              "        -8.79049073e-01,  1.08133555e+00, -7.90569415e-01,\n",
              "        -1.48477094e+00, -1.68229656e+00, -7.23774213e-01,\n",
              "        -1.35512495e+00, -7.07106781e-01,  5.21481889e-01],\n",
              "       [-6.14060655e-01, -9.87260626e-01,  8.94799570e-01,\n",
              "         1.13759292e+00,  3.46653590e-02, -7.90569415e-01,\n",
              "         1.28213412e-01,  2.14101188e+00, -7.23774213e-01,\n",
              "         7.37939330e-01, -7.07106781e-01,  1.05677288e+00],\n",
              "       [ 1.47661142e+00,  1.01290376e+00, -9.74805178e-01,\n",
              "        -8.79049073e-01,  2.09110391e-01, -7.90569415e-01,\n",
              "         3.17121490e-01, -1.36368752e+00,  7.13580210e-02,\n",
              "         7.37939330e-01,  1.41421356e+00,  7.17320057e-01],\n",
              "       [ 9.53943403e-01,  1.01290376e+00, -8.08778502e-01,\n",
              "        -8.79049073e-01, -1.09922735e+00, -7.90569415e-01,\n",
              "         2.73527318e-01, -4.07860414e-01,  8.66490255e-01,\n",
              "         7.37939330e-01,  1.41421356e+00, -8.75497038e-01],\n",
              "       [ 6.05498057e-01,  1.01290376e+00, -6.39142550e-01,\n",
              "         1.13759292e+00,  1.95356071e+00, -7.90569415e-01,\n",
              "        -6.85544461e-01, -4.07860414e-01,  8.66490255e-01,\n",
              "        -1.35512495e+00, -7.07106781e-01,  1.37011395e+00],\n",
              "       [ 7.79720730e-01, -9.87260626e-01, -9.67586627e-01,\n",
              "         1.13759292e+00,  6.45222972e-01, -7.90569415e-01,\n",
              "        -8.97574469e-02, -1.04507849e+00, -1.93686057e-01,\n",
              "         7.37939330e-01,  1.41421356e+00, -6.79658871e-01],\n",
              "       [-9.62506001e-01,  1.01290376e+00, -5.99440519e-01,\n",
              "        -8.79049073e-01,  3.46653590e-02,  1.26491106e+00,\n",
              "         3.02590099e-01, -8.92513774e-02,  7.13580210e-02,\n",
              "         7.37939330e-01, -7.07106781e-01, -1.58051444e+00],\n",
              "       [-7.88283328e-01, -9.87260626e-01, -7.29374439e-01,\n",
              "        -8.79049073e-01, -6.63114770e-01, -7.90569415e-01,\n",
              "        -5.40230555e-01, -1.36368752e+00, -1.93686057e-01,\n",
              "         7.37939330e-01,  1.41421356e+00, -2.61870780e-01],\n",
              "       [ 7.79720730e-01,  1.01290376e+00, -9.56758801e-01,\n",
              "         1.13759292e+00,  1.08133555e+00,  1.26491106e+00,\n",
              "         1.39244439e+00, -4.07860414e-01, -7.23774213e-01,\n",
              "        -1.35512495e+00, -7.07106781e-01, -1.14967047e+00],\n",
              "       [ 3.44164047e-01, -9.87260626e-01, -6.39142550e-01,\n",
              "        -8.79049073e-01,  2.38967330e+00, -7.90569415e-01,\n",
              "         1.18884695e-01,  1.18518477e+00,  3.36402099e-01,\n",
              "        -1.35512495e+00, -7.07106781e-01, -1.59357032e+00],\n",
              "       [-1.39806268e+00, -9.87260626e-01,  8.94799570e-01,\n",
              "         1.13759292e+00,  3.46653590e-02,  1.26491106e+00,\n",
              "         1.18884695e-01,  1.65635851e-01,  7.13580210e-02,\n",
              "        -1.35512495e+00, -7.07106781e-01,  6.91208301e-01],\n",
              "       [-3.52726645e-01,  1.01290376e+00, -7.90732124e-01,\n",
              "        -8.79049073e-01, -1.09922735e+00,  1.26491106e+00,\n",
              "        -1.07789201e+00, -8.92513774e-02,  1.92666657e+00,\n",
              "         7.37939330e-01, -7.07106781e-01, -6.92714749e-01],\n",
              "       [-1.83361937e+00, -9.87260626e-01,  1.04638914e+00,\n",
              "        -8.79049073e-01, -2.27002189e-01, -7.90569415e-01,\n",
              "         6.65874864e-01, -4.07860414e-01,  1.39657841e+00,\n",
              "         7.37939330e-01,  1.41421356e+00,  1.06982876e+00],\n",
              "       [ 1.65083410e+00, -9.87260626e-01,  8.94799570e-01,\n",
              "         1.13759292e+00, -2.27002189e-01, -7.90569415e-01,\n",
              "         1.37791300e+00,  3.09683898e+00, -7.23774213e-01,\n",
              "         7.37939330e-01, -7.07106781e-01,  5.47593645e-01],\n",
              "       [-8.75394664e-01, -9.87260626e-01,  8.94799570e-01,\n",
              "         1.13759292e+00,  2.09110391e-01, -7.90569415e-01,\n",
              "        -4.96636384e-01, -7.26469450e-01, -7.23774213e-01,\n",
              "        -1.35512495e+00, -7.07106781e-01,  1.46150509e+00],\n",
              "       [ 5.18386721e-01, -9.87260626e-01, -4.37023118e-01,\n",
              "        -8.79049073e-01,  3.46653590e-02, -7.90569415e-01,\n",
              "        -5.83824727e-01,  2.29357659e-01, -9.88818291e-01,\n",
              "        -1.35512495e+00, -7.07106781e-01,  1.47456097e+00],\n",
              "       [-9.13926354e-02, -9.87260626e-01, -8.59308360e-01,\n",
              "         1.13759292e+00,  3.46653590e-02, -7.90569415e-01,\n",
              "        -3.94916649e-01, -1.20438300e+00,  8.66490255e-01,\n",
              "        -1.35512495e+00, -7.07106781e-01, -4.83820703e-01],\n",
              "       [-9.62506001e-01, -9.87260626e-01, -7.90732124e-01,\n",
              "        -8.79049073e-01,  6.45222972e-01,  1.26491106e+00,\n",
              "        -1.03429784e+00, -7.26469450e-01, -7.23774213e-01,\n",
              "         7.37939330e-01,  1.41421356e+00, -1.83535513e-01],\n",
              "       [ 3.44164047e-01,  1.01290376e+00, -1.04969765e-01,\n",
              "        -8.79049073e-01, -1.09922735e+00, -7.90569415e-01,\n",
              "         6.22280692e-01, -8.92513774e-02,  1.13153433e+00,\n",
              "         7.37939330e-01, -7.07106781e-01, -5.88267726e-01],\n",
              "       [-9.62506001e-01,  1.01290376e+00, -7.90732124e-01,\n",
              "        -8.79049073e-01, -1.53533993e+00, -7.90569415e-01,\n",
              "        -9.61640883e-01, -1.04507849e+00,  6.01446177e-01,\n",
              "         7.37939330e-01, -7.07106781e-01,  1.82029066e-01],\n",
              "       [ 1.21527741e+00, -9.87260626e-01,  8.94799570e-01,\n",
              "        -8.79049073e-01,  6.45222972e-01,  1.26491106e+00,\n",
              "         1.18884695e-01,  1.65635851e-01,  7.13580210e-02,\n",
              "         7.37939330e-01, -7.07106781e-01, -5.88267726e-01],\n",
              "       [ 7.79720730e-01, -9.87260626e-01, -4.40632393e-01,\n",
              "         1.13759292e+00, -1.79700748e+00,  1.26491106e+00,\n",
              "         1.94463724e+00, -4.07860414e-01, -1.93686057e-01,\n",
              "         7.37939330e-01,  1.41421356e+00,  7.30375935e-01],\n",
              "       [ 7.79720730e-01,  1.01290376e+00, -7.54639368e-01,\n",
              "        -8.79049073e-01, -1.09922735e+00,  1.26491106e+00,\n",
              "        -2.64134134e-01, -4.07860414e-01,  8.66490255e-01,\n",
              "        -1.35512495e+00, -7.07106781e-01, -1.52829093e+00],\n",
              "       [ 3.44164047e-01,  1.01290376e+00, -7.18546613e-01,\n",
              "        -8.79049073e-01, -2.27002189e-01,  1.26491106e+00,\n",
              "         5.06029568e-01, -1.04507849e+00, -7.23774213e-01,\n",
              "         7.37939330e-01, -7.07106781e-01,  8.08711202e-01],\n",
              "       [ 7.79720730e-01, -9.87260626e-01,  3.13255043e+00,\n",
              "        -8.79049073e-01,  1.08133555e+00,  1.26491106e+00,\n",
              "         1.49416413e+00, -7.26469450e-01,  1.13153433e+00,\n",
              "        -1.35512495e+00, -7.07106781e-01,  8.34822957e-01],\n",
              "       [ 7.79720730e-01,  1.01290376e+00, -5.88612692e-01,\n",
              "        -8.79049073e-01,  1.95356071e+00,  1.26491106e+00,\n",
              "        -1.15054896e+00, -8.92513774e-02,  2.19171065e+00,\n",
              "         7.37939330e-01,  1.41421356e+00,  1.82029066e-01],\n",
              "       [-3.32893739e-02,  1.01290376e+00, -8.30434155e-01,\n",
              "         1.13759292e+00, -6.63114770e-01, -7.90569415e-01,\n",
              "         1.94463724e+00,  1.18518477e+00, -1.93686057e-01,\n",
              "         7.37939330e-01, -7.07106781e-01,  5.08426012e-01],\n",
              "       [ 7.79720730e-01, -9.87260626e-01, -9.56758801e-01,\n",
              "        -8.79049073e-01,  2.09110391e-01, -7.90569415e-01,\n",
              "         5.49623739e-01,  1.82240284e+00, -1.93686057e-01,\n",
              "        -1.35512495e+00, -7.07106781e-01, -7.44938260e-01],\n",
              "       [-4.28129883e-03,  1.01290376e+00, -9.02619667e-01,\n",
              "        -8.79049073e-01,  2.09110391e-01,  1.26491106e+00,\n",
              "        -3.80385259e-01, -7.26469450e-01,  1.13153433e+00,\n",
              "        -1.35512495e+00, -7.07106781e-01, -2.87982536e-01],\n",
              "       [-9.62506001e-01, -9.87260626e-01,  8.94799570e-01,\n",
              "        -8.79049073e-01,  2.12800575e+00,  1.26491106e+00,\n",
              "        -1.57195929e+00, -1.04507849e+00,  8.66490255e-01,\n",
              "         7.37939330e-01,  1.41421356e+00,  7.82599446e-01],\n",
              "       [-1.83361937e+00,  1.01290376e+00, -7.40202266e-01,\n",
              "        -8.79049073e-01, -2.27002189e-01, -7.90569415e-01,\n",
              "        -2.56910328e-03, -7.26469450e-01,  7.13580210e-02,\n",
              "         7.37939330e-01, -7.07106781e-01,  1.00454937e+00],\n",
              "       [ 1.65083410e+00, -9.87260626e-01, -6.71626030e-01,\n",
              "         1.13759292e+00,  3.46653590e-02, -7.90569415e-01,\n",
              "        -1.54289651e+00,  2.45962091e+00,  1.92666657e+00,\n",
              "         7.37939330e-01,  1.41421356e+00, -1.42384391e+00],\n",
              "       [ 6.05498057e-01,  1.01290376e+00, -4.11758189e-01,\n",
              "        -8.79049073e-01, -2.27002189e-01,  1.26491106e+00,\n",
              "         4.91498177e-01, -7.26469450e-01,  8.66490255e-01,\n",
              "         7.37939330e-01,  1.41421356e+00, -1.46301154e+00],\n",
              "       [-1.57228536e+00,  1.01290376e+00,  8.63218409e-02,\n",
              "        -8.79049073e-01,  1.08133555e+00, -7.90569415e-01,\n",
              "        -2.64134134e-01,  5.47966695e-01, -4.58730135e-01,\n",
              "        -1.35512495e+00, -7.07106781e-01, -4.57708948e-01],\n",
              "       [-1.39806268e+00,  1.01290376e+00,  2.33490052e+00,\n",
              "        -8.79049073e-01, -6.63114770e-01, -7.90569415e-01,\n",
              "        -1.73180458e+00, -8.92513774e-02,  7.13580210e-02,\n",
              "         7.37939330e-01, -7.07106781e-01, -1.58051444e+00],\n",
              "       [ 1.65083410e+00, -9.87260626e-01,  2.03533065e+00,\n",
              "        -8.79049073e-01, -1.09922735e+00, -7.90569415e-01,\n",
              "        -1.54289651e+00, -8.92513774e-02,  1.92666657e+00,\n",
              "         7.37939330e-01,  1.41421356e+00, -5.88267726e-01],\n",
              "       [-5.26949318e-01, -9.87260626e-01,  8.94799570e-01,\n",
              "         1.13759292e+00, -2.27002189e-01,  1.26491106e+00,\n",
              "         1.68307221e+00, -1.36368752e+00,  8.66490255e-01,\n",
              "        -1.35512495e+00, -7.07106781e-01,  8.47878835e-01],\n",
              "       [ 1.21527741e+00, -9.87260626e-01,  8.94799570e-01,\n",
              "        -8.79049073e-01,  2.09110391e-01, -7.90569415e-01,\n",
              "         1.18884695e-01,  1.65635851e-01,  7.13580210e-02,\n",
              "         7.37939330e-01, -7.07106781e-01, -3.27150169e-01],\n",
              "       [-1.39806268e+00, -9.87260626e-01,  8.94799570e-01,\n",
              "        -8.79049073e-01, -1.53533993e+00,  1.26491106e+00,\n",
              "        -1.87711849e+00,  1.50379380e+00, -4.58730135e-01,\n",
              "         7.37939330e-01, -7.07106781e-01,  6.25928912e-01],\n",
              "       [-1.83361937e+00,  1.01290376e+00, -8.41261982e-01,\n",
              "        -8.79049073e-01,  2.09110391e-01, -7.90569415e-01,\n",
              "        -4.23979431e-01, -1.04507849e+00,  1.13153433e+00,\n",
              "        -1.35512495e+00, -7.07106781e-01,  7.17320057e-01],\n",
              "       [-9.62506001e-01, -9.87260626e-01, -5.38082834e-01,\n",
              "        -8.79049073e-01, -6.63114770e-01, -7.90569415e-01,\n",
              "         1.57276193e-01, -1.36368752e+00,  1.13153433e+00,\n",
              "         7.37939330e-01,  1.41421356e+00, -2.61870780e-01],\n",
              "       [-5.26949318e-01, -9.87260626e-01,  3.12172260e+00,\n",
              "        -8.79049073e-01, -1.53533993e+00, -7.90569415e-01,\n",
              "         1.18884695e-01,  2.23659459e+00, -7.23774213e-01,\n",
              "         7.37939330e-01,  1.41421356e+00,  1.42233746e+00],\n",
              "       [-9.62506001e-01, -9.87260626e-01,  8.94799570e-01,\n",
              "         1.13759292e+00,  3.46653590e-02, -7.90569415e-01,\n",
              "         7.96657380e-01,  2.45962091e+00, -4.58730135e-01,\n",
              "         7.37939330e-01,  1.41421356e+00, -1.26717337e+00],\n",
              "       [ 1.38950009e+00,  1.01290376e+00,  3.02878375e-01,\n",
              "        -8.79049073e-01,  6.45222972e-01, -7.90569415e-01,\n",
              "        -4.67573602e-01,  2.14101188e+00,  2.19171065e+00,\n",
              "         7.37939330e-01, -7.07106781e-01,  6.25928912e-01],\n",
              "       [ 8.28300377e-02,  1.01290376e+00,  1.15827669e+00,\n",
              "        -8.79049073e-01,  2.09110391e-01, -7.90569415e-01,\n",
              "         4.04309834e-01, -1.36368752e+00, -9.88818291e-01,\n",
              "        -1.35512495e+00, -7.07106781e-01,  1.31789044e+00],\n",
              "       [-9.62506001e-01,  1.01290376e+00, -1.30234694e-01,\n",
              "        -8.79049073e-01, -2.27002189e-01, -7.90569415e-01,\n",
              "         1.55228969e+00, -7.26469450e-01,  8.66490255e-01,\n",
              "         7.37939330e-01,  1.41421356e+00,  1.40928158e+00],\n",
              "       [-1.83361937e+00, -9.87260626e-01, -3.25135575e-01,\n",
              "        -8.79049073e-01,  6.45222972e-01,  1.26491106e+00,\n",
              "         2.88058709e-01, -7.26469450e-01,  8.66490255e-01,\n",
              "        -1.35512495e+00, -7.07106781e-01,  5.47593645e-01],\n",
              "       [-1.78503972e-01,  1.01290376e+00, -7.40202266e-01,\n",
              "        -8.79049073e-01,  6.45222972e-01,  1.26491106e+00,\n",
              "         1.55228969e+00, -8.92513774e-02,  6.01446177e-01,\n",
              "         7.37939330e-01,  1.41421356e+00, -1.44367880e-01],\n",
              "       [ 7.79720730e-01, -9.87260626e-01, -8.88182565e-01,\n",
              "         1.13759292e+00, -2.27002189e-01,  1.26491106e+00,\n",
              "        -2.78665525e-01,  2.29357659e-01, -1.25386237e+00,\n",
              "        -1.35512495e+00, -7.07106781e-01,  1.08288464e+00],\n",
              "       [-1.39806268e+00, -9.87260626e-01,  1.01390566e+00,\n",
              "         1.13759292e+00,  1.51744813e+00, -7.90569415e-01,\n",
              "        -4.82104993e-01, -1.04507849e+00,  1.13153433e+00,\n",
              "        -1.35512495e+00, -7.07106781e-01,  1.63123151e+00],\n",
              "       [-7.01171991e-01, -9.87260626e-01, -9.78414454e-01,\n",
              "         1.13759292e+00,  1.95356071e+00, -7.90569415e-01,\n",
              "         1.63947803e+00, -1.04507849e+00, -4.58730135e-01,\n",
              "         7.37939330e-01, -7.07106781e-01, -1.43689979e+00],\n",
              "       [-8.75394664e-01,  1.01290376e+00,  8.94799570e-01,\n",
              "         1.13759292e+00, -2.27002189e-01, -7.90569415e-01,\n",
              "         1.18884695e-01,  1.18518477e+00, -1.93686057e-01,\n",
              "         7.37939330e-01,  1.41421356e+00,  1.68973188e-01],\n",
              "       [ 8.28300377e-02, -9.87260626e-01, -1.09752055e+00,\n",
              "         1.13759292e+00,  1.95356071e+00,  1.26491106e+00,\n",
              "        -1.62414400e-01, -7.26469450e-01,  6.01446177e-01,\n",
              "         7.37939330e-01, -7.07106781e-01, -1.96591391e-01],\n",
              "       [-9.13926354e-02, -9.87260626e-01, -2.92652095e-01,\n",
              "        -8.79049073e-01, -2.27002189e-01, -7.90569415e-01,\n",
              "         3.46184271e-01,  1.82240284e+00,  8.66490255e-01,\n",
              "         7.37939330e-01, -7.07106781e-01,  1.53984036e+00],\n",
              "       [ 2.87039281e+00, -9.87260626e-01,  8.94799570e-01,\n",
              "         1.13759292e+00,  3.46653590e-02,  1.26491106e+00,\n",
              "         1.18884695e-01,  2.23659459e+00, -7.23774213e-01,\n",
              "         7.37939330e-01, -7.07106781e-01, -1.37162040e+00],\n",
              "       [-1.48517402e+00, -9.87260626e-01,  8.94799570e-01,\n",
              "         1.13759292e+00, -6.63114770e-01,  1.26491106e+00,\n",
              "         1.18884695e-01,  1.50379380e+00, -1.78395053e+00,\n",
              "         7.37939330e-01,  1.41421356e+00,  1.46150509e+00],\n",
              "       [ 7.79720730e-01, -9.87260626e-01, -6.24705448e-01,\n",
              "        -8.79049073e-01, -1.09922735e+00, -7.90569415e-01,\n",
              "        -1.62414400e-01,  2.29357659e-01,  1.39657841e+00,\n",
              "        -1.35512495e+00, -7.07106781e-01, -8.62441160e-01],\n",
              "       [ 7.79720730e-01,  1.01290376e+00, -9.92851556e-01,\n",
              "        -8.79049073e-01,  1.95356071e+00, -7.90569415e-01,\n",
              "        -2.56910328e-03, -8.92513774e-02, -1.93686057e-01,\n",
              "        -1.35512495e+00, -7.07106781e-01, -6.14379482e-01],\n",
              "       [ 1.21527741e+00,  1.01290376e+00, -3.17917024e-01,\n",
              "        -8.79049073e-01, -1.97145251e+00, -7.90569415e-01,\n",
              "        -1.86258710e+00,  2.29357659e-01,  7.13580210e-02,\n",
              "         7.37939330e-01, -7.07106781e-01, -1.59357032e+00],\n",
              "       [-9.13926354e-02,  1.01290376e+00,  1.51559497e+00,\n",
              "         1.13759292e+00,  2.09110391e-01,  1.26491106e+00,\n",
              "         1.05822241e+00,  2.29357659e-01, -2.84412684e+00,\n",
              "         7.37939330e-01, -7.07106781e-01, -5.36044215e-01],\n",
              "       [-5.26949318e-01, -9.87260626e-01,  8.58706814e-01,\n",
              "         1.13759292e+00, -2.27002189e-01, -7.90569415e-01,\n",
              "        -3.51322478e-01, -1.04507849e+00,  1.66162249e+00,\n",
              "        -1.35512495e+00, -7.07106781e-01,  1.08288464e+00],\n",
              "       [ 3.44164047e-01,  1.01290376e+00, -9.60368076e-01,\n",
              "         1.13759292e+00,  1.95356071e+00,  1.26491106e+00,\n",
              "         7.09469036e-01, -1.04507849e+00,  8.66490255e-01,\n",
              "         7.37939330e-01, -7.07106781e-01, -6.92714749e-01],\n",
              "       [-1.65939669e+00, -9.87260626e-01, -8.37652707e-01,\n",
              "         1.13759292e+00,  2.09110391e-01, -7.90569415e-01,\n",
              "        -2.64134134e-01,  2.29357659e-01,  8.66490255e-01,\n",
              "         7.37939330e-01, -7.07106781e-01, -7.57994138e-01],\n",
              "       [-1.65939669e+00, -9.87260626e-01,  8.94799570e-01,\n",
              "        -8.79049073e-01,  1.95356071e+00, -7.90569415e-01,\n",
              "         1.18884695e-01,  1.65635851e-01,  7.13580210e-02,\n",
              "        -1.35512495e+00, -7.07106781e-01, -6.53547115e-01],\n",
              "       [ 2.52194746e+00,  1.01290376e+00, -9.89242281e-01,\n",
              "         1.13759292e+00,  1.08133555e+00, -7.90569415e-01,\n",
              "        -4.23979431e-01, -4.07860414e-01, -7.23774213e-01,\n",
              "         7.37939330e-01, -7.07106781e-01, -1.33245276e+00]])"
            ]
          },
          "metadata": {
            "tags": []
          },
          "execution_count": 36
        }
      ]
    },
    {
      "cell_type": "code",
      "metadata": {
        "id": "hmgKQVtA4rlJ"
      },
      "source": [
        ""
      ],
      "execution_count": null,
      "outputs": []
    },
    {
      "cell_type": "markdown",
      "metadata": {
        "id": "wxTPqpX04y6U"
      },
      "source": [
        "# Without Normalize"
      ]
    },
    {
      "cell_type": "code",
      "metadata": {
        "colab": {
          "base_uri": "https://localhost:8080/"
        },
        "id": "ArPbI8OJ46kQ",
        "outputId": "2e391abe-7be3-460a-8ed6-b1154f922481"
      },
      "source": [
        "from sklearn.decomposition import PCA\n",
        "\n",
        "# เลือกทำ PCA ที่ X\n",
        "pca = PCA()\n",
        "pca.fit(X)"
      ],
      "execution_count": 38,
      "outputs": [
        {
          "output_type": "execute_result",
          "data": {
            "text/plain": [
              "PCA(copy=True, iterated_power='auto', n_components=None, random_state=None,\n",
              "    svd_solver='auto', tol=0.0, whiten=False)"
            ]
          },
          "metadata": {
            "tags": []
          },
          "execution_count": 38
        }
      ]
    },
    {
      "cell_type": "code",
      "metadata": {
        "colab": {
          "base_uri": "https://localhost:8080/",
          "height": 416
        },
        "id": "jCnUOvWN5K-j",
        "outputId": "8922f673-7903-4005-893f-d5db16cf9575"
      },
      "source": [
        "# ดู EigenVector \n",
        "\n",
        "df_component = pd.DataFrame(pca.components_)\n",
        "df_component.columns = X.columns # ใช้ชื่อคอลัมน์ตาม X เพราะเป็นข้อมูลที่ตัด target ไปแล้ว\n",
        "df_component = df_component.T\n",
        "df_component.columns = ['PC1','PC2','PC3','PC4','PC5','PC6','PC7','PC8','PC9','PC10','PC11','PC12']\n",
        "df_component"
      ],
      "execution_count": 42,
      "outputs": [
        {
          "output_type": "execute_result",
          "data": {
            "text/html": [
              "<div>\n",
              "<style scoped>\n",
              "    .dataframe tbody tr th:only-of-type {\n",
              "        vertical-align: middle;\n",
              "    }\n",
              "\n",
              "    .dataframe tbody tr th {\n",
              "        vertical-align: top;\n",
              "    }\n",
              "\n",
              "    .dataframe thead th {\n",
              "        text-align: right;\n",
              "    }\n",
              "</style>\n",
              "<table border=\"1\" class=\"dataframe\">\n",
              "  <thead>\n",
              "    <tr style=\"text-align: right;\">\n",
              "      <th></th>\n",
              "      <th>PC1</th>\n",
              "      <th>PC2</th>\n",
              "      <th>PC3</th>\n",
              "      <th>PC4</th>\n",
              "      <th>PC5</th>\n",
              "      <th>PC6</th>\n",
              "      <th>PC7</th>\n",
              "      <th>PC8</th>\n",
              "      <th>PC9</th>\n",
              "      <th>PC10</th>\n",
              "      <th>PC11</th>\n",
              "      <th>PC12</th>\n",
              "    </tr>\n",
              "  </thead>\n",
              "  <tbody>\n",
              "    <tr>\n",
              "      <th>age</th>\n",
              "      <td>-1.614416e-05</td>\n",
              "      <td>0.001272</td>\n",
              "      <td>-0.037035</td>\n",
              "      <td>-7.071726e-01</td>\n",
              "      <td>-0.705917</td>\n",
              "      <td>-1.170732e-02</td>\n",
              "      <td>-5.682290e-04</td>\n",
              "      <td>1.431024e-03</td>\n",
              "      <td>-3.203678e-03</td>\n",
              "      <td>-2.089716e-03</td>\n",
              "      <td>4.108766e-03</td>\n",
              "      <td>-6.670001e-03</td>\n",
              "    </tr>\n",
              "    <tr>\n",
              "      <th>anaemia</th>\n",
              "      <td>1.235308e-07</td>\n",
              "      <td>-0.000367</td>\n",
              "      <td>-0.000391</td>\n",
              "      <td>-4.092668e-04</td>\n",
              "      <td>-0.002860</td>\n",
              "      <td>-8.225731e-03</td>\n",
              "      <td>-3.229568e-01</td>\n",
              "      <td>-6.396956e-01</td>\n",
              "      <td>1.616615e-01</td>\n",
              "      <td>6.735846e-01</td>\n",
              "      <td>7.989244e-02</td>\n",
              "      <td>1.336964e-02</td>\n",
              "    </tr>\n",
              "    <tr>\n",
              "      <th>creatinine_phosphokinase</th>\n",
              "      <td>1.142060e-04</td>\n",
              "      <td>0.999372</td>\n",
              "      <td>-0.034848</td>\n",
              "      <td>-2.256455e-03</td>\n",
              "      <td>0.005911</td>\n",
              "      <td>-1.369588e-03</td>\n",
              "      <td>2.777529e-05</td>\n",
              "      <td>-2.047030e-04</td>\n",
              "      <td>4.406310e-05</td>\n",
              "      <td>3.364209e-04</td>\n",
              "      <td>4.745469e-05</td>\n",
              "      <td>-9.077513e-05</td>\n",
              "    </tr>\n",
              "    <tr>\n",
              "      <th>diabetes</th>\n",
              "      <td>-1.026003e-07</td>\n",
              "      <td>0.000003</td>\n",
              "      <td>0.000405</td>\n",
              "      <td>3.521377e-05</td>\n",
              "      <td>0.001494</td>\n",
              "      <td>1.913214e-02</td>\n",
              "      <td>-3.283138e-01</td>\n",
              "      <td>6.370355e-01</td>\n",
              "      <td>-4.226621e-01</td>\n",
              "      <td>5.532028e-01</td>\n",
              "      <td>-2.968402e-02</td>\n",
              "      <td>-2.167010e-02</td>\n",
              "    </tr>\n",
              "    <tr>\n",
              "      <th>ejection_fraction</th>\n",
              "      <td>1.459194e-05</td>\n",
              "      <td>-0.005295</td>\n",
              "      <td>0.011343</td>\n",
              "      <td>-7.060393e-01</td>\n",
              "      <td>0.705668</td>\n",
              "      <td>5.746641e-02</td>\n",
              "      <td>6.208776e-03</td>\n",
              "      <td>-3.364518e-03</td>\n",
              "      <td>-5.186950e-04</td>\n",
              "      <td>3.350563e-03</td>\n",
              "      <td>-2.131477e-03</td>\n",
              "      <td>4.060221e-03</td>\n",
              "    </tr>\n",
              "    <tr>\n",
              "      <th>high_blood_pressure</th>\n",
              "      <td>6.068960e-07</td>\n",
              "      <td>-0.000032</td>\n",
              "      <td>-0.001504</td>\n",
              "      <td>-3.865983e-03</td>\n",
              "      <td>-0.000352</td>\n",
              "      <td>-2.433995e-03</td>\n",
              "      <td>-1.967892e-01</td>\n",
              "      <td>4.068513e-01</td>\n",
              "      <td>8.821374e-01</td>\n",
              "      <td>8.753807e-02</td>\n",
              "      <td>-7.257233e-02</td>\n",
              "      <td>6.802011e-02</td>\n",
              "    </tr>\n",
              "    <tr>\n",
              "      <th>platelets</th>\n",
              "      <td>1.000000e+00</td>\n",
              "      <td>-0.000116</td>\n",
              "      <td>-0.000039</td>\n",
              "      <td>-6.088712e-08</td>\n",
              "      <td>-0.000021</td>\n",
              "      <td>-4.301432e-07</td>\n",
              "      <td>7.570697e-07</td>\n",
              "      <td>7.228664e-09</td>\n",
              "      <td>-6.322152e-07</td>\n",
              "      <td>2.109091e-07</td>\n",
              "      <td>-3.916458e-07</td>\n",
              "      <td>-3.159529e-07</td>\n",
              "    </tr>\n",
              "    <tr>\n",
              "      <th>serum_creatinine</th>\n",
              "      <td>-1.622525e-07</td>\n",
              "      <td>0.000140</td>\n",
              "      <td>-0.000554</td>\n",
              "      <td>-1.321339e-03</td>\n",
              "      <td>-0.009685</td>\n",
              "      <td>1.420818e-02</td>\n",
              "      <td>4.169625e-02</td>\n",
              "      <td>-4.299953e-02</td>\n",
              "      <td>-7.722032e-02</td>\n",
              "      <td>2.835625e-02</td>\n",
              "      <td>-4.091721e-01</td>\n",
              "      <td>9.066013e-01</td>\n",
              "    </tr>\n",
              "    <tr>\n",
              "      <th>serum_sodium</th>\n",
              "      <td>4.751433e-07</td>\n",
              "      <td>-0.001651</td>\n",
              "      <td>0.002153</td>\n",
              "      <td>-3.238791e-02</td>\n",
              "      <td>0.048785</td>\n",
              "      <td>-9.979230e-01</td>\n",
              "      <td>-3.406201e-03</td>\n",
              "      <td>1.482696e-02</td>\n",
              "      <td>-1.286391e-02</td>\n",
              "      <td>5.051539e-03</td>\n",
              "      <td>-1.432272e-02</td>\n",
              "      <td>9.256868e-03</td>\n",
              "    </tr>\n",
              "    <tr>\n",
              "      <th>sex</th>\n",
              "      <td>-9.489329e-07</td>\n",
              "      <td>-0.000093</td>\n",
              "      <td>0.000192</td>\n",
              "      <td>2.465326e-03</td>\n",
              "      <td>-0.005088</td>\n",
              "      <td>4.555777e-03</td>\n",
              "      <td>6.207130e-01</td>\n",
              "      <td>8.627996e-03</td>\n",
              "      <td>7.145084e-02</td>\n",
              "      <td>3.677383e-01</td>\n",
              "      <td>-6.144405e-01</td>\n",
              "      <td>-3.109892e-01</td>\n",
              "    </tr>\n",
              "    <tr>\n",
              "      <th>smoking</th>\n",
              "      <td>-1.990219e-07</td>\n",
              "      <td>-0.000096</td>\n",
              "      <td>-0.000107</td>\n",
              "      <td>2.505357e-03</td>\n",
              "      <td>-0.002609</td>\n",
              "      <td>-6.708013e-03</td>\n",
              "      <td>6.017550e-01</td>\n",
              "      <td>1.314939e-01</td>\n",
              "      <td>7.622121e-02</td>\n",
              "      <td>3.106618e-01</td>\n",
              "      <td>6.650442e-01</td>\n",
              "      <td>2.755684e-01</td>\n",
              "    </tr>\n",
              "    <tr>\n",
              "      <th>time</th>\n",
              "      <td>4.254246e-05</td>\n",
              "      <td>0.034984</td>\n",
              "      <td>0.998638</td>\n",
              "      <td>-1.822236e-02</td>\n",
              "      <td>-0.034100</td>\n",
              "      <td>1.008719e-03</td>\n",
              "      <td>-4.045750e-04</td>\n",
              "      <td>1.445324e-04</td>\n",
              "      <td>1.431150e-03</td>\n",
              "      <td>3.416971e-05</td>\n",
              "      <td>1.058210e-04</td>\n",
              "      <td>3.918939e-04</td>\n",
              "    </tr>\n",
              "  </tbody>\n",
              "</table>\n",
              "</div>"
            ],
            "text/plain": [
              "                                   PC1       PC2  ...          PC11          PC12\n",
              "age                      -1.614416e-05  0.001272  ...  4.108766e-03 -6.670001e-03\n",
              "anaemia                   1.235308e-07 -0.000367  ...  7.989244e-02  1.336964e-02\n",
              "creatinine_phosphokinase  1.142060e-04  0.999372  ...  4.745469e-05 -9.077513e-05\n",
              "diabetes                 -1.026003e-07  0.000003  ... -2.968402e-02 -2.167010e-02\n",
              "ejection_fraction         1.459194e-05 -0.005295  ... -2.131477e-03  4.060221e-03\n",
              "high_blood_pressure       6.068960e-07 -0.000032  ... -7.257233e-02  6.802011e-02\n",
              "platelets                 1.000000e+00 -0.000116  ... -3.916458e-07 -3.159529e-07\n",
              "serum_creatinine         -1.622525e-07  0.000140  ... -4.091721e-01  9.066013e-01\n",
              "serum_sodium              4.751433e-07 -0.001651  ... -1.432272e-02  9.256868e-03\n",
              "sex                      -9.489329e-07 -0.000093  ... -6.144405e-01 -3.109892e-01\n",
              "smoking                  -1.990219e-07 -0.000096  ...  6.650442e-01  2.755684e-01\n",
              "time                      4.254246e-05  0.034984  ...  1.058210e-04  3.918939e-04\n",
              "\n",
              "[12 rows x 12 columns]"
            ]
          },
          "metadata": {
            "tags": []
          },
          "execution_count": 42
        }
      ]
    },
    {
      "cell_type": "code",
      "metadata": {
        "colab": {
          "base_uri": "https://localhost:8080/",
          "height": 78
        },
        "id": "b6YkIdYY5eZ-",
        "outputId": "cad274ab-3ae5-49aa-9a8b-ad7ec5c73ae7"
      },
      "source": [
        "# Variance ratio\n",
        "df_var = pd.DataFrame(pca.explained_variance_ratio_*100)\n",
        "df_var.columns = ['Variance']\n",
        "df_var = df_var.T\n",
        "df_var.columns = df_var.columns+1\n",
        "df_var"
      ],
      "execution_count": 43,
      "outputs": [
        {
          "output_type": "execute_result",
          "data": {
            "text/html": [
              "<div>\n",
              "<style scoped>\n",
              "    .dataframe tbody tr th:only-of-type {\n",
              "        vertical-align: middle;\n",
              "    }\n",
              "\n",
              "    .dataframe tbody tr th {\n",
              "        vertical-align: top;\n",
              "    }\n",
              "\n",
              "    .dataframe thead th {\n",
              "        text-align: right;\n",
              "    }\n",
              "</style>\n",
              "<table border=\"1\" class=\"dataframe\">\n",
              "  <thead>\n",
              "    <tr style=\"text-align: right;\">\n",
              "      <th></th>\n",
              "      <th>1</th>\n",
              "      <th>2</th>\n",
              "      <th>3</th>\n",
              "      <th>4</th>\n",
              "      <th>5</th>\n",
              "      <th>6</th>\n",
              "      <th>7</th>\n",
              "      <th>8</th>\n",
              "      <th>9</th>\n",
              "      <th>10</th>\n",
              "      <th>11</th>\n",
              "      <th>12</th>\n",
              "    </tr>\n",
              "  </thead>\n",
              "  <tbody>\n",
              "    <tr>\n",
              "      <th>Variance</th>\n",
              "      <td>99.998132</td>\n",
              "      <td>0.001733</td>\n",
              "      <td>0.000128</td>\n",
              "      <td>0.000003</td>\n",
              "      <td>0.000003</td>\n",
              "      <td>3.075749e-07</td>\n",
              "      <td>8.008607e-09</td>\n",
              "      <td>5.460765e-09</td>\n",
              "      <td>4.618236e-09</td>\n",
              "      <td>4.497986e-09</td>\n",
              "      <td>2.694034e-09</td>\n",
              "      <td>1.809951e-09</td>\n",
              "    </tr>\n",
              "  </tbody>\n",
              "</table>\n",
              "</div>"
            ],
            "text/plain": [
              "                 1         2   ...            11            12\n",
              "Variance  99.998132  0.001733  ...  2.694034e-09  1.809951e-09\n",
              "\n",
              "[1 rows x 12 columns]"
            ]
          },
          "metadata": {
            "tags": []
          },
          "execution_count": 43
        }
      ]
    },
    {
      "cell_type": "code",
      "metadata": {
        "colab": {
          "base_uri": "https://localhost:8080/",
          "height": 351
        },
        "id": "bEfOBLq16FNn",
        "outputId": "a591e09c-8c7c-4806-b5e3-8c42e7a8b52c"
      },
      "source": [
        "# Plot cummulative variance \n",
        "plt.figure(figsize=(10, 5))\n",
        "plt.title('Cumulative Explained Variance as a Function of the Number of Components',fontsize=14)\n",
        "plt.ylabel('Cumulative Explained variance')\n",
        "plt.xlabel('Principal components')\n",
        "cum_var = np.cumsum(df_var.values)\n",
        "plt.plot(cum_var, color='r', marker='o')\n",
        "plt.show()"
      ],
      "execution_count": 44,
      "outputs": [
        {
          "output_type": "display_data",
          "data": {
            "image/png": "[encoded data removed]",
            "text/plain": [
              "<Figure size 720x360 with 1 Axes>"
            ]
          },
          "metadata": {
            "tags": [],
            "needs_background": "light"
          }
        }
      ]
    },
    {
      "cell_type": "code",
      "metadata": {
        "id": "mda5MKxE6KRW"
      },
      "source": [
        "# ที่ component ที่ 1 ก็จะได้ค่า Variance ประมาณ 99 ส่วนแล้ว"
      ],
      "execution_count": 45,
      "outputs": []
    },
    {
      "cell_type": "code",
      "metadata": {
        "id": "PSymrfK96n9h"
      },
      "source": [
        ""
      ],
      "execution_count": null,
      "outputs": []
    },
    {
      "cell_type": "markdown",
      "metadata": {
        "id": "bw8F2agJ6ovC"
      },
      "source": [
        "# With Normalization"
      ]
    },
    {
      "cell_type": "code",
      "metadata": {
        "colab": {
          "base_uri": "https://localhost:8080/"
        },
        "id": "_joDJ7Xy6r-O",
        "outputId": "ff813e63-bce4-4150-c4cd-7ba89f1b85b0"
      },
      "source": [
        "# เลือกทำ PCA ที่ X_train_norm\n",
        "pca = PCA()\n",
        "pca.fit(X_train_norm)"
      ],
      "execution_count": 46,
      "outputs": [
        {
          "output_type": "execute_result",
          "data": {
            "text/plain": [
              "PCA(copy=True, iterated_power='auto', n_components=None, random_state=None,\n",
              "    svd_solver='auto', tol=0.0, whiten=False)"
            ]
          },
          "metadata": {
            "tags": []
          },
          "execution_count": 46
        }
      ]
    },
    {
      "cell_type": "code",
      "metadata": {
        "colab": {
          "base_uri": "https://localhost:8080/",
          "height": 416
        },
        "id": "G4UlY42M7xdj",
        "outputId": "07698b48-0cae-4c99-c5e5-61d75e82618c"
      },
      "source": [
        "# ดู EigenVector \n",
        "\n",
        "df_component = pd.DataFrame(pca.components_)\n",
        "df_component.columns = X.columns # ใช้ชื่อคอลัมน์ตาม X เพราะเป็นข้อมูลที่ตัด target ไปแล้ว\n",
        "df_component = df_component.T\n",
        "df_component.columns = ['PC1','PC2','PC3','PC4','PC5','PC6','PC7','PC8','PC9','PC10','PC11','PC12']\n",
        "df_component"
      ],
      "execution_count": 47,
      "outputs": [
        {
          "output_type": "execute_result",
          "data": {
            "text/html": [
              "<div>\n",
              "<style scoped>\n",
              "    .dataframe tbody tr th:only-of-type {\n",
              "        vertical-align: middle;\n",
              "    }\n",
              "\n",
              "    .dataframe tbody tr th {\n",
              "        vertical-align: top;\n",
              "    }\n",
              "\n",
              "    .dataframe thead th {\n",
              "        text-align: right;\n",
              "    }\n",
              "</style>\n",
              "<table border=\"1\" class=\"dataframe\">\n",
              "  <thead>\n",
              "    <tr style=\"text-align: right;\">\n",
              "      <th></th>\n",
              "      <th>PC1</th>\n",
              "      <th>PC2</th>\n",
              "      <th>PC3</th>\n",
              "      <th>PC4</th>\n",
              "      <th>PC5</th>\n",
              "      <th>PC6</th>\n",
              "      <th>PC7</th>\n",
              "      <th>PC8</th>\n",
              "      <th>PC9</th>\n",
              "      <th>PC10</th>\n",
              "      <th>PC11</th>\n",
              "      <th>PC12</th>\n",
              "    </tr>\n",
              "  </thead>\n",
              "  <tbody>\n",
              "    <tr>\n",
              "      <th>age</th>\n",
              "      <td>0.006760</td>\n",
              "      <td>0.443272</td>\n",
              "      <td>-0.365139</td>\n",
              "      <td>-0.026670</td>\n",
              "      <td>0.460091</td>\n",
              "      <td>-0.226617</td>\n",
              "      <td>0.015890</td>\n",
              "      <td>-0.169974</td>\n",
              "      <td>-0.108851</td>\n",
              "      <td>-0.087504</td>\n",
              "      <td>0.458104</td>\n",
              "      <td>0.384550</td>\n",
              "    </tr>\n",
              "    <tr>\n",
              "      <th>anaemia</th>\n",
              "      <td>0.303524</td>\n",
              "      <td>0.051027</td>\n",
              "      <td>-0.005188</td>\n",
              "      <td>-0.527651</td>\n",
              "      <td>0.107432</td>\n",
              "      <td>0.425188</td>\n",
              "      <td>0.140580</td>\n",
              "      <td>-0.311409</td>\n",
              "      <td>-0.260532</td>\n",
              "      <td>0.487920</td>\n",
              "      <td>-0.103454</td>\n",
              "      <td>0.033421</td>\n",
              "    </tr>\n",
              "    <tr>\n",
              "      <th>creatinine_phosphokinase</th>\n",
              "      <td>-0.013844</td>\n",
              "      <td>0.219647</td>\n",
              "      <td>0.305765</td>\n",
              "      <td>0.575257</td>\n",
              "      <td>0.264041</td>\n",
              "      <td>-0.157654</td>\n",
              "      <td>0.396014</td>\n",
              "      <td>-0.236595</td>\n",
              "      <td>-0.244739</td>\n",
              "      <td>0.237198</td>\n",
              "      <td>-0.304112</td>\n",
              "      <td>-0.105495</td>\n",
              "    </tr>\n",
              "    <tr>\n",
              "      <th>diabetes</th>\n",
              "      <td>0.220733</td>\n",
              "      <td>0.000943</td>\n",
              "      <td>0.386262</td>\n",
              "      <td>-0.279924</td>\n",
              "      <td>-0.206438</td>\n",
              "      <td>-0.503714</td>\n",
              "      <td>-0.170200</td>\n",
              "      <td>-0.519300</td>\n",
              "      <td>-0.045147</td>\n",
              "      <td>-0.296151</td>\n",
              "      <td>-0.131881</td>\n",
              "      <td>0.146968</td>\n",
              "    </tr>\n",
              "    <tr>\n",
              "      <th>ejection_fraction</th>\n",
              "      <td>0.213177</td>\n",
              "      <td>-0.273706</td>\n",
              "      <td>-0.378028</td>\n",
              "      <td>0.015265</td>\n",
              "      <td>0.438191</td>\n",
              "      <td>-0.278195</td>\n",
              "      <td>-0.457254</td>\n",
              "      <td>0.052182</td>\n",
              "      <td>-0.173121</td>\n",
              "      <td>0.061666</td>\n",
              "      <td>-0.392365</td>\n",
              "      <td>-0.259943</td>\n",
              "    </tr>\n",
              "    <tr>\n",
              "      <th>high_blood_pressure</th>\n",
              "      <td>0.304816</td>\n",
              "      <td>0.257024</td>\n",
              "      <td>-0.324923</td>\n",
              "      <td>0.156712</td>\n",
              "      <td>-0.364303</td>\n",
              "      <td>-0.246659</td>\n",
              "      <td>-0.024375</td>\n",
              "      <td>-0.145701</td>\n",
              "      <td>0.525088</td>\n",
              "      <td>0.449929</td>\n",
              "      <td>0.008652</td>\n",
              "      <td>-0.131464</td>\n",
              "    </tr>\n",
              "    <tr>\n",
              "      <th>platelets</th>\n",
              "      <td>0.212514</td>\n",
              "      <td>-0.154503</td>\n",
              "      <td>-0.060771</td>\n",
              "      <td>0.504381</td>\n",
              "      <td>-0.071663</td>\n",
              "      <td>0.500004</td>\n",
              "      <td>-0.385193</td>\n",
              "      <td>-0.408110</td>\n",
              "      <td>0.011473</td>\n",
              "      <td>-0.143984</td>\n",
              "      <td>0.046690</td>\n",
              "      <td>0.282424</td>\n",
              "    </tr>\n",
              "    <tr>\n",
              "      <th>serum_creatinine</th>\n",
              "      <td>-0.160063</td>\n",
              "      <td>0.518945</td>\n",
              "      <td>0.054358</td>\n",
              "      <td>-0.148383</td>\n",
              "      <td>0.243220</td>\n",
              "      <td>0.306117</td>\n",
              "      <td>-0.142947</td>\n",
              "      <td>-0.176277</td>\n",
              "      <td>0.369767</td>\n",
              "      <td>-0.338237</td>\n",
              "      <td>-0.265714</td>\n",
              "      <td>-0.392424</td>\n",
              "    </tr>\n",
              "    <tr>\n",
              "      <th>serum_sodium</th>\n",
              "      <td>0.202840</td>\n",
              "      <td>-0.357784</td>\n",
              "      <td>-0.370808</td>\n",
              "      <td>-0.034153</td>\n",
              "      <td>0.087076</td>\n",
              "      <td>0.029678</td>\n",
              "      <td>0.641680</td>\n",
              "      <td>-0.203880</td>\n",
              "      <td>0.227588</td>\n",
              "      <td>-0.397926</td>\n",
              "      <td>-0.142214</td>\n",
              "      <td>-0.005640</td>\n",
              "    </tr>\n",
              "    <tr>\n",
              "      <th>sex</th>\n",
              "      <td>-0.595320</td>\n",
              "      <td>-0.088465</td>\n",
              "      <td>-0.151698</td>\n",
              "      <td>-0.091547</td>\n",
              "      <td>0.009877</td>\n",
              "      <td>-0.042504</td>\n",
              "      <td>-0.039703</td>\n",
              "      <td>-0.144139</td>\n",
              "      <td>0.219997</td>\n",
              "      <td>0.217185</td>\n",
              "      <td>-0.460756</td>\n",
              "      <td>0.523694</td>\n",
              "    </tr>\n",
              "    <tr>\n",
              "      <th>smoking</th>\n",
              "      <td>-0.494430</td>\n",
              "      <td>-0.120627</td>\n",
              "      <td>-0.291052</td>\n",
              "      <td>0.004595</td>\n",
              "      <td>-0.240271</td>\n",
              "      <td>-0.045199</td>\n",
              "      <td>-0.011494</td>\n",
              "      <td>-0.475064</td>\n",
              "      <td>-0.306090</td>\n",
              "      <td>0.036509</td>\n",
              "      <td>0.254910</td>\n",
              "      <td>-0.458980</td>\n",
              "    </tr>\n",
              "    <tr>\n",
              "      <th>time</th>\n",
              "      <td>-0.098811</td>\n",
              "      <td>-0.410027</td>\n",
              "      <td>0.351576</td>\n",
              "      <td>-0.028590</td>\n",
              "      <td>0.458270</td>\n",
              "      <td>-0.051008</td>\n",
              "      <td>-0.047373</td>\n",
              "      <td>-0.197172</td>\n",
              "      <td>0.471068</td>\n",
              "      <td>0.249172</td>\n",
              "      <td>0.381120</td>\n",
              "      <td>-0.121299</td>\n",
              "    </tr>\n",
              "  </tbody>\n",
              "</table>\n",
              "</div>"
            ],
            "text/plain": [
              "                               PC1       PC2  ...      PC11      PC12\n",
              "age                       0.006760  0.443272  ...  0.458104  0.384550\n",
              "anaemia                   0.303524  0.051027  ... -0.103454  0.033421\n",
              "creatinine_phosphokinase -0.013844  0.219647  ... -0.304112 -0.105495\n",
              "diabetes                  0.220733  0.000943  ... -0.131881  0.146968\n",
              "ejection_fraction         0.213177 -0.273706  ... -0.392365 -0.259943\n",
              "high_blood_pressure       0.304816  0.257024  ...  0.008652 -0.131464\n",
              "platelets                 0.212514 -0.154503  ...  0.046690  0.282424\n",
              "serum_creatinine         -0.160063  0.518945  ... -0.265714 -0.392424\n",
              "serum_sodium              0.202840 -0.357784  ... -0.142214 -0.005640\n",
              "sex                      -0.595320 -0.088465  ... -0.460756  0.523694\n",
              "smoking                  -0.494430 -0.120627  ...  0.254910 -0.458980\n",
              "time                     -0.098811 -0.410027  ...  0.381120 -0.121299\n",
              "\n",
              "[12 rows x 12 columns]"
            ]
          },
          "metadata": {
            "tags": []
          },
          "execution_count": 47
        }
      ]
    },
    {
      "cell_type": "code",
      "metadata": {
        "colab": {
          "base_uri": "https://localhost:8080/",
          "height": 78
        },
        "id": "2lucfQzz9yGX",
        "outputId": "aab8fb38-f198-46b6-f3fe-f253c14d201d"
      },
      "source": [
        "# Variance ratio\n",
        "df_var = pd.DataFrame(pca.explained_variance_ratio_*100)\n",
        "df_var.columns = ['Variance']\n",
        "df_var = df_var.T\n",
        "df_var.columns = df_var.columns+1\n",
        "df_var"
      ],
      "execution_count": 48,
      "outputs": [
        {
          "output_type": "execute_result",
          "data": {
            "text/html": [
              "<div>\n",
              "<style scoped>\n",
              "    .dataframe tbody tr th:only-of-type {\n",
              "        vertical-align: middle;\n",
              "    }\n",
              "\n",
              "    .dataframe tbody tr th {\n",
              "        vertical-align: top;\n",
              "    }\n",
              "\n",
              "    .dataframe thead th {\n",
              "        text-align: right;\n",
              "    }\n",
              "</style>\n",
              "<table border=\"1\" class=\"dataframe\">\n",
              "  <thead>\n",
              "    <tr style=\"text-align: right;\">\n",
              "      <th></th>\n",
              "      <th>1</th>\n",
              "      <th>2</th>\n",
              "      <th>3</th>\n",
              "      <th>4</th>\n",
              "      <th>5</th>\n",
              "      <th>6</th>\n",
              "      <th>7</th>\n",
              "      <th>8</th>\n",
              "      <th>9</th>\n",
              "      <th>10</th>\n",
              "      <th>11</th>\n",
              "      <th>12</th>\n",
              "    </tr>\n",
              "  </thead>\n",
              "  <tbody>\n",
              "    <tr>\n",
              "      <th>Variance</th>\n",
              "      <td>15.203773</td>\n",
              "      <td>14.007827</td>\n",
              "      <td>11.047861</td>\n",
              "      <td>9.872022</td>\n",
              "      <td>9.310931</td>\n",
              "      <td>9.066354</td>\n",
              "      <td>6.92569</td>\n",
              "      <td>6.15242</td>\n",
              "      <td>5.630451</td>\n",
              "      <td>5.196552</td>\n",
              "      <td>4.127672</td>\n",
              "      <td>3.458447</td>\n",
              "    </tr>\n",
              "  </tbody>\n",
              "</table>\n",
              "</div>"
            ],
            "text/plain": [
              "                 1          2          3   ...        10        11        12\n",
              "Variance  15.203773  14.007827  11.047861  ...  5.196552  4.127672  3.458447\n",
              "\n",
              "[1 rows x 12 columns]"
            ]
          },
          "metadata": {
            "tags": []
          },
          "execution_count": 48
        }
      ]
    },
    {
      "cell_type": "code",
      "metadata": {
        "colab": {
          "base_uri": "https://localhost:8080/",
          "height": 351
        },
        "id": "mx-NFusK90cX",
        "outputId": "900a658e-1c20-4fd4-cf05-eaaa3bf7930a"
      },
      "source": [
        "# Plot cummulative variance \n",
        "plt.figure(figsize=(10, 5))\n",
        "plt.title('Cumulative Explained Variance as a Function of the Number of Components',fontsize=14)\n",
        "plt.ylabel('Cumulative Explained variance')\n",
        "plt.xlabel('Principal components')\n",
        "cum_var = np.cumsum(df_var.values)\n",
        "plt.plot(cum_var, color='r', marker='o')\n",
        "plt.show()"
      ],
      "execution_count": 49,
      "outputs": [
        {
          "output_type": "display_data",
          "data": {
            "image/png": "[encoded data removed]",
            "text/plain": [
              "<Figure size 720x360 with 1 Axes>"
            ]
          },
          "metadata": {
            "tags": [],
            "needs_background": "light"
          }
        }
      ]
    },
    {
      "cell_type": "code",
      "metadata": {
        "id": "A4Yi5HOm92eX"
      },
      "source": [
        "# แบบว่ามันจะต่างกับตอนไม่ Normalization มากคือตอนยังไม่ทำ Norm จะใช้ 1 component แต่พอทำ Normalization แล้วมันจะต้องใช้ถึง 11 ตังถึงจะได้ 96.541553%"
      ],
      "execution_count": 50,
      "outputs": []
    },
    {
      "cell_type": "code",
      "metadata": {
        "id": "iTC7VWkz-mj5"
      },
      "source": [
        ""
      ],
      "execution_count": null,
      "outputs": []
    },
    {
      "cell_type": "markdown",
      "metadata": {
        "id": "Wj7pmNGf-pzx"
      },
      "source": [
        "# Summary"
      ]
    },
    {
      "cell_type": "markdown",
      "metadata": {
        "id": "nRbo4lmO-wxr"
      },
      "source": [
        "การทำ PCA แบบที่ไม่ได้ Normalize เหมือนตัวข้อมูลมันจะดูมีความเกี่ยวข้องกันน้อยทำให้เมื่อแบ่งเป็น Component มันจะมี Var หรือความหลากหลายที่ component ที่ 1 เยอะมากถึง 99.998132 และที่ตัวอื่นก็จะเหลือแค่น้อย ๆ ดังนั้นเราสามารถเลือกใช้แค่ 1 component ได้ แต่ถ้าทำ Normalize แล้วมันจะเหมือนลด weight ลงมา พอมันลดลงมาแล้วมันจะทำให้ตัวข้อมูลในแต่ละ Feature มีความใกล้เคียงกันมากขึ้น คือจะดูเหมือนมีความเกี่ยวพันธ์กันขึ้นมาเลยทำให้ค่า Variance ในแต่ละ Component ลดลง \n",
        "\n",
        "\n",
        "ที่ Component 1 จะลดลงจาก 99.98 เป็น 15.20 และรวมใช้ 11 component ถึงจะมีค่า var สะสม มากกว่า 95 "
      ]
    },
    {
      "cell_type": "markdown",
      "metadata": {
        "id": "LwSnsylNBLR-"
      },
      "source": [
        "![image.png](data:image/png;base64,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)"
      ]
    },
    {
      "cell_type": "markdown",
      "metadata": {
        "id": "0VP7nlkYBO6O"
      },
      "source": [
        "ภาพด้านบนเป็นผลรวมของ Var หลังจากการทำ PCA แบบ Normalize ซึ่งจะเห็นได้ว่าต้องใช้ถึง 11 ตัวถึงจะได้ค่า var รวมมากกว่า 95 ซึ่งแบบนี้คิดว่าการทำ PCA ขึ้นมาเพื่อลดตัวแปร แต่ว่าตอนนี้ก็ใช้ถึง 11 ตัว จากที่ถ้าไม่ทำ PCA ก็ใช้ 12 ตัว คือลดไปแค่ตัวเดียวเลยคิดว่าไม่คุ้มถ้าจะทำ ซึ่งมันเป็นที่ตัวข้อมูลด้วยคือมันไม่ค่อยมีสัดส่วนที่แตกต่างกันมาก"
      ]
    },
    {
      "cell_type": "code",
      "metadata": {
        "id": "sLsvskxB-r_u"
      },
      "source": [
        ""
      ],
      "execution_count": null,
      "outputs": []
    }
  ]
}