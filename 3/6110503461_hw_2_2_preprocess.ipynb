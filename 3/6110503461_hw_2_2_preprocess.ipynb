{
  "nbformat": 4,
  "nbformat_minor": 0,
  "metadata": {
    "colab": {
      "name": "Copy of 6110503461_hw#2_2_preprocess.ipynb",
      "provenance": [],
      "toc_visible": true
    },
    "kernelspec": {
      "name": "python3",
      "display_name": "Python 3"
    },
    "language_info": {
      "name": "python"
    }
  },
  "cells": [
    {
      "cell_type": "markdown",
      "metadata": {
        "id": "B_Cd8taWm1T2"
      },
      "source": [
        "# Importing dataset  "
      ]
    },
    {
      "cell_type": "code",
      "metadata": {
        "id": "QLeLtPzLmdis"
      },
      "source": [
        "# import library ที่สำคัญ\n",
        "import pandas as pd\n",
        "import numpy as np\n",
        "import matplotlib.pyplot as plt\n",
        "%matplotlib inline\n",
        "import seaborn as sns"
      ],
      "execution_count": 183,
      "outputs": []
    },
    {
      "cell_type": "code",
      "metadata": {
        "colab": {
          "base_uri": "https://localhost:8080/",
          "height": 241
        },
        "id": "oI67KtevnCb3",
        "outputId": "ffa65ef7-cd98-4717-f631-fd04b7bd01eb"
      },
      "source": [
        "#load ข้อมูลเข้ามาเก็บใน datafram data\n",
        "AL=pd.read_csv('fulltimeAL.csv')\n",
        "AL.head(3)"
      ],
      "execution_count": 184,
      "outputs": [
        {
          "output_type": "execute_result",
          "data": {
            "text/html": [
              "<div>\n",
              "<style scoped>\n",
              "    .dataframe tbody tr th:only-of-type {\n",
              "        vertical-align: middle;\n",
              "    }\n",
              "\n",
              "    .dataframe tbody tr th {\n",
              "        vertical-align: top;\n",
              "    }\n",
              "\n",
              "    .dataframe thead th {\n",
              "        text-align: right;\n",
              "    }\n",
              "</style>\n",
              "<table border=\"1\" class=\"dataframe\">\n",
              "  <thead>\n",
              "    <tr style=\"text-align: right;\">\n",
              "      <th></th>\n",
              "      <th>position</th>\n",
              "      <th>company</th>\n",
              "      <th>description</th>\n",
              "      <th>numreview</th>\n",
              "      <th>location</th>\n",
              "    </tr>\n",
              "  </thead>\n",
              "  <tbody>\n",
              "    <tr>\n",
              "      <th>0</th>\n",
              "      <td>Development Director</td>\n",
              "      <td>ALS TDI</td>\n",
              "      <td>&lt;span id=\"job_summary\" class=\"summary\"&gt;&lt;div&gt;&lt;d...</td>\n",
              "      <td>NaN</td>\n",
              "      <td>Atlanta, GA 30301</td>\n",
              "    </tr>\n",
              "    <tr>\n",
              "      <th>1</th>\n",
              "      <td>An Ostentatiously-Excitable Principal Research...</td>\n",
              "      <td>The Hexagon Lavish</td>\n",
              "      <td>&lt;span id=\"job_summary\" class=\"summary\"&gt;&lt;div&gt;Jo...</td>\n",
              "      <td>NaN</td>\n",
              "      <td>Atlanta, GA</td>\n",
              "    </tr>\n",
              "    <tr>\n",
              "      <th>2</th>\n",
              "      <td>Data Scientist</td>\n",
              "      <td>Xpert Staffing</td>\n",
              "      <td>&lt;span id=\"job_summary\" class=\"summary\"&gt;&lt;div&gt;&lt;d...</td>\n",
              "      <td>NaN</td>\n",
              "      <td>Atlanta, GA</td>\n",
              "    </tr>\n",
              "  </tbody>\n",
              "</table>\n",
              "</div>"
            ],
            "text/plain": [
              "                                            position  ...            location\n",
              "0                               Development Director  ...  Atlanta, GA 30301 \n",
              "1  An Ostentatiously-Excitable Principal Research...  ...         Atlanta, GA\n",
              "2                                     Data Scientist  ...         Atlanta, GA\n",
              "\n",
              "[3 rows x 5 columns]"
            ]
          },
          "metadata": {
            "tags": []
          },
          "execution_count": 184
        }
      ]
    },
    {
      "cell_type": "code",
      "metadata": {
        "colab": {
          "base_uri": "https://localhost:8080/"
        },
        "id": "KkS5jkB9nbdp",
        "outputId": "e0e42510-d6cf-4768-e8a9-e967bb00894a"
      },
      "source": [
        "#ดูลักษณะข้อมูล\n",
        "AL.shape"
      ],
      "execution_count": 185,
      "outputs": [
        {
          "output_type": "execute_result",
          "data": {
            "text/plain": [
              "(269, 5)"
            ]
          },
          "metadata": {
            "tags": []
          },
          "execution_count": 185
        }
      ]
    },
    {
      "cell_type": "code",
      "metadata": {
        "id": "dW2nEvX6NkQ7"
      },
      "source": [
        "df_al = AL"
      ],
      "execution_count": 186,
      "outputs": []
    },
    {
      "cell_type": "code",
      "metadata": {
        "colab": {
          "base_uri": "https://localhost:8080/",
          "height": 647
        },
        "id": "BIVSp6yu0pzY",
        "outputId": "804cf9d1-380d-4c04-ed35-676111d2570d"
      },
      "source": [
        "df_al = df_al.drop(['location'], axis=1)\n",
        "df_al['loc'] = 0\n",
        "df_al"
      ],
      "execution_count": 187,
      "outputs": [
        {
          "output_type": "execute_result",
          "data": {
            "text/html": [
              "<div>\n",
              "<style scoped>\n",
              "    .dataframe tbody tr th:only-of-type {\n",
              "        vertical-align: middle;\n",
              "    }\n",
              "\n",
              "    .dataframe tbody tr th {\n",
              "        vertical-align: top;\n",
              "    }\n",
              "\n",
              "    .dataframe thead th {\n",
              "        text-align: right;\n",
              "    }\n",
              "</style>\n",
              "<table border=\"1\" class=\"dataframe\">\n",
              "  <thead>\n",
              "    <tr style=\"text-align: right;\">\n",
              "      <th></th>\n",
              "      <th>position</th>\n",
              "      <th>company</th>\n",
              "      <th>description</th>\n",
              "      <th>numreview</th>\n",
              "      <th>loc</th>\n",
              "    </tr>\n",
              "  </thead>\n",
              "  <tbody>\n",
              "    <tr>\n",
              "      <th>0</th>\n",
              "      <td>Development Director</td>\n",
              "      <td>ALS TDI</td>\n",
              "      <td>&lt;span id=\"job_summary\" class=\"summary\"&gt;&lt;div&gt;&lt;d...</td>\n",
              "      <td>NaN</td>\n",
              "      <td>0</td>\n",
              "    </tr>\n",
              "    <tr>\n",
              "      <th>1</th>\n",
              "      <td>An Ostentatiously-Excitable Principal Research...</td>\n",
              "      <td>The Hexagon Lavish</td>\n",
              "      <td>&lt;span id=\"job_summary\" class=\"summary\"&gt;&lt;div&gt;Jo...</td>\n",
              "      <td>NaN</td>\n",
              "      <td>0</td>\n",
              "    </tr>\n",
              "    <tr>\n",
              "      <th>2</th>\n",
              "      <td>Data Scientist</td>\n",
              "      <td>Xpert Staffing</td>\n",
              "      <td>&lt;span id=\"job_summary\" class=\"summary\"&gt;&lt;div&gt;&lt;d...</td>\n",
              "      <td>NaN</td>\n",
              "      <td>0</td>\n",
              "    </tr>\n",
              "    <tr>\n",
              "      <th>3</th>\n",
              "      <td>Data Analyst</td>\n",
              "      <td>Operation HOPE</td>\n",
              "      <td>&lt;span id=\"job_summary\" class=\"summary\"&gt;&lt;p&gt;&lt;b&gt;D...</td>\n",
              "      <td>44 reviews</td>\n",
              "      <td>0</td>\n",
              "    </tr>\n",
              "    <tr>\n",
              "      <th>4</th>\n",
              "      <td>Assistant Professor -TT - Signal Processing &amp; ...</td>\n",
              "      <td>Emory University</td>\n",
              "      <td>&lt;span id=\"job_summary\" class=\"summary\"&gt;&lt;div&gt;&lt;h...</td>\n",
              "      <td>550 reviews</td>\n",
              "      <td>0</td>\n",
              "    </tr>\n",
              "    <tr>\n",
              "      <th>...</th>\n",
              "      <td>...</td>\n",
              "      <td>...</td>\n",
              "      <td>...</td>\n",
              "      <td>...</td>\n",
              "      <td>...</td>\n",
              "    </tr>\n",
              "    <tr>\n",
              "      <th>264</th>\n",
              "      <td>Systems Software Engineer</td>\n",
              "      <td>Emory University</td>\n",
              "      <td>&lt;span id=\"job_summary\" class=\"summary\"&gt;&lt;div&gt;&lt;h...</td>\n",
              "      <td>550 reviews</td>\n",
              "      <td>0</td>\n",
              "    </tr>\n",
              "    <tr>\n",
              "      <th>265</th>\n",
              "      <td>Digital Marketing Consultant - Automotive Reta...</td>\n",
              "      <td>CDK Global</td>\n",
              "      <td>&lt;span id=\"job_summary\" class=\"summary\"&gt;&lt;div&gt;&lt;p...</td>\n",
              "      <td>230 reviews</td>\n",
              "      <td>0</td>\n",
              "    </tr>\n",
              "    <tr>\n",
              "      <th>266</th>\n",
              "      <td>Senior Packaging Engineer I - PET</td>\n",
              "      <td>The Coca-Cola Company</td>\n",
              "      <td>&lt;span id=\"job_summary\" class=\"summary\"&gt;&lt;b&gt;Job ...</td>\n",
              "      <td>7,236 reviews</td>\n",
              "      <td>0</td>\n",
              "    </tr>\n",
              "    <tr>\n",
              "      <th>267</th>\n",
              "      <td>Account Executive Fraud Solutions, Acquiring E...</td>\n",
              "      <td>Payments &amp; Cards Network</td>\n",
              "      <td>&lt;span id=\"job_summary\" class=\"summary\"&gt;&lt;div&gt;&lt;h...</td>\n",
              "      <td>NaN</td>\n",
              "      <td>0</td>\n",
              "    </tr>\n",
              "    <tr>\n",
              "      <th>268</th>\n",
              "      <td>Junior DevOps Software Engineer – Secureworks ...</td>\n",
              "      <td>DELL</td>\n",
              "      <td>&lt;span id=\"job_summary\" class=\"summary\"&gt;&lt;div&gt;&lt;p...</td>\n",
              "      <td>8,380 reviews</td>\n",
              "      <td>0</td>\n",
              "    </tr>\n",
              "  </tbody>\n",
              "</table>\n",
              "<p>269 rows × 5 columns</p>\n",
              "</div>"
            ],
            "text/plain": [
              "                                              position  ... loc\n",
              "0                                 Development Director  ...   0\n",
              "1    An Ostentatiously-Excitable Principal Research...  ...   0\n",
              "2                                       Data Scientist  ...   0\n",
              "3                                         Data Analyst  ...   0\n",
              "4    Assistant Professor -TT - Signal Processing & ...  ...   0\n",
              "..                                                 ...  ...  ..\n",
              "264                          Systems Software Engineer  ...   0\n",
              "265  Digital Marketing Consultant - Automotive Reta...  ...   0\n",
              "266                  Senior Packaging Engineer I - PET  ...   0\n",
              "267  Account Executive Fraud Solutions, Acquiring E...  ...   0\n",
              "268  Junior DevOps Software Engineer – Secureworks ...  ...   0\n",
              "\n",
              "[269 rows x 5 columns]"
            ]
          },
          "metadata": {
            "tags": []
          },
          "execution_count": 187
        }
      ]
    },
    {
      "cell_type": "code",
      "metadata": {
        "colab": {
          "base_uri": "https://localhost:8080/",
          "height": 241
        },
        "id": "_liJWUYHnQs8",
        "outputId": "7d2ae2fe-79d7-4f76-d12b-0ffb2e0975d8"
      },
      "source": [
        "#load ข้อมูลเข้ามาเก็บใน datafram data\n",
        "LA=pd.read_csv('fulltimeLA.csv')\n",
        "LA.head(3)"
      ],
      "execution_count": 188,
      "outputs": [
        {
          "output_type": "execute_result",
          "data": {
            "text/html": [
              "<div>\n",
              "<style scoped>\n",
              "    .dataframe tbody tr th:only-of-type {\n",
              "        vertical-align: middle;\n",
              "    }\n",
              "\n",
              "    .dataframe tbody tr th {\n",
              "        vertical-align: top;\n",
              "    }\n",
              "\n",
              "    .dataframe thead th {\n",
              "        text-align: right;\n",
              "    }\n",
              "</style>\n",
              "<table border=\"1\" class=\"dataframe\">\n",
              "  <thead>\n",
              "    <tr style=\"text-align: right;\">\n",
              "      <th></th>\n",
              "      <th>position</th>\n",
              "      <th>company</th>\n",
              "      <th>description</th>\n",
              "      <th>numreview</th>\n",
              "      <th>location</th>\n",
              "    </tr>\n",
              "  </thead>\n",
              "  <tbody>\n",
              "    <tr>\n",
              "      <th>0</th>\n",
              "      <td>Institutional Review Board Analyst I - Office ...</td>\n",
              "      <td>USC</td>\n",
              "      <td>&lt;span id=\"job_summary\" class=\"summary\"&gt;&lt;div&gt;&lt;p...</td>\n",
              "      <td>545 reviews</td>\n",
              "      <td>Los Angeles, CA</td>\n",
              "    </tr>\n",
              "    <tr>\n",
              "      <th>1</th>\n",
              "      <td>Analyst - Optimization</td>\n",
              "      <td>The Boston Consulting Group</td>\n",
              "      <td>&lt;span id=\"job_summary\" class=\"summary\"&gt;&lt;div&gt;&lt;b...</td>\n",
              "      <td>198 reviews</td>\n",
              "      <td>Los Angeles, CA</td>\n",
              "    </tr>\n",
              "    <tr>\n",
              "      <th>2</th>\n",
              "      <td>Postdoctoral Research Associate</td>\n",
              "      <td>USC</td>\n",
              "      <td>&lt;span id=\"job_summary\" class=\"summary\"&gt;&lt;div&gt;&lt;p...</td>\n",
              "      <td>545 reviews</td>\n",
              "      <td>Los Angeles, CA</td>\n",
              "    </tr>\n",
              "  </tbody>\n",
              "</table>\n",
              "</div>"
            ],
            "text/plain": [
              "                                            position  ...         location\n",
              "0  Institutional Review Board Analyst I - Office ...  ...  Los Angeles, CA\n",
              "1                             Analyst - Optimization  ...  Los Angeles, CA\n",
              "2                    Postdoctoral Research Associate  ...  Los Angeles, CA\n",
              "\n",
              "[3 rows x 5 columns]"
            ]
          },
          "metadata": {
            "tags": []
          },
          "execution_count": 188
        }
      ]
    },
    {
      "cell_type": "code",
      "metadata": {
        "colab": {
          "base_uri": "https://localhost:8080/"
        },
        "id": "K9eVeP7mnhG_",
        "outputId": "03c638df-e74a-4aa8-abc3-366c73418da0"
      },
      "source": [
        "LA.shape"
      ],
      "execution_count": 189,
      "outputs": [
        {
          "output_type": "execute_result",
          "data": {
            "text/plain": [
              "(254, 5)"
            ]
          },
          "metadata": {
            "tags": []
          },
          "execution_count": 189
        }
      ]
    },
    {
      "cell_type": "code",
      "metadata": {
        "id": "IG0Ob7wONpv4"
      },
      "source": [
        "df_la = LA"
      ],
      "execution_count": 190,
      "outputs": []
    },
    {
      "cell_type": "code",
      "metadata": {
        "colab": {
          "base_uri": "https://localhost:8080/",
          "height": 664
        },
        "id": "ELlW_3431rWN",
        "outputId": "1a183ee9-0c41-433d-ccaf-33312f78bf48"
      },
      "source": [
        "df_la = df_la.drop(['location'], axis=1)\n",
        "df_la['loc'] = 1\n",
        "df_la"
      ],
      "execution_count": 191,
      "outputs": [
        {
          "output_type": "execute_result",
          "data": {
            "text/html": [
              "<div>\n",
              "<style scoped>\n",
              "    .dataframe tbody tr th:only-of-type {\n",
              "        vertical-align: middle;\n",
              "    }\n",
              "\n",
              "    .dataframe tbody tr th {\n",
              "        vertical-align: top;\n",
              "    }\n",
              "\n",
              "    .dataframe thead th {\n",
              "        text-align: right;\n",
              "    }\n",
              "</style>\n",
              "<table border=\"1\" class=\"dataframe\">\n",
              "  <thead>\n",
              "    <tr style=\"text-align: right;\">\n",
              "      <th></th>\n",
              "      <th>position</th>\n",
              "      <th>company</th>\n",
              "      <th>description</th>\n",
              "      <th>numreview</th>\n",
              "      <th>loc</th>\n",
              "    </tr>\n",
              "  </thead>\n",
              "  <tbody>\n",
              "    <tr>\n",
              "      <th>0</th>\n",
              "      <td>Institutional Review Board Analyst I - Office ...</td>\n",
              "      <td>USC</td>\n",
              "      <td>&lt;span id=\"job_summary\" class=\"summary\"&gt;&lt;div&gt;&lt;p...</td>\n",
              "      <td>545 reviews</td>\n",
              "      <td>1</td>\n",
              "    </tr>\n",
              "    <tr>\n",
              "      <th>1</th>\n",
              "      <td>Analyst - Optimization</td>\n",
              "      <td>The Boston Consulting Group</td>\n",
              "      <td>&lt;span id=\"job_summary\" class=\"summary\"&gt;&lt;div&gt;&lt;b...</td>\n",
              "      <td>198 reviews</td>\n",
              "      <td>1</td>\n",
              "    </tr>\n",
              "    <tr>\n",
              "      <th>2</th>\n",
              "      <td>Postdoctoral Research Associate</td>\n",
              "      <td>USC</td>\n",
              "      <td>&lt;span id=\"job_summary\" class=\"summary\"&gt;&lt;div&gt;&lt;p...</td>\n",
              "      <td>545 reviews</td>\n",
              "      <td>1</td>\n",
              "    </tr>\n",
              "    <tr>\n",
              "      <th>3</th>\n",
              "      <td>Research Analyst</td>\n",
              "      <td>SHIELDS for Families, Inc.</td>\n",
              "      <td>&lt;span id=\"job_summary\" class=\"summary\"&gt;&lt;b&gt;SUMM...</td>\n",
              "      <td>48 reviews</td>\n",
              "      <td>1</td>\n",
              "    </tr>\n",
              "    <tr>\n",
              "      <th>4</th>\n",
              "      <td>Additive Materials and Process Scientist</td>\n",
              "      <td>Divergent 3D</td>\n",
              "      <td>&lt;span id=\"job_summary\" class=\"summary\"&gt;&lt;div&gt;&lt;d...</td>\n",
              "      <td>NaN</td>\n",
              "      <td>1</td>\n",
              "    </tr>\n",
              "    <tr>\n",
              "      <th>...</th>\n",
              "      <td>...</td>\n",
              "      <td>...</td>\n",
              "      <td>...</td>\n",
              "      <td>...</td>\n",
              "      <td>...</td>\n",
              "    </tr>\n",
              "    <tr>\n",
              "      <th>249</th>\n",
              "      <td>Postdoctoral Scientist - PET/CT Angiography Im...</td>\n",
              "      <td>Cedars-Sinai</td>\n",
              "      <td>&lt;span id=\"job_summary\" class=\"summary\"&gt;&lt;div&gt;Th...</td>\n",
              "      <td>661 reviews</td>\n",
              "      <td>1</td>\n",
              "    </tr>\n",
              "    <tr>\n",
              "      <th>250</th>\n",
              "      <td>Postdoctoral Scientist - Surgery / Urologu</td>\n",
              "      <td>Cedars-Sinai Medical Center</td>\n",
              "      <td>&lt;span id=\"job_summary\" class=\"summary\"&gt;&lt;p&gt;Summ...</td>\n",
              "      <td>661 reviews</td>\n",
              "      <td>1</td>\n",
              "    </tr>\n",
              "    <tr>\n",
              "      <th>251</th>\n",
              "      <td>Market Research Analyst</td>\n",
              "      <td>Penn Schoen Berland</td>\n",
              "      <td>&lt;span id=\"job_summary\" class=\"summary\"&gt;&lt;div&gt;&lt;d...</td>\n",
              "      <td>2 reviews</td>\n",
              "      <td>1</td>\n",
              "    </tr>\n",
              "    <tr>\n",
              "      <th>252</th>\n",
              "      <td>Market Research Business Analyst</td>\n",
              "      <td>Kantar Millward Brown</td>\n",
              "      <td>&lt;span id=\"job_summary\" class=\"summary\"&gt;&lt;div&gt;&lt;d...</td>\n",
              "      <td>21 reviews</td>\n",
              "      <td>1</td>\n",
              "    </tr>\n",
              "    <tr>\n",
              "      <th>253</th>\n",
              "      <td>Product Manager - Tenable Research</td>\n",
              "      <td>Tenable</td>\n",
              "      <td>&lt;span id=\"job_summary\" class=\"summary\"&gt;&lt;div&gt;&lt;p...</td>\n",
              "      <td>17 reviews</td>\n",
              "      <td>1</td>\n",
              "    </tr>\n",
              "  </tbody>\n",
              "</table>\n",
              "<p>254 rows × 5 columns</p>\n",
              "</div>"
            ],
            "text/plain": [
              "                                              position  ... loc\n",
              "0    Institutional Review Board Analyst I - Office ...  ...   1\n",
              "1                               Analyst - Optimization  ...   1\n",
              "2                      Postdoctoral Research Associate  ...   1\n",
              "3                                     Research Analyst  ...   1\n",
              "4             Additive Materials and Process Scientist  ...   1\n",
              "..                                                 ...  ...  ..\n",
              "249  Postdoctoral Scientist - PET/CT Angiography Im...  ...   1\n",
              "250         Postdoctoral Scientist - Surgery / Urologu  ...   1\n",
              "251                            Market Research Analyst  ...   1\n",
              "252                   Market Research Business Analyst  ...   1\n",
              "253                 Product Manager - Tenable Research  ...   1\n",
              "\n",
              "[254 rows x 5 columns]"
            ]
          },
          "metadata": {
            "tags": []
          },
          "execution_count": 191
        }
      ]
    },
    {
      "cell_type": "code",
      "metadata": {
        "colab": {
          "base_uri": "https://localhost:8080/",
          "height": 291
        },
        "id": "ri8YwutKnQmG",
        "outputId": "543ca9c0-99ab-4ed5-adc6-153d532e0646"
      },
      "source": [
        "#load ข้อมูลเข้ามาเก็บใน datafram data\n",
        "NY=pd.read_csv('fulltimeNY.csv')\n",
        "NY.head(3)"
      ],
      "execution_count": 192,
      "outputs": [
        {
          "output_type": "execute_result",
          "data": {
            "text/html": [
              "<div>\n",
              "<style scoped>\n",
              "    .dataframe tbody tr th:only-of-type {\n",
              "        vertical-align: middle;\n",
              "    }\n",
              "\n",
              "    .dataframe tbody tr th {\n",
              "        vertical-align: top;\n",
              "    }\n",
              "\n",
              "    .dataframe thead th {\n",
              "        text-align: right;\n",
              "    }\n",
              "</style>\n",
              "<table border=\"1\" class=\"dataframe\">\n",
              "  <thead>\n",
              "    <tr style=\"text-align: right;\">\n",
              "      <th></th>\n",
              "      <th>position</th>\n",
              "      <th>company</th>\n",
              "      <th>description</th>\n",
              "      <th>numreview</th>\n",
              "      <th>location</th>\n",
              "    </tr>\n",
              "  </thead>\n",
              "  <tbody>\n",
              "    <tr>\n",
              "      <th>0</th>\n",
              "      <td>Data Scientist—Research (Ref # EXEC/RD_DAT_NYC...</td>\n",
              "      <td>New York State Office of the Attorney General ...</td>\n",
              "      <td>&lt;span id=\"job_summary\" class=\"summary\"&gt;&lt;p&gt;&lt;b&gt;E...</td>\n",
              "      <td>NaN</td>\n",
              "      <td>New York, NY</td>\n",
              "    </tr>\n",
              "    <tr>\n",
              "      <th>1</th>\n",
              "      <td>Data Scientist/Pre Sales Engineer</td>\n",
              "      <td>Celonis</td>\n",
              "      <td>&lt;span id=\"job_summary\" class=\"summary\"&gt;&lt;p&gt;Celo...</td>\n",
              "      <td>NaN</td>\n",
              "      <td>New York, NY</td>\n",
              "    </tr>\n",
              "    <tr>\n",
              "      <th>2</th>\n",
              "      <td>Data Analyst/Research Scientist</td>\n",
              "      <td>Columbia University Medical Center</td>\n",
              "      <td>&lt;span id=\"job_summary\" class=\"summary\"&gt;&lt;p&gt;We a...</td>\n",
              "      <td>217 reviews</td>\n",
              "      <td>New York, NY 10032</td>\n",
              "    </tr>\n",
              "  </tbody>\n",
              "</table>\n",
              "</div>"
            ],
            "text/plain": [
              "                                            position  ...            location\n",
              "0  Data Scientist—Research (Ref # EXEC/RD_DAT_NYC...  ...        New York, NY\n",
              "1                  Data Scientist/Pre Sales Engineer  ...        New York, NY\n",
              "2                    Data Analyst/Research Scientist  ...  New York, NY 10032\n",
              "\n",
              "[3 rows x 5 columns]"
            ]
          },
          "metadata": {
            "tags": []
          },
          "execution_count": 192
        }
      ]
    },
    {
      "cell_type": "code",
      "metadata": {
        "colab": {
          "base_uri": "https://localhost:8080/"
        },
        "id": "qmwqEVK0nmIN",
        "outputId": "30e64b5b-fd5f-4002-85b7-ca645d15cb33"
      },
      "source": [
        "NY.shape"
      ],
      "execution_count": 193,
      "outputs": [
        {
          "output_type": "execute_result",
          "data": {
            "text/plain": [
              "(986, 5)"
            ]
          },
          "metadata": {
            "tags": []
          },
          "execution_count": 193
        }
      ]
    },
    {
      "cell_type": "code",
      "metadata": {
        "id": "HDka7EIIvCHV"
      },
      "source": [
        "df_ny = NY"
      ],
      "execution_count": 194,
      "outputs": []
    },
    {
      "cell_type": "code",
      "metadata": {
        "colab": {
          "base_uri": "https://localhost:8080/",
          "height": 764
        },
        "id": "DZTQcAPY12Rn",
        "outputId": "ae944058-3baf-43c6-ad50-b847e6326f08"
      },
      "source": [
        "df_ny = df_ny.drop(['location'], axis=1)\n",
        "df_ny['loc'] = 2\n",
        "df_ny"
      ],
      "execution_count": 195,
      "outputs": [
        {
          "output_type": "execute_result",
          "data": {
            "text/html": [
              "<div>\n",
              "<style scoped>\n",
              "    .dataframe tbody tr th:only-of-type {\n",
              "        vertical-align: middle;\n",
              "    }\n",
              "\n",
              "    .dataframe tbody tr th {\n",
              "        vertical-align: top;\n",
              "    }\n",
              "\n",
              "    .dataframe thead th {\n",
              "        text-align: right;\n",
              "    }\n",
              "</style>\n",
              "<table border=\"1\" class=\"dataframe\">\n",
              "  <thead>\n",
              "    <tr style=\"text-align: right;\">\n",
              "      <th></th>\n",
              "      <th>position</th>\n",
              "      <th>company</th>\n",
              "      <th>description</th>\n",
              "      <th>numreview</th>\n",
              "      <th>loc</th>\n",
              "    </tr>\n",
              "  </thead>\n",
              "  <tbody>\n",
              "    <tr>\n",
              "      <th>0</th>\n",
              "      <td>Data Scientist—Research (Ref # EXEC/RD_DAT_NYC...</td>\n",
              "      <td>New York State Office of the Attorney General ...</td>\n",
              "      <td>&lt;span id=\"job_summary\" class=\"summary\"&gt;&lt;p&gt;&lt;b&gt;E...</td>\n",
              "      <td>NaN</td>\n",
              "      <td>2</td>\n",
              "    </tr>\n",
              "    <tr>\n",
              "      <th>1</th>\n",
              "      <td>Data Scientist/Pre Sales Engineer</td>\n",
              "      <td>Celonis</td>\n",
              "      <td>&lt;span id=\"job_summary\" class=\"summary\"&gt;&lt;p&gt;Celo...</td>\n",
              "      <td>NaN</td>\n",
              "      <td>2</td>\n",
              "    </tr>\n",
              "    <tr>\n",
              "      <th>2</th>\n",
              "      <td>Data Analyst/Research Scientist</td>\n",
              "      <td>Columbia University Medical Center</td>\n",
              "      <td>&lt;span id=\"job_summary\" class=\"summary\"&gt;&lt;p&gt;We a...</td>\n",
              "      <td>217 reviews</td>\n",
              "      <td>2</td>\n",
              "    </tr>\n",
              "    <tr>\n",
              "      <th>3</th>\n",
              "      <td>Data Scientist</td>\n",
              "      <td>fractalanalytics</td>\n",
              "      <td>&lt;span id=\"job_summary\" class=\"summary\"&gt;&lt;div&gt;&lt;p...</td>\n",
              "      <td>NaN</td>\n",
              "      <td>2</td>\n",
              "    </tr>\n",
              "    <tr>\n",
              "      <th>4</th>\n",
              "      <td>Data Scientist</td>\n",
              "      <td>Blackboard Insurance</td>\n",
              "      <td>&lt;span id=\"job_summary\" class=\"summary\"&gt;&lt;div&gt;&lt;p...</td>\n",
              "      <td>NaN</td>\n",
              "      <td>2</td>\n",
              "    </tr>\n",
              "    <tr>\n",
              "      <th>...</th>\n",
              "      <td>...</td>\n",
              "      <td>...</td>\n",
              "      <td>...</td>\n",
              "      <td>...</td>\n",
              "      <td>...</td>\n",
              "    </tr>\n",
              "    <tr>\n",
              "      <th>981</th>\n",
              "      <td>Data Scientist</td>\n",
              "      <td>Scienaptic Systems Inc</td>\n",
              "      <td>&lt;span id=\"job_summary\" class=\"summary\"&gt;&lt;p&gt;Scie...</td>\n",
              "      <td>NaN</td>\n",
              "      <td>2</td>\n",
              "    </tr>\n",
              "    <tr>\n",
              "      <th>982</th>\n",
              "      <td>Junior Data Scientist</td>\n",
              "      <td>Viacom</td>\n",
              "      <td>&lt;span id=\"job_summary\" class=\"summary\"&gt;&lt;div&gt;&lt;h...</td>\n",
              "      <td>459 reviews</td>\n",
              "      <td>2</td>\n",
              "    </tr>\n",
              "    <tr>\n",
              "      <th>983</th>\n",
              "      <td>Data Scientist (Entry-Level)</td>\n",
              "      <td>First Derivatives plc</td>\n",
              "      <td>&lt;span id=\"job_summary\" class=\"summary\"&gt;&lt;p&gt;&lt;b&gt;J...</td>\n",
              "      <td>10 reviews</td>\n",
              "      <td>2</td>\n",
              "    </tr>\n",
              "    <tr>\n",
              "      <th>984</th>\n",
              "      <td>Data Scientist</td>\n",
              "      <td>Cityblock Health</td>\n",
              "      <td>&lt;span id=\"job_summary\" class=\"summary\"&gt;Who we ...</td>\n",
              "      <td>NaN</td>\n",
              "      <td>2</td>\n",
              "    </tr>\n",
              "    <tr>\n",
              "      <th>985</th>\n",
              "      <td>Junior Data Scientist Apprenticeship</td>\n",
              "      <td>IBM</td>\n",
              "      <td>&lt;span id=\"job_summary\" class=\"summary\"&gt;&lt;div&gt;&lt;b...</td>\n",
              "      <td>22,249 reviews</td>\n",
              "      <td>2</td>\n",
              "    </tr>\n",
              "  </tbody>\n",
              "</table>\n",
              "<p>986 rows × 5 columns</p>\n",
              "</div>"
            ],
            "text/plain": [
              "                                              position  ... loc\n",
              "0    Data Scientist—Research (Ref # EXEC/RD_DAT_NYC...  ...   2\n",
              "1                    Data Scientist/Pre Sales Engineer  ...   2\n",
              "2                      Data Analyst/Research Scientist  ...   2\n",
              "3                                       Data Scientist  ...   2\n",
              "4                                       Data Scientist  ...   2\n",
              "..                                                 ...  ...  ..\n",
              "981                                     Data Scientist  ...   2\n",
              "982                              Junior Data Scientist  ...   2\n",
              "983                       Data Scientist (Entry-Level)  ...   2\n",
              "984                                     Data Scientist  ...   2\n",
              "985               Junior Data Scientist Apprenticeship  ...   2\n",
              "\n",
              "[986 rows x 5 columns]"
            ]
          },
          "metadata": {
            "tags": []
          },
          "execution_count": 195
        }
      ]
    },
    {
      "cell_type": "code",
      "metadata": {
        "colab": {
          "base_uri": "https://localhost:8080/",
          "height": 207
        },
        "id": "GUt9PwWHnQe1",
        "outputId": "12e251a7-14d4-4d28-d141-8c7de7bfc386"
      },
      "source": [
        "#load ข้อมูลเข้ามาเก็บใน datafram data\n",
        "SF=pd.read_csv('fulltimeSF.csv')\n",
        "SF.head(3)"
      ],
      "execution_count": 196,
      "outputs": [
        {
          "output_type": "execute_result",
          "data": {
            "text/html": [
              "<div>\n",
              "<style scoped>\n",
              "    .dataframe tbody tr th:only-of-type {\n",
              "        vertical-align: middle;\n",
              "    }\n",
              "\n",
              "    .dataframe tbody tr th {\n",
              "        vertical-align: top;\n",
              "    }\n",
              "\n",
              "    .dataframe thead th {\n",
              "        text-align: right;\n",
              "    }\n",
              "</style>\n",
              "<table border=\"1\" class=\"dataframe\">\n",
              "  <thead>\n",
              "    <tr style=\"text-align: right;\">\n",
              "      <th></th>\n",
              "      <th>position</th>\n",
              "      <th>company</th>\n",
              "      <th>description</th>\n",
              "      <th>numreview</th>\n",
              "      <th>location</th>\n",
              "    </tr>\n",
              "  </thead>\n",
              "  <tbody>\n",
              "    <tr>\n",
              "      <th>0</th>\n",
              "      <td>Data Scientist - CA</td>\n",
              "      <td>Bind Benefits</td>\n",
              "      <td>&lt;span id=\"job_summary\" class=\"summary\"&gt;&lt;div&gt;&lt;p...</td>\n",
              "      <td>NaN</td>\n",
              "      <td>San Francisco, CA 94103</td>\n",
              "    </tr>\n",
              "    <tr>\n",
              "      <th>1</th>\n",
              "      <td>Staff Data Scientist</td>\n",
              "      <td>Course Hero</td>\n",
              "      <td>&lt;span id=\"job_summary\" class=\"summary\"&gt;&lt;b&gt;The ...</td>\n",
              "      <td>19 reviews</td>\n",
              "      <td>Redwood City, CA</td>\n",
              "    </tr>\n",
              "    <tr>\n",
              "      <th>2</th>\n",
              "      <td>Data Scientist</td>\n",
              "      <td>CyberCube Analytics</td>\n",
              "      <td>&lt;span id=\"job_summary\" class=\"summary\"&gt;CyberCu...</td>\n",
              "      <td>NaN</td>\n",
              "      <td>San Francisco, CA</td>\n",
              "    </tr>\n",
              "  </tbody>\n",
              "</table>\n",
              "</div>"
            ],
            "text/plain": [
              "               position  ...                 location\n",
              "0   Data Scientist - CA  ...  San Francisco, CA 94103\n",
              "1  Staff Data Scientist  ...         Redwood City, CA\n",
              "2        Data Scientist  ...        San Francisco, CA\n",
              "\n",
              "[3 rows x 5 columns]"
            ]
          },
          "metadata": {
            "tags": []
          },
          "execution_count": 196
        }
      ]
    },
    {
      "cell_type": "code",
      "metadata": {
        "colab": {
          "base_uri": "https://localhost:8080/"
        },
        "id": "3fWn6oovpGyG",
        "outputId": "274bdb4c-ea4a-446c-b563-f55909b28aeb"
      },
      "source": [
        "SF.shape"
      ],
      "execution_count": 197,
      "outputs": [
        {
          "output_type": "execute_result",
          "data": {
            "text/plain": [
              "(955, 5)"
            ]
          },
          "metadata": {
            "tags": []
          },
          "execution_count": 197
        }
      ]
    },
    {
      "cell_type": "code",
      "metadata": {
        "id": "jZLc4T13uiVJ"
      },
      "source": [
        "df_sf = SF"
      ],
      "execution_count": 198,
      "outputs": []
    },
    {
      "cell_type": "code",
      "metadata": {
        "colab": {
          "base_uri": "https://localhost:8080/",
          "height": 597
        },
        "id": "8sJKZjcz2Ceo",
        "outputId": "498ec874-d15a-4c80-ed55-caa2d1c2ab6a"
      },
      "source": [
        "df_sf = df_sf.drop(['location'], axis=1)\n",
        "df_sf['loc'] = 3\n",
        "df_sf"
      ],
      "execution_count": 199,
      "outputs": [
        {
          "output_type": "execute_result",
          "data": {
            "text/html": [
              "<div>\n",
              "<style scoped>\n",
              "    .dataframe tbody tr th:only-of-type {\n",
              "        vertical-align: middle;\n",
              "    }\n",
              "\n",
              "    .dataframe tbody tr th {\n",
              "        vertical-align: top;\n",
              "    }\n",
              "\n",
              "    .dataframe thead th {\n",
              "        text-align: right;\n",
              "    }\n",
              "</style>\n",
              "<table border=\"1\" class=\"dataframe\">\n",
              "  <thead>\n",
              "    <tr style=\"text-align: right;\">\n",
              "      <th></th>\n",
              "      <th>position</th>\n",
              "      <th>company</th>\n",
              "      <th>description</th>\n",
              "      <th>numreview</th>\n",
              "      <th>loc</th>\n",
              "    </tr>\n",
              "  </thead>\n",
              "  <tbody>\n",
              "    <tr>\n",
              "      <th>0</th>\n",
              "      <td>Data Scientist - CA</td>\n",
              "      <td>Bind Benefits</td>\n",
              "      <td>&lt;span id=\"job_summary\" class=\"summary\"&gt;&lt;div&gt;&lt;p...</td>\n",
              "      <td>NaN</td>\n",
              "      <td>3</td>\n",
              "    </tr>\n",
              "    <tr>\n",
              "      <th>1</th>\n",
              "      <td>Staff Data Scientist</td>\n",
              "      <td>Course Hero</td>\n",
              "      <td>&lt;span id=\"job_summary\" class=\"summary\"&gt;&lt;b&gt;The ...</td>\n",
              "      <td>19 reviews</td>\n",
              "      <td>3</td>\n",
              "    </tr>\n",
              "    <tr>\n",
              "      <th>2</th>\n",
              "      <td>Data Scientist</td>\n",
              "      <td>CyberCube Analytics</td>\n",
              "      <td>&lt;span id=\"job_summary\" class=\"summary\"&gt;CyberCu...</td>\n",
              "      <td>NaN</td>\n",
              "      <td>3</td>\n",
              "    </tr>\n",
              "    <tr>\n",
              "      <th>3</th>\n",
              "      <td>Data Scientist - Biostatistics</td>\n",
              "      <td>The Climate Corporation</td>\n",
              "      <td>&lt;span id=\"job_summary\" class=\"summary\"&gt;&lt;div&gt;&lt;p...</td>\n",
              "      <td>11 reviews</td>\n",
              "      <td>3</td>\n",
              "    </tr>\n",
              "    <tr>\n",
              "      <th>4</th>\n",
              "      <td>Data Scientist</td>\n",
              "      <td>LendUp</td>\n",
              "      <td>&lt;span id=\"job_summary\" class=\"summary\"&gt;LendUp ...</td>\n",
              "      <td>NaN</td>\n",
              "      <td>3</td>\n",
              "    </tr>\n",
              "    <tr>\n",
              "      <th>...</th>\n",
              "      <td>...</td>\n",
              "      <td>...</td>\n",
              "      <td>...</td>\n",
              "      <td>...</td>\n",
              "      <td>...</td>\n",
              "    </tr>\n",
              "    <tr>\n",
              "      <th>950</th>\n",
              "      <td>Data Scientist</td>\n",
              "      <td>Profusa</td>\n",
              "      <td>&lt;span id=\"job_summary\" class=\"summary\"&gt;&lt;div&gt;&lt;p...</td>\n",
              "      <td>NaN</td>\n",
              "      <td>3</td>\n",
              "    </tr>\n",
              "    <tr>\n",
              "      <th>951</th>\n",
              "      <td>Senior Data Scientist</td>\n",
              "      <td>Amazon.com</td>\n",
              "      <td>&lt;span id=\"job_summary\" class=\"summary\"&gt;&lt;div&gt;&lt;h...</td>\n",
              "      <td>25,895 reviews</td>\n",
              "      <td>3</td>\n",
              "    </tr>\n",
              "    <tr>\n",
              "      <th>952</th>\n",
              "      <td>Siri - EPM -Machine Learning &amp; Data Science Se...</td>\n",
              "      <td>Apple</td>\n",
              "      <td>&lt;span id=\"job_summary\" class=\"summary\"&gt;&lt;div&gt;&lt;d...</td>\n",
              "      <td>5,785 reviews</td>\n",
              "      <td>3</td>\n",
              "    </tr>\n",
              "    <tr>\n",
              "      <th>953</th>\n",
              "      <td>Drug Discovery Data Scientist (NCI)</td>\n",
              "      <td>Leidos</td>\n",
              "      <td>&lt;span id=\"job_summary\" class=\"summary\"&gt;&lt;div&gt;&lt;b...</td>\n",
              "      <td>525 reviews</td>\n",
              "      <td>3</td>\n",
              "    </tr>\n",
              "    <tr>\n",
              "      <th>954</th>\n",
              "      <td>Data Analyst, S&amp;P - JUMP</td>\n",
              "      <td>Uber</td>\n",
              "      <td>&lt;span id=\"job_summary\" class=\"summary\"&gt;&lt;div&gt;&lt;d...</td>\n",
              "      <td>496 reviews</td>\n",
              "      <td>3</td>\n",
              "    </tr>\n",
              "  </tbody>\n",
              "</table>\n",
              "<p>955 rows × 5 columns</p>\n",
              "</div>"
            ],
            "text/plain": [
              "                                              position  ... loc\n",
              "0                                  Data Scientist - CA  ...   3\n",
              "1                                 Staff Data Scientist  ...   3\n",
              "2                                       Data Scientist  ...   3\n",
              "3                       Data Scientist - Biostatistics  ...   3\n",
              "4                                       Data Scientist  ...   3\n",
              "..                                                 ...  ...  ..\n",
              "950                                     Data Scientist  ...   3\n",
              "951                              Senior Data Scientist  ...   3\n",
              "952  Siri - EPM -Machine Learning & Data Science Se...  ...   3\n",
              "953                Drug Discovery Data Scientist (NCI)  ...   3\n",
              "954                           Data Analyst, S&P - JUMP  ...   3\n",
              "\n",
              "[955 rows x 5 columns]"
            ]
          },
          "metadata": {
            "tags": []
          },
          "execution_count": 199
        }
      ]
    },
    {
      "cell_type": "code",
      "metadata": {
        "colab": {
          "base_uri": "https://localhost:8080/",
          "height": 631
        },
        "id": "ogx7sJlPwToJ",
        "outputId": "a4ffcac0-a936-4ae5-9da3-e322bbcf47c1"
      },
      "source": [
        "df = df_al\n",
        "df = df.append(df_la)\n",
        "df"
      ],
      "execution_count": 200,
      "outputs": [
        {
          "output_type": "execute_result",
          "data": {
            "text/html": [
              "<div>\n",
              "<style scoped>\n",
              "    .dataframe tbody tr th:only-of-type {\n",
              "        vertical-align: middle;\n",
              "    }\n",
              "\n",
              "    .dataframe tbody tr th {\n",
              "        vertical-align: top;\n",
              "    }\n",
              "\n",
              "    .dataframe thead th {\n",
              "        text-align: right;\n",
              "    }\n",
              "</style>\n",
              "<table border=\"1\" class=\"dataframe\">\n",
              "  <thead>\n",
              "    <tr style=\"text-align: right;\">\n",
              "      <th></th>\n",
              "      <th>position</th>\n",
              "      <th>company</th>\n",
              "      <th>description</th>\n",
              "      <th>numreview</th>\n",
              "      <th>loc</th>\n",
              "    </tr>\n",
              "  </thead>\n",
              "  <tbody>\n",
              "    <tr>\n",
              "      <th>0</th>\n",
              "      <td>Development Director</td>\n",
              "      <td>ALS TDI</td>\n",
              "      <td>&lt;span id=\"job_summary\" class=\"summary\"&gt;&lt;div&gt;&lt;d...</td>\n",
              "      <td>NaN</td>\n",
              "      <td>0</td>\n",
              "    </tr>\n",
              "    <tr>\n",
              "      <th>1</th>\n",
              "      <td>An Ostentatiously-Excitable Principal Research...</td>\n",
              "      <td>The Hexagon Lavish</td>\n",
              "      <td>&lt;span id=\"job_summary\" class=\"summary\"&gt;&lt;div&gt;Jo...</td>\n",
              "      <td>NaN</td>\n",
              "      <td>0</td>\n",
              "    </tr>\n",
              "    <tr>\n",
              "      <th>2</th>\n",
              "      <td>Data Scientist</td>\n",
              "      <td>Xpert Staffing</td>\n",
              "      <td>&lt;span id=\"job_summary\" class=\"summary\"&gt;&lt;div&gt;&lt;d...</td>\n",
              "      <td>NaN</td>\n",
              "      <td>0</td>\n",
              "    </tr>\n",
              "    <tr>\n",
              "      <th>3</th>\n",
              "      <td>Data Analyst</td>\n",
              "      <td>Operation HOPE</td>\n",
              "      <td>&lt;span id=\"job_summary\" class=\"summary\"&gt;&lt;p&gt;&lt;b&gt;D...</td>\n",
              "      <td>44 reviews</td>\n",
              "      <td>0</td>\n",
              "    </tr>\n",
              "    <tr>\n",
              "      <th>4</th>\n",
              "      <td>Assistant Professor -TT - Signal Processing &amp; ...</td>\n",
              "      <td>Emory University</td>\n",
              "      <td>&lt;span id=\"job_summary\" class=\"summary\"&gt;&lt;div&gt;&lt;h...</td>\n",
              "      <td>550 reviews</td>\n",
              "      <td>0</td>\n",
              "    </tr>\n",
              "    <tr>\n",
              "      <th>...</th>\n",
              "      <td>...</td>\n",
              "      <td>...</td>\n",
              "      <td>...</td>\n",
              "      <td>...</td>\n",
              "      <td>...</td>\n",
              "    </tr>\n",
              "    <tr>\n",
              "      <th>249</th>\n",
              "      <td>Postdoctoral Scientist - PET/CT Angiography Im...</td>\n",
              "      <td>Cedars-Sinai</td>\n",
              "      <td>&lt;span id=\"job_summary\" class=\"summary\"&gt;&lt;div&gt;Th...</td>\n",
              "      <td>661 reviews</td>\n",
              "      <td>1</td>\n",
              "    </tr>\n",
              "    <tr>\n",
              "      <th>250</th>\n",
              "      <td>Postdoctoral Scientist - Surgery / Urologu</td>\n",
              "      <td>Cedars-Sinai Medical Center</td>\n",
              "      <td>&lt;span id=\"job_summary\" class=\"summary\"&gt;&lt;p&gt;Summ...</td>\n",
              "      <td>661 reviews</td>\n",
              "      <td>1</td>\n",
              "    </tr>\n",
              "    <tr>\n",
              "      <th>251</th>\n",
              "      <td>Market Research Analyst</td>\n",
              "      <td>Penn Schoen Berland</td>\n",
              "      <td>&lt;span id=\"job_summary\" class=\"summary\"&gt;&lt;div&gt;&lt;d...</td>\n",
              "      <td>2 reviews</td>\n",
              "      <td>1</td>\n",
              "    </tr>\n",
              "    <tr>\n",
              "      <th>252</th>\n",
              "      <td>Market Research Business Analyst</td>\n",
              "      <td>Kantar Millward Brown</td>\n",
              "      <td>&lt;span id=\"job_summary\" class=\"summary\"&gt;&lt;div&gt;&lt;d...</td>\n",
              "      <td>21 reviews</td>\n",
              "      <td>1</td>\n",
              "    </tr>\n",
              "    <tr>\n",
              "      <th>253</th>\n",
              "      <td>Product Manager - Tenable Research</td>\n",
              "      <td>Tenable</td>\n",
              "      <td>&lt;span id=\"job_summary\" class=\"summary\"&gt;&lt;div&gt;&lt;p...</td>\n",
              "      <td>17 reviews</td>\n",
              "      <td>1</td>\n",
              "    </tr>\n",
              "  </tbody>\n",
              "</table>\n",
              "<p>523 rows × 5 columns</p>\n",
              "</div>"
            ],
            "text/plain": [
              "                                              position  ... loc\n",
              "0                                 Development Director  ...   0\n",
              "1    An Ostentatiously-Excitable Principal Research...  ...   0\n",
              "2                                       Data Scientist  ...   0\n",
              "3                                         Data Analyst  ...   0\n",
              "4    Assistant Professor -TT - Signal Processing & ...  ...   0\n",
              "..                                                 ...  ...  ..\n",
              "249  Postdoctoral Scientist - PET/CT Angiography Im...  ...   1\n",
              "250         Postdoctoral Scientist - Surgery / Urologu  ...   1\n",
              "251                            Market Research Analyst  ...   1\n",
              "252                   Market Research Business Analyst  ...   1\n",
              "253                 Product Manager - Tenable Research  ...   1\n",
              "\n",
              "[523 rows x 5 columns]"
            ]
          },
          "metadata": {
            "tags": []
          },
          "execution_count": 200
        }
      ]
    },
    {
      "cell_type": "code",
      "metadata": {
        "colab": {
          "base_uri": "https://localhost:8080/",
          "height": 631
        },
        "id": "zocITc1cwTmY",
        "outputId": "16b3fa5e-3558-425b-d9d4-2fba0ab08149"
      },
      "source": [
        "df = df.append(df_ny)\n",
        "df"
      ],
      "execution_count": 201,
      "outputs": [
        {
          "output_type": "execute_result",
          "data": {
            "text/html": [
              "<div>\n",
              "<style scoped>\n",
              "    .dataframe tbody tr th:only-of-type {\n",
              "        vertical-align: middle;\n",
              "    }\n",
              "\n",
              "    .dataframe tbody tr th {\n",
              "        vertical-align: top;\n",
              "    }\n",
              "\n",
              "    .dataframe thead th {\n",
              "        text-align: right;\n",
              "    }\n",
              "</style>\n",
              "<table border=\"1\" class=\"dataframe\">\n",
              "  <thead>\n",
              "    <tr style=\"text-align: right;\">\n",
              "      <th></th>\n",
              "      <th>position</th>\n",
              "      <th>company</th>\n",
              "      <th>description</th>\n",
              "      <th>numreview</th>\n",
              "      <th>loc</th>\n",
              "    </tr>\n",
              "  </thead>\n",
              "  <tbody>\n",
              "    <tr>\n",
              "      <th>0</th>\n",
              "      <td>Development Director</td>\n",
              "      <td>ALS TDI</td>\n",
              "      <td>&lt;span id=\"job_summary\" class=\"summary\"&gt;&lt;div&gt;&lt;d...</td>\n",
              "      <td>NaN</td>\n",
              "      <td>0</td>\n",
              "    </tr>\n",
              "    <tr>\n",
              "      <th>1</th>\n",
              "      <td>An Ostentatiously-Excitable Principal Research...</td>\n",
              "      <td>The Hexagon Lavish</td>\n",
              "      <td>&lt;span id=\"job_summary\" class=\"summary\"&gt;&lt;div&gt;Jo...</td>\n",
              "      <td>NaN</td>\n",
              "      <td>0</td>\n",
              "    </tr>\n",
              "    <tr>\n",
              "      <th>2</th>\n",
              "      <td>Data Scientist</td>\n",
              "      <td>Xpert Staffing</td>\n",
              "      <td>&lt;span id=\"job_summary\" class=\"summary\"&gt;&lt;div&gt;&lt;d...</td>\n",
              "      <td>NaN</td>\n",
              "      <td>0</td>\n",
              "    </tr>\n",
              "    <tr>\n",
              "      <th>3</th>\n",
              "      <td>Data Analyst</td>\n",
              "      <td>Operation HOPE</td>\n",
              "      <td>&lt;span id=\"job_summary\" class=\"summary\"&gt;&lt;p&gt;&lt;b&gt;D...</td>\n",
              "      <td>44 reviews</td>\n",
              "      <td>0</td>\n",
              "    </tr>\n",
              "    <tr>\n",
              "      <th>4</th>\n",
              "      <td>Assistant Professor -TT - Signal Processing &amp; ...</td>\n",
              "      <td>Emory University</td>\n",
              "      <td>&lt;span id=\"job_summary\" class=\"summary\"&gt;&lt;div&gt;&lt;h...</td>\n",
              "      <td>550 reviews</td>\n",
              "      <td>0</td>\n",
              "    </tr>\n",
              "    <tr>\n",
              "      <th>...</th>\n",
              "      <td>...</td>\n",
              "      <td>...</td>\n",
              "      <td>...</td>\n",
              "      <td>...</td>\n",
              "      <td>...</td>\n",
              "    </tr>\n",
              "    <tr>\n",
              "      <th>981</th>\n",
              "      <td>Data Scientist</td>\n",
              "      <td>Scienaptic Systems Inc</td>\n",
              "      <td>&lt;span id=\"job_summary\" class=\"summary\"&gt;&lt;p&gt;Scie...</td>\n",
              "      <td>NaN</td>\n",
              "      <td>2</td>\n",
              "    </tr>\n",
              "    <tr>\n",
              "      <th>982</th>\n",
              "      <td>Junior Data Scientist</td>\n",
              "      <td>Viacom</td>\n",
              "      <td>&lt;span id=\"job_summary\" class=\"summary\"&gt;&lt;div&gt;&lt;h...</td>\n",
              "      <td>459 reviews</td>\n",
              "      <td>2</td>\n",
              "    </tr>\n",
              "    <tr>\n",
              "      <th>983</th>\n",
              "      <td>Data Scientist (Entry-Level)</td>\n",
              "      <td>First Derivatives plc</td>\n",
              "      <td>&lt;span id=\"job_summary\" class=\"summary\"&gt;&lt;p&gt;&lt;b&gt;J...</td>\n",
              "      <td>10 reviews</td>\n",
              "      <td>2</td>\n",
              "    </tr>\n",
              "    <tr>\n",
              "      <th>984</th>\n",
              "      <td>Data Scientist</td>\n",
              "      <td>Cityblock Health</td>\n",
              "      <td>&lt;span id=\"job_summary\" class=\"summary\"&gt;Who we ...</td>\n",
              "      <td>NaN</td>\n",
              "      <td>2</td>\n",
              "    </tr>\n",
              "    <tr>\n",
              "      <th>985</th>\n",
              "      <td>Junior Data Scientist Apprenticeship</td>\n",
              "      <td>IBM</td>\n",
              "      <td>&lt;span id=\"job_summary\" class=\"summary\"&gt;&lt;div&gt;&lt;b...</td>\n",
              "      <td>22,249 reviews</td>\n",
              "      <td>2</td>\n",
              "    </tr>\n",
              "  </tbody>\n",
              "</table>\n",
              "<p>1509 rows × 5 columns</p>\n",
              "</div>"
            ],
            "text/plain": [
              "                                              position  ... loc\n",
              "0                                 Development Director  ...   0\n",
              "1    An Ostentatiously-Excitable Principal Research...  ...   0\n",
              "2                                       Data Scientist  ...   0\n",
              "3                                         Data Analyst  ...   0\n",
              "4    Assistant Professor -TT - Signal Processing & ...  ...   0\n",
              "..                                                 ...  ...  ..\n",
              "981                                     Data Scientist  ...   2\n",
              "982                              Junior Data Scientist  ...   2\n",
              "983                       Data Scientist (Entry-Level)  ...   2\n",
              "984                                     Data Scientist  ...   2\n",
              "985               Junior Data Scientist Apprenticeship  ...   2\n",
              "\n",
              "[1509 rows x 5 columns]"
            ]
          },
          "metadata": {
            "tags": []
          },
          "execution_count": 201
        }
      ]
    },
    {
      "cell_type": "code",
      "metadata": {
        "colab": {
          "base_uri": "https://localhost:8080/",
          "height": 631
        },
        "id": "G65PETV0wTkA",
        "outputId": "ecda61e0-0f3b-4ab8-9174-e17ec9157072"
      },
      "source": [
        "df = df.append(df_sf)\n",
        "df"
      ],
      "execution_count": 202,
      "outputs": [
        {
          "output_type": "execute_result",
          "data": {
            "text/html": [
              "<div>\n",
              "<style scoped>\n",
              "    .dataframe tbody tr th:only-of-type {\n",
              "        vertical-align: middle;\n",
              "    }\n",
              "\n",
              "    .dataframe tbody tr th {\n",
              "        vertical-align: top;\n",
              "    }\n",
              "\n",
              "    .dataframe thead th {\n",
              "        text-align: right;\n",
              "    }\n",
              "</style>\n",
              "<table border=\"1\" class=\"dataframe\">\n",
              "  <thead>\n",
              "    <tr style=\"text-align: right;\">\n",
              "      <th></th>\n",
              "      <th>position</th>\n",
              "      <th>company</th>\n",
              "      <th>description</th>\n",
              "      <th>numreview</th>\n",
              "      <th>loc</th>\n",
              "    </tr>\n",
              "  </thead>\n",
              "  <tbody>\n",
              "    <tr>\n",
              "      <th>0</th>\n",
              "      <td>Development Director</td>\n",
              "      <td>ALS TDI</td>\n",
              "      <td>&lt;span id=\"job_summary\" class=\"summary\"&gt;&lt;div&gt;&lt;d...</td>\n",
              "      <td>NaN</td>\n",
              "      <td>0</td>\n",
              "    </tr>\n",
              "    <tr>\n",
              "      <th>1</th>\n",
              "      <td>An Ostentatiously-Excitable Principal Research...</td>\n",
              "      <td>The Hexagon Lavish</td>\n",
              "      <td>&lt;span id=\"job_summary\" class=\"summary\"&gt;&lt;div&gt;Jo...</td>\n",
              "      <td>NaN</td>\n",
              "      <td>0</td>\n",
              "    </tr>\n",
              "    <tr>\n",
              "      <th>2</th>\n",
              "      <td>Data Scientist</td>\n",
              "      <td>Xpert Staffing</td>\n",
              "      <td>&lt;span id=\"job_summary\" class=\"summary\"&gt;&lt;div&gt;&lt;d...</td>\n",
              "      <td>NaN</td>\n",
              "      <td>0</td>\n",
              "    </tr>\n",
              "    <tr>\n",
              "      <th>3</th>\n",
              "      <td>Data Analyst</td>\n",
              "      <td>Operation HOPE</td>\n",
              "      <td>&lt;span id=\"job_summary\" class=\"summary\"&gt;&lt;p&gt;&lt;b&gt;D...</td>\n",
              "      <td>44 reviews</td>\n",
              "      <td>0</td>\n",
              "    </tr>\n",
              "    <tr>\n",
              "      <th>4</th>\n",
              "      <td>Assistant Professor -TT - Signal Processing &amp; ...</td>\n",
              "      <td>Emory University</td>\n",
              "      <td>&lt;span id=\"job_summary\" class=\"summary\"&gt;&lt;div&gt;&lt;h...</td>\n",
              "      <td>550 reviews</td>\n",
              "      <td>0</td>\n",
              "    </tr>\n",
              "    <tr>\n",
              "      <th>...</th>\n",
              "      <td>...</td>\n",
              "      <td>...</td>\n",
              "      <td>...</td>\n",
              "      <td>...</td>\n",
              "      <td>...</td>\n",
              "    </tr>\n",
              "    <tr>\n",
              "      <th>950</th>\n",
              "      <td>Data Scientist</td>\n",
              "      <td>Profusa</td>\n",
              "      <td>&lt;span id=\"job_summary\" class=\"summary\"&gt;&lt;div&gt;&lt;p...</td>\n",
              "      <td>NaN</td>\n",
              "      <td>3</td>\n",
              "    </tr>\n",
              "    <tr>\n",
              "      <th>951</th>\n",
              "      <td>Senior Data Scientist</td>\n",
              "      <td>Amazon.com</td>\n",
              "      <td>&lt;span id=\"job_summary\" class=\"summary\"&gt;&lt;div&gt;&lt;h...</td>\n",
              "      <td>25,895 reviews</td>\n",
              "      <td>3</td>\n",
              "    </tr>\n",
              "    <tr>\n",
              "      <th>952</th>\n",
              "      <td>Siri - EPM -Machine Learning &amp; Data Science Se...</td>\n",
              "      <td>Apple</td>\n",
              "      <td>&lt;span id=\"job_summary\" class=\"summary\"&gt;&lt;div&gt;&lt;d...</td>\n",
              "      <td>5,785 reviews</td>\n",
              "      <td>3</td>\n",
              "    </tr>\n",
              "    <tr>\n",
              "      <th>953</th>\n",
              "      <td>Drug Discovery Data Scientist (NCI)</td>\n",
              "      <td>Leidos</td>\n",
              "      <td>&lt;span id=\"job_summary\" class=\"summary\"&gt;&lt;div&gt;&lt;b...</td>\n",
              "      <td>525 reviews</td>\n",
              "      <td>3</td>\n",
              "    </tr>\n",
              "    <tr>\n",
              "      <th>954</th>\n",
              "      <td>Data Analyst, S&amp;P - JUMP</td>\n",
              "      <td>Uber</td>\n",
              "      <td>&lt;span id=\"job_summary\" class=\"summary\"&gt;&lt;div&gt;&lt;d...</td>\n",
              "      <td>496 reviews</td>\n",
              "      <td>3</td>\n",
              "    </tr>\n",
              "  </tbody>\n",
              "</table>\n",
              "<p>2464 rows × 5 columns</p>\n",
              "</div>"
            ],
            "text/plain": [
              "                                              position  ... loc\n",
              "0                                 Development Director  ...   0\n",
              "1    An Ostentatiously-Excitable Principal Research...  ...   0\n",
              "2                                       Data Scientist  ...   0\n",
              "3                                         Data Analyst  ...   0\n",
              "4    Assistant Professor -TT - Signal Processing & ...  ...   0\n",
              "..                                                 ...  ...  ..\n",
              "950                                     Data Scientist  ...   3\n",
              "951                              Senior Data Scientist  ...   3\n",
              "952  Siri - EPM -Machine Learning & Data Science Se...  ...   3\n",
              "953                Drug Discovery Data Scientist (NCI)  ...   3\n",
              "954                           Data Analyst, S&P - JUMP  ...   3\n",
              "\n",
              "[2464 rows x 5 columns]"
            ]
          },
          "metadata": {
            "tags": []
          },
          "execution_count": 202
        }
      ]
    },
    {
      "cell_type": "code",
      "metadata": {
        "colab": {
          "base_uri": "https://localhost:8080/"
        },
        "id": "lV96qSstwTeE",
        "outputId": "1cf47214-0732-473b-9b3c-a8d5757090d9"
      },
      "source": [
        "## ดูว่ามีค่า null หรือไม่ \n",
        "df.isnull().sum()"
      ],
      "execution_count": 203,
      "outputs": [
        {
          "output_type": "execute_result",
          "data": {
            "text/plain": [
              "position         2\n",
              "company          2\n",
              "description      2\n",
              "numreview      657\n",
              "loc              0\n",
              "dtype: int64"
            ]
          },
          "metadata": {
            "tags": []
          },
          "execution_count": 203
        }
      ]
    },
    {
      "cell_type": "code",
      "metadata": {
        "colab": {
          "base_uri": "https://localhost:8080/"
        },
        "id": "VZndHuM5Otwm",
        "outputId": "ef8c3921-0175-4a7c-ee9f-c2f6f905403a"
      },
      "source": [
        "# ดู type\n",
        "df.dtypes"
      ],
      "execution_count": 204,
      "outputs": [
        {
          "output_type": "execute_result",
          "data": {
            "text/plain": [
              "position       object\n",
              "company        object\n",
              "description    object\n",
              "numreview      object\n",
              "loc             int64\n",
              "dtype: object"
            ]
          },
          "metadata": {
            "tags": []
          },
          "execution_count": 204
        }
      ]
    },
    {
      "cell_type": "code",
      "metadata": {
        "colab": {
          "base_uri": "https://localhost:8080/",
          "height": 914
        },
        "id": "z0cipiJxwTbi",
        "outputId": "8cc7a43f-6ae2-483b-a4eb-17d2c56d53db"
      },
      "source": [
        "# จะเห็นได้ว่าที่ col numreview มันจะมีตัวเลขป่นกับหน่วย reviews \n",
        "new = df[\"numreview\"].str.split(\" \", n = 1, expand = True)\n",
        "  \n",
        "# แยกมาแค่ตัวเลข\n",
        "df[\"reviews\"]= new[0]\n",
        "df"
      ],
      "execution_count": 205,
      "outputs": [
        {
          "output_type": "execute_result",
          "data": {
            "text/html": [
              "<div>\n",
              "<style scoped>\n",
              "    .dataframe tbody tr th:only-of-type {\n",
              "        vertical-align: middle;\n",
              "    }\n",
              "\n",
              "    .dataframe tbody tr th {\n",
              "        vertical-align: top;\n",
              "    }\n",
              "\n",
              "    .dataframe thead th {\n",
              "        text-align: right;\n",
              "    }\n",
              "</style>\n",
              "<table border=\"1\" class=\"dataframe\">\n",
              "  <thead>\n",
              "    <tr style=\"text-align: right;\">\n",
              "      <th></th>\n",
              "      <th>position</th>\n",
              "      <th>company</th>\n",
              "      <th>description</th>\n",
              "      <th>numreview</th>\n",
              "      <th>loc</th>\n",
              "      <th>reviews</th>\n",
              "    </tr>\n",
              "  </thead>\n",
              "  <tbody>\n",
              "    <tr>\n",
              "      <th>0</th>\n",
              "      <td>Development Director</td>\n",
              "      <td>ALS TDI</td>\n",
              "      <td>&lt;span id=\"job_summary\" class=\"summary\"&gt;&lt;div&gt;&lt;d...</td>\n",
              "      <td>NaN</td>\n",
              "      <td>0</td>\n",
              "      <td>NaN</td>\n",
              "    </tr>\n",
              "    <tr>\n",
              "      <th>1</th>\n",
              "      <td>An Ostentatiously-Excitable Principal Research...</td>\n",
              "      <td>The Hexagon Lavish</td>\n",
              "      <td>&lt;span id=\"job_summary\" class=\"summary\"&gt;&lt;div&gt;Jo...</td>\n",
              "      <td>NaN</td>\n",
              "      <td>0</td>\n",
              "      <td>NaN</td>\n",
              "    </tr>\n",
              "    <tr>\n",
              "      <th>2</th>\n",
              "      <td>Data Scientist</td>\n",
              "      <td>Xpert Staffing</td>\n",
              "      <td>&lt;span id=\"job_summary\" class=\"summary\"&gt;&lt;div&gt;&lt;d...</td>\n",
              "      <td>NaN</td>\n",
              "      <td>0</td>\n",
              "      <td>NaN</td>\n",
              "    </tr>\n",
              "    <tr>\n",
              "      <th>3</th>\n",
              "      <td>Data Analyst</td>\n",
              "      <td>Operation HOPE</td>\n",
              "      <td>&lt;span id=\"job_summary\" class=\"summary\"&gt;&lt;p&gt;&lt;b&gt;D...</td>\n",
              "      <td>44 reviews</td>\n",
              "      <td>0</td>\n",
              "      <td>44</td>\n",
              "    </tr>\n",
              "    <tr>\n",
              "      <th>4</th>\n",
              "      <td>Assistant Professor -TT - Signal Processing &amp; ...</td>\n",
              "      <td>Emory University</td>\n",
              "      <td>&lt;span id=\"job_summary\" class=\"summary\"&gt;&lt;div&gt;&lt;h...</td>\n",
              "      <td>550 reviews</td>\n",
              "      <td>0</td>\n",
              "      <td>550</td>\n",
              "    </tr>\n",
              "    <tr>\n",
              "      <th>...</th>\n",
              "      <td>...</td>\n",
              "      <td>...</td>\n",
              "      <td>...</td>\n",
              "      <td>...</td>\n",
              "      <td>...</td>\n",
              "      <td>...</td>\n",
              "    </tr>\n",
              "    <tr>\n",
              "      <th>950</th>\n",
              "      <td>Data Scientist</td>\n",
              "      <td>Profusa</td>\n",
              "      <td>&lt;span id=\"job_summary\" class=\"summary\"&gt;&lt;div&gt;&lt;p...</td>\n",
              "      <td>NaN</td>\n",
              "      <td>3</td>\n",
              "      <td>NaN</td>\n",
              "    </tr>\n",
              "    <tr>\n",
              "      <th>951</th>\n",
              "      <td>Senior Data Scientist</td>\n",
              "      <td>Amazon.com</td>\n",
              "      <td>&lt;span id=\"job_summary\" class=\"summary\"&gt;&lt;div&gt;&lt;h...</td>\n",
              "      <td>25,895 reviews</td>\n",
              "      <td>3</td>\n",
              "      <td>25,895</td>\n",
              "    </tr>\n",
              "    <tr>\n",
              "      <th>952</th>\n",
              "      <td>Siri - EPM -Machine Learning &amp; Data Science Se...</td>\n",
              "      <td>Apple</td>\n",
              "      <td>&lt;span id=\"job_summary\" class=\"summary\"&gt;&lt;div&gt;&lt;d...</td>\n",
              "      <td>5,785 reviews</td>\n",
              "      <td>3</td>\n",
              "      <td>5,785</td>\n",
              "    </tr>\n",
              "    <tr>\n",
              "      <th>953</th>\n",
              "      <td>Drug Discovery Data Scientist (NCI)</td>\n",
              "      <td>Leidos</td>\n",
              "      <td>&lt;span id=\"job_summary\" class=\"summary\"&gt;&lt;div&gt;&lt;b...</td>\n",
              "      <td>525 reviews</td>\n",
              "      <td>3</td>\n",
              "      <td>525</td>\n",
              "    </tr>\n",
              "    <tr>\n",
              "      <th>954</th>\n",
              "      <td>Data Analyst, S&amp;P - JUMP</td>\n",
              "      <td>Uber</td>\n",
              "      <td>&lt;span id=\"job_summary\" class=\"summary\"&gt;&lt;div&gt;&lt;d...</td>\n",
              "      <td>496 reviews</td>\n",
              "      <td>3</td>\n",
              "      <td>496</td>\n",
              "    </tr>\n",
              "  </tbody>\n",
              "</table>\n",
              "<p>2464 rows × 6 columns</p>\n",
              "</div>"
            ],
            "text/plain": [
              "                                              position  ... reviews\n",
              "0                                 Development Director  ...     NaN\n",
              "1    An Ostentatiously-Excitable Principal Research...  ...     NaN\n",
              "2                                       Data Scientist  ...     NaN\n",
              "3                                         Data Analyst  ...      44\n",
              "4    Assistant Professor -TT - Signal Processing & ...  ...     550\n",
              "..                                                 ...  ...     ...\n",
              "950                                     Data Scientist  ...     NaN\n",
              "951                              Senior Data Scientist  ...  25,895\n",
              "952  Siri - EPM -Machine Learning & Data Science Se...  ...   5,785\n",
              "953                Drug Discovery Data Scientist (NCI)  ...     525\n",
              "954                           Data Analyst, S&P - JUMP  ...     496\n",
              "\n",
              "[2464 rows x 6 columns]"
            ]
          },
          "metadata": {
            "tags": []
          },
          "execution_count": 205
        }
      ]
    },
    {
      "cell_type": "code",
      "metadata": {
        "colab": {
          "base_uri": "https://localhost:8080/",
          "height": 414
        },
        "id": "x_IFoktY8op-",
        "outputId": "5280622d-5b1b-44fd-e358-023039752405"
      },
      "source": [
        "# drop 'description', 'numreview' ทิ้ง\n",
        "df2 = df.drop(['description', 'numreview'], axis=1)\n",
        "df2"
      ],
      "execution_count": 206,
      "outputs": [
        {
          "output_type": "execute_result",
          "data": {
            "text/html": [
              "<div>\n",
              "<style scoped>\n",
              "    .dataframe tbody tr th:only-of-type {\n",
              "        vertical-align: middle;\n",
              "    }\n",
              "\n",
              "    .dataframe tbody tr th {\n",
              "        vertical-align: top;\n",
              "    }\n",
              "\n",
              "    .dataframe thead th {\n",
              "        text-align: right;\n",
              "    }\n",
              "</style>\n",
              "<table border=\"1\" class=\"dataframe\">\n",
              "  <thead>\n",
              "    <tr style=\"text-align: right;\">\n",
              "      <th></th>\n",
              "      <th>position</th>\n",
              "      <th>company</th>\n",
              "      <th>loc</th>\n",
              "      <th>reviews</th>\n",
              "    </tr>\n",
              "  </thead>\n",
              "  <tbody>\n",
              "    <tr>\n",
              "      <th>0</th>\n",
              "      <td>Development Director</td>\n",
              "      <td>ALS TDI</td>\n",
              "      <td>0</td>\n",
              "      <td>NaN</td>\n",
              "    </tr>\n",
              "    <tr>\n",
              "      <th>1</th>\n",
              "      <td>An Ostentatiously-Excitable Principal Research...</td>\n",
              "      <td>The Hexagon Lavish</td>\n",
              "      <td>0</td>\n",
              "      <td>NaN</td>\n",
              "    </tr>\n",
              "    <tr>\n",
              "      <th>2</th>\n",
              "      <td>Data Scientist</td>\n",
              "      <td>Xpert Staffing</td>\n",
              "      <td>0</td>\n",
              "      <td>NaN</td>\n",
              "    </tr>\n",
              "    <tr>\n",
              "      <th>3</th>\n",
              "      <td>Data Analyst</td>\n",
              "      <td>Operation HOPE</td>\n",
              "      <td>0</td>\n",
              "      <td>44</td>\n",
              "    </tr>\n",
              "    <tr>\n",
              "      <th>4</th>\n",
              "      <td>Assistant Professor -TT - Signal Processing &amp; ...</td>\n",
              "      <td>Emory University</td>\n",
              "      <td>0</td>\n",
              "      <td>550</td>\n",
              "    </tr>\n",
              "    <tr>\n",
              "      <th>...</th>\n",
              "      <td>...</td>\n",
              "      <td>...</td>\n",
              "      <td>...</td>\n",
              "      <td>...</td>\n",
              "    </tr>\n",
              "    <tr>\n",
              "      <th>950</th>\n",
              "      <td>Data Scientist</td>\n",
              "      <td>Profusa</td>\n",
              "      <td>3</td>\n",
              "      <td>NaN</td>\n",
              "    </tr>\n",
              "    <tr>\n",
              "      <th>951</th>\n",
              "      <td>Senior Data Scientist</td>\n",
              "      <td>Amazon.com</td>\n",
              "      <td>3</td>\n",
              "      <td>25,895</td>\n",
              "    </tr>\n",
              "    <tr>\n",
              "      <th>952</th>\n",
              "      <td>Siri - EPM -Machine Learning &amp; Data Science Se...</td>\n",
              "      <td>Apple</td>\n",
              "      <td>3</td>\n",
              "      <td>5,785</td>\n",
              "    </tr>\n",
              "    <tr>\n",
              "      <th>953</th>\n",
              "      <td>Drug Discovery Data Scientist (NCI)</td>\n",
              "      <td>Leidos</td>\n",
              "      <td>3</td>\n",
              "      <td>525</td>\n",
              "    </tr>\n",
              "    <tr>\n",
              "      <th>954</th>\n",
              "      <td>Data Analyst, S&amp;P - JUMP</td>\n",
              "      <td>Uber</td>\n",
              "      <td>3</td>\n",
              "      <td>496</td>\n",
              "    </tr>\n",
              "  </tbody>\n",
              "</table>\n",
              "<p>2464 rows × 4 columns</p>\n",
              "</div>"
            ],
            "text/plain": [
              "                                              position  ... reviews\n",
              "0                                 Development Director  ...     NaN\n",
              "1    An Ostentatiously-Excitable Principal Research...  ...     NaN\n",
              "2                                       Data Scientist  ...     NaN\n",
              "3                                         Data Analyst  ...      44\n",
              "4    Assistant Professor -TT - Signal Processing & ...  ...     550\n",
              "..                                                 ...  ...     ...\n",
              "950                                     Data Scientist  ...     NaN\n",
              "951                              Senior Data Scientist  ...  25,895\n",
              "952  Siri - EPM -Machine Learning & Data Science Se...  ...   5,785\n",
              "953                Drug Discovery Data Scientist (NCI)  ...     525\n",
              "954                           Data Analyst, S&P - JUMP  ...     496\n",
              "\n",
              "[2464 rows x 4 columns]"
            ]
          },
          "metadata": {
            "tags": []
          },
          "execution_count": 206
        }
      ]
    },
    {
      "cell_type": "code",
      "metadata": {
        "colab": {
          "base_uri": "https://localhost:8080/"
        },
        "id": "jfHvI9lj88sJ",
        "outputId": "d5ef83ab-490b-4b0b-97c2-d799960a0b4d"
      },
      "source": [
        "# พอดู type จะเห้นว่า reviews เป็น object ซึ่งเราต้องการให้เป็น num\n",
        "df2.dtypes"
      ],
      "execution_count": 207,
      "outputs": [
        {
          "output_type": "execute_result",
          "data": {
            "text/plain": [
              "position    object\n",
              "company     object\n",
              "loc          int64\n",
              "reviews     object\n",
              "dtype: object"
            ]
          },
          "metadata": {
            "tags": []
          },
          "execution_count": 207
        }
      ]
    },
    {
      "cell_type": "code",
      "metadata": {
        "colab": {
          "base_uri": "https://localhost:8080/"
        },
        "id": "09uToWVe-Te-",
        "outputId": "13ade74b-6345-4e21-8622-c034a9df686f"
      },
      "source": [
        "## ดูว่ามีค่า null หรือไม่ \n",
        "df2.isnull().sum()"
      ],
      "execution_count": 208,
      "outputs": [
        {
          "output_type": "execute_result",
          "data": {
            "text/plain": [
              "position      2\n",
              "company       2\n",
              "loc           0\n",
              "reviews     657\n",
              "dtype: int64"
            ]
          },
          "metadata": {
            "tags": []
          },
          "execution_count": 208
        }
      ]
    },
    {
      "cell_type": "code",
      "metadata": {
        "colab": {
          "base_uri": "https://localhost:8080/"
        },
        "id": "2NvuNkiwCk4r",
        "outputId": "c0c95c2b-027e-4d9e-91f5-1f64e6b2987d"
      },
      "source": [
        "# ลองดูข้อมูลว่ามีลักษณะยังไง\n",
        "df2['reviews']"
      ],
      "execution_count": 209,
      "outputs": [
        {
          "output_type": "execute_result",
          "data": {
            "text/plain": [
              "0         NaN\n",
              "1         NaN\n",
              "2         NaN\n",
              "3          44\n",
              "4         550\n",
              "        ...  \n",
              "950       NaN\n",
              "951    25,895\n",
              "952     5,785\n",
              "953       525\n",
              "954       496\n",
              "Name: reviews, Length: 2464, dtype: object"
            ]
          },
          "metadata": {
            "tags": []
          },
          "execution_count": 209
        }
      ]
    },
    {
      "cell_type": "code",
      "metadata": {
        "colab": {
          "base_uri": "https://localhost:8080/"
        },
        "id": "eFx9Dj75C6lZ",
        "outputId": "e64d0238-1e85-4227-c3e4-826d169521da"
      },
      "source": [
        "# เนื่องจากว่ายังมี , คั่นตัวเลขก็เลยต้องเอาออก\n",
        "testnmu= df2['reviews'].str[:-4] + df2['reviews'].str[-3:]\n",
        "testnmu"
      ],
      "execution_count": 210,
      "outputs": [
        {
          "output_type": "execute_result",
          "data": {
            "text/plain": [
              "0        NaN\n",
              "1        NaN\n",
              "2        NaN\n",
              "3         44\n",
              "4        550\n",
              "       ...  \n",
              "950      NaN\n",
              "951    25895\n",
              "952     5785\n",
              "953      525\n",
              "954      496\n",
              "Name: reviews, Length: 2464, dtype: object"
            ]
          },
          "metadata": {
            "tags": []
          },
          "execution_count": 210
        }
      ]
    },
    {
      "cell_type": "code",
      "metadata": {
        "colab": {
          "base_uri": "https://localhost:8080/",
          "height": 414
        },
        "id": "gyJ1R2TRDkiz",
        "outputId": "4448a20c-1f94-436e-991e-009ecea3f849"
      },
      "source": [
        "# อันนี้คือเอา , ออก โดยแก้ใน df2 อันด้านบนคือลองก่อนเฉยๆ\n",
        "df2['reviews'] = df2['reviews'].str[:-4] + df2['reviews'].str[-3:]\n",
        "df2"
      ],
      "execution_count": 211,
      "outputs": [
        {
          "output_type": "execute_result",
          "data": {
            "text/html": [
              "<div>\n",
              "<style scoped>\n",
              "    .dataframe tbody tr th:only-of-type {\n",
              "        vertical-align: middle;\n",
              "    }\n",
              "\n",
              "    .dataframe tbody tr th {\n",
              "        vertical-align: top;\n",
              "    }\n",
              "\n",
              "    .dataframe thead th {\n",
              "        text-align: right;\n",
              "    }\n",
              "</style>\n",
              "<table border=\"1\" class=\"dataframe\">\n",
              "  <thead>\n",
              "    <tr style=\"text-align: right;\">\n",
              "      <th></th>\n",
              "      <th>position</th>\n",
              "      <th>company</th>\n",
              "      <th>loc</th>\n",
              "      <th>reviews</th>\n",
              "    </tr>\n",
              "  </thead>\n",
              "  <tbody>\n",
              "    <tr>\n",
              "      <th>0</th>\n",
              "      <td>Development Director</td>\n",
              "      <td>ALS TDI</td>\n",
              "      <td>0</td>\n",
              "      <td>NaN</td>\n",
              "    </tr>\n",
              "    <tr>\n",
              "      <th>1</th>\n",
              "      <td>An Ostentatiously-Excitable Principal Research...</td>\n",
              "      <td>The Hexagon Lavish</td>\n",
              "      <td>0</td>\n",
              "      <td>NaN</td>\n",
              "    </tr>\n",
              "    <tr>\n",
              "      <th>2</th>\n",
              "      <td>Data Scientist</td>\n",
              "      <td>Xpert Staffing</td>\n",
              "      <td>0</td>\n",
              "      <td>NaN</td>\n",
              "    </tr>\n",
              "    <tr>\n",
              "      <th>3</th>\n",
              "      <td>Data Analyst</td>\n",
              "      <td>Operation HOPE</td>\n",
              "      <td>0</td>\n",
              "      <td>44</td>\n",
              "    </tr>\n",
              "    <tr>\n",
              "      <th>4</th>\n",
              "      <td>Assistant Professor -TT - Signal Processing &amp; ...</td>\n",
              "      <td>Emory University</td>\n",
              "      <td>0</td>\n",
              "      <td>550</td>\n",
              "    </tr>\n",
              "    <tr>\n",
              "      <th>...</th>\n",
              "      <td>...</td>\n",
              "      <td>...</td>\n",
              "      <td>...</td>\n",
              "      <td>...</td>\n",
              "    </tr>\n",
              "    <tr>\n",
              "      <th>950</th>\n",
              "      <td>Data Scientist</td>\n",
              "      <td>Profusa</td>\n",
              "      <td>3</td>\n",
              "      <td>NaN</td>\n",
              "    </tr>\n",
              "    <tr>\n",
              "      <th>951</th>\n",
              "      <td>Senior Data Scientist</td>\n",
              "      <td>Amazon.com</td>\n",
              "      <td>3</td>\n",
              "      <td>25895</td>\n",
              "    </tr>\n",
              "    <tr>\n",
              "      <th>952</th>\n",
              "      <td>Siri - EPM -Machine Learning &amp; Data Science Se...</td>\n",
              "      <td>Apple</td>\n",
              "      <td>3</td>\n",
              "      <td>5785</td>\n",
              "    </tr>\n",
              "    <tr>\n",
              "      <th>953</th>\n",
              "      <td>Drug Discovery Data Scientist (NCI)</td>\n",
              "      <td>Leidos</td>\n",
              "      <td>3</td>\n",
              "      <td>525</td>\n",
              "    </tr>\n",
              "    <tr>\n",
              "      <th>954</th>\n",
              "      <td>Data Analyst, S&amp;P - JUMP</td>\n",
              "      <td>Uber</td>\n",
              "      <td>3</td>\n",
              "      <td>496</td>\n",
              "    </tr>\n",
              "  </tbody>\n",
              "</table>\n",
              "<p>2464 rows × 4 columns</p>\n",
              "</div>"
            ],
            "text/plain": [
              "                                              position  ... reviews\n",
              "0                                 Development Director  ...     NaN\n",
              "1    An Ostentatiously-Excitable Principal Research...  ...     NaN\n",
              "2                                       Data Scientist  ...     NaN\n",
              "3                                         Data Analyst  ...      44\n",
              "4    Assistant Professor -TT - Signal Processing & ...  ...     550\n",
              "..                                                 ...  ...     ...\n",
              "950                                     Data Scientist  ...     NaN\n",
              "951                              Senior Data Scientist  ...   25895\n",
              "952  Siri - EPM -Machine Learning & Data Science Se...  ...    5785\n",
              "953                Drug Discovery Data Scientist (NCI)  ...     525\n",
              "954                           Data Analyst, S&P - JUMP  ...     496\n",
              "\n",
              "[2464 rows x 4 columns]"
            ]
          },
          "metadata": {
            "tags": []
          },
          "execution_count": 211
        }
      ]
    },
    {
      "cell_type": "code",
      "metadata": {
        "colab": {
          "base_uri": "https://localhost:8080/",
          "height": 414
        },
        "id": "cw1foddi9YKt",
        "outputId": "6dc6ba47-3982-4f55-b768-b271a2e387dd"
      },
      "source": [
        "# เปลี่ยน type ของ reviews เป็น float \n",
        "df2['reviews'] = df2['reviews'].astype(float)\n",
        "df2"
      ],
      "execution_count": 212,
      "outputs": [
        {
          "output_type": "execute_result",
          "data": {
            "text/html": [
              "<div>\n",
              "<style scoped>\n",
              "    .dataframe tbody tr th:only-of-type {\n",
              "        vertical-align: middle;\n",
              "    }\n",
              "\n",
              "    .dataframe tbody tr th {\n",
              "        vertical-align: top;\n",
              "    }\n",
              "\n",
              "    .dataframe thead th {\n",
              "        text-align: right;\n",
              "    }\n",
              "</style>\n",
              "<table border=\"1\" class=\"dataframe\">\n",
              "  <thead>\n",
              "    <tr style=\"text-align: right;\">\n",
              "      <th></th>\n",
              "      <th>position</th>\n",
              "      <th>company</th>\n",
              "      <th>loc</th>\n",
              "      <th>reviews</th>\n",
              "    </tr>\n",
              "  </thead>\n",
              "  <tbody>\n",
              "    <tr>\n",
              "      <th>0</th>\n",
              "      <td>Development Director</td>\n",
              "      <td>ALS TDI</td>\n",
              "      <td>0</td>\n",
              "      <td>NaN</td>\n",
              "    </tr>\n",
              "    <tr>\n",
              "      <th>1</th>\n",
              "      <td>An Ostentatiously-Excitable Principal Research...</td>\n",
              "      <td>The Hexagon Lavish</td>\n",
              "      <td>0</td>\n",
              "      <td>NaN</td>\n",
              "    </tr>\n",
              "    <tr>\n",
              "      <th>2</th>\n",
              "      <td>Data Scientist</td>\n",
              "      <td>Xpert Staffing</td>\n",
              "      <td>0</td>\n",
              "      <td>NaN</td>\n",
              "    </tr>\n",
              "    <tr>\n",
              "      <th>3</th>\n",
              "      <td>Data Analyst</td>\n",
              "      <td>Operation HOPE</td>\n",
              "      <td>0</td>\n",
              "      <td>44.0</td>\n",
              "    </tr>\n",
              "    <tr>\n",
              "      <th>4</th>\n",
              "      <td>Assistant Professor -TT - Signal Processing &amp; ...</td>\n",
              "      <td>Emory University</td>\n",
              "      <td>0</td>\n",
              "      <td>550.0</td>\n",
              "    </tr>\n",
              "    <tr>\n",
              "      <th>...</th>\n",
              "      <td>...</td>\n",
              "      <td>...</td>\n",
              "      <td>...</td>\n",
              "      <td>...</td>\n",
              "    </tr>\n",
              "    <tr>\n",
              "      <th>950</th>\n",
              "      <td>Data Scientist</td>\n",
              "      <td>Profusa</td>\n",
              "      <td>3</td>\n",
              "      <td>NaN</td>\n",
              "    </tr>\n",
              "    <tr>\n",
              "      <th>951</th>\n",
              "      <td>Senior Data Scientist</td>\n",
              "      <td>Amazon.com</td>\n",
              "      <td>3</td>\n",
              "      <td>25895.0</td>\n",
              "    </tr>\n",
              "    <tr>\n",
              "      <th>952</th>\n",
              "      <td>Siri - EPM -Machine Learning &amp; Data Science Se...</td>\n",
              "      <td>Apple</td>\n",
              "      <td>3</td>\n",
              "      <td>5785.0</td>\n",
              "    </tr>\n",
              "    <tr>\n",
              "      <th>953</th>\n",
              "      <td>Drug Discovery Data Scientist (NCI)</td>\n",
              "      <td>Leidos</td>\n",
              "      <td>3</td>\n",
              "      <td>525.0</td>\n",
              "    </tr>\n",
              "    <tr>\n",
              "      <th>954</th>\n",
              "      <td>Data Analyst, S&amp;P - JUMP</td>\n",
              "      <td>Uber</td>\n",
              "      <td>3</td>\n",
              "      <td>496.0</td>\n",
              "    </tr>\n",
              "  </tbody>\n",
              "</table>\n",
              "<p>2464 rows × 4 columns</p>\n",
              "</div>"
            ],
            "text/plain": [
              "                                              position  ...  reviews\n",
              "0                                 Development Director  ...      NaN\n",
              "1    An Ostentatiously-Excitable Principal Research...  ...      NaN\n",
              "2                                       Data Scientist  ...      NaN\n",
              "3                                         Data Analyst  ...     44.0\n",
              "4    Assistant Professor -TT - Signal Processing & ...  ...    550.0\n",
              "..                                                 ...  ...      ...\n",
              "950                                     Data Scientist  ...      NaN\n",
              "951                              Senior Data Scientist  ...  25895.0\n",
              "952  Siri - EPM -Machine Learning & Data Science Se...  ...   5785.0\n",
              "953                Drug Discovery Data Scientist (NCI)  ...    525.0\n",
              "954                           Data Analyst, S&P - JUMP  ...    496.0\n",
              "\n",
              "[2464 rows x 4 columns]"
            ]
          },
          "metadata": {
            "tags": []
          },
          "execution_count": 212
        }
      ]
    },
    {
      "cell_type": "code",
      "metadata": {
        "colab": {
          "base_uri": "https://localhost:8080/"
        },
        "id": "kwg_qaiWPEtI",
        "outputId": "80457d26-1f97-4a0f-f29f-7dfaa4a96110"
      },
      "source": [
        "# เปลี่ยน type reviews เรียบร้อยย\n",
        "df2.dtypes"
      ],
      "execution_count": 213,
      "outputs": [
        {
          "output_type": "execute_result",
          "data": {
            "text/plain": [
              "position     object\n",
              "company      object\n",
              "loc           int64\n",
              "reviews     float64\n",
              "dtype: object"
            ]
          },
          "metadata": {
            "tags": []
          },
          "execution_count": 213
        }
      ]
    },
    {
      "cell_type": "code",
      "metadata": {
        "colab": {
          "base_uri": "https://localhost:8080/",
          "height": 294
        },
        "id": "GoFSWAOQEvgv",
        "outputId": "03c0b7b6-28dd-4e1f-c7f6-24f56ea1ab66"
      },
      "source": [
        "# ลองดู Data describe // อย่าลืมว่า loc เป็น Categorical\n",
        "df2.describe()"
      ],
      "execution_count": 214,
      "outputs": [
        {
          "output_type": "execute_result",
          "data": {
            "text/html": [
              "<div>\n",
              "<style scoped>\n",
              "    .dataframe tbody tr th:only-of-type {\n",
              "        vertical-align: middle;\n",
              "    }\n",
              "\n",
              "    .dataframe tbody tr th {\n",
              "        vertical-align: top;\n",
              "    }\n",
              "\n",
              "    .dataframe thead th {\n",
              "        text-align: right;\n",
              "    }\n",
              "</style>\n",
              "<table border=\"1\" class=\"dataframe\">\n",
              "  <thead>\n",
              "    <tr style=\"text-align: right;\">\n",
              "      <th></th>\n",
              "      <th>loc</th>\n",
              "      <th>reviews</th>\n",
              "    </tr>\n",
              "  </thead>\n",
              "  <tbody>\n",
              "    <tr>\n",
              "      <th>count</th>\n",
              "      <td>2464.000000</td>\n",
              "      <td>1807.000000</td>\n",
              "    </tr>\n",
              "    <tr>\n",
              "      <th>mean</th>\n",
              "      <td>2.066153</td>\n",
              "      <td>2006.740454</td>\n",
              "    </tr>\n",
              "    <tr>\n",
              "      <th>std</th>\n",
              "      <td>0.960912</td>\n",
              "      <td>6376.688283</td>\n",
              "    </tr>\n",
              "    <tr>\n",
              "      <th>min</th>\n",
              "      <td>0.000000</td>\n",
              "      <td>2.000000</td>\n",
              "    </tr>\n",
              "    <tr>\n",
              "      <th>25%</th>\n",
              "      <td>2.000000</td>\n",
              "      <td>15.000000</td>\n",
              "    </tr>\n",
              "    <tr>\n",
              "      <th>50%</th>\n",
              "      <td>2.000000</td>\n",
              "      <td>198.000000</td>\n",
              "    </tr>\n",
              "    <tr>\n",
              "      <th>75%</th>\n",
              "      <td>3.000000</td>\n",
              "      <td>705.000000</td>\n",
              "    </tr>\n",
              "    <tr>\n",
              "      <th>max</th>\n",
              "      <td>3.000000</td>\n",
              "      <td>148051.000000</td>\n",
              "    </tr>\n",
              "  </tbody>\n",
              "</table>\n",
              "</div>"
            ],
            "text/plain": [
              "               loc        reviews\n",
              "count  2464.000000    1807.000000\n",
              "mean      2.066153    2006.740454\n",
              "std       0.960912    6376.688283\n",
              "min       0.000000       2.000000\n",
              "25%       2.000000      15.000000\n",
              "50%       2.000000     198.000000\n",
              "75%       3.000000     705.000000\n",
              "max       3.000000  148051.000000"
            ]
          },
          "metadata": {
            "tags": []
          },
          "execution_count": 214
        }
      ]
    },
    {
      "cell_type": "code",
      "metadata": {
        "colab": {
          "base_uri": "https://localhost:8080/"
        },
        "id": "TIsi9gxPFDGv",
        "outputId": "6a476ede-f777-40e8-edb5-1853e8910a22"
      },
      "source": [
        "## ดูว่ามีค่า null หรือไม่ \n",
        "df2.isnull().sum()"
      ],
      "execution_count": 215,
      "outputs": [
        {
          "output_type": "execute_result",
          "data": {
            "text/plain": [
              "position      2\n",
              "company       2\n",
              "loc           0\n",
              "reviews     657\n",
              "dtype: int64"
            ]
          },
          "metadata": {
            "tags": []
          },
          "execution_count": 215
        }
      ]
    },
    {
      "cell_type": "code",
      "metadata": {
        "colab": {
          "base_uri": "https://localhost:8080/"
        },
        "id": "yWOaere4FbV7",
        "outputId": "c0874477-0514-48e7-edbe-9927ccfde09d"
      },
      "source": [
        "#แสดงผลค่า mean med mode\n",
        "print(df2.mean())\n",
        "print(df2.median())\n",
        "print(df2.mode())"
      ],
      "execution_count": 216,
      "outputs": [
        {
          "output_type": "stream",
          "text": [
            "loc           2.066153\n",
            "reviews    2006.740454\n",
            "dtype: float64\n",
            "loc          2.0\n",
            "reviews    198.0\n",
            "dtype: float64\n",
            "         position             company  loc  reviews\n",
            "0  Data Scientist  NYU Langone Health    2      2.0\n"
          ],
          "name": "stdout"
        }
      ]
    },
    {
      "cell_type": "code",
      "metadata": {
        "colab": {
          "base_uri": "https://localhost:8080/"
        },
        "id": "RGjdOdfcQI67",
        "outputId": "2aa9ec44-5223-4ac5-df48-47906e034651"
      },
      "source": [
        "print(df2['reviews'].mode())"
      ],
      "execution_count": 217,
      "outputs": [
        {
          "output_type": "stream",
          "text": [
            "0    2.0\n",
            "dtype: float64\n"
          ],
          "name": "stdout"
        }
      ]
    },
    {
      "cell_type": "code",
      "metadata": {
        "id": "uGqiNgiyEveG"
      },
      "source": [
        "# Visualization"
      ],
      "execution_count": 218,
      "outputs": []
    },
    {
      "cell_type": "code",
      "metadata": {
        "colab": {
          "base_uri": "https://localhost:8080/",
          "height": 784
        },
        "id": "Z31BiUGoGhqs",
        "outputId": "4c3ccadc-7317-4fa8-dbea-107c2b9e5851"
      },
      "source": [
        "# แสดงกราฟ histogram ดูการกระจายตัวของข้อมูล\n",
        "# ดูที่ feature = reviews //ดูจำนวนรีวิวที่บริษัทมี\n",
        "\n",
        "sns.set(rc={'figure.figsize':(12,8)})\n",
        "sns.kdeplot(df2['reviews'])\n",
        "sns.displot(df2['reviews'],kde=True, bins=20)"
      ],
      "execution_count": 219,
      "outputs": [
        {
          "output_type": "execute_result",
          "data": {
            "text/plain": [
              "<seaborn.axisgrid.FacetGrid at 0x7f6bfbf30e10>"
            ]
          },
          "metadata": {
            "tags": []
          },
          "execution_count": 219
        },
        {
          "output_type": "display_data",
          "data": {
            "image/png": "[encoded data removed]",
            "text/plain": [
              "<Figure size 864x576 with 1 Axes>"
            ]
          },
          "metadata": {
            "tags": []
          }
        },
        {
          "output_type": "display_data",
          "data": {
            "image/png": "[encoded data removed]",
            "text/plain": [
              "<Figure size 360x360 with 1 Axes>"
            ]
          },
          "metadata": {
            "tags": []
          }
        }
      ]
    },
    {
      "cell_type": "code",
      "metadata": {
        "colab": {
          "base_uri": "https://localhost:8080/",
          "height": 526
        },
        "id": "NICbM4vXGkn4",
        "outputId": "cf602106-4e1b-4116-9bd8-a6a784a84549"
      },
      "source": [
        "# แสดงกราฟ histogram เพื่อดูแนวโน้มความสัมพันธ์ของการได้รับรีวิวเกี่ยวกับที่ตั้งมั้ย\n",
        "sns.FacetGrid(df2,hue='loc',height = 5)\\\n",
        " .map(sns.distplot,'reviews')\\\n",
        " . add_legend();\n",
        "plt.show()"
      ],
      "execution_count": 220,
      "outputs": [
        {
          "output_type": "stream",
          "text": [
            "/usr/local/lib/python3.7/dist-packages/seaborn/distributions.py:2557: FutureWarning: `distplot` is a deprecated function and will be removed in a future version. Please adapt your code to use either `displot` (a figure-level function with similar flexibility) or `histplot` (an axes-level function for histograms).\n",
            "  warnings.warn(msg, FutureWarning)\n",
            "/usr/local/lib/python3.7/dist-packages/seaborn/distributions.py:2557: FutureWarning: `distplot` is a deprecated function and will be removed in a future version. Please adapt your code to use either `displot` (a figure-level function with similar flexibility) or `histplot` (an axes-level function for histograms).\n",
            "  warnings.warn(msg, FutureWarning)\n",
            "/usr/local/lib/python3.7/dist-packages/seaborn/distributions.py:2557: FutureWarning: `distplot` is a deprecated function and will be removed in a future version. Please adapt your code to use either `displot` (a figure-level function with similar flexibility) or `histplot` (an axes-level function for histograms).\n",
            "  warnings.warn(msg, FutureWarning)\n",
            "/usr/local/lib/python3.7/dist-packages/seaborn/distributions.py:2557: FutureWarning: `distplot` is a deprecated function and will be removed in a future version. Please adapt your code to use either `displot` (a figure-level function with similar flexibility) or `histplot` (an axes-level function for histograms).\n",
            "  warnings.warn(msg, FutureWarning)\n"
          ],
          "name": "stderr"
        },
        {
          "output_type": "display_data",
          "data": {
            "image/png": "[encoded data removed]",
            "text/plain": [
              "<Figure size 406.6x360 with 1 Axes>"
            ]
          },
          "metadata": {
            "tags": []
          }
        }
      ]
    },
    {
      "cell_type": "code",
      "metadata": {
        "colab": {
          "base_uri": "https://localhost:8080/",
          "height": 403
        },
        "id": "XVk65xTeHcXF",
        "outputId": "8af4b974-1010-441c-e50a-114790f0f44b"
      },
      "source": [
        "# แสดงกราฟ histogram เพื่อดูแนวโน้มความสัมพันธ์ของการได้รับรีวิวเกี่ยวกับที่ตั้งมั้ย\n",
        "plt.figure(figsize=(12,7))\n",
        "sns.boxplot(x='loc',y='reviews',data=df2,palette='winter')"
      ],
      "execution_count": 221,
      "outputs": [
        {
          "output_type": "execute_result",
          "data": {
            "text/plain": [
              "<matplotlib.axes._subplots.AxesSubplot at 0x7f6be4d489d0>"
            ]
          },
          "metadata": {
            "tags": []
          },
          "execution_count": 221
        },
        {
          "output_type": "display_data",
          "data": {
            "image/png": "[encoded data removed]",
            "text/plain": [
              "<Figure size 864x504 with 1 Axes>"
            ]
          },
          "metadata": {
            "tags": []
          }
        }
      ]
    },
    {
      "cell_type": "code",
      "metadata": {
        "colab": {
          "base_uri": "https://localhost:8080/",
          "height": 456
        },
        "id": "IPW2vs1iQaFU",
        "outputId": "130331aa-0954-49b1-81ac-606ff6208b58"
      },
      "source": [
        "# แสดงกราฟ histogram เพื่อดูแนวโน้มความสะมพันธ์ของตัวแปร sex แบ่งตามคนที่รอดกับไม่รอด\n",
        "sns.countplot(x=\"loc\", data=df2)"
      ],
      "execution_count": 222,
      "outputs": [
        {
          "output_type": "execute_result",
          "data": {
            "text/plain": [
              "<matplotlib.axes._subplots.AxesSubplot at 0x7f6be4c3d290>"
            ]
          },
          "metadata": {
            "tags": []
          },
          "execution_count": 222
        },
        {
          "output_type": "display_data",
          "data": {
            "image/png": "[encoded data removed]",
            "text/plain": [
              "<Figure size 864x576 with 1 Axes>"
            ]
          },
          "metadata": {
            "tags": []
          }
        }
      ]
    },
    {
      "cell_type": "code",
      "metadata": {
        "colab": {
          "base_uri": "https://localhost:8080/",
          "height": 294
        },
        "id": "Z_1d5V61RHu8",
        "outputId": "4e540d2f-cc71-4544-9336-0497c68e3ef3"
      },
      "source": [
        "# ดูรายละเอียดของรีวิวที่ได้ของเมือง AL\n",
        "df2[df2['loc']==0].describe()"
      ],
      "execution_count": 223,
      "outputs": [
        {
          "output_type": "execute_result",
          "data": {
            "text/html": [
              "<div>\n",
              "<style scoped>\n",
              "    .dataframe tbody tr th:only-of-type {\n",
              "        vertical-align: middle;\n",
              "    }\n",
              "\n",
              "    .dataframe tbody tr th {\n",
              "        vertical-align: top;\n",
              "    }\n",
              "\n",
              "    .dataframe thead th {\n",
              "        text-align: right;\n",
              "    }\n",
              "</style>\n",
              "<table border=\"1\" class=\"dataframe\">\n",
              "  <thead>\n",
              "    <tr style=\"text-align: right;\">\n",
              "      <th></th>\n",
              "      <th>loc</th>\n",
              "      <th>reviews</th>\n",
              "    </tr>\n",
              "  </thead>\n",
              "  <tbody>\n",
              "    <tr>\n",
              "      <th>count</th>\n",
              "      <td>269.0</td>\n",
              "      <td>227.000000</td>\n",
              "    </tr>\n",
              "    <tr>\n",
              "      <th>mean</th>\n",
              "      <td>0.0</td>\n",
              "      <td>3859.330396</td>\n",
              "    </tr>\n",
              "    <tr>\n",
              "      <th>std</th>\n",
              "      <td>0.0</td>\n",
              "      <td>8263.721241</td>\n",
              "    </tr>\n",
              "    <tr>\n",
              "      <th>min</th>\n",
              "      <td>0.0</td>\n",
              "      <td>2.000000</td>\n",
              "    </tr>\n",
              "    <tr>\n",
              "      <th>25%</th>\n",
              "      <td>0.0</td>\n",
              "      <td>155.500000</td>\n",
              "    </tr>\n",
              "    <tr>\n",
              "      <th>50%</th>\n",
              "      <td>0.0</td>\n",
              "      <td>496.000000</td>\n",
              "    </tr>\n",
              "    <tr>\n",
              "      <th>75%</th>\n",
              "      <td>0.0</td>\n",
              "      <td>4494.000000</td>\n",
              "    </tr>\n",
              "    <tr>\n",
              "      <th>max</th>\n",
              "      <td>0.0</td>\n",
              "      <td>38844.000000</td>\n",
              "    </tr>\n",
              "  </tbody>\n",
              "</table>\n",
              "</div>"
            ],
            "text/plain": [
              "         loc       reviews\n",
              "count  269.0    227.000000\n",
              "mean     0.0   3859.330396\n",
              "std      0.0   8263.721241\n",
              "min      0.0      2.000000\n",
              "25%      0.0    155.500000\n",
              "50%      0.0    496.000000\n",
              "75%      0.0   4494.000000\n",
              "max      0.0  38844.000000"
            ]
          },
          "metadata": {
            "tags": []
          },
          "execution_count": 223
        }
      ]
    },
    {
      "cell_type": "code",
      "metadata": {
        "colab": {
          "base_uri": "https://localhost:8080/",
          "height": 294
        },
        "id": "a4isWnBwRTz1",
        "outputId": "faf05f9c-7dd4-4f01-a14a-33a47b4ff039"
      },
      "source": [
        "# ดูรายละเอียดของรีวิวที่ได้ของเมือง LA\n",
        "df2[df2['loc']==1].describe()"
      ],
      "execution_count": 224,
      "outputs": [
        {
          "output_type": "execute_result",
          "data": {
            "text/html": [
              "<div>\n",
              "<style scoped>\n",
              "    .dataframe tbody tr th:only-of-type {\n",
              "        vertical-align: middle;\n",
              "    }\n",
              "\n",
              "    .dataframe tbody tr th {\n",
              "        vertical-align: top;\n",
              "    }\n",
              "\n",
              "    .dataframe thead th {\n",
              "        text-align: right;\n",
              "    }\n",
              "</style>\n",
              "<table border=\"1\" class=\"dataframe\">\n",
              "  <thead>\n",
              "    <tr style=\"text-align: right;\">\n",
              "      <th></th>\n",
              "      <th>loc</th>\n",
              "      <th>reviews</th>\n",
              "    </tr>\n",
              "  </thead>\n",
              "  <tbody>\n",
              "    <tr>\n",
              "      <th>count</th>\n",
              "      <td>254.0</td>\n",
              "      <td>168.000000</td>\n",
              "    </tr>\n",
              "    <tr>\n",
              "      <th>mean</th>\n",
              "      <td>1.0</td>\n",
              "      <td>564.422619</td>\n",
              "    </tr>\n",
              "    <tr>\n",
              "      <th>std</th>\n",
              "      <td>0.0</td>\n",
              "      <td>1245.701892</td>\n",
              "    </tr>\n",
              "    <tr>\n",
              "      <th>min</th>\n",
              "      <td>1.0</td>\n",
              "      <td>2.000000</td>\n",
              "    </tr>\n",
              "    <tr>\n",
              "      <th>25%</th>\n",
              "      <td>1.0</td>\n",
              "      <td>21.000000</td>\n",
              "    </tr>\n",
              "    <tr>\n",
              "      <th>50%</th>\n",
              "      <td>1.0</td>\n",
              "      <td>198.000000</td>\n",
              "    </tr>\n",
              "    <tr>\n",
              "      <th>75%</th>\n",
              "      <td>1.0</td>\n",
              "      <td>661.000000</td>\n",
              "    </tr>\n",
              "    <tr>\n",
              "      <th>max</th>\n",
              "      <td>1.0</td>\n",
              "      <td>12906.000000</td>\n",
              "    </tr>\n",
              "  </tbody>\n",
              "</table>\n",
              "</div>"
            ],
            "text/plain": [
              "         loc       reviews\n",
              "count  254.0    168.000000\n",
              "mean     1.0    564.422619\n",
              "std      0.0   1245.701892\n",
              "min      1.0      2.000000\n",
              "25%      1.0     21.000000\n",
              "50%      1.0    198.000000\n",
              "75%      1.0    661.000000\n",
              "max      1.0  12906.000000"
            ]
          },
          "metadata": {
            "tags": []
          },
          "execution_count": 224
        }
      ]
    },
    {
      "cell_type": "code",
      "metadata": {
        "colab": {
          "base_uri": "https://localhost:8080/",
          "height": 294
        },
        "id": "F5zWQRY1RUdT",
        "outputId": "a8e8fac1-0ce4-4848-9f9a-f0dfb1a60e13"
      },
      "source": [
        "# ดูรายละเอียดของรีวิวที่ได้ของเมือง NY\n",
        "df2[df2['loc']==2].describe()"
      ],
      "execution_count": 225,
      "outputs": [
        {
          "output_type": "execute_result",
          "data": {
            "text/html": [
              "<div>\n",
              "<style scoped>\n",
              "    .dataframe tbody tr th:only-of-type {\n",
              "        vertical-align: middle;\n",
              "    }\n",
              "\n",
              "    .dataframe tbody tr th {\n",
              "        vertical-align: top;\n",
              "    }\n",
              "\n",
              "    .dataframe thead th {\n",
              "        text-align: right;\n",
              "    }\n",
              "</style>\n",
              "<table border=\"1\" class=\"dataframe\">\n",
              "  <thead>\n",
              "    <tr style=\"text-align: right;\">\n",
              "      <th></th>\n",
              "      <th>loc</th>\n",
              "      <th>reviews</th>\n",
              "    </tr>\n",
              "  </thead>\n",
              "  <tbody>\n",
              "    <tr>\n",
              "      <th>count</th>\n",
              "      <td>986.0</td>\n",
              "      <td>755.000000</td>\n",
              "    </tr>\n",
              "    <tr>\n",
              "      <th>mean</th>\n",
              "      <td>2.0</td>\n",
              "      <td>2321.535099</td>\n",
              "    </tr>\n",
              "    <tr>\n",
              "      <th>std</th>\n",
              "      <td>0.0</td>\n",
              "      <td>5707.588903</td>\n",
              "    </tr>\n",
              "    <tr>\n",
              "      <th>min</th>\n",
              "      <td>2.0</td>\n",
              "      <td>2.000000</td>\n",
              "    </tr>\n",
              "    <tr>\n",
              "      <th>25%</th>\n",
              "      <td>2.0</td>\n",
              "      <td>18.000000</td>\n",
              "    </tr>\n",
              "    <tr>\n",
              "      <th>50%</th>\n",
              "      <td>2.0</td>\n",
              "      <td>332.000000</td>\n",
              "    </tr>\n",
              "    <tr>\n",
              "      <th>75%</th>\n",
              "      <td>2.0</td>\n",
              "      <td>896.000000</td>\n",
              "    </tr>\n",
              "    <tr>\n",
              "      <th>max</th>\n",
              "      <td>2.0</td>\n",
              "      <td>30064.000000</td>\n",
              "    </tr>\n",
              "  </tbody>\n",
              "</table>\n",
              "</div>"
            ],
            "text/plain": [
              "         loc       reviews\n",
              "count  986.0    755.000000\n",
              "mean     2.0   2321.535099\n",
              "std      0.0   5707.588903\n",
              "min      2.0      2.000000\n",
              "25%      2.0     18.000000\n",
              "50%      2.0    332.000000\n",
              "75%      2.0    896.000000\n",
              "max      2.0  30064.000000"
            ]
          },
          "metadata": {
            "tags": []
          },
          "execution_count": 225
        }
      ]
    },
    {
      "cell_type": "code",
      "metadata": {
        "colab": {
          "base_uri": "https://localhost:8080/",
          "height": 294
        },
        "id": "IhGYofagRUVY",
        "outputId": "4a21c3fe-5aff-476b-f612-ef63d9f39acc"
      },
      "source": [
        "# ดูรายละเอียดของรีวิวที่ได้ของเมือง SF\n",
        "df2[df2['loc']==3].describe()"
      ],
      "execution_count": 226,
      "outputs": [
        {
          "output_type": "execute_result",
          "data": {
            "text/html": [
              "<div>\n",
              "<style scoped>\n",
              "    .dataframe tbody tr th:only-of-type {\n",
              "        vertical-align: middle;\n",
              "    }\n",
              "\n",
              "    .dataframe tbody tr th {\n",
              "        vertical-align: top;\n",
              "    }\n",
              "\n",
              "    .dataframe thead th {\n",
              "        text-align: right;\n",
              "    }\n",
              "</style>\n",
              "<table border=\"1\" class=\"dataframe\">\n",
              "  <thead>\n",
              "    <tr style=\"text-align: right;\">\n",
              "      <th></th>\n",
              "      <th>loc</th>\n",
              "      <th>reviews</th>\n",
              "    </tr>\n",
              "  </thead>\n",
              "  <tbody>\n",
              "    <tr>\n",
              "      <th>count</th>\n",
              "      <td>955.0</td>\n",
              "      <td>657.000000</td>\n",
              "    </tr>\n",
              "    <tr>\n",
              "      <th>mean</th>\n",
              "      <td>3.0</td>\n",
              "      <td>1373.713851</td>\n",
              "    </tr>\n",
              "    <tr>\n",
              "      <th>std</th>\n",
              "      <td>0.0</td>\n",
              "      <td>6953.018609</td>\n",
              "    </tr>\n",
              "    <tr>\n",
              "      <th>min</th>\n",
              "      <td>3.0</td>\n",
              "      <td>2.000000</td>\n",
              "    </tr>\n",
              "    <tr>\n",
              "      <th>25%</th>\n",
              "      <td>3.0</td>\n",
              "      <td>8.000000</td>\n",
              "    </tr>\n",
              "    <tr>\n",
              "      <th>50%</th>\n",
              "      <td>3.0</td>\n",
              "      <td>52.000000</td>\n",
              "    </tr>\n",
              "    <tr>\n",
              "      <th>75%</th>\n",
              "      <td>3.0</td>\n",
              "      <td>496.000000</td>\n",
              "    </tr>\n",
              "    <tr>\n",
              "      <th>max</th>\n",
              "      <td>3.0</td>\n",
              "      <td>148051.000000</td>\n",
              "    </tr>\n",
              "  </tbody>\n",
              "</table>\n",
              "</div>"
            ],
            "text/plain": [
              "         loc        reviews\n",
              "count  955.0     657.000000\n",
              "mean     3.0    1373.713851\n",
              "std      0.0    6953.018609\n",
              "min      3.0       2.000000\n",
              "25%      3.0       8.000000\n",
              "50%      3.0      52.000000\n",
              "75%      3.0     496.000000\n",
              "max      3.0  148051.000000"
            ]
          },
          "metadata": {
            "tags": []
          },
          "execution_count": 226
        }
      ]
    },
    {
      "cell_type": "code",
      "metadata": {
        "id": "X4li2P7fLcq8",
        "colab": {
          "base_uri": "https://localhost:8080/",
          "height": 302
        },
        "outputId": "f1ff3c25-4e96-49d5-f133-8a9beccc6f80"
      },
      "source": [
        "company = df2.groupby(['company']).count().sort_values('position').tail(20)\n",
        "\n",
        "company['position'].plot(kind='barh',figsize = (10,5))\n",
        "plt.xlabel('Count', size = 12)\n",
        "plt.ylabel('')\n",
        "plt.yticks(size = 10)\n",
        "plt.xticks(size = 10)\n",
        "plt.title('Number of Positions', size = 10)\n",
        "plt.show()"
      ],
      "execution_count": 227,
      "outputs": [
        {
          "output_type": "display_data",
          "data": {
            "image/png": "[encoded data removed]",
            "text/plain": [
              "<Figure size 720x360 with 1 Axes>"
            ]
          },
          "metadata": {
            "tags": []
          }
        }
      ]
    },
    {
      "cell_type": "code",
      "metadata": {
        "id": "WOzk3xFBSMGD"
      },
      "source": [
        ""
      ],
      "execution_count": 227,
      "outputs": []
    },
    {
      "cell_type": "markdown",
      "metadata": {
        "id": "hjMZbjMeSyxb"
      },
      "source": [
        "# Processing missing values and/or outliers"
      ]
    },
    {
      "cell_type": "code",
      "metadata": {
        "colab": {
          "base_uri": "https://localhost:8080/"
        },
        "id": "Je66N-WMSMDL",
        "outputId": "6807bec9-d739-4134-b6bf-bce463c1e00e"
      },
      "source": [
        "# ดูว่ามีค่า null ที่ไหนบ้าง\n",
        "df2.isnull().sum()"
      ],
      "execution_count": 228,
      "outputs": [
        {
          "output_type": "execute_result",
          "data": {
            "text/plain": [
              "position      2\n",
              "company       2\n",
              "loc           0\n",
              "reviews     657\n",
              "dtype: int64"
            ]
          },
          "metadata": {
            "tags": []
          },
          "execution_count": 228
        }
      ]
    },
    {
      "cell_type": "code",
      "metadata": {
        "id": "7v9gzr6cEvbt"
      },
      "source": [
        "def fill_review(cols):\n",
        "    reviews = cols[0]\n",
        "    loc= cols[1]\n",
        "\n",
        "    if pd.isnull(reviews):\n",
        "\n",
        "        if loc ==0:\n",
        "            return 3859.330396\n",
        "        elif loc ==1:\n",
        "            return 564.422619\n",
        "        elif loc ==2:\n",
        "            return 2321.535099\n",
        "        else:\n",
        "            return 1373.713851\n",
        "    else:\n",
        "        return reviews "
      ],
      "execution_count": 229,
      "outputs": []
    },
    {
      "cell_type": "code",
      "metadata": {
        "id": "nHvnuP9PUGEM"
      },
      "source": [
        "df2['reviews'] = df2[['reviews','loc']].apply(fill_review,axis=1)"
      ],
      "execution_count": 230,
      "outputs": []
    },
    {
      "cell_type": "code",
      "metadata": {
        "colab": {
          "base_uri": "https://localhost:8080/"
        },
        "id": "dO65NJA9UF8S",
        "outputId": "6eb5a891-cd5d-4712-a333-655580e7c923"
      },
      "source": [
        "# เช็คดูว่ามีค่า null เหลืออยู่มั้ยที่ reviews || ไม่เหลือแล้ว\n",
        "df2.isnull().sum()"
      ],
      "execution_count": 231,
      "outputs": [
        {
          "output_type": "execute_result",
          "data": {
            "text/plain": [
              "position    2\n",
              "company     2\n",
              "loc         0\n",
              "reviews     0\n",
              "dtype: int64"
            ]
          },
          "metadata": {
            "tags": []
          },
          "execution_count": 231
        }
      ]
    },
    {
      "cell_type": "code",
      "metadata": {
        "id": "ogGqL-RNUqi8"
      },
      "source": [
        "# จะเห็นว่าเหลือที่ posittion + company เลยจะ drop ทิ้ง\n",
        "df2 = df2.dropna()"
      ],
      "execution_count": 232,
      "outputs": []
    },
    {
      "cell_type": "code",
      "metadata": {
        "colab": {
          "base_uri": "https://localhost:8080/"
        },
        "id": "WGciD7WOUw9h",
        "outputId": "07247a9e-c311-4871-9422-8ff0fb45df84"
      },
      "source": [
        "# เช็คดูว่ามีค่า null เหลืออยู่มั้ย|| ไม่เหลือแล้ว\n",
        "df2.isnull().sum()"
      ],
      "execution_count": 233,
      "outputs": [
        {
          "output_type": "execute_result",
          "data": {
            "text/plain": [
              "position    0\n",
              "company     0\n",
              "loc         0\n",
              "reviews     0\n",
              "dtype: int64"
            ]
          },
          "metadata": {
            "tags": []
          },
          "execution_count": 233
        }
      ]
    },
    {
      "cell_type": "code",
      "metadata": {
        "colab": {
          "base_uri": "https://localhost:8080/",
          "height": 475
        },
        "id": "s6ZVPMd-Uzhj",
        "outputId": "d2240d2e-7975-4dac-ddc7-66fc89bc01d9"
      },
      "source": [
        "# ลองดูด้วย heatmap\n",
        "sns.heatmap(df2.isnull(),yticklabels=False,cbar=False,cmap='viridis')"
      ],
      "execution_count": 234,
      "outputs": [
        {
          "output_type": "execute_result",
          "data": {
            "text/plain": [
              "<matplotlib.axes._subplots.AxesSubplot at 0x7f6be4bb0a50>"
            ]
          },
          "metadata": {
            "tags": []
          },
          "execution_count": 234
        },
        {
          "output_type": "display_data",
          "data": {
            "image/png": "[encoded data removed]",
            "text/plain": [
              "<Figure size 864x576 with 1 Axes>"
            ]
          },
          "metadata": {
            "tags": []
          }
        }
      ]
    },
    {
      "cell_type": "code",
      "metadata": {
        "id": "3hCpmSgZU5cm"
      },
      "source": [
        "# Outliers"
      ],
      "execution_count": 235,
      "outputs": []
    },
    {
      "cell_type": "code",
      "metadata": {
        "colab": {
          "base_uri": "https://localhost:8080/"
        },
        "id": "vBTWdccOVfg3",
        "outputId": "e565830b-2a22-437d-d877-c973c1385aa7"
      },
      "source": [
        "# แก้ให้ loc เป็น categorical var\n",
        "df2['loc'] = df2['loc'].astype('category')"
      ],
      "execution_count": 236,
      "outputs": [
        {
          "output_type": "stream",
          "text": [
            "/usr/local/lib/python3.7/dist-packages/ipykernel_launcher.py:2: SettingWithCopyWarning: \n",
            "A value is trying to be set on a copy of a slice from a DataFrame.\n",
            "Try using .loc[row_indexer,col_indexer] = value instead\n",
            "\n",
            "See the caveats in the documentation: https://pandas.pydata.org/pandas-docs/stable/user_guide/indexing.html#returning-a-view-versus-a-copy\n",
            "  \n"
          ],
          "name": "stderr"
        }
      ]
    },
    {
      "cell_type": "code",
      "metadata": {
        "colab": {
          "base_uri": "https://localhost:8080/"
        },
        "id": "bJ85SPkmU5Zk",
        "outputId": "055b8289-3520-4c30-a164-5ea68badc4dc"
      },
      "source": [
        "# IQR \n",
        "\n",
        "q1 = df2.quantile(0.25) # เลือกค่าที่เป็นจุดของ Q1\n",
        "q3 = df2.quantile(0.75) # เลือกค่าที่เป็นจุดของ Q3\n",
        "iqr = q3 - q1\n",
        "iqr"
      ],
      "execution_count": 237,
      "outputs": [
        {
          "output_type": "execute_result",
          "data": {
            "text/plain": [
              "reviews    1356.0\n",
              "dtype: float64"
            ]
          },
          "metadata": {
            "tags": []
          },
          "execution_count": 237
        }
      ]
    },
    {
      "cell_type": "code",
      "metadata": {
        "colab": {
          "base_uri": "https://localhost:8080/"
        },
        "id": "BdxaZlY0U5Xd",
        "outputId": "3d21874e-9677-457d-f46c-0197e8dd7b8a"
      },
      "source": [
        "# คำนวณหาค่า lower outliers และ upper outliers ของรีวิวโดยรวม\n",
        "low_outlier = q1-1.5*iqr\n",
        "upp_outlier = q3+1.5*iqr\n",
        "print(\"low \", low_outlier )\n",
        "print(\"upp \", upp_outlier)"
      ],
      "execution_count": 238,
      "outputs": [
        {
          "output_type": "stream",
          "text": [
            "low  reviews   -2001.0\n",
            "dtype: float64\n",
            "upp  reviews    3423.0\n",
            "dtype: float64\n"
          ],
          "name": "stdout"
        }
      ]
    },
    {
      "cell_type": "code",
      "metadata": {
        "colab": {
          "base_uri": "https://localhost:8080/"
        },
        "id": "UCi1x3dxWRug",
        "outputId": "97c0af53-3b9b-4207-c463-de09ef38d82e"
      },
      "source": [
        "# จะหา outliers ของรีวิวแยกตามเมือง\n",
        "# เมือง AL\n",
        "q1_al = df2[df2['loc']==0].quantile(0.25) # เลือกค่าที่เป็นจุดของ Q1\n",
        "q3_al = df2[df2['loc']==0].quantile(0.75) # เลือกค่าที่เป็นจุดของ Q3\n",
        "iqr_al = q3_al - q1_al\n",
        "low_al = q1_al-1.5*iqr_al\n",
        "upp_al = q3_al+1.5*iqr_al\n",
        "print(\"low \", low_al )\n",
        "print(\"upp \", upp_al)"
      ],
      "execution_count": 239,
      "outputs": [
        {
          "output_type": "stream",
          "text": [
            "low  reviews   -5206.495594\n",
            "dtype: float64\n",
            "upp  reviews    9298.82599\n",
            "dtype: float64\n"
          ],
          "name": "stdout"
        }
      ]
    },
    {
      "cell_type": "code",
      "metadata": {
        "colab": {
          "base_uri": "https://localhost:8080/"
        },
        "id": "39Dyjj7-XfAa",
        "outputId": "7b18ea31-0ab4-40a0-9eef-2d7b220213e3"
      },
      "source": [
        "# เมือง LA\n",
        "q1_la = df2[df2['loc']==1].quantile(0.25) # เลือกค่าที่เป็นจุดของ Q1\n",
        "q3_la = df2[df2['loc']==1].quantile(0.75) # เลือกค่าที่เป็นจุดของ Q3\n",
        "iqr_la = q3_la - q1_la\n",
        "low_la = q1_la-1.5*iqr_la\n",
        "upp_la = q3_la+1.5*iqr_la\n",
        "print(\"low \", low_la )\n",
        "print(\"upp \", upp_la)"
      ],
      "execution_count": 240,
      "outputs": [
        {
          "output_type": "stream",
          "text": [
            "low  reviews   -721.633929\n",
            "dtype: float64\n",
            "upp  reviews    1336.056548\n",
            "dtype: float64\n"
          ],
          "name": "stdout"
        }
      ]
    },
    {
      "cell_type": "code",
      "metadata": {
        "colab": {
          "base_uri": "https://localhost:8080/"
        },
        "id": "EdiSHDSJXeyx",
        "outputId": "c609f8bf-7fae-497c-df40-57b75e52714f"
      },
      "source": [
        "# เมือง NY\n",
        "q1_ny = df2[df2['loc']==2].quantile(0.25) # เลือกค่าที่เป็นจุดของ Q1\n",
        "q3_ny = df2[df2['loc']==2].quantile(0.75) # เลือกค่าที่เป็นจุดของ Q3\n",
        "iqr_ny = q3_ny - q1_ny\n",
        "low_ny = q1_ny-1.5*iqr_ny\n",
        "upp_ny = q3_ny+1.5*iqr_ny\n",
        "print(\"low \", low_ny )\n",
        "print(\"upp \", upp_ny)"
      ],
      "execution_count": 241,
      "outputs": [
        {
          "output_type": "stream",
          "text": [
            "low  reviews   -3382.302649\n",
            "dtype: float64\n",
            "upp  reviews    5743.837747\n",
            "dtype: float64\n"
          ],
          "name": "stdout"
        }
      ]
    },
    {
      "cell_type": "code",
      "metadata": {
        "colab": {
          "base_uri": "https://localhost:8080/"
        },
        "id": "Hrbdk9gTXelT",
        "outputId": "69528627-889c-4255-f87c-cb3c86420f1e"
      },
      "source": [
        "# เมือง SF\n",
        "q1_sf = df2[df2['loc']==3].quantile(0.25) # เลือกค่าที่เป็นจุดของ Q1\n",
        "q3_sf = df2[df2['loc']==3].quantile(0.75) # เลือกค่าที่เป็นจุดของ Q3\n",
        "iqr_sf = q3_sf - q1_sf\n",
        "low_sf = q1_sf-1.5*iqr_sf\n",
        "upp_sf = q3_sf+1.5*iqr_sf\n",
        "print(\"low \", low_sf )\n",
        "print(\"upp \", upp_sf)"
      ],
      "execution_count": 242,
      "outputs": [
        {
          "output_type": "stream",
          "text": [
            "low  reviews   -2023.070776\n",
            "dtype: float64\n",
            "upp  reviews    3411.784628\n",
            "dtype: float64\n"
          ],
          "name": "stdout"
        }
      ]
    },
    {
      "cell_type": "code",
      "metadata": {
        "id": "odCfxK6AY0-q"
      },
      "source": [
        "# duplicate data\n",
        "df3 = df2"
      ],
      "execution_count": 243,
      "outputs": []
    },
    {
      "cell_type": "code",
      "metadata": {
        "colab": {
          "base_uri": "https://localhost:8080/"
        },
        "id": "3KoW2Zy6bmal",
        "outputId": "cd1a6b89-ac78-4702-c087-2bfaf7f0ec0f"
      },
      "source": [
        "# ดู shape เริ่มต้น\n",
        "df3.shape"
      ],
      "execution_count": 244,
      "outputs": [
        {
          "output_type": "execute_result",
          "data": {
            "text/plain": [
              "(2462, 4)"
            ]
          },
          "metadata": {
            "tags": []
          },
          "execution_count": 244
        }
      ]
    },
    {
      "cell_type": "code",
      "metadata": {
        "colab": {
          "base_uri": "https://localhost:8080/",
          "height": 403
        },
        "id": "VWTSWU2dcDZp",
        "outputId": "a6fd5bfe-21e0-49de-b3c4-b08208cd30ba"
      },
      "source": [
        "# แสดงกราฟ histogram เพื่อดูแนวโน้มความสัมพันธ์ของการได้รับรีวิวเกี่ยวกับที่ตั้ง\n",
        "plt.figure(figsize=(12,7))\n",
        "sns.boxplot(x='loc',y='reviews',data=df2,palette='winter')"
      ],
      "execution_count": 245,
      "outputs": [
        {
          "output_type": "execute_result",
          "data": {
            "text/plain": [
              "<matplotlib.axes._subplots.AxesSubplot at 0x7f6be4a79510>"
            ]
          },
          "metadata": {
            "tags": []
          },
          "execution_count": 245
        },
        {
          "output_type": "display_data",
          "data": {
            "image/png": "[encoded data removed]",
            "text/plain": [
              "<Figure size 864x504 with 1 Axes>"
            ]
          },
          "metadata": {
            "tags": []
          }
        }
      ]
    },
    {
      "cell_type": "code",
      "metadata": {
        "colab": {
          "base_uri": "https://localhost:8080/"
        },
        "id": "JQxic62VWRr9",
        "outputId": "419e5897-3e40-4a9e-aa3a-ec32b2fde4da"
      },
      "source": [
        "# เลือกเฉพาะข้อมูลที่ไม่เกิน Outlier ของ AL\n",
        "al_out = df3.loc[(df3['loc']==0)&(df3['reviews']>low_al[0])&(df3['reviews']<upp_al[0])]\n",
        "al_out.shape"
      ],
      "execution_count": 246,
      "outputs": [
        {
          "output_type": "execute_result",
          "data": {
            "text/plain": [
              "(250, 4)"
            ]
          },
          "metadata": {
            "tags": []
          },
          "execution_count": 246
        }
      ]
    },
    {
      "cell_type": "code",
      "metadata": {
        "colab": {
          "base_uri": "https://localhost:8080/"
        },
        "id": "Gj0OvzSqemO-",
        "outputId": "be9fc615-9c26-4756-b726-c641c370d1eb"
      },
      "source": [
        "# เลือกเฉพาะข้อมูลที่ไม่เกิน Outlier ของ LA\n",
        "la_out = df3.loc[(df3['loc']==1)&(df3['reviews']>low_la[0])&(df3['reviews']<upp_la[0])]\n",
        "la_out.shape"
      ],
      "execution_count": 247,
      "outputs": [
        {
          "output_type": "execute_result",
          "data": {
            "text/plain": [
              "(238, 4)"
            ]
          },
          "metadata": {
            "tags": []
          },
          "execution_count": 247
        }
      ]
    },
    {
      "cell_type": "code",
      "metadata": {
        "colab": {
          "base_uri": "https://localhost:8080/"
        },
        "id": "1TOmejXkemDb",
        "outputId": "8ed57581-fab9-40ae-df24-bfcdedebf6dc"
      },
      "source": [
        "# เลือกเฉพาะข้อมูลที่ไม่เกิน Outlier ของ NY\n",
        "ny_out = df3.loc[(df3['loc']==2)&(df3['reviews']>low_ny[0])&(df3['reviews']<upp_ny[0])]\n",
        "ny_out.shape"
      ],
      "execution_count": 248,
      "outputs": [
        {
          "output_type": "execute_result",
          "data": {
            "text/plain": [
              "(917, 4)"
            ]
          },
          "metadata": {
            "tags": []
          },
          "execution_count": 248
        }
      ]
    },
    {
      "cell_type": "code",
      "metadata": {
        "colab": {
          "base_uri": "https://localhost:8080/"
        },
        "id": "mrBKCqbael9f",
        "outputId": "a4c97be4-6afd-44a0-eafc-7c78b8c9a6fd"
      },
      "source": [
        "# เลือกเฉพาะข้อมูลที่ไม่เกิน Outlier ของ SF\n",
        "sf_out = df3.loc[(df3['loc']==3)&(df3['reviews']>low_sf[0])&(df3['reviews']<upp_sf[0])]\n",
        "sf_out.shape"
      ],
      "execution_count": 249,
      "outputs": [
        {
          "output_type": "execute_result",
          "data": {
            "text/plain": [
              "(910, 4)"
            ]
          },
          "metadata": {
            "tags": []
          },
          "execution_count": 249
        }
      ]
    },
    {
      "cell_type": "code",
      "metadata": {
        "colab": {
          "base_uri": "https://localhost:8080/",
          "height": 414
        },
        "id": "aCApAIkMel0M",
        "outputId": "ab94042f-4000-43b2-d2ca-bb229dfbc7f4"
      },
      "source": [
        "# รวมข้อมูล\n",
        "df_out = al_out\n",
        "df_out = df_out.append(la_out)\n",
        "df_out = df_out.append(ny_out)\n",
        "df_out = df_out.append(sf_out)\n",
        "df_out"
      ],
      "execution_count": 250,
      "outputs": [
        {
          "output_type": "execute_result",
          "data": {
            "text/html": [
              "<div>\n",
              "<style scoped>\n",
              "    .dataframe tbody tr th:only-of-type {\n",
              "        vertical-align: middle;\n",
              "    }\n",
              "\n",
              "    .dataframe tbody tr th {\n",
              "        vertical-align: top;\n",
              "    }\n",
              "\n",
              "    .dataframe thead th {\n",
              "        text-align: right;\n",
              "    }\n",
              "</style>\n",
              "<table border=\"1\" class=\"dataframe\">\n",
              "  <thead>\n",
              "    <tr style=\"text-align: right;\">\n",
              "      <th></th>\n",
              "      <th>position</th>\n",
              "      <th>company</th>\n",
              "      <th>loc</th>\n",
              "      <th>reviews</th>\n",
              "    </tr>\n",
              "  </thead>\n",
              "  <tbody>\n",
              "    <tr>\n",
              "      <th>0</th>\n",
              "      <td>Development Director</td>\n",
              "      <td>ALS TDI</td>\n",
              "      <td>0</td>\n",
              "      <td>3859.330396</td>\n",
              "    </tr>\n",
              "    <tr>\n",
              "      <th>1</th>\n",
              "      <td>An Ostentatiously-Excitable Principal Research...</td>\n",
              "      <td>The Hexagon Lavish</td>\n",
              "      <td>0</td>\n",
              "      <td>3859.330396</td>\n",
              "    </tr>\n",
              "    <tr>\n",
              "      <th>2</th>\n",
              "      <td>Data Scientist</td>\n",
              "      <td>Xpert Staffing</td>\n",
              "      <td>0</td>\n",
              "      <td>3859.330396</td>\n",
              "    </tr>\n",
              "    <tr>\n",
              "      <th>3</th>\n",
              "      <td>Data Analyst</td>\n",
              "      <td>Operation HOPE</td>\n",
              "      <td>0</td>\n",
              "      <td>44.000000</td>\n",
              "    </tr>\n",
              "    <tr>\n",
              "      <th>4</th>\n",
              "      <td>Assistant Professor -TT - Signal Processing &amp; ...</td>\n",
              "      <td>Emory University</td>\n",
              "      <td>0</td>\n",
              "      <td>550.000000</td>\n",
              "    </tr>\n",
              "    <tr>\n",
              "      <th>...</th>\n",
              "      <td>...</td>\n",
              "      <td>...</td>\n",
              "      <td>...</td>\n",
              "      <td>...</td>\n",
              "    </tr>\n",
              "    <tr>\n",
              "      <th>948</th>\n",
              "      <td>Data Scientist</td>\n",
              "      <td>Cox Enterprises</td>\n",
              "      <td>3</td>\n",
              "      <td>118.000000</td>\n",
              "    </tr>\n",
              "    <tr>\n",
              "      <th>949</th>\n",
              "      <td>Data Scientist - Analytics</td>\n",
              "      <td>Wish</td>\n",
              "      <td>3</td>\n",
              "      <td>14.000000</td>\n",
              "    </tr>\n",
              "    <tr>\n",
              "      <th>950</th>\n",
              "      <td>Data Scientist</td>\n",
              "      <td>Profusa</td>\n",
              "      <td>3</td>\n",
              "      <td>1373.713851</td>\n",
              "    </tr>\n",
              "    <tr>\n",
              "      <th>953</th>\n",
              "      <td>Drug Discovery Data Scientist (NCI)</td>\n",
              "      <td>Leidos</td>\n",
              "      <td>3</td>\n",
              "      <td>525.000000</td>\n",
              "    </tr>\n",
              "    <tr>\n",
              "      <th>954</th>\n",
              "      <td>Data Analyst, S&amp;P - JUMP</td>\n",
              "      <td>Uber</td>\n",
              "      <td>3</td>\n",
              "      <td>496.000000</td>\n",
              "    </tr>\n",
              "  </tbody>\n",
              "</table>\n",
              "<p>2315 rows × 4 columns</p>\n",
              "</div>"
            ],
            "text/plain": [
              "                                              position  ...      reviews\n",
              "0                                 Development Director  ...  3859.330396\n",
              "1    An Ostentatiously-Excitable Principal Research...  ...  3859.330396\n",
              "2                                       Data Scientist  ...  3859.330396\n",
              "3                                         Data Analyst  ...    44.000000\n",
              "4    Assistant Professor -TT - Signal Processing & ...  ...   550.000000\n",
              "..                                                 ...  ...          ...\n",
              "948                                     Data Scientist  ...   118.000000\n",
              "949                         Data Scientist - Analytics  ...    14.000000\n",
              "950                                     Data Scientist  ...  1373.713851\n",
              "953                Drug Discovery Data Scientist (NCI)  ...   525.000000\n",
              "954                           Data Analyst, S&P - JUMP  ...   496.000000\n",
              "\n",
              "[2315 rows x 4 columns]"
            ]
          },
          "metadata": {
            "tags": []
          },
          "execution_count": 250
        }
      ]
    },
    {
      "cell_type": "code",
      "metadata": {
        "colab": {
          "base_uri": "https://localhost:8080/",
          "height": 410
        },
        "id": "vNYRWX--gDqY",
        "outputId": "d3c792bd-df24-4cd4-c142-9b0c7733fa5a"
      },
      "source": [
        "# ลองพล็อตกราฟจากข้อมูลที่ตัด Outlier ออก\n",
        "plt.figure(figsize=(12,7))\n",
        "sns.boxplot(x='loc',y='reviews',data=df_out,palette='winter')"
      ],
      "execution_count": 251,
      "outputs": [
        {
          "output_type": "execute_result",
          "data": {
            "text/plain": [
              "<matplotlib.axes._subplots.AxesSubplot at 0x7f6be49a6e10>"
            ]
          },
          "metadata": {
            "tags": []
          },
          "execution_count": 251
        },
        {
          "output_type": "display_data",
          "data": {
            "image/png": "[encoded data removed]",
            "text/plain": [
              "<Figure size 864x504 with 1 Axes>"
            ]
          },
          "metadata": {
            "tags": []
          }
        }
      ]
    },
    {
      "cell_type": "code",
      "metadata": {
        "colab": {
          "base_uri": "https://localhost:8080/"
        },
        "id": "EQWj_UbDhR2E",
        "outputId": "f4f52ae9-9eb5-4062-eb9d-3f5395fc5c05"
      },
      "source": [
        "# ดู uniqe val\n",
        "uniqueValues = df_out['company'].unique()\n",
        "print(uniqueValues.shape)"
      ],
      "execution_count": 252,
      "outputs": [
        {
          "output_type": "stream",
          "text": [
            "(1107,)\n"
          ],
          "name": "stdout"
        }
      ]
    },
    {
      "cell_type": "code",
      "metadata": {
        "colab": {
          "base_uri": "https://localhost:8080/"
        },
        "id": "L4iUEtJ9gDhl",
        "outputId": "2fa584c3-c268-4e91-9063-495eb19d3c3f"
      },
      "source": [
        "# ดู uniqe val\n",
        "uniqueValues = df_out['position'].unique()\n",
        "print(uniqueValues.shape)"
      ],
      "execution_count": 253,
      "outputs": [
        {
          "output_type": "stream",
          "text": [
            "(1648,)\n"
          ],
          "name": "stdout"
        }
      ]
    },
    {
      "cell_type": "code",
      "metadata": {
        "colab": {
          "base_uri": "https://localhost:8080/",
          "height": 414
        },
        "id": "6R_rste7vCaY",
        "outputId": "0f9f5c52-67d8-460b-9dc9-929cb01478fc"
      },
      "source": [
        "df_out"
      ],
      "execution_count": 254,
      "outputs": [
        {
          "output_type": "execute_result",
          "data": {
            "text/html": [
              "<div>\n",
              "<style scoped>\n",
              "    .dataframe tbody tr th:only-of-type {\n",
              "        vertical-align: middle;\n",
              "    }\n",
              "\n",
              "    .dataframe tbody tr th {\n",
              "        vertical-align: top;\n",
              "    }\n",
              "\n",
              "    .dataframe thead th {\n",
              "        text-align: right;\n",
              "    }\n",
              "</style>\n",
              "<table border=\"1\" class=\"dataframe\">\n",
              "  <thead>\n",
              "    <tr style=\"text-align: right;\">\n",
              "      <th></th>\n",
              "      <th>position</th>\n",
              "      <th>company</th>\n",
              "      <th>loc</th>\n",
              "      <th>reviews</th>\n",
              "    </tr>\n",
              "  </thead>\n",
              "  <tbody>\n",
              "    <tr>\n",
              "      <th>0</th>\n",
              "      <td>Development Director</td>\n",
              "      <td>ALS TDI</td>\n",
              "      <td>0</td>\n",
              "      <td>3859.330396</td>\n",
              "    </tr>\n",
              "    <tr>\n",
              "      <th>1</th>\n",
              "      <td>An Ostentatiously-Excitable Principal Research...</td>\n",
              "      <td>The Hexagon Lavish</td>\n",
              "      <td>0</td>\n",
              "      <td>3859.330396</td>\n",
              "    </tr>\n",
              "    <tr>\n",
              "      <th>2</th>\n",
              "      <td>Data Scientist</td>\n",
              "      <td>Xpert Staffing</td>\n",
              "      <td>0</td>\n",
              "      <td>3859.330396</td>\n",
              "    </tr>\n",
              "    <tr>\n",
              "      <th>3</th>\n",
              "      <td>Data Analyst</td>\n",
              "      <td>Operation HOPE</td>\n",
              "      <td>0</td>\n",
              "      <td>44.000000</td>\n",
              "    </tr>\n",
              "    <tr>\n",
              "      <th>4</th>\n",
              "      <td>Assistant Professor -TT - Signal Processing &amp; ...</td>\n",
              "      <td>Emory University</td>\n",
              "      <td>0</td>\n",
              "      <td>550.000000</td>\n",
              "    </tr>\n",
              "    <tr>\n",
              "      <th>...</th>\n",
              "      <td>...</td>\n",
              "      <td>...</td>\n",
              "      <td>...</td>\n",
              "      <td>...</td>\n",
              "    </tr>\n",
              "    <tr>\n",
              "      <th>948</th>\n",
              "      <td>Data Scientist</td>\n",
              "      <td>Cox Enterprises</td>\n",
              "      <td>3</td>\n",
              "      <td>118.000000</td>\n",
              "    </tr>\n",
              "    <tr>\n",
              "      <th>949</th>\n",
              "      <td>Data Scientist - Analytics</td>\n",
              "      <td>Wish</td>\n",
              "      <td>3</td>\n",
              "      <td>14.000000</td>\n",
              "    </tr>\n",
              "    <tr>\n",
              "      <th>950</th>\n",
              "      <td>Data Scientist</td>\n",
              "      <td>Profusa</td>\n",
              "      <td>3</td>\n",
              "      <td>1373.713851</td>\n",
              "    </tr>\n",
              "    <tr>\n",
              "      <th>953</th>\n",
              "      <td>Drug Discovery Data Scientist (NCI)</td>\n",
              "      <td>Leidos</td>\n",
              "      <td>3</td>\n",
              "      <td>525.000000</td>\n",
              "    </tr>\n",
              "    <tr>\n",
              "      <th>954</th>\n",
              "      <td>Data Analyst, S&amp;P - JUMP</td>\n",
              "      <td>Uber</td>\n",
              "      <td>3</td>\n",
              "      <td>496.000000</td>\n",
              "    </tr>\n",
              "  </tbody>\n",
              "</table>\n",
              "<p>2315 rows × 4 columns</p>\n",
              "</div>"
            ],
            "text/plain": [
              "                                              position  ...      reviews\n",
              "0                                 Development Director  ...  3859.330396\n",
              "1    An Ostentatiously-Excitable Principal Research...  ...  3859.330396\n",
              "2                                       Data Scientist  ...  3859.330396\n",
              "3                                         Data Analyst  ...    44.000000\n",
              "4    Assistant Professor -TT - Signal Processing & ...  ...   550.000000\n",
              "..                                                 ...  ...          ...\n",
              "948                                     Data Scientist  ...   118.000000\n",
              "949                         Data Scientist - Analytics  ...    14.000000\n",
              "950                                     Data Scientist  ...  1373.713851\n",
              "953                Drug Discovery Data Scientist (NCI)  ...   525.000000\n",
              "954                           Data Analyst, S&P - JUMP  ...   496.000000\n",
              "\n",
              "[2315 rows x 4 columns]"
            ]
          },
          "metadata": {
            "tags": []
          },
          "execution_count": 254
        }
      ]
    },
    {
      "cell_type": "code",
      "metadata": {
        "id": "7ijqe-fu0Um-"
      },
      "source": [
        "# เก็บข้อมูลไว้กันเกิดปัญหา\n",
        "tmp_out = df_out"
      ],
      "execution_count": 255,
      "outputs": []
    },
    {
      "cell_type": "code",
      "metadata": {
        "colab": {
          "base_uri": "https://localhost:8080/",
          "height": 447
        },
        "id": "fZM93p5ruNOA",
        "outputId": "660472a2-3cfe-4460-d9be-6b425e6bc69d"
      },
      "source": [
        "# One_hot_encoding ของ loc\n",
        "dummies = pd.get_dummies(df_out['loc'])\n",
        "df_out = pd.concat([df_out,dummies],axis='columns')\n",
        "df_out"
      ],
      "execution_count": 256,
      "outputs": [
        {
          "output_type": "execute_result",
          "data": {
            "text/html": [
              "<div>\n",
              "<style scoped>\n",
              "    .dataframe tbody tr th:only-of-type {\n",
              "        vertical-align: middle;\n",
              "    }\n",
              "\n",
              "    .dataframe tbody tr th {\n",
              "        vertical-align: top;\n",
              "    }\n",
              "\n",
              "    .dataframe thead th {\n",
              "        text-align: right;\n",
              "    }\n",
              "</style>\n",
              "<table border=\"1\" class=\"dataframe\">\n",
              "  <thead>\n",
              "    <tr style=\"text-align: right;\">\n",
              "      <th></th>\n",
              "      <th>position</th>\n",
              "      <th>company</th>\n",
              "      <th>loc</th>\n",
              "      <th>reviews</th>\n",
              "      <th>0</th>\n",
              "      <th>1</th>\n",
              "      <th>2</th>\n",
              "      <th>3</th>\n",
              "    </tr>\n",
              "  </thead>\n",
              "  <tbody>\n",
              "    <tr>\n",
              "      <th>0</th>\n",
              "      <td>Development Director</td>\n",
              "      <td>ALS TDI</td>\n",
              "      <td>0</td>\n",
              "      <td>3859.330396</td>\n",
              "      <td>1</td>\n",
              "      <td>0</td>\n",
              "      <td>0</td>\n",
              "      <td>0</td>\n",
              "    </tr>\n",
              "    <tr>\n",
              "      <th>1</th>\n",
              "      <td>An Ostentatiously-Excitable Principal Research...</td>\n",
              "      <td>The Hexagon Lavish</td>\n",
              "      <td>0</td>\n",
              "      <td>3859.330396</td>\n",
              "      <td>1</td>\n",
              "      <td>0</td>\n",
              "      <td>0</td>\n",
              "      <td>0</td>\n",
              "    </tr>\n",
              "    <tr>\n",
              "      <th>2</th>\n",
              "      <td>Data Scientist</td>\n",
              "      <td>Xpert Staffing</td>\n",
              "      <td>0</td>\n",
              "      <td>3859.330396</td>\n",
              "      <td>1</td>\n",
              "      <td>0</td>\n",
              "      <td>0</td>\n",
              "      <td>0</td>\n",
              "    </tr>\n",
              "    <tr>\n",
              "      <th>3</th>\n",
              "      <td>Data Analyst</td>\n",
              "      <td>Operation HOPE</td>\n",
              "      <td>0</td>\n",
              "      <td>44.000000</td>\n",
              "      <td>1</td>\n",
              "      <td>0</td>\n",
              "      <td>0</td>\n",
              "      <td>0</td>\n",
              "    </tr>\n",
              "    <tr>\n",
              "      <th>4</th>\n",
              "      <td>Assistant Professor -TT - Signal Processing &amp; ...</td>\n",
              "      <td>Emory University</td>\n",
              "      <td>0</td>\n",
              "      <td>550.000000</td>\n",
              "      <td>1</td>\n",
              "      <td>0</td>\n",
              "      <td>0</td>\n",
              "      <td>0</td>\n",
              "    </tr>\n",
              "    <tr>\n",
              "      <th>...</th>\n",
              "      <td>...</td>\n",
              "      <td>...</td>\n",
              "      <td>...</td>\n",
              "      <td>...</td>\n",
              "      <td>...</td>\n",
              "      <td>...</td>\n",
              "      <td>...</td>\n",
              "      <td>...</td>\n",
              "    </tr>\n",
              "    <tr>\n",
              "      <th>948</th>\n",
              "      <td>Data Scientist</td>\n",
              "      <td>Cox Enterprises</td>\n",
              "      <td>3</td>\n",
              "      <td>118.000000</td>\n",
              "      <td>0</td>\n",
              "      <td>0</td>\n",
              "      <td>0</td>\n",
              "      <td>1</td>\n",
              "    </tr>\n",
              "    <tr>\n",
              "      <th>949</th>\n",
              "      <td>Data Scientist - Analytics</td>\n",
              "      <td>Wish</td>\n",
              "      <td>3</td>\n",
              "      <td>14.000000</td>\n",
              "      <td>0</td>\n",
              "      <td>0</td>\n",
              "      <td>0</td>\n",
              "      <td>1</td>\n",
              "    </tr>\n",
              "    <tr>\n",
              "      <th>950</th>\n",
              "      <td>Data Scientist</td>\n",
              "      <td>Profusa</td>\n",
              "      <td>3</td>\n",
              "      <td>1373.713851</td>\n",
              "      <td>0</td>\n",
              "      <td>0</td>\n",
              "      <td>0</td>\n",
              "      <td>1</td>\n",
              "    </tr>\n",
              "    <tr>\n",
              "      <th>953</th>\n",
              "      <td>Drug Discovery Data Scientist (NCI)</td>\n",
              "      <td>Leidos</td>\n",
              "      <td>3</td>\n",
              "      <td>525.000000</td>\n",
              "      <td>0</td>\n",
              "      <td>0</td>\n",
              "      <td>0</td>\n",
              "      <td>1</td>\n",
              "    </tr>\n",
              "    <tr>\n",
              "      <th>954</th>\n",
              "      <td>Data Analyst, S&amp;P - JUMP</td>\n",
              "      <td>Uber</td>\n",
              "      <td>3</td>\n",
              "      <td>496.000000</td>\n",
              "      <td>0</td>\n",
              "      <td>0</td>\n",
              "      <td>0</td>\n",
              "      <td>1</td>\n",
              "    </tr>\n",
              "  </tbody>\n",
              "</table>\n",
              "<p>2315 rows × 8 columns</p>\n",
              "</div>"
            ],
            "text/plain": [
              "                                              position  ...  3\n",
              "0                                 Development Director  ...  0\n",
              "1    An Ostentatiously-Excitable Principal Research...  ...  0\n",
              "2                                       Data Scientist  ...  0\n",
              "3                                         Data Analyst  ...  0\n",
              "4    Assistant Professor -TT - Signal Processing & ...  ...  0\n",
              "..                                                 ...  ... ..\n",
              "948                                     Data Scientist  ...  1\n",
              "949                         Data Scientist - Analytics  ...  1\n",
              "950                                     Data Scientist  ...  1\n",
              "953                Drug Discovery Data Scientist (NCI)  ...  1\n",
              "954                           Data Analyst, S&P - JUMP  ...  1\n",
              "\n",
              "[2315 rows x 8 columns]"
            ]
          },
          "metadata": {
            "tags": []
          },
          "execution_count": 256
        }
      ]
    },
    {
      "cell_type": "code",
      "metadata": {
        "colab": {
          "base_uri": "https://localhost:8080/",
          "height": 650
        },
        "id": "NwUPS4sksmse",
        "outputId": "bb70d3ac-39d1-4c4e-d1b2-51ad9e313317"
      },
      "source": [
        "# จะดูด้วยว่า company มีผลต่อการรีวิวมั้ย เลยจะแบ่งออกเป็น 5 คลาส\n",
        "df_out['company'].value_counts().head(25).plot.bar()"
      ],
      "execution_count": 257,
      "outputs": [
        {
          "output_type": "execute_result",
          "data": {
            "text/plain": [
              "<matplotlib.axes._subplots.AxesSubplot at 0x7f6be4b424d0>"
            ]
          },
          "metadata": {
            "tags": []
          },
          "execution_count": 257
        },
        {
          "output_type": "display_data",
          "data": {
            "image/png": "[encoded data removed]",
            "text/plain": [
              "<Figure size 864x576 with 1 Axes>"
            ]
          },
          "metadata": {
            "tags": []
          }
        }
      ]
    },
    {
      "cell_type": "code",
      "metadata": {
        "colab": {
          "base_uri": "https://localhost:8080/"
        },
        "id": "K9yxngKOxE61",
        "outputId": "b3be116b-8830-4a9a-f285-7150ed167b45"
      },
      "source": [
        "df_out['company'].value_counts()"
      ],
      "execution_count": 258,
      "outputs": [
        {
          "output_type": "execute_result",
          "data": {
            "text/plain": [
              "NYU Langone Health                                     77\n",
              "KPMG                                                   33\n",
              "Harnham                                                25\n",
              "Cedars-Sinai                                           24\n",
              "Genentech                                              22\n",
              "                                                       ..\n",
              "TRANZACT                                                1\n",
              "Prestige Staffing                                       1\n",
              "New York State Office of the Attorney General (OAG)     1\n",
              "Zoosk                                                   1\n",
              "SRS Investment Management                               1\n",
              "Name: company, Length: 1107, dtype: int64"
            ]
          },
          "metadata": {
            "tags": []
          },
          "execution_count": 258
        }
      ]
    },
    {
      "cell_type": "code",
      "metadata": {
        "id": "Nfk2M5rdwhDL"
      },
      "source": [
        "# เลือก 5 คลาส เป็นสูงสุด 4 อันดับ และ othher\n",
        "def fill_com(cols):\n",
        "    company = cols[0]\n",
        "\n",
        "    if company == 'NYU Langone Health':\n",
        "          return 'NYU'\n",
        "    elif company =='KPMG':\n",
        "          return 'KPMG'\n",
        "    elif company =='Harnham':\n",
        "          return 'Harnham'\n",
        "    elif company =='Cedars-Sinai':\n",
        "          return 'Cedars-Sinai'\n",
        "    else:\n",
        "          return 'Other'\n",
        "    \n",
        "    return company "
      ],
      "execution_count": 259,
      "outputs": []
    },
    {
      "cell_type": "code",
      "metadata": {
        "colab": {
          "base_uri": "https://localhost:8080/",
          "height": 447
        },
        "id": "gddmhIiuwac3",
        "outputId": "cc9f1f7a-1714-4097-e0bb-db910f668730"
      },
      "source": [
        "# แปลงค่าใน company col \n",
        "df_out['company'] = df_out[['company']].apply(fill_com,axis=1)\n",
        "df_out"
      ],
      "execution_count": 260,
      "outputs": [
        {
          "output_type": "execute_result",
          "data": {
            "text/html": [
              "<div>\n",
              "<style scoped>\n",
              "    .dataframe tbody tr th:only-of-type {\n",
              "        vertical-align: middle;\n",
              "    }\n",
              "\n",
              "    .dataframe tbody tr th {\n",
              "        vertical-align: top;\n",
              "    }\n",
              "\n",
              "    .dataframe thead th {\n",
              "        text-align: right;\n",
              "    }\n",
              "</style>\n",
              "<table border=\"1\" class=\"dataframe\">\n",
              "  <thead>\n",
              "    <tr style=\"text-align: right;\">\n",
              "      <th></th>\n",
              "      <th>position</th>\n",
              "      <th>company</th>\n",
              "      <th>loc</th>\n",
              "      <th>reviews</th>\n",
              "      <th>0</th>\n",
              "      <th>1</th>\n",
              "      <th>2</th>\n",
              "      <th>3</th>\n",
              "    </tr>\n",
              "  </thead>\n",
              "  <tbody>\n",
              "    <tr>\n",
              "      <th>0</th>\n",
              "      <td>Development Director</td>\n",
              "      <td>Other</td>\n",
              "      <td>0</td>\n",
              "      <td>3859.330396</td>\n",
              "      <td>1</td>\n",
              "      <td>0</td>\n",
              "      <td>0</td>\n",
              "      <td>0</td>\n",
              "    </tr>\n",
              "    <tr>\n",
              "      <th>1</th>\n",
              "      <td>An Ostentatiously-Excitable Principal Research...</td>\n",
              "      <td>Other</td>\n",
              "      <td>0</td>\n",
              "      <td>3859.330396</td>\n",
              "      <td>1</td>\n",
              "      <td>0</td>\n",
              "      <td>0</td>\n",
              "      <td>0</td>\n",
              "    </tr>\n",
              "    <tr>\n",
              "      <th>2</th>\n",
              "      <td>Data Scientist</td>\n",
              "      <td>Other</td>\n",
              "      <td>0</td>\n",
              "      <td>3859.330396</td>\n",
              "      <td>1</td>\n",
              "      <td>0</td>\n",
              "      <td>0</td>\n",
              "      <td>0</td>\n",
              "    </tr>\n",
              "    <tr>\n",
              "      <th>3</th>\n",
              "      <td>Data Analyst</td>\n",
              "      <td>Other</td>\n",
              "      <td>0</td>\n",
              "      <td>44.000000</td>\n",
              "      <td>1</td>\n",
              "      <td>0</td>\n",
              "      <td>0</td>\n",
              "      <td>0</td>\n",
              "    </tr>\n",
              "    <tr>\n",
              "      <th>4</th>\n",
              "      <td>Assistant Professor -TT - Signal Processing &amp; ...</td>\n",
              "      <td>Other</td>\n",
              "      <td>0</td>\n",
              "      <td>550.000000</td>\n",
              "      <td>1</td>\n",
              "      <td>0</td>\n",
              "      <td>0</td>\n",
              "      <td>0</td>\n",
              "    </tr>\n",
              "    <tr>\n",
              "      <th>...</th>\n",
              "      <td>...</td>\n",
              "      <td>...</td>\n",
              "      <td>...</td>\n",
              "      <td>...</td>\n",
              "      <td>...</td>\n",
              "      <td>...</td>\n",
              "      <td>...</td>\n",
              "      <td>...</td>\n",
              "    </tr>\n",
              "    <tr>\n",
              "      <th>948</th>\n",
              "      <td>Data Scientist</td>\n",
              "      <td>Other</td>\n",
              "      <td>3</td>\n",
              "      <td>118.000000</td>\n",
              "      <td>0</td>\n",
              "      <td>0</td>\n",
              "      <td>0</td>\n",
              "      <td>1</td>\n",
              "    </tr>\n",
              "    <tr>\n",
              "      <th>949</th>\n",
              "      <td>Data Scientist - Analytics</td>\n",
              "      <td>Other</td>\n",
              "      <td>3</td>\n",
              "      <td>14.000000</td>\n",
              "      <td>0</td>\n",
              "      <td>0</td>\n",
              "      <td>0</td>\n",
              "      <td>1</td>\n",
              "    </tr>\n",
              "    <tr>\n",
              "      <th>950</th>\n",
              "      <td>Data Scientist</td>\n",
              "      <td>Other</td>\n",
              "      <td>3</td>\n",
              "      <td>1373.713851</td>\n",
              "      <td>0</td>\n",
              "      <td>0</td>\n",
              "      <td>0</td>\n",
              "      <td>1</td>\n",
              "    </tr>\n",
              "    <tr>\n",
              "      <th>953</th>\n",
              "      <td>Drug Discovery Data Scientist (NCI)</td>\n",
              "      <td>Other</td>\n",
              "      <td>3</td>\n",
              "      <td>525.000000</td>\n",
              "      <td>0</td>\n",
              "      <td>0</td>\n",
              "      <td>0</td>\n",
              "      <td>1</td>\n",
              "    </tr>\n",
              "    <tr>\n",
              "      <th>954</th>\n",
              "      <td>Data Analyst, S&amp;P - JUMP</td>\n",
              "      <td>Other</td>\n",
              "      <td>3</td>\n",
              "      <td>496.000000</td>\n",
              "      <td>0</td>\n",
              "      <td>0</td>\n",
              "      <td>0</td>\n",
              "      <td>1</td>\n",
              "    </tr>\n",
              "  </tbody>\n",
              "</table>\n",
              "<p>2315 rows × 8 columns</p>\n",
              "</div>"
            ],
            "text/plain": [
              "                                              position company loc  ...  1  2  3\n",
              "0                                 Development Director   Other   0  ...  0  0  0\n",
              "1    An Ostentatiously-Excitable Principal Research...   Other   0  ...  0  0  0\n",
              "2                                       Data Scientist   Other   0  ...  0  0  0\n",
              "3                                         Data Analyst   Other   0  ...  0  0  0\n",
              "4    Assistant Professor -TT - Signal Processing & ...   Other   0  ...  0  0  0\n",
              "..                                                 ...     ...  ..  ... .. .. ..\n",
              "948                                     Data Scientist   Other   3  ...  0  0  1\n",
              "949                         Data Scientist - Analytics   Other   3  ...  0  0  1\n",
              "950                                     Data Scientist   Other   3  ...  0  0  1\n",
              "953                Drug Discovery Data Scientist (NCI)   Other   3  ...  0  0  1\n",
              "954                           Data Analyst, S&P - JUMP   Other   3  ...  0  0  1\n",
              "\n",
              "[2315 rows x 8 columns]"
            ]
          },
          "metadata": {
            "tags": []
          },
          "execution_count": 260
        }
      ]
    },
    {
      "cell_type": "code",
      "metadata": {
        "colab": {
          "base_uri": "https://localhost:8080/",
          "height": 684
        },
        "id": "9F3psY2dya39",
        "outputId": "a42d4ad6-f58a-4ac5-d571-d9416189e705"
      },
      "source": [
        "# One_hot_encoding\n",
        "dummies = pd.get_dummies(df_out['company'])\n",
        "df_out = pd.concat([df_out,dummies],axis='columns')\n",
        "df_out"
      ],
      "execution_count": 261,
      "outputs": [
        {
          "output_type": "execute_result",
          "data": {
            "text/html": [
              "<div>\n",
              "<style scoped>\n",
              "    .dataframe tbody tr th:only-of-type {\n",
              "        vertical-align: middle;\n",
              "    }\n",
              "\n",
              "    .dataframe tbody tr th {\n",
              "        vertical-align: top;\n",
              "    }\n",
              "\n",
              "    .dataframe thead th {\n",
              "        text-align: right;\n",
              "    }\n",
              "</style>\n",
              "<table border=\"1\" class=\"dataframe\">\n",
              "  <thead>\n",
              "    <tr style=\"text-align: right;\">\n",
              "      <th></th>\n",
              "      <th>position</th>\n",
              "      <th>company</th>\n",
              "      <th>loc</th>\n",
              "      <th>reviews</th>\n",
              "      <th>0</th>\n",
              "      <th>1</th>\n",
              "      <th>2</th>\n",
              "      <th>3</th>\n",
              "      <th>Cedars-Sinai</th>\n",
              "      <th>Harnham</th>\n",
              "      <th>KPMG</th>\n",
              "      <th>NYU</th>\n",
              "      <th>Other</th>\n",
              "    </tr>\n",
              "  </thead>\n",
              "  <tbody>\n",
              "    <tr>\n",
              "      <th>0</th>\n",
              "      <td>Development Director</td>\n",
              "      <td>Other</td>\n",
              "      <td>0</td>\n",
              "      <td>3859.330396</td>\n",
              "      <td>1</td>\n",
              "      <td>0</td>\n",
              "      <td>0</td>\n",
              "      <td>0</td>\n",
              "      <td>0</td>\n",
              "      <td>0</td>\n",
              "      <td>0</td>\n",
              "      <td>0</td>\n",
              "      <td>1</td>\n",
              "    </tr>\n",
              "    <tr>\n",
              "      <th>1</th>\n",
              "      <td>An Ostentatiously-Excitable Principal Research...</td>\n",
              "      <td>Other</td>\n",
              "      <td>0</td>\n",
              "      <td>3859.330396</td>\n",
              "      <td>1</td>\n",
              "      <td>0</td>\n",
              "      <td>0</td>\n",
              "      <td>0</td>\n",
              "      <td>0</td>\n",
              "      <td>0</td>\n",
              "      <td>0</td>\n",
              "      <td>0</td>\n",
              "      <td>1</td>\n",
              "    </tr>\n",
              "    <tr>\n",
              "      <th>2</th>\n",
              "      <td>Data Scientist</td>\n",
              "      <td>Other</td>\n",
              "      <td>0</td>\n",
              "      <td>3859.330396</td>\n",
              "      <td>1</td>\n",
              "      <td>0</td>\n",
              "      <td>0</td>\n",
              "      <td>0</td>\n",
              "      <td>0</td>\n",
              "      <td>0</td>\n",
              "      <td>0</td>\n",
              "      <td>0</td>\n",
              "      <td>1</td>\n",
              "    </tr>\n",
              "    <tr>\n",
              "      <th>3</th>\n",
              "      <td>Data Analyst</td>\n",
              "      <td>Other</td>\n",
              "      <td>0</td>\n",
              "      <td>44.000000</td>\n",
              "      <td>1</td>\n",
              "      <td>0</td>\n",
              "      <td>0</td>\n",
              "      <td>0</td>\n",
              "      <td>0</td>\n",
              "      <td>0</td>\n",
              "      <td>0</td>\n",
              "      <td>0</td>\n",
              "      <td>1</td>\n",
              "    </tr>\n",
              "    <tr>\n",
              "      <th>4</th>\n",
              "      <td>Assistant Professor -TT - Signal Processing &amp; ...</td>\n",
              "      <td>Other</td>\n",
              "      <td>0</td>\n",
              "      <td>550.000000</td>\n",
              "      <td>1</td>\n",
              "      <td>0</td>\n",
              "      <td>0</td>\n",
              "      <td>0</td>\n",
              "      <td>0</td>\n",
              "      <td>0</td>\n",
              "      <td>0</td>\n",
              "      <td>0</td>\n",
              "      <td>1</td>\n",
              "    </tr>\n",
              "    <tr>\n",
              "      <th>...</th>\n",
              "      <td>...</td>\n",
              "      <td>...</td>\n",
              "      <td>...</td>\n",
              "      <td>...</td>\n",
              "      <td>...</td>\n",
              "      <td>...</td>\n",
              "      <td>...</td>\n",
              "      <td>...</td>\n",
              "      <td>...</td>\n",
              "      <td>...</td>\n",
              "      <td>...</td>\n",
              "      <td>...</td>\n",
              "      <td>...</td>\n",
              "    </tr>\n",
              "    <tr>\n",
              "      <th>948</th>\n",
              "      <td>Data Scientist</td>\n",
              "      <td>Other</td>\n",
              "      <td>3</td>\n",
              "      <td>118.000000</td>\n",
              "      <td>0</td>\n",
              "      <td>0</td>\n",
              "      <td>0</td>\n",
              "      <td>1</td>\n",
              "      <td>0</td>\n",
              "      <td>0</td>\n",
              "      <td>0</td>\n",
              "      <td>0</td>\n",
              "      <td>1</td>\n",
              "    </tr>\n",
              "    <tr>\n",
              "      <th>949</th>\n",
              "      <td>Data Scientist - Analytics</td>\n",
              "      <td>Other</td>\n",
              "      <td>3</td>\n",
              "      <td>14.000000</td>\n",
              "      <td>0</td>\n",
              "      <td>0</td>\n",
              "      <td>0</td>\n",
              "      <td>1</td>\n",
              "      <td>0</td>\n",
              "      <td>0</td>\n",
              "      <td>0</td>\n",
              "      <td>0</td>\n",
              "      <td>1</td>\n",
              "    </tr>\n",
              "    <tr>\n",
              "      <th>950</th>\n",
              "      <td>Data Scientist</td>\n",
              "      <td>Other</td>\n",
              "      <td>3</td>\n",
              "      <td>1373.713851</td>\n",
              "      <td>0</td>\n",
              "      <td>0</td>\n",
              "      <td>0</td>\n",
              "      <td>1</td>\n",
              "      <td>0</td>\n",
              "      <td>0</td>\n",
              "      <td>0</td>\n",
              "      <td>0</td>\n",
              "      <td>1</td>\n",
              "    </tr>\n",
              "    <tr>\n",
              "      <th>953</th>\n",
              "      <td>Drug Discovery Data Scientist (NCI)</td>\n",
              "      <td>Other</td>\n",
              "      <td>3</td>\n",
              "      <td>525.000000</td>\n",
              "      <td>0</td>\n",
              "      <td>0</td>\n",
              "      <td>0</td>\n",
              "      <td>1</td>\n",
              "      <td>0</td>\n",
              "      <td>0</td>\n",
              "      <td>0</td>\n",
              "      <td>0</td>\n",
              "      <td>1</td>\n",
              "    </tr>\n",
              "    <tr>\n",
              "      <th>954</th>\n",
              "      <td>Data Analyst, S&amp;P - JUMP</td>\n",
              "      <td>Other</td>\n",
              "      <td>3</td>\n",
              "      <td>496.000000</td>\n",
              "      <td>0</td>\n",
              "      <td>0</td>\n",
              "      <td>0</td>\n",
              "      <td>1</td>\n",
              "      <td>0</td>\n",
              "      <td>0</td>\n",
              "      <td>0</td>\n",
              "      <td>0</td>\n",
              "      <td>1</td>\n",
              "    </tr>\n",
              "  </tbody>\n",
              "</table>\n",
              "<p>2315 rows × 13 columns</p>\n",
              "</div>"
            ],
            "text/plain": [
              "                                              position company  ... NYU  Other\n",
              "0                                 Development Director   Other  ...   0      1\n",
              "1    An Ostentatiously-Excitable Principal Research...   Other  ...   0      1\n",
              "2                                       Data Scientist   Other  ...   0      1\n",
              "3                                         Data Analyst   Other  ...   0      1\n",
              "4    Assistant Professor -TT - Signal Processing & ...   Other  ...   0      1\n",
              "..                                                 ...     ...  ...  ..    ...\n",
              "948                                     Data Scientist   Other  ...   0      1\n",
              "949                         Data Scientist - Analytics   Other  ...   0      1\n",
              "950                                     Data Scientist   Other  ...   0      1\n",
              "953                Drug Discovery Data Scientist (NCI)   Other  ...   0      1\n",
              "954                           Data Analyst, S&P - JUMP   Other  ...   0      1\n",
              "\n",
              "[2315 rows x 13 columns]"
            ]
          },
          "metadata": {
            "tags": []
          },
          "execution_count": 261
        }
      ]
    },
    {
      "cell_type": "code",
      "metadata": {
        "id": "glMf1mYFk4jz"
      },
      "source": [
        "final= df_out "
      ],
      "execution_count": 262,
      "outputs": []
    },
    {
      "cell_type": "markdown",
      "metadata": {
        "id": "8RQp9eewq_1E"
      },
      "source": [
        "# Feature scaling "
      ]
    },
    {
      "cell_type": "code",
      "metadata": {
        "id": "bvyaP6kiq_1E"
      },
      "source": [
        "# drop ข้อมูลที่เป็น target ทิ้งเพราะเอามาใช้ทำนายไม่ได้ และตัดพวก categorical ที่มีมากกว่า 2 ประเภท \n",
        "X = final.drop(['reviews','company','position','loc'], axis='columns')"
      ],
      "execution_count": 263,
      "outputs": []
    },
    {
      "cell_type": "code",
      "metadata": {
        "id": "YrkxnicUq_1E"
      },
      "source": [
        "# เลือกข้อมูลที่เป็น target\n",
        "y = final.reviews"
      ],
      "execution_count": 264,
      "outputs": []
    },
    {
      "cell_type": "code",
      "metadata": {
        "id": "Th60IN2vq_1E"
      },
      "source": [
        "# ทำการแบ่งข้อมูลก่อนเป็นชุด test(30%) train(70%) \n",
        "from sklearn.model_selection  import train_test_split\n",
        "X_train, X_test, y_train, y_test = train_test_split(X, y, test_size = 0.3, random_state = 0)"
      ],
      "execution_count": 265,
      "outputs": []
    },
    {
      "cell_type": "code",
      "metadata": {
        "colab": {
          "base_uri": "https://localhost:8080/"
        },
        "id": "LxLLroG8q_1F",
        "outputId": "378cd121-22c7-4aac-c466-9f4b54b84ea0"
      },
      "source": [
        "# ทำการ scaling ด้วยวิธี standardization ที่ Input แต่ Output ไม่ต้องทำ\n",
        "from sklearn.preprocessing import StandardScaler\n",
        "sc = StandardScaler()\n",
        "X_train = sc.fit_transform(X_train)\n",
        "X_test = sc.transform(X_test)\n",
        "X_train"
      ],
      "execution_count": 266,
      "outputs": [
        {
          "output_type": "execute_result",
          "data": {
            "text/plain": [
              "array([[ 2.86435777, -0.33902008, -0.7966884 , ..., -0.12262787,\n",
              "        -0.18390919,  0.27513126],\n",
              "       [-0.3491184 , -0.33902008,  1.25519588, ..., -0.12262787,\n",
              "        -0.18390919,  0.27513126],\n",
              "       [-0.3491184 , -0.33902008,  1.25519588, ..., -0.12262787,\n",
              "        -0.18390919,  0.27513126],\n",
              "       ...,\n",
              "       [-0.3491184 , -0.33902008,  1.25519588, ..., -0.12262787,\n",
              "        -0.18390919,  0.27513126],\n",
              "       [-0.3491184 , -0.33902008,  1.25519588, ..., -0.12262787,\n",
              "        -0.18390919,  0.27513126],\n",
              "       [-0.3491184 , -0.33902008, -0.7966884 , ..., -0.12262787,\n",
              "        -0.18390919,  0.27513126]])"
            ]
          },
          "metadata": {
            "tags": []
          },
          "execution_count": 266
        }
      ]
    },
    {
      "cell_type": "code",
      "metadata": {
        "colab": {
          "base_uri": "https://localhost:8080/"
        },
        "id": "ocxiEpNnq_1F",
        "outputId": "7cd4078b-8484-42b8-e0df-64a34b295aa0"
      },
      "source": [
        "X_test"
      ],
      "execution_count": 267,
      "outputs": [
        {
          "output_type": "execute_result",
          "data": {
            "text/plain": [
              "array([[-0.3491184 , -0.33902008, -0.7966884 , ..., -0.12262787,\n",
              "        -0.18390919,  0.27513126],\n",
              "       [-0.3491184 , -0.33902008,  1.25519588, ..., -0.12262787,\n",
              "        -0.18390919,  0.27513126],\n",
              "       [-0.3491184 , -0.33902008,  1.25519588, ...,  8.15475322,\n",
              "        -0.18390919, -3.63462877],\n",
              "       ...,\n",
              "       [-0.3491184 , -0.33902008,  1.25519588, ..., -0.12262787,\n",
              "        -0.18390919,  0.27513126],\n",
              "       [-0.3491184 , -0.33902008, -0.7966884 , ..., -0.12262787,\n",
              "        -0.18390919,  0.27513126],\n",
              "       [-0.3491184 , -0.33902008,  1.25519588, ..., -0.12262787,\n",
              "        -0.18390919,  0.27513126]])"
            ]
          },
          "metadata": {
            "tags": []
          },
          "execution_count": 267
        }
      ]
    },
    {
      "cell_type": "code",
      "metadata": {
        "colab": {
          "base_uri": "https://localhost:8080/"
        },
        "id": "b5plXHENq_1F",
        "outputId": "7ef086df-e967-4fce-d208-5266804aecab"
      },
      "source": [
        "# ลองทำ Normalization ดู\n",
        "from sklearn.preprocessing import MinMaxScaler\n",
        "sc = MinMaxScaler()\n",
        "X_traintt = sc.fit_transform(X_train)\n",
        "X_testtt = sc.transform(X_test)\n",
        "X_traintt"
      ],
      "execution_count": 268,
      "outputs": [
        {
          "output_type": "execute_result",
          "data": {
            "text/plain": [
              "array([[1., 0., 0., ..., 0., 0., 1.],\n",
              "       [0., 0., 1., ..., 0., 0., 1.],\n",
              "       [0., 0., 1., ..., 0., 0., 1.],\n",
              "       ...,\n",
              "       [0., 0., 1., ..., 0., 0., 1.],\n",
              "       [0., 0., 1., ..., 0., 0., 1.],\n",
              "       [0., 0., 0., ..., 0., 0., 1.]])"
            ]
          },
          "metadata": {
            "tags": []
          },
          "execution_count": 268
        }
      ]
    },
    {
      "cell_type": "code",
      "metadata": {
        "colab": {
          "base_uri": "https://localhost:8080/"
        },
        "id": "0O_prGXRq_1F",
        "outputId": "b647a481-2f6a-4aca-ea1d-399737ce7670"
      },
      "source": [
        "X_testtt"
      ],
      "execution_count": 269,
      "outputs": [
        {
          "output_type": "execute_result",
          "data": {
            "text/plain": [
              "array([[0., 0., 0., ..., 0., 0., 1.],\n",
              "       [0., 0., 1., ..., 0., 0., 1.],\n",
              "       [0., 0., 1., ..., 1., 0., 0.],\n",
              "       ...,\n",
              "       [0., 0., 1., ..., 0., 0., 1.],\n",
              "       [0., 0., 0., ..., 0., 0., 1.],\n",
              "       [0., 0., 1., ..., 0., 0., 1.]])"
            ]
          },
          "metadata": {
            "tags": []
          },
          "execution_count": 269
        }
      ]
    },
    {
      "cell_type": "markdown",
      "metadata": {
        "id": "XaYG2z11rKEW"
      },
      "source": [
        "# Feature Reduction "
      ]
    },
    {
      "cell_type": "code",
      "metadata": {
        "colab": {
          "base_uri": "https://localhost:8080/",
          "height": 141
        },
        "id": "w28XvStqrKEW",
        "outputId": "99a0ba50-39dd-48e6-9688-3076ba5750ae"
      },
      "source": [
        "fin = final.drop(['loc','company','position'], axis=1)\n",
        "fin.head(3)"
      ],
      "execution_count": 270,
      "outputs": [
        {
          "output_type": "execute_result",
          "data": {
            "text/html": [
              "<div>\n",
              "<style scoped>\n",
              "    .dataframe tbody tr th:only-of-type {\n",
              "        vertical-align: middle;\n",
              "    }\n",
              "\n",
              "    .dataframe tbody tr th {\n",
              "        vertical-align: top;\n",
              "    }\n",
              "\n",
              "    .dataframe thead th {\n",
              "        text-align: right;\n",
              "    }\n",
              "</style>\n",
              "<table border=\"1\" class=\"dataframe\">\n",
              "  <thead>\n",
              "    <tr style=\"text-align: right;\">\n",
              "      <th></th>\n",
              "      <th>reviews</th>\n",
              "      <th>0</th>\n",
              "      <th>1</th>\n",
              "      <th>2</th>\n",
              "      <th>3</th>\n",
              "      <th>Cedars-Sinai</th>\n",
              "      <th>Harnham</th>\n",
              "      <th>KPMG</th>\n",
              "      <th>NYU</th>\n",
              "      <th>Other</th>\n",
              "    </tr>\n",
              "  </thead>\n",
              "  <tbody>\n",
              "    <tr>\n",
              "      <th>0</th>\n",
              "      <td>3859.330396</td>\n",
              "      <td>1</td>\n",
              "      <td>0</td>\n",
              "      <td>0</td>\n",
              "      <td>0</td>\n",
              "      <td>0</td>\n",
              "      <td>0</td>\n",
              "      <td>0</td>\n",
              "      <td>0</td>\n",
              "      <td>1</td>\n",
              "    </tr>\n",
              "    <tr>\n",
              "      <th>1</th>\n",
              "      <td>3859.330396</td>\n",
              "      <td>1</td>\n",
              "      <td>0</td>\n",
              "      <td>0</td>\n",
              "      <td>0</td>\n",
              "      <td>0</td>\n",
              "      <td>0</td>\n",
              "      <td>0</td>\n",
              "      <td>0</td>\n",
              "      <td>1</td>\n",
              "    </tr>\n",
              "    <tr>\n",
              "      <th>2</th>\n",
              "      <td>3859.330396</td>\n",
              "      <td>1</td>\n",
              "      <td>0</td>\n",
              "      <td>0</td>\n",
              "      <td>0</td>\n",
              "      <td>0</td>\n",
              "      <td>0</td>\n",
              "      <td>0</td>\n",
              "      <td>0</td>\n",
              "      <td>1</td>\n",
              "    </tr>\n",
              "  </tbody>\n",
              "</table>\n",
              "</div>"
            ],
            "text/plain": [
              "       reviews  0  1  2  3  Cedars-Sinai  Harnham  KPMG  NYU  Other\n",
              "0  3859.330396  1  0  0  0             0        0     0    0      1\n",
              "1  3859.330396  1  0  0  0             0        0     0    0      1\n",
              "2  3859.330396  1  0  0  0             0        0     0    0      1"
            ]
          },
          "metadata": {
            "tags": []
          },
          "execution_count": 270
        }
      ]
    },
    {
      "cell_type": "code",
      "metadata": {
        "colab": {
          "base_uri": "https://localhost:8080/",
          "height": 566
        },
        "id": "CZtUrimKrKEX",
        "outputId": "470f1ec1-3ff0-4c6c-f30b-5fd13eb48113"
      },
      "source": [
        "# Correlation\n",
        "plt.figure(figsize=(15,8))\n",
        "sns.heatmap(fin.corr(),\n",
        "            square=True,\n",
        "            linewidths=0.25,    \n",
        "            linecolor=(0,0,0),\n",
        "           cmap=sns.color_palette(\"coolwarm\"),\n",
        "           annot=True)"
      ],
      "execution_count": 271,
      "outputs": [
        {
          "output_type": "execute_result",
          "data": {
            "text/plain": [
              "<matplotlib.axes._subplots.AxesSubplot at 0x7f6be4cf3c10>"
            ]
          },
          "metadata": {
            "tags": []
          },
          "execution_count": 271
        },
        {
          "output_type": "display_data",
          "data": {
            "image/png": "[encoded data removed]",
            "text/plain": [
              "<Figure size 1080x576 with 2 Axes>"
            ]
          },
          "metadata": {
            "tags": []
          }
        }
      ]
    },
    {
      "cell_type": "code",
      "metadata": {
        "colab": {
          "base_uri": "https://localhost:8080/"
        },
        "id": "A02Gxw3I0uFT",
        "outputId": "7f104751-30e8-4c56-d4e8-e583987841b5"
      },
      "source": [
        "fin.columns"
      ],
      "execution_count": 272,
      "outputs": [
        {
          "output_type": "execute_result",
          "data": {
            "text/plain": [
              "Index(['reviews', 0, 1, 2, 3, 'Cedars-Sinai', 'Harnham', 'KPMG', 'NYU',\n",
              "       'Other'],\n",
              "      dtype='object')"
            ]
          },
          "metadata": {
            "tags": []
          },
          "execution_count": 272
        }
      ]
    },
    {
      "cell_type": "code",
      "metadata": {
        "id": "0Xh3L0M3rKEX"
      },
      "source": [
        "# เตรียมข้อมูล Input\n",
        "input_vars = [ 0, 1, 2, 3, 'Cedars-Sinai', 'Harnham', 'KPMG', 'NYU',\n",
        "       'Other']"
      ],
      "execution_count": 273,
      "outputs": []
    },
    {
      "cell_type": "code",
      "metadata": {
        "colab": {
          "base_uri": "https://localhost:8080/"
        },
        "id": "6gMgu_dNrKEX",
        "outputId": "e98830f5-c774-463e-fab1-d4821f2127bd"
      },
      "source": [
        "# Wrapper Methods - Forward Feature Selection\n",
        "from sklearn.feature_selection import f_regression\n",
        "fstat, pval = f_regression(final[input_vars], final.reviews) #อันนี้ปรับเป็นตัว target\n",
        "fstat"
      ],
      "execution_count": 274,
      "outputs": [
        {
          "output_type": "execute_result",
          "data": {
            "text/plain": [
              "array([213.57371578,  56.9840399 ,  17.65227226,  73.48405711,\n",
              "         1.29006103,   4.08695097, 316.12651854,   2.51989752,\n",
              "        50.97304657])"
            ]
          },
          "metadata": {
            "tags": []
          },
          "execution_count": 274
        }
      ]
    },
    {
      "cell_type": "code",
      "metadata": {
        "colab": {
          "base_uri": "https://localhost:8080/"
        },
        "id": "UBa1z5eMrKEX",
        "outputId": "aa61fd5c-9bf7-416e-948b-ed38bc305e42"
      },
      "source": [
        "f_value_threshold = 5  # ปรับได้ โดยปรับจนได้จำนวนปัจจัยที่ต้องการ \n",
        "updated_vars = []\n",
        "for i in range(0,len(input_vars)-1):\n",
        "    if fstat[i] >= f_value_threshold:\n",
        "        updated_vars.append(final[input_vars].columns[i])\n",
        "updated_vars"
      ],
      "execution_count": 277,
      "outputs": [
        {
          "output_type": "execute_result",
          "data": {
            "text/plain": [
              "[0, 1, 2, 3, 'KPMG']"
            ]
          },
          "metadata": {
            "tags": []
          },
          "execution_count": 277
        }
      ]
    },
    {
      "cell_type": "code",
      "metadata": {
        "id": "KFPAc_0XrKEX"
      },
      "source": [
        "# จะได้ว่า [0, 1, 2, 3, 'KPMG'] มีผลต่อ reviews "
      ],
      "execution_count": 276,
      "outputs": []
    },
    {
      "cell_type": "code",
      "metadata": {
        "colab": {
          "base_uri": "https://localhost:8080/",
          "height": 450
        },
        "id": "HaYaiz0SrKEX",
        "outputId": "7b49cbf2-1972-4590-db80-e5a1a7103072"
      },
      "source": [
        "# Random Forest\n",
        "\n",
        "from sklearn.ensemble import RandomForestRegressor\n",
        "model = RandomForestRegressor(max_depth=10,n_estimators=100)\n",
        "model.fit(fin[input_vars],fin.reviews) # เลือก target \n",
        "\n",
        "# ต้องการให้เหลือ 3 ปัจจัย\n",
        "n_features = 7\n",
        "\n",
        "# Plot feature importance\n",
        "features = fin[input_vars].columns\n",
        "importances = model.feature_importances_\n",
        "indices = np.argsort(importances)[-n_features:]  # sort top n features\n",
        "plt.title('Feature Importances')\n",
        "plt.barh(range(len(indices)), importances[indices], color='b', align='center')\n",
        "plt.yticks(range(len(indices)), [features[i] for i in indices])\n",
        "plt.xlabel('Relative Importance')\n",
        "plt.show()"
      ],
      "execution_count": 285,
      "outputs": [
        {
          "output_type": "display_data",
          "data": {
            "image/png": "[encoded data removed]",
            "text/plain": [
              "<Figure size 864x576 with 1 Axes>"
            ]
          },
          "metadata": {
            "tags": []
          }
        }
      ]
    },
    {
      "cell_type": "code",
      "metadata": {
        "id": "gsXjqosHrKEX"
      },
      "source": [
        ""
      ],
      "execution_count": 279,
      "outputs": []
    },
    {
      "cell_type": "markdown",
      "metadata": {
        "id": "cmybj3vJVvfO"
      },
      "source": [
        "# tmp Feature scaling "
      ]
    },
    {
      "cell_type": "code",
      "metadata": {
        "id": "2-ACAvWy0OrQ"
      },
      "source": [
        "final = tmp_out"
      ],
      "execution_count": 280,
      "outputs": []
    },
    {
      "cell_type": "code",
      "metadata": {
        "colab": {
          "base_uri": "https://localhost:8080/"
        },
        "id": "ML_PNe171eyG",
        "outputId": "59f9660f-4b3a-4017-e337-31b3a555cd35"
      },
      "source": [
        "# เปลี่ยน position และ company เป็น numerical\n",
        "final['position'] = final['position'].astype('category')\n",
        "final['company'] = final['company'].astype('category')\n",
        "cat_columns = final.select_dtypes(['category']).columns\n",
        "cat_columns\n"
      ],
      "execution_count": 287,
      "outputs": [
        {
          "output_type": "execute_result",
          "data": {
            "text/plain": [
              "Index(['position', 'company', 'loc'], dtype='object')"
            ]
          },
          "metadata": {
            "tags": []
          },
          "execution_count": 287
        }
      ]
    },
    {
      "cell_type": "code",
      "metadata": {
        "colab": {
          "base_uri": "https://localhost:8080/",
          "height": 414
        },
        "id": "Z4aIOkPy11N9",
        "outputId": "753efeab-bee0-4652-ed06-fc8c72386eb1"
      },
      "source": [
        "final[cat_columns] = final[cat_columns].apply(lambda x: x.cat.codes)\n",
        "final"
      ],
      "execution_count": 288,
      "outputs": [
        {
          "output_type": "execute_result",
          "data": {
            "text/html": [
              "<div>\n",
              "<style scoped>\n",
              "    .dataframe tbody tr th:only-of-type {\n",
              "        vertical-align: middle;\n",
              "    }\n",
              "\n",
              "    .dataframe tbody tr th {\n",
              "        vertical-align: top;\n",
              "    }\n",
              "\n",
              "    .dataframe thead th {\n",
              "        text-align: right;\n",
              "    }\n",
              "</style>\n",
              "<table border=\"1\" class=\"dataframe\">\n",
              "  <thead>\n",
              "    <tr style=\"text-align: right;\">\n",
              "      <th></th>\n",
              "      <th>position</th>\n",
              "      <th>company</th>\n",
              "      <th>loc</th>\n",
              "      <th>reviews</th>\n",
              "    </tr>\n",
              "  </thead>\n",
              "  <tbody>\n",
              "    <tr>\n",
              "      <th>0</th>\n",
              "      <td>570</td>\n",
              "      <td>17</td>\n",
              "      <td>0</td>\n",
              "      <td>3859.330396</td>\n",
              "    </tr>\n",
              "    <tr>\n",
              "      <th>1</th>\n",
              "      <td>36</td>\n",
              "      <td>951</td>\n",
              "      <td>0</td>\n",
              "      <td>3859.330396</td>\n",
              "    </tr>\n",
              "    <tr>\n",
              "      <th>2</th>\n",
              "      <td>407</td>\n",
              "      <td>1075</td>\n",
              "      <td>0</td>\n",
              "      <td>3859.330396</td>\n",
              "    </tr>\n",
              "    <tr>\n",
              "      <th>3</th>\n",
              "      <td>326</td>\n",
              "      <td>712</td>\n",
              "      <td>0</td>\n",
              "      <td>44.000000</td>\n",
              "    </tr>\n",
              "    <tr>\n",
              "      <th>4</th>\n",
              "      <td>85</td>\n",
              "      <td>315</td>\n",
              "      <td>0</td>\n",
              "      <td>550.000000</td>\n",
              "    </tr>\n",
              "    <tr>\n",
              "      <th>...</th>\n",
              "      <td>...</td>\n",
              "      <td>...</td>\n",
              "      <td>...</td>\n",
              "      <td>...</td>\n",
              "    </tr>\n",
              "    <tr>\n",
              "      <th>948</th>\n",
              "      <td>407</td>\n",
              "      <td>238</td>\n",
              "      <td>3</td>\n",
              "      <td>118.000000</td>\n",
              "    </tr>\n",
              "    <tr>\n",
              "      <th>949</th>\n",
              "      <td>425</td>\n",
              "      <td>1064</td>\n",
              "      <td>3</td>\n",
              "      <td>14.000000</td>\n",
              "    </tr>\n",
              "    <tr>\n",
              "      <th>950</th>\n",
              "      <td>407</td>\n",
              "      <td>763</td>\n",
              "      <td>3</td>\n",
              "      <td>1373.713851</td>\n",
              "    </tr>\n",
              "    <tr>\n",
              "      <th>953</th>\n",
              "      <td>614</td>\n",
              "      <td>569</td>\n",
              "      <td>3</td>\n",
              "      <td>525.000000</td>\n",
              "    </tr>\n",
              "    <tr>\n",
              "      <th>954</th>\n",
              "      <td>338</td>\n",
              "      <td>1004</td>\n",
              "      <td>3</td>\n",
              "      <td>496.000000</td>\n",
              "    </tr>\n",
              "  </tbody>\n",
              "</table>\n",
              "<p>2315 rows × 4 columns</p>\n",
              "</div>"
            ],
            "text/plain": [
              "     position  company  loc      reviews\n",
              "0         570       17    0  3859.330396\n",
              "1          36      951    0  3859.330396\n",
              "2         407     1075    0  3859.330396\n",
              "3         326      712    0    44.000000\n",
              "4          85      315    0   550.000000\n",
              "..        ...      ...  ...          ...\n",
              "948       407      238    3   118.000000\n",
              "949       425     1064    3    14.000000\n",
              "950       407      763    3  1373.713851\n",
              "953       614      569    3   525.000000\n",
              "954       338     1004    3   496.000000\n",
              "\n",
              "[2315 rows x 4 columns]"
            ]
          },
          "metadata": {
            "tags": []
          },
          "execution_count": 288
        }
      ]
    },
    {
      "cell_type": "code",
      "metadata": {
        "id": "UNLkzM6VVhxO"
      },
      "source": [
        "# drop ข้อมูลที่เป็น target ทิ้งเพราะเอามาใช้ทำนายไม่ได้ \n",
        "X = final.drop(['reviews'], axis='columns')"
      ],
      "execution_count": 289,
      "outputs": []
    },
    {
      "cell_type": "code",
      "metadata": {
        "id": "7OHIIA0dWL-4"
      },
      "source": [
        "# เลือกข้อมูลที่เป็น target\n",
        "y = final.reviews"
      ],
      "execution_count": 290,
      "outputs": []
    },
    {
      "cell_type": "code",
      "metadata": {
        "id": "9_n-8kUDVxoL"
      },
      "source": [
        "# ทำการแบ่งข้อมูลก่อนเป็นชุด test(30%) train(70%) \n",
        "from sklearn.model_selection  import train_test_split\n",
        "X_train, X_test, y_train, y_test = train_test_split(X, y, test_size = 0.3, random_state = 0)"
      ],
      "execution_count": 291,
      "outputs": []
    },
    {
      "cell_type": "code",
      "metadata": {
        "colab": {
          "base_uri": "https://localhost:8080/"
        },
        "id": "LXNs1-b4WOr5",
        "outputId": "f05ccfe6-de09-458d-a06a-771ce8e29ea0"
      },
      "source": [
        "# ทำการ scaling ด้วยวิธี standardization ที่ Input แต่ Output ไม่ต้องทำ\n",
        "from sklearn.preprocessing import StandardScaler\n",
        "sc = StandardScaler()\n",
        "X_train = sc.fit_transform(X_train)\n",
        "X_test = sc.transform(X_test)\n",
        "X_train"
      ],
      "execution_count": 292,
      "outputs": [
        {
          "output_type": "execute_result",
          "data": {
            "text/plain": [
              "array([[-0.03733774, -0.03894628, -2.15495428],\n",
              "       [-0.86865115, -0.78606598, -0.08251383],\n",
              "       [ 0.09729657,  0.51173246, -0.08251383],\n",
              "       ...,\n",
              "       [-0.10786047,  0.4183425 , -0.08251383],\n",
              "       [-1.25118355,  0.79190235, -0.08251383],\n",
              "       [ 1.69153772, -0.67013361,  0.95370639]])"
            ]
          },
          "metadata": {
            "tags": []
          },
          "execution_count": 292
        }
      ]
    },
    {
      "cell_type": "code",
      "metadata": {
        "colab": {
          "base_uri": "https://localhost:8080/"
        },
        "id": "RP4ODxW9XEoC",
        "outputId": "bfbebdcd-e0b2-4ea7-bcad-10bf1c097141"
      },
      "source": [
        "X_test"
      ],
      "execution_count": 293,
      "outputs": [
        {
          "output_type": "execute_result",
          "data": {
            "text/plain": [
              "array([[ 1.46928426e+00, -3.02155689e-04,  9.53706391e-01],\n",
              "       [-8.68651152e-01, -1.34962609e+00, -8.25138326e-02],\n",
              "       [ 1.13376702e+00, -2.60649039e-02, -8.25138326e-02],\n",
              "       ...,\n",
              "       [-8.68651152e-01, -8.44032159e-01, -8.25138326e-02],\n",
              "       [ 9.49980509e-01,  2.25121891e-01,  9.53706391e-01],\n",
              "       [-1.64653825e+00,  1.86477769e-01, -8.25138326e-02]])"
            ]
          },
          "metadata": {
            "tags": []
          },
          "execution_count": 293
        }
      ]
    },
    {
      "cell_type": "code",
      "metadata": {
        "colab": {
          "base_uri": "https://localhost:8080/"
        },
        "id": "VerdVHgkXl1D",
        "outputId": "46b59268-616c-4786-cb15-f9c64ee79901"
      },
      "source": [
        "# ลองทำ Normalization ดู\n",
        "from sklearn.preprocessing import MinMaxScaler\n",
        "sc = MinMaxScaler()\n",
        "X_traintt = sc.fit_transform(X_train)\n",
        "X_testtt = sc.transform(X_test)\n",
        "X_traintt"
      ],
      "execution_count": 294,
      "outputs": [
        {
          "output_type": "execute_result",
          "data": {
            "text/plain": [
              "array([[0.48389058, 0.48597285, 0.        ],\n",
              "       [0.24741641, 0.2760181 , 0.66666667],\n",
              "       [0.52218845, 0.64072398, 0.66666667],\n",
              "       ...,\n",
              "       [0.46382979, 0.61447964, 0.66666667],\n",
              "       [0.13860182, 0.71945701, 0.66666667],\n",
              "       [0.97568389, 0.30859729, 1.        ]])"
            ]
          },
          "metadata": {
            "tags": []
          },
          "execution_count": 294
        }
      ]
    },
    {
      "cell_type": "code",
      "metadata": {
        "colab": {
          "base_uri": "https://localhost:8080/"
        },
        "id": "IW3X25UnYjeJ",
        "outputId": "1fb4748e-f903-4f12-9483-62d6747e54b8"
      },
      "source": [
        "X_testtt"
      ],
      "execution_count": 295,
      "outputs": [
        {
          "output_type": "execute_result",
          "data": {
            "text/plain": [
              "array([[0.91246201, 0.49683258, 1.        ],\n",
              "       [0.24741641, 0.11764706, 0.66666667],\n",
              "       [0.81702128, 0.48959276, 0.66666667],\n",
              "       ...,\n",
              "       [0.24741641, 0.25972851, 0.66666667],\n",
              "       [0.76474164, 0.560181  , 1.        ],\n",
              "       [0.02613982, 0.54932127, 0.66666667]])"
            ]
          },
          "metadata": {
            "tags": []
          },
          "execution_count": 295
        }
      ]
    },
    {
      "cell_type": "code",
      "metadata": {
        "id": "HKokG7aeZD4a"
      },
      "source": [
        ""
      ],
      "execution_count": 295,
      "outputs": []
    },
    {
      "cell_type": "markdown",
      "metadata": {
        "id": "aXWI-O0TZL7S"
      },
      "source": [
        "# tmp Feature Reduction "
      ]
    },
    {
      "cell_type": "code",
      "metadata": {
        "colab": {
          "base_uri": "https://localhost:8080/",
          "height": 141
        },
        "id": "TAtwdNoclauP",
        "outputId": "feca5118-ee4b-499d-94f6-8cfb5d24c706"
      },
      "source": [
        "\n",
        "final.head(3)"
      ],
      "execution_count": 296,
      "outputs": [
        {
          "output_type": "execute_result",
          "data": {
            "text/html": [
              "<div>\n",
              "<style scoped>\n",
              "    .dataframe tbody tr th:only-of-type {\n",
              "        vertical-align: middle;\n",
              "    }\n",
              "\n",
              "    .dataframe tbody tr th {\n",
              "        vertical-align: top;\n",
              "    }\n",
              "\n",
              "    .dataframe thead th {\n",
              "        text-align: right;\n",
              "    }\n",
              "</style>\n",
              "<table border=\"1\" class=\"dataframe\">\n",
              "  <thead>\n",
              "    <tr style=\"text-align: right;\">\n",
              "      <th></th>\n",
              "      <th>position</th>\n",
              "      <th>company</th>\n",
              "      <th>loc</th>\n",
              "      <th>reviews</th>\n",
              "    </tr>\n",
              "  </thead>\n",
              "  <tbody>\n",
              "    <tr>\n",
              "      <th>0</th>\n",
              "      <td>570</td>\n",
              "      <td>17</td>\n",
              "      <td>0</td>\n",
              "      <td>3859.330396</td>\n",
              "    </tr>\n",
              "    <tr>\n",
              "      <th>1</th>\n",
              "      <td>36</td>\n",
              "      <td>951</td>\n",
              "      <td>0</td>\n",
              "      <td>3859.330396</td>\n",
              "    </tr>\n",
              "    <tr>\n",
              "      <th>2</th>\n",
              "      <td>407</td>\n",
              "      <td>1075</td>\n",
              "      <td>0</td>\n",
              "      <td>3859.330396</td>\n",
              "    </tr>\n",
              "  </tbody>\n",
              "</table>\n",
              "</div>"
            ],
            "text/plain": [
              "   position  company  loc      reviews\n",
              "0       570       17    0  3859.330396\n",
              "1        36      951    0  3859.330396\n",
              "2       407     1075    0  3859.330396"
            ]
          },
          "metadata": {
            "tags": []
          },
          "execution_count": 296
        }
      ]
    },
    {
      "cell_type": "code",
      "metadata": {
        "colab": {
          "base_uri": "https://localhost:8080/",
          "height": 414
        },
        "id": "uGIZXJGWmAV5",
        "outputId": "59421a1a-d503-4f3c-dee3-4cbf88de4b82"
      },
      "source": [
        "# เปลี่ยน loc กลับมาเป็น int ก่อนเพื่อดูความสัมพันธ์\n",
        "final['loc'] = final['loc'].astype(int)\n",
        "final"
      ],
      "execution_count": 297,
      "outputs": [
        {
          "output_type": "execute_result",
          "data": {
            "text/html": [
              "<div>\n",
              "<style scoped>\n",
              "    .dataframe tbody tr th:only-of-type {\n",
              "        vertical-align: middle;\n",
              "    }\n",
              "\n",
              "    .dataframe tbody tr th {\n",
              "        vertical-align: top;\n",
              "    }\n",
              "\n",
              "    .dataframe thead th {\n",
              "        text-align: right;\n",
              "    }\n",
              "</style>\n",
              "<table border=\"1\" class=\"dataframe\">\n",
              "  <thead>\n",
              "    <tr style=\"text-align: right;\">\n",
              "      <th></th>\n",
              "      <th>position</th>\n",
              "      <th>company</th>\n",
              "      <th>loc</th>\n",
              "      <th>reviews</th>\n",
              "    </tr>\n",
              "  </thead>\n",
              "  <tbody>\n",
              "    <tr>\n",
              "      <th>0</th>\n",
              "      <td>570</td>\n",
              "      <td>17</td>\n",
              "      <td>0</td>\n",
              "      <td>3859.330396</td>\n",
              "    </tr>\n",
              "    <tr>\n",
              "      <th>1</th>\n",
              "      <td>36</td>\n",
              "      <td>951</td>\n",
              "      <td>0</td>\n",
              "      <td>3859.330396</td>\n",
              "    </tr>\n",
              "    <tr>\n",
              "      <th>2</th>\n",
              "      <td>407</td>\n",
              "      <td>1075</td>\n",
              "      <td>0</td>\n",
              "      <td>3859.330396</td>\n",
              "    </tr>\n",
              "    <tr>\n",
              "      <th>3</th>\n",
              "      <td>326</td>\n",
              "      <td>712</td>\n",
              "      <td>0</td>\n",
              "      <td>44.000000</td>\n",
              "    </tr>\n",
              "    <tr>\n",
              "      <th>4</th>\n",
              "      <td>85</td>\n",
              "      <td>315</td>\n",
              "      <td>0</td>\n",
              "      <td>550.000000</td>\n",
              "    </tr>\n",
              "    <tr>\n",
              "      <th>...</th>\n",
              "      <td>...</td>\n",
              "      <td>...</td>\n",
              "      <td>...</td>\n",
              "      <td>...</td>\n",
              "    </tr>\n",
              "    <tr>\n",
              "      <th>948</th>\n",
              "      <td>407</td>\n",
              "      <td>238</td>\n",
              "      <td>3</td>\n",
              "      <td>118.000000</td>\n",
              "    </tr>\n",
              "    <tr>\n",
              "      <th>949</th>\n",
              "      <td>425</td>\n",
              "      <td>1064</td>\n",
              "      <td>3</td>\n",
              "      <td>14.000000</td>\n",
              "    </tr>\n",
              "    <tr>\n",
              "      <th>950</th>\n",
              "      <td>407</td>\n",
              "      <td>763</td>\n",
              "      <td>3</td>\n",
              "      <td>1373.713851</td>\n",
              "    </tr>\n",
              "    <tr>\n",
              "      <th>953</th>\n",
              "      <td>614</td>\n",
              "      <td>569</td>\n",
              "      <td>3</td>\n",
              "      <td>525.000000</td>\n",
              "    </tr>\n",
              "    <tr>\n",
              "      <th>954</th>\n",
              "      <td>338</td>\n",
              "      <td>1004</td>\n",
              "      <td>3</td>\n",
              "      <td>496.000000</td>\n",
              "    </tr>\n",
              "  </tbody>\n",
              "</table>\n",
              "<p>2315 rows × 4 columns</p>\n",
              "</div>"
            ],
            "text/plain": [
              "     position  company  loc      reviews\n",
              "0         570       17    0  3859.330396\n",
              "1          36      951    0  3859.330396\n",
              "2         407     1075    0  3859.330396\n",
              "3         326      712    0    44.000000\n",
              "4          85      315    0   550.000000\n",
              "..        ...      ...  ...          ...\n",
              "948       407      238    3   118.000000\n",
              "949       425     1064    3    14.000000\n",
              "950       407      763    3  1373.713851\n",
              "953       614      569    3   525.000000\n",
              "954       338     1004    3   496.000000\n",
              "\n",
              "[2315 rows x 4 columns]"
            ]
          },
          "metadata": {
            "tags": []
          },
          "execution_count": 297
        }
      ]
    },
    {
      "cell_type": "code",
      "metadata": {
        "colab": {
          "base_uri": "https://localhost:8080/",
          "height": 506
        },
        "id": "liE3qsWdZOT9",
        "outputId": "0d00eac7-0f0a-412b-f753-17f466b52b80"
      },
      "source": [
        "# Correlation\n",
        "plt.figure(figsize=(15,8))\n",
        "sns.heatmap(final.corr(),\n",
        "            square=True,\n",
        "            linewidths=0.25,    \n",
        "            linecolor=(0,0,0),\n",
        "           cmap=sns.color_palette(\"coolwarm\"),\n",
        "           annot=True)"
      ],
      "execution_count": 298,
      "outputs": [
        {
          "output_type": "execute_result",
          "data": {
            "text/plain": [
              "<matplotlib.axes._subplots.AxesSubplot at 0x7f6be4887750>"
            ]
          },
          "metadata": {
            "tags": []
          },
          "execution_count": 298
        },
        {
          "output_type": "display_data",
          "data": {
            "image/png": "[encoded data removed]",
            "text/plain": [
              "<Figure size 1080x576 with 2 Axes>"
            ]
          },
          "metadata": {
            "tags": []
          }
        }
      ]
    },
    {
      "cell_type": "code",
      "metadata": {
        "id": "fA5fK2KWdpei"
      },
      "source": [
        "# เตรียมข้อมูล Input\n",
        "input_vars = ['position','company', 'loc']"
      ],
      "execution_count": 299,
      "outputs": []
    },
    {
      "cell_type": "code",
      "metadata": {
        "colab": {
          "base_uri": "https://localhost:8080/"
        },
        "id": "js-8YiTHbWkN",
        "outputId": "f595d53b-db52-47b9-960c-0a2f2d9d52b9"
      },
      "source": [
        "# Wrapper Methods - Forward Feature Selection\n",
        "from sklearn.feature_selection import f_regression\n",
        "fstat, pval = f_regression(final[input_vars], final.reviews) #อันนี้ปรับเป็นตัว target\n",
        "fstat"
      ],
      "execution_count": 300,
      "outputs": [
        {
          "output_type": "execute_result",
          "data": {
            "text/plain": [
              "array([  0.482681  ,   6.76222518, 126.98174635])"
            ]
          },
          "metadata": {
            "tags": []
          },
          "execution_count": 300
        }
      ]
    },
    {
      "cell_type": "code",
      "metadata": {
        "colab": {
          "base_uri": "https://localhost:8080/"
        },
        "id": "UhwNceVIdbid",
        "outputId": "258417c5-d620-47d9-bccb-5bf256694925"
      },
      "source": [
        "f_value_threshold = 3  # ปรับได้ โดยปรับจนได้จำนวนปัจจัยที่ต้องการ \n",
        "updated_vars = []\n",
        "for i in range(0,len(input_vars)-1):\n",
        "    if fstat[i] >= f_value_threshold:\n",
        "        updated_vars.append(final[input_vars].columns[i])\n",
        "updated_vars"
      ],
      "execution_count": 301,
      "outputs": [
        {
          "output_type": "execute_result",
          "data": {
            "text/plain": [
              "['company']"
            ]
          },
          "metadata": {
            "tags": []
          },
          "execution_count": 301
        }
      ]
    },
    {
      "cell_type": "code",
      "metadata": {
        "id": "UVBPVgBIdoUq"
      },
      "source": [
        "# จะได้ว่า company มีผลต่อ reviews เพียงตัวเดียว"
      ],
      "execution_count": 302,
      "outputs": []
    },
    {
      "cell_type": "code",
      "metadata": {
        "colab": {
          "base_uri": "https://localhost:8080/",
          "height": 450
        },
        "id": "Vl6ScfRSejuF",
        "outputId": "4f36dec0-ac25-4c4b-9e99-a533be4c5899"
      },
      "source": [
        "# Random Forest\n",
        "\n",
        "from sklearn.ensemble import RandomForestRegressor\n",
        "model = RandomForestRegressor(max_depth=10,n_estimators=100)\n",
        "model.fit(final[input_vars],final.reviews) # เลือก target \n",
        "\n",
        "# ต้องการให้เหลือ 3 ปัจจัย\n",
        "n_features = 3\n",
        "\n",
        "# Plot feature importance\n",
        "features = final[input_vars].columns\n",
        "importances = model.feature_importances_\n",
        "indices = np.argsort(importances)[-n_features:]  # sort top n features\n",
        "plt.title('Feature Importances')\n",
        "plt.barh(range(len(indices)), importances[indices], color='b', align='center')\n",
        "plt.yticks(range(len(indices)), [features[i] for i in indices])\n",
        "plt.xlabel('Relative Importance')\n",
        "plt.show()"
      ],
      "execution_count": 303,
      "outputs": [
        {
          "output_type": "display_data",
          "data": {
            "image/png": "[encoded data removed]",
            "text/plain": [
              "<Figure size 864x576 with 1 Axes>"
            ]
          },
          "metadata": {
            "tags": []
          }
        }
      ]
    },
    {
      "cell_type": "code",
      "metadata": {
        "id": "_YfKL3WLe2Wy"
      },
      "source": [
        ""
      ],
      "execution_count": 105,
      "outputs": []
    },
    {
      "cell_type": "code",
      "metadata": {
        "id": "OQChTogjrI_2"
      },
      "source": [
        ""
      ],
      "execution_count": 105,
      "outputs": []
    }
  ]
}