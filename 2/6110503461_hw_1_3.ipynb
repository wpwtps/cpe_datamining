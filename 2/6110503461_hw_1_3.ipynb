{
  "nbformat": 4,
  "nbformat_minor": 0,
  "metadata": {
    "colab": {
      "name": "6110503461_hw#1_3.ipynb",
      "provenance": []
    },
    "kernelspec": {
      "name": "python3",
      "display_name": "Python 3"
    },
    "language_info": {
      "name": "python"
    }
  },
  "cells": [
    {
      "cell_type": "markdown",
      "metadata": {
        "id": "hDpvokxaJrm5"
      },
      "source": [
        "# Init"
      ]
    },
    {
      "cell_type": "code",
      "metadata": {
        "id": "GtGWF7omIMlY"
      },
      "source": [
        "import pandas as pd\n",
        "import numpy as np\n",
        "import matplotlib.pyplot as plt\n",
        "%matplotlib inline\n",
        "import seaborn as sns"
      ],
      "execution_count": 1,
      "outputs": []
    },
    {
      "cell_type": "code",
      "metadata": {
        "colab": {
          "base_uri": "https://localhost:8080/"
        },
        "id": "g1VnEVz9Jod8",
        "outputId": "0fa7ab76-7bb0-45cf-de61-1067b2176e3d"
      },
      "source": [
        "# อ่านข้อมูลใส่ลงใน df\n",
        "df=pd.read_excel('ApplianceShipment.xls')\n",
        "df.shape"
      ],
      "execution_count": 2,
      "outputs": [
        {
          "output_type": "execute_result",
          "data": {
            "text/plain": [
              "(20, 2)"
            ]
          },
          "metadata": {
            "tags": []
          },
          "execution_count": 2
        }
      ]
    },
    {
      "cell_type": "code",
      "metadata": {
        "colab": {
          "base_uri": "https://localhost:8080/",
          "height": 202
        },
        "id": "uLWjdvtfJ2pA",
        "outputId": "868918c0-94a3-46dd-e7ea-72168a3e4f9a"
      },
      "source": [
        "df.head(5)"
      ],
      "execution_count": 4,
      "outputs": [
        {
          "output_type": "execute_result",
          "data": {
            "text/html": [
              "<div>\n",
              "<style scoped>\n",
              "    .dataframe tbody tr th:only-of-type {\n",
              "        vertical-align: middle;\n",
              "    }\n",
              "\n",
              "    .dataframe tbody tr th {\n",
              "        vertical-align: top;\n",
              "    }\n",
              "\n",
              "    .dataframe thead th {\n",
              "        text-align: right;\n",
              "    }\n",
              "</style>\n",
              "<table border=\"1\" class=\"dataframe\">\n",
              "  <thead>\n",
              "    <tr style=\"text-align: right;\">\n",
              "      <th></th>\n",
              "      <th>Quarter</th>\n",
              "      <th>Shipments</th>\n",
              "    </tr>\n",
              "  </thead>\n",
              "  <tbody>\n",
              "    <tr>\n",
              "      <th>0</th>\n",
              "      <td>Q1-1985</td>\n",
              "      <td>4009</td>\n",
              "    </tr>\n",
              "    <tr>\n",
              "      <th>1</th>\n",
              "      <td>Q2-1985</td>\n",
              "      <td>4321</td>\n",
              "    </tr>\n",
              "    <tr>\n",
              "      <th>2</th>\n",
              "      <td>Q3-1985</td>\n",
              "      <td>4224</td>\n",
              "    </tr>\n",
              "    <tr>\n",
              "      <th>3</th>\n",
              "      <td>Q4-1985</td>\n",
              "      <td>3944</td>\n",
              "    </tr>\n",
              "    <tr>\n",
              "      <th>4</th>\n",
              "      <td>Q1-1986</td>\n",
              "      <td>4123</td>\n",
              "    </tr>\n",
              "  </tbody>\n",
              "</table>\n",
              "</div>"
            ],
            "text/plain": [
              "   Quarter  Shipments\n",
              "0  Q1-1985       4009\n",
              "1  Q2-1985       4321\n",
              "2  Q3-1985       4224\n",
              "3  Q4-1985       3944\n",
              "4  Q1-1986       4123"
            ]
          },
          "metadata": {
            "tags": []
          },
          "execution_count": 4
        }
      ]
    },
    {
      "cell_type": "code",
      "metadata": {
        "colab": {
          "base_uri": "https://localhost:8080/"
        },
        "id": "J81DMJbjYtI-",
        "outputId": "e636a958-a040-478f-f5de-57d03539b754"
      },
      "source": [
        "print(df['Quarter'])"
      ],
      "execution_count": 22,
      "outputs": [
        {
          "output_type": "stream",
          "text": [
            "0     Q1-1985\n",
            "1     Q2-1985\n",
            "2     Q3-1985\n",
            "3     Q4-1985\n",
            "4     Q1-1986\n",
            "5     Q2-1986\n",
            "6     Q3-1986\n",
            "7     Q4-1986\n",
            "8     Q1-1987\n",
            "9     Q2-1987\n",
            "10    Q3-1987\n",
            "11    Q4-1987\n",
            "12    Q1-1988\n",
            "13    Q2-1988\n",
            "14    Q3-1988\n",
            "15    Q4-1988\n",
            "16    Q1-1989\n",
            "17    Q2-1989\n",
            "18    Q3-1989\n",
            "19    Q4-1989\n",
            "Name: Quarter, dtype: object\n"
          ],
          "name": "stdout"
        }
      ]
    },
    {
      "cell_type": "code",
      "metadata": {
        "colab": {
          "base_uri": "https://localhost:8080/",
          "height": 912
        },
        "id": "BI4K154QVxTJ",
        "outputId": "fb44a024-f43d-4055-9f61-92322e4c70a0"
      },
      "source": [
        "sns.set(rc={'figure.figsize':(20,8)})\n",
        "g=sns.lineplot(data=df, x=\"Quarter\", y=\"Shipments\")\n",
        "g.set(ylim=(3500, 5000))\n",
        "g.set_xticklabels(df['Quarter'], rotation=45)"
      ],
      "execution_count": 28,
      "outputs": [
        {
          "output_type": "execute_result",
          "data": {
            "text/plain": [
              "[Text(0, 0, 'Q1-1985'),\n",
              " Text(0, 0, 'Q2-1985'),\n",
              " Text(0, 0, 'Q3-1985'),\n",
              " Text(0, 0, 'Q4-1985'),\n",
              " Text(0, 0, 'Q1-1986'),\n",
              " Text(0, 0, 'Q2-1986'),\n",
              " Text(0, 0, 'Q3-1986'),\n",
              " Text(0, 0, 'Q4-1986'),\n",
              " Text(0, 0, 'Q1-1987'),\n",
              " Text(0, 0, 'Q2-1987'),\n",
              " Text(0, 0, 'Q3-1987'),\n",
              " Text(0, 0, 'Q4-1987'),\n",
              " Text(0, 0, 'Q1-1988'),\n",
              " Text(0, 0, 'Q2-1988'),\n",
              " Text(0, 0, 'Q3-1988'),\n",
              " Text(0, 0, 'Q4-1988'),\n",
              " Text(0, 0, 'Q1-1989'),\n",
              " Text(0, 0, 'Q2-1989'),\n",
              " Text(0, 0, 'Q3-1989'),\n",
              " Text(0, 0, 'Q4-1989')]"
            ]
          },
          "metadata": {
            "tags": []
          },
          "execution_count": 28
        },
        {
          "output_type": "display_data",
          "data": {
            "image/png": "[encoded data removed]",
            "text/plain": [
              "<Figure size 1440x576 with 1 Axes>"
            ]
          },
          "metadata": {
            "tags": []
          }
        }
      ]
    },
    {
      "cell_type": "code",
      "metadata": {
        "colab": {
          "base_uri": "https://localhost:8080/",
          "height": 662
        },
        "id": "mWOSAB4VKfkg",
        "outputId": "2f034e98-4740-4197-8eeb-6a946a7f466d"
      },
      "source": [
        "df2 = df.sort_values(by=['Quarter'])\n",
        "df2"
      ],
      "execution_count": 42,
      "outputs": [
        {
          "output_type": "execute_result",
          "data": {
            "text/html": [
              "<div>\n",
              "<style scoped>\n",
              "    .dataframe tbody tr th:only-of-type {\n",
              "        vertical-align: middle;\n",
              "    }\n",
              "\n",
              "    .dataframe tbody tr th {\n",
              "        vertical-align: top;\n",
              "    }\n",
              "\n",
              "    .dataframe thead th {\n",
              "        text-align: right;\n",
              "    }\n",
              "</style>\n",
              "<table border=\"1\" class=\"dataframe\">\n",
              "  <thead>\n",
              "    <tr style=\"text-align: right;\">\n",
              "      <th></th>\n",
              "      <th>Quarter</th>\n",
              "      <th>Shipments</th>\n",
              "    </tr>\n",
              "  </thead>\n",
              "  <tbody>\n",
              "    <tr>\n",
              "      <th>0</th>\n",
              "      <td>Q1-1985</td>\n",
              "      <td>4009</td>\n",
              "    </tr>\n",
              "    <tr>\n",
              "      <th>4</th>\n",
              "      <td>Q1-1986</td>\n",
              "      <td>4123</td>\n",
              "    </tr>\n",
              "    <tr>\n",
              "      <th>8</th>\n",
              "      <td>Q1-1987</td>\n",
              "      <td>4493</td>\n",
              "    </tr>\n",
              "    <tr>\n",
              "      <th>12</th>\n",
              "      <td>Q1-1988</td>\n",
              "      <td>4595</td>\n",
              "    </tr>\n",
              "    <tr>\n",
              "      <th>16</th>\n",
              "      <td>Q1-1989</td>\n",
              "      <td>4245</td>\n",
              "    </tr>\n",
              "    <tr>\n",
              "      <th>1</th>\n",
              "      <td>Q2-1985</td>\n",
              "      <td>4321</td>\n",
              "    </tr>\n",
              "    <tr>\n",
              "      <th>5</th>\n",
              "      <td>Q2-1986</td>\n",
              "      <td>4522</td>\n",
              "    </tr>\n",
              "    <tr>\n",
              "      <th>9</th>\n",
              "      <td>Q2-1987</td>\n",
              "      <td>4806</td>\n",
              "    </tr>\n",
              "    <tr>\n",
              "      <th>13</th>\n",
              "      <td>Q2-1988</td>\n",
              "      <td>4799</td>\n",
              "    </tr>\n",
              "    <tr>\n",
              "      <th>17</th>\n",
              "      <td>Q2-1989</td>\n",
              "      <td>4900</td>\n",
              "    </tr>\n",
              "    <tr>\n",
              "      <th>2</th>\n",
              "      <td>Q3-1985</td>\n",
              "      <td>4224</td>\n",
              "    </tr>\n",
              "    <tr>\n",
              "      <th>6</th>\n",
              "      <td>Q3-1986</td>\n",
              "      <td>4657</td>\n",
              "    </tr>\n",
              "    <tr>\n",
              "      <th>10</th>\n",
              "      <td>Q3-1987</td>\n",
              "      <td>4551</td>\n",
              "    </tr>\n",
              "    <tr>\n",
              "      <th>14</th>\n",
              "      <td>Q3-1988</td>\n",
              "      <td>4417</td>\n",
              "    </tr>\n",
              "    <tr>\n",
              "      <th>18</th>\n",
              "      <td>Q3-1989</td>\n",
              "      <td>4585</td>\n",
              "    </tr>\n",
              "    <tr>\n",
              "      <th>3</th>\n",
              "      <td>Q4-1985</td>\n",
              "      <td>3944</td>\n",
              "    </tr>\n",
              "    <tr>\n",
              "      <th>7</th>\n",
              "      <td>Q4-1986</td>\n",
              "      <td>4030</td>\n",
              "    </tr>\n",
              "    <tr>\n",
              "      <th>11</th>\n",
              "      <td>Q4-1987</td>\n",
              "      <td>4485</td>\n",
              "    </tr>\n",
              "    <tr>\n",
              "      <th>15</th>\n",
              "      <td>Q4-1988</td>\n",
              "      <td>4258</td>\n",
              "    </tr>\n",
              "    <tr>\n",
              "      <th>19</th>\n",
              "      <td>Q4-1989</td>\n",
              "      <td>4533</td>\n",
              "    </tr>\n",
              "  </tbody>\n",
              "</table>\n",
              "</div>"
            ],
            "text/plain": [
              "    Quarter  Shipments\n",
              "0   Q1-1985       4009\n",
              "4   Q1-1986       4123\n",
              "8   Q1-1987       4493\n",
              "12  Q1-1988       4595\n",
              "16  Q1-1989       4245\n",
              "1   Q2-1985       4321\n",
              "5   Q2-1986       4522\n",
              "9   Q2-1987       4806\n",
              "13  Q2-1988       4799\n",
              "17  Q2-1989       4900\n",
              "2   Q3-1985       4224\n",
              "6   Q3-1986       4657\n",
              "10  Q3-1987       4551\n",
              "14  Q3-1988       4417\n",
              "18  Q3-1989       4585\n",
              "3   Q4-1985       3944\n",
              "7   Q4-1986       4030\n",
              "11  Q4-1987       4485\n",
              "15  Q4-1988       4258\n",
              "19  Q4-1989       4533"
            ]
          },
          "metadata": {
            "tags": []
          },
          "execution_count": 42
        }
      ]
    },
    {
      "cell_type": "code",
      "metadata": {
        "colab": {
          "base_uri": "https://localhost:8080/"
        },
        "id": "_1SMJrWMdmYB",
        "outputId": "84966daa-4ebe-4ae7-e1ee-406983e0052c"
      },
      "source": [
        "tmp = df2['Shipments'].to_numpy()\n",
        "tmp"
      ],
      "execution_count": 52,
      "outputs": [
        {
          "output_type": "execute_result",
          "data": {
            "text/plain": [
              "array([4009, 4123, 4493, 4595, 4245, 4321, 4522, 4806, 4799, 4900, 4224,\n",
              "       4657, 4551, 4417, 4585, 3944, 4030, 4485, 4258, 4533])"
            ]
          },
          "metadata": {
            "tags": []
          },
          "execution_count": 52
        }
      ]
    },
    {
      "cell_type": "code",
      "metadata": {
        "colab": {
          "base_uri": "https://localhost:8080/",
          "height": 662
        },
        "id": "VC1ULsygb47i",
        "outputId": "53c897db-56dc-4a79-c777-9ace7c3123a5"
      },
      "source": [
        "df3 = pd.DataFrame(df2.Quarter.str.split('-',1).tolist(),\n",
        "                                 columns = ['Quarter','Year'])\n",
        "df2 = df.sort_values(by=['Quarter'])\n",
        "df3['Shipments'] = [4009, 4123, 4493, 4595, 4245, 4321, 4522, 4806, 4799, 4900, 4224,\n",
        "       4657, 4551, 4417, 4585, 3944, 4030, 4485, 4258, 4533]\n",
        "df3"
      ],
      "execution_count": 53,
      "outputs": [
        {
          "output_type": "execute_result",
          "data": {
            "text/html": [
              "<div>\n",
              "<style scoped>\n",
              "    .dataframe tbody tr th:only-of-type {\n",
              "        vertical-align: middle;\n",
              "    }\n",
              "\n",
              "    .dataframe tbody tr th {\n",
              "        vertical-align: top;\n",
              "    }\n",
              "\n",
              "    .dataframe thead th {\n",
              "        text-align: right;\n",
              "    }\n",
              "</style>\n",
              "<table border=\"1\" class=\"dataframe\">\n",
              "  <thead>\n",
              "    <tr style=\"text-align: right;\">\n",
              "      <th></th>\n",
              "      <th>Quarter</th>\n",
              "      <th>Year</th>\n",
              "      <th>Shipments</th>\n",
              "    </tr>\n",
              "  </thead>\n",
              "  <tbody>\n",
              "    <tr>\n",
              "      <th>0</th>\n",
              "      <td>Q1</td>\n",
              "      <td>1985</td>\n",
              "      <td>4009</td>\n",
              "    </tr>\n",
              "    <tr>\n",
              "      <th>1</th>\n",
              "      <td>Q1</td>\n",
              "      <td>1986</td>\n",
              "      <td>4123</td>\n",
              "    </tr>\n",
              "    <tr>\n",
              "      <th>2</th>\n",
              "      <td>Q1</td>\n",
              "      <td>1987</td>\n",
              "      <td>4493</td>\n",
              "    </tr>\n",
              "    <tr>\n",
              "      <th>3</th>\n",
              "      <td>Q1</td>\n",
              "      <td>1988</td>\n",
              "      <td>4595</td>\n",
              "    </tr>\n",
              "    <tr>\n",
              "      <th>4</th>\n",
              "      <td>Q1</td>\n",
              "      <td>1989</td>\n",
              "      <td>4245</td>\n",
              "    </tr>\n",
              "    <tr>\n",
              "      <th>5</th>\n",
              "      <td>Q2</td>\n",
              "      <td>1985</td>\n",
              "      <td>4321</td>\n",
              "    </tr>\n",
              "    <tr>\n",
              "      <th>6</th>\n",
              "      <td>Q2</td>\n",
              "      <td>1986</td>\n",
              "      <td>4522</td>\n",
              "    </tr>\n",
              "    <tr>\n",
              "      <th>7</th>\n",
              "      <td>Q2</td>\n",
              "      <td>1987</td>\n",
              "      <td>4806</td>\n",
              "    </tr>\n",
              "    <tr>\n",
              "      <th>8</th>\n",
              "      <td>Q2</td>\n",
              "      <td>1988</td>\n",
              "      <td>4799</td>\n",
              "    </tr>\n",
              "    <tr>\n",
              "      <th>9</th>\n",
              "      <td>Q2</td>\n",
              "      <td>1989</td>\n",
              "      <td>4900</td>\n",
              "    </tr>\n",
              "    <tr>\n",
              "      <th>10</th>\n",
              "      <td>Q3</td>\n",
              "      <td>1985</td>\n",
              "      <td>4224</td>\n",
              "    </tr>\n",
              "    <tr>\n",
              "      <th>11</th>\n",
              "      <td>Q3</td>\n",
              "      <td>1986</td>\n",
              "      <td>4657</td>\n",
              "    </tr>\n",
              "    <tr>\n",
              "      <th>12</th>\n",
              "      <td>Q3</td>\n",
              "      <td>1987</td>\n",
              "      <td>4551</td>\n",
              "    </tr>\n",
              "    <tr>\n",
              "      <th>13</th>\n",
              "      <td>Q3</td>\n",
              "      <td>1988</td>\n",
              "      <td>4417</td>\n",
              "    </tr>\n",
              "    <tr>\n",
              "      <th>14</th>\n",
              "      <td>Q3</td>\n",
              "      <td>1989</td>\n",
              "      <td>4585</td>\n",
              "    </tr>\n",
              "    <tr>\n",
              "      <th>15</th>\n",
              "      <td>Q4</td>\n",
              "      <td>1985</td>\n",
              "      <td>3944</td>\n",
              "    </tr>\n",
              "    <tr>\n",
              "      <th>16</th>\n",
              "      <td>Q4</td>\n",
              "      <td>1986</td>\n",
              "      <td>4030</td>\n",
              "    </tr>\n",
              "    <tr>\n",
              "      <th>17</th>\n",
              "      <td>Q4</td>\n",
              "      <td>1987</td>\n",
              "      <td>4485</td>\n",
              "    </tr>\n",
              "    <tr>\n",
              "      <th>18</th>\n",
              "      <td>Q4</td>\n",
              "      <td>1988</td>\n",
              "      <td>4258</td>\n",
              "    </tr>\n",
              "    <tr>\n",
              "      <th>19</th>\n",
              "      <td>Q4</td>\n",
              "      <td>1989</td>\n",
              "      <td>4533</td>\n",
              "    </tr>\n",
              "  </tbody>\n",
              "</table>\n",
              "</div>"
            ],
            "text/plain": [
              "   Quarter  Year  Shipments\n",
              "0       Q1  1985       4009\n",
              "1       Q1  1986       4123\n",
              "2       Q1  1987       4493\n",
              "3       Q1  1988       4595\n",
              "4       Q1  1989       4245\n",
              "5       Q2  1985       4321\n",
              "6       Q2  1986       4522\n",
              "7       Q2  1987       4806\n",
              "8       Q2  1988       4799\n",
              "9       Q2  1989       4900\n",
              "10      Q3  1985       4224\n",
              "11      Q3  1986       4657\n",
              "12      Q3  1987       4551\n",
              "13      Q3  1988       4417\n",
              "14      Q3  1989       4585\n",
              "15      Q4  1985       3944\n",
              "16      Q4  1986       4030\n",
              "17      Q4  1987       4485\n",
              "18      Q4  1988       4258\n",
              "19      Q4  1989       4533"
            ]
          },
          "metadata": {
            "tags": []
          },
          "execution_count": 53
        }
      ]
    },
    {
      "cell_type": "code",
      "metadata": {
        "colab": {
          "base_uri": "https://localhost:8080/",
          "height": 456
        },
        "id": "Gg8pYBXHaxK1",
        "outputId": "de9fe2b1-5248-426e-a143-3d37000118d7"
      },
      "source": [
        "sns.set(rc={'figure.figsize':(12,8)})\n",
        "sns.lineplot(data=df3, x=\"Year\", y=\"Shipments\", hue=\"Quarter\")"
      ],
      "execution_count": 54,
      "outputs": [
        {
          "output_type": "execute_result",
          "data": {
            "text/plain": [
              "<matplotlib.axes._subplots.AxesSubplot at 0x7f2bd528dd50>"
            ]
          },
          "metadata": {
            "tags": []
          },
          "execution_count": 54
        },
        {
          "output_type": "display_data",
          "data": {
            "image/png": "[encoded data removed]",
            "text/plain": [
              "<Figure size 864x576 with 1 Axes>"
            ]
          },
          "metadata": {
            "tags": []
          }
        }
      ]
    },
    {
      "cell_type": "code",
      "metadata": {
        "colab": {
          "base_uri": "https://localhost:8080/",
          "height": 232
        },
        "id": "AN5Bf2XKchGt",
        "outputId": "d726d430-0d5f-4524-e9f7-c0007f377116"
      },
      "source": [
        "sum_yearly = df3.groupby('Year')['Shipments'].sum()\n",
        "sum_yearly.to_frame()"
      ],
      "execution_count": 71,
      "outputs": [
        {
          "output_type": "execute_result",
          "data": {
            "text/html": [
              "<div>\n",
              "<style scoped>\n",
              "    .dataframe tbody tr th:only-of-type {\n",
              "        vertical-align: middle;\n",
              "    }\n",
              "\n",
              "    .dataframe tbody tr th {\n",
              "        vertical-align: top;\n",
              "    }\n",
              "\n",
              "    .dataframe thead th {\n",
              "        text-align: right;\n",
              "    }\n",
              "</style>\n",
              "<table border=\"1\" class=\"dataframe\">\n",
              "  <thead>\n",
              "    <tr style=\"text-align: right;\">\n",
              "      <th></th>\n",
              "      <th>Shipments</th>\n",
              "    </tr>\n",
              "    <tr>\n",
              "      <th>Year</th>\n",
              "      <th></th>\n",
              "    </tr>\n",
              "  </thead>\n",
              "  <tbody>\n",
              "    <tr>\n",
              "      <th>1985</th>\n",
              "      <td>16498</td>\n",
              "    </tr>\n",
              "    <tr>\n",
              "      <th>1986</th>\n",
              "      <td>17332</td>\n",
              "    </tr>\n",
              "    <tr>\n",
              "      <th>1987</th>\n",
              "      <td>18335</td>\n",
              "    </tr>\n",
              "    <tr>\n",
              "      <th>1988</th>\n",
              "      <td>18069</td>\n",
              "    </tr>\n",
              "    <tr>\n",
              "      <th>1989</th>\n",
              "      <td>18263</td>\n",
              "    </tr>\n",
              "  </tbody>\n",
              "</table>\n",
              "</div>"
            ],
            "text/plain": [
              "      Shipments\n",
              "Year           \n",
              "1985      16498\n",
              "1986      17332\n",
              "1987      18335\n",
              "1988      18069\n",
              "1989      18263"
            ]
          },
          "metadata": {
            "tags": []
          },
          "execution_count": 71
        }
      ]
    },
    {
      "cell_type": "code",
      "metadata": {
        "id": "n3luhsEWmSMj"
      },
      "source": [
        "yearly = sum_yearly.reset_index()"
      ],
      "execution_count": 77,
      "outputs": []
    },
    {
      "cell_type": "code",
      "metadata": {
        "colab": {
          "base_uri": "https://localhost:8080/"
        },
        "id": "pbKXE1XMnt0D",
        "outputId": "3d3ada8b-bed8-4e06-f423-6b9510559d5a"
      },
      "source": [
        "list(yearly.columns)"
      ],
      "execution_count": 78,
      "outputs": [
        {
          "output_type": "execute_result",
          "data": {
            "text/plain": [
              "['Year', 'Shipments']"
            ]
          },
          "metadata": {
            "tags": []
          },
          "execution_count": 78
        }
      ]
    },
    {
      "cell_type": "code",
      "metadata": {
        "colab": {
          "base_uri": "https://localhost:8080/",
          "height": 338
        },
        "id": "KJ2OfalSmn0U",
        "outputId": "5c88c659-ec91-48cd-feb0-35450e7f1e0b"
      },
      "source": [
        "sns.set(rc={'figure.figsize':(10,5)})\n",
        "g2=sns.lineplot(data=yearly, x=\"Year\", y=\"Shipments\")\n",
        "#g2.set(ylim=(3500, 5000))\n",
        "#g2.set_xticklabels(df['Quarter'], rotation=45)"
      ],
      "execution_count": 80,
      "outputs": [
        {
          "output_type": "display_data",
          "data": {
            "image/png": "[encoded data removed]",
            "text/plain": [
              "<Figure size 720x360 with 1 Axes>"
            ]
          },
          "metadata": {
            "tags": []
          }
        }
      ]
    },
    {
      "cell_type": "code",
      "metadata": {
        "id": "Z8P47_d5njcx"
      },
      "source": [
        ""
      ],
      "execution_count": null,
      "outputs": []
    }
  ]
}